{
 "cells": [
  {
   "cell_type": "markdown",
   "metadata": {},
   "source": [
    "必要ModuleをImport"
   ]
  },
  {
   "cell_type": "code",
   "execution_count": 1,
   "metadata": {},
   "outputs": [],
   "source": [
    "import torch\n",
    "import torch.nn as nn\n",
    "import torch.nn.functional as F\n",
    "from torch.optim import Adam\n",
    "\n",
    "import math\n",
    "\n",
    "import random\n",
    "import time\n",
    "import pickle\n",
    "import tqdm\n",
    "from collections import Counter\n",
    "\n",
    "from torch.utils.data import Dataset\n",
    "import numpy as np\n",
    "\n",
    "from utils import GELU, PositionwiseFeedForward, LayerNorm, SublayerConnection, LayerNorm\n",
    "\n",
    "import matplotlib\n",
    "%matplotlib inline\n",
    "import matplotlib.pyplot as plt\n",
    "from ipywidgets import FloatProgress\n",
    "from IPython.display import display, clear_output"
   ]
  },
  {
   "cell_type": "markdown",
   "metadata": {},
   "source": [
    "read_dirでディレクトリを指定<br>\n",
    "このディレクトリ内のコーパスを読み込む<br>\n",
    "vocabファイルもここに作成される"
   ]
  },
  {
   "cell_type": "code",
   "execution_count": 2,
   "metadata": {},
   "outputs": [],
   "source": [
    "device = torch.device(\"cuda\" if torch.cuda.is_available() else \"cpu\")\n",
    "\n",
    "#read_dir = './data/single/'\n",
    "read_dir = './data/merged_bert/'\n",
    "#output_dir = './output/single/'\n",
    "output_dir = './output/merged_bert/'\n",
    "processed_train_txt = read_dir + 'train_X.txt'\n",
    "processed_valid_txt = read_dir + 'valid_X.txt'\n",
    "processed_test_txt = read_dir + 'test_X.txt'"
   ]
  },
  {
   "cell_type": "markdown",
   "metadata": {},
   "source": [
    "Attentionセルを定義する"
   ]
  },
  {
   "cell_type": "code",
   "execution_count": 3,
   "metadata": {},
   "outputs": [],
   "source": [
    "class Attention(nn.Module):\n",
    "    \"\"\"\n",
    "    Scaled Dot Product Attention\n",
    "    \"\"\"\n",
    "    def forward(self, query, key, value, mask=None, dropout=None):\n",
    "        scores = torch.matmul(query, key.transpose(-2, -1)) / math.sqrt(query.size(-1))\n",
    "\n",
    "        if mask is not None:\n",
    "            scores = scores.masked_fill(mask == 0, -1e9)\n",
    "\n",
    "        p_attn = F.softmax(scores, dim=-1)\n",
    "\n",
    "        if dropout is not None:\n",
    "            p_attn = dropout(p_attn)\n",
    "\n",
    "        return torch.matmul(p_attn, value), p_attn\n"
   ]
  },
  {
   "cell_type": "markdown",
   "metadata": {},
   "source": [
    "Multi Head Attentionを定義する"
   ]
  },
  {
   "cell_type": "code",
   "execution_count": 4,
   "metadata": {},
   "outputs": [],
   "source": [
    "class MultiHeadedAttention(nn.Module):\n",
    "\n",
    "    def __init__(self, h, d_model, dropout=0.1):\n",
    "        super().__init__()\n",
    "        assert d_model % h == 0\n",
    "\n",
    "        # We assume d_v always equals d_k\n",
    "        self.d_k = d_model // h\n",
    "        self.h = h\n",
    "\n",
    "        self.linear_layers = nn.ModuleList([nn.Linear(d_model, d_model) for _ in range(3)])\n",
    "        self.output_linear = nn.Linear(d_model, d_model)\n",
    "        self.attention = Attention()\n",
    "\n",
    "        self.dropout = nn.Dropout(p=dropout)\n",
    "\n",
    "    def forward(self, query, key, value, mask=None):\n",
    "        batch_size = query.size(0)\n",
    "\n",
    "        query, key, value = [l(x).view(batch_size, -1, self.h, self.d_k).transpose(1, 2) for l, x in zip(self.linear_layers, (query, key, value))]\n",
    "\n",
    "        x, attn = self.attention(query, key, value, mask=mask, dropout=self.dropout)\n",
    "\n",
    "        x = x.transpose(1, 2).contiguous().view(batch_size, -1, self.h * self.d_k)\n",
    "\n",
    "        return self.output_linear(x)\n"
   ]
  },
  {
   "cell_type": "markdown",
   "metadata": {},
   "source": [
    "Transformerを定義する"
   ]
  },
  {
   "cell_type": "code",
   "execution_count": 5,
   "metadata": {},
   "outputs": [],
   "source": [
    "class TransformerBlock(nn.Module):\n",
    "    def __init__(self, hidden, attn_heads, feed_forward_hidden, dropout):\n",
    "        super().__init__()\n",
    "        self.attention = MultiHeadedAttention(h=attn_heads, d_model=hidden, dropout=dropout)\n",
    "        self.feed_forward = PositionwiseFeedForward(d_model=hidden, d_ff=feed_forward_hidden, dropout=dropout)\n",
    "        self.input_sublayer = SublayerConnection(size=hidden, dropout=dropout)\n",
    "        self.output_sublayer = SublayerConnection(size=hidden, dropout=dropout)\n",
    "        self.dropout = nn.Dropout(p=dropout)\n",
    "\n",
    "    def forward(self, x, mask):\n",
    "        x = self.input_sublayer(x, lambda _x: self.attention.forward(_x, _x, _x, mask=mask))\n",
    "        x = self.output_sublayer(x, self.feed_forward)\n",
    "        return self.dropout(x)\n"
   ]
  },
  {
   "cell_type": "markdown",
   "metadata": {},
   "source": [
    "BERTクラスを定義する"
   ]
  },
  {
   "cell_type": "code",
   "execution_count": 6,
   "metadata": {},
   "outputs": [],
   "source": [
    "class BERT(nn.Module):\n",
    "\n",
    "    def __init__(self, vocab_size, hidden=768, n_layers=12, attn_heads=12, dropout=0.1):\n",
    "        super().__init__()\n",
    "        self.hidden = hidden\n",
    "        self.n_layers = n_layers\n",
    "        self.attn_heads = attn_heads\n",
    "        self.feed_forward_hidden = hidden * 4\n",
    "        # embedding for BERT\n",
    "        self.embedding = BERTEmbedding(vocab_size=vocab_size, embed_size=hidden, dropout=dropout)\n",
    "\n",
    "        self.transformer_blocks = nn.ModuleList([TransformerBlock(hidden, attn_heads, hidden * 4, dropout) for _ in range(n_layers)])\n",
    "\n",
    "    def forward(self, x):\n",
    "        # xの中で0以上は1, 0未満は0として, maskテンソルを作る\n",
    "        mask = (x > 0).unsqueeze(1).repeat(1, x.size(1), 1).unsqueeze(1)\n",
    "        x = self.embedding(x)\n",
    "\n",
    "        for transformer in self.transformer_blocks:\n",
    "            x = transformer.forward(x, mask)\n",
    "        return x\n"
   ]
  },
  {
   "cell_type": "markdown",
   "metadata": {},
   "source": [
    "BERTのEmbedding層を定義する"
   ]
  },
  {
   "cell_type": "code",
   "execution_count": 7,
   "metadata": {},
   "outputs": [],
   "source": [
    "class TokenEmbedding(nn.Embedding):\n",
    "    def __init__(self, vocab_size, embed_size=512):\n",
    "        super().__init__(vocab_size, embed_size, padding_idx=0)\n",
    "\n",
    "class PositionalEmbedding(nn.Module):\n",
    "\n",
    "    def __init__(self, d_model, max_len=512):\n",
    "        super().__init__()\n",
    "\n",
    "        pe = torch.zeros(max_len, d_model).float()\n",
    "        pe.require_grad = False\n",
    "\n",
    "        position = torch.arange(0, max_len).float().unsqueeze(1)\n",
    "        div_term = (torch.arange(0, d_model, 2) * -(math.log(10000.0) / d_model)).float().exp()\n",
    "\n",
    "        pe[:, 0::2] = torch.sin(position * div_term)\n",
    "        pe[:, 1::2] = torch.cos(position * div_term)\n",
    "\n",
    "        pe = pe.unsqueeze(0)\n",
    "        self.register_buffer('pe', pe)\n",
    "\n",
    "    def forward(self, x):\n",
    "        return self.pe[:, :x.size(1)]\n",
    "\n",
    "\n",
    "class BERTEmbedding(nn.Module):\n",
    "    def __init__(self, vocab_size, embed_size, dropout=0.1):\n",
    "        super().__init__()\n",
    "        self.token = TokenEmbedding(vocab_size=vocab_size, embed_size=embed_size)\n",
    "        self.position = PositionalEmbedding(d_model=self.token.embedding_dim)\n",
    "        self.dropout = nn.Dropout(p=dropout)\n",
    "        self.embed_size = embed_size\n",
    "\n",
    "    #def forward(self, sequence, segment_label):\n",
    "    def forward(self, sequence):\n",
    "        x = self.token(sequence) + self.position(sequence)\n",
    "        return self.dropout(x)\n"
   ]
  },
  {
   "cell_type": "markdown",
   "metadata": {},
   "source": [
    "学習用にマスク予測の層を追加する<br>\n",
    "Next Sentence Prediction用のクラスは削除してある"
   ]
  },
  {
   "cell_type": "code",
   "execution_count": 8,
   "metadata": {},
   "outputs": [],
   "source": [
    "class BERTLM(nn.Module):\n",
    "    def __init__(self, bert: BERT, vocab_size):\n",
    "        super().__init__()\n",
    "        self.bert = bert\n",
    "        self.mask_lm = MaskedLanguageModel(self.bert.hidden, vocab_size)\n",
    "\n",
    "    def forward(self, x):\n",
    "        x = self.bert(x)\n",
    "        return self.mask_lm(x)\n",
    "\n",
    "class MaskedLanguageModel(nn.Module):\n",
    "    def __init__(self, hidden, vocab_size):\n",
    "        super().__init__()\n",
    "        self.linear = nn.Linear(hidden, vocab_size)\n",
    "        self.softmax = nn.LogSoftmax(dim=-1)\n",
    "\n",
    "    def forward(self, x):\n",
    "        return self.softmax(self.linear(x))"
   ]
  },
  {
   "cell_type": "code",
   "execution_count": 9,
   "metadata": {},
   "outputs": [],
   "source": [
    "class BERTESD(nn.Module):\n",
    "    def __init__(self, bert: BERT):\n",
    "        super().__init__()\n",
    "        self.bert = bert\n",
    "        self.esd = ErrorSentenceDetectionHead(self.bert.hidden)\n",
    "\n",
    "    def forward(self, x):\n",
    "        x = self.bert(x)\n",
    "        return self.esd(x)\n",
    "\n",
    "class ErrorSentenceDetectionHead(nn.Module):\n",
    "    def __init__(self, hidden):\n",
    "        super().__init__()\n",
    "        self.linear = nn.Linear(hidden, 2)\n",
    "        self.softmax = nn.LogSoftmax(dim=-1)\n",
    "\n",
    "    def forward(self, x):\n",
    "        return self.softmax(self.linear(x[:, 0]))"
   ]
  },
  {
   "cell_type": "code",
   "execution_count": 10,
   "metadata": {},
   "outputs": [],
   "source": [
    "class BERTEPD(nn.Module):\n",
    "    def __init__(self, bert: BERT, head):\n",
    "        super().__init__()\n",
    "        self.bert = bert\n",
    "        self.epd = ErrorPositionDetectionHead(self.bert.hidden, head)\n",
    "\n",
    "    def forward(self, x):\n",
    "        x = self.bert(x)\n",
    "        return self.epd(x)\n",
    "\n",
    "class ErrorPositionDetectionHead(nn.Module):\n",
    "    def __init__(self, hidden, head):\n",
    "        super().__init__()\n",
    "        self.linear = nn.Linear(hidden, head)\n",
    "        self.softmax = nn.LogSoftmax(dim=-1)\n",
    "\n",
    "    def forward(self, x):\n",
    "        return self.softmax(self.linear(x))"
   ]
  },
  {
   "cell_type": "code",
   "execution_count": 11,
   "metadata": {},
   "outputs": [],
   "source": [
    "class BERTHybridESD(nn.Module):\n",
    "    def __init__(self, epd):\n",
    "        super().__init__()\n",
    "        self.epd = epd\n",
    "        self.esd = ErrorSentenceDetectionHead(9)\n",
    "\n",
    "    def forward(self, x):\n",
    "        x = self.epd(x)\n",
    "        return self.esd(x)\n",
    "\n",
    "class ErrorSentenceDetectionHead(nn.Module):\n",
    "    def __init__(self, hidden):\n",
    "        super().__init__()\n",
    "        self.linear = nn.Linear(hidden, 2)\n",
    "        self.softmax = nn.LogSoftmax(dim=-1)\n",
    "\n",
    "    def forward(self, x):\n",
    "        return self.softmax(self.linear(x[:, 0]))"
   ]
  },
  {
   "cell_type": "markdown",
   "metadata": {},
   "source": [
    "BERT用のVocabを生成するクラスを定義する"
   ]
  },
  {
   "cell_type": "code",
   "execution_count": 12,
   "metadata": {},
   "outputs": [],
   "source": [
    "import pickle\n",
    "import tqdm\n",
    "from collections import Counter\n",
    "\n",
    "class TorchVocab(object):\n",
    "    \"\"\"\n",
    "    :property freqs: collections.Counter, コーパス中の単語の出現頻度を保持するオブジェクト\n",
    "    :property stoi: collections.defaultdict, string → id の対応を示す辞書\n",
    "    :property itos: collections.defaultdict, id → string の対応を示す辞書\n",
    "    \"\"\"\n",
    "    def __init__(self, counter, max_size=None, min_freq=1, specials=['<pad>', '<oov>'],\n",
    "                 vectors=None, unk_init=None, vectors_cache=None):\n",
    "        \"\"\"\n",
    "        :param coutenr: collections.Counter, データ中に含まれる単語の頻度を計測するためのcounter\n",
    "        :param max_size: int, vocabularyの最大のサイズ. Noneの場合は最大値なし. defaultはNone\n",
    "        :param min_freq: int, vocabulary中の単語の最低出現頻度. この数以下の出現回数の単語はvocabularyに加えられない.\n",
    "        :param specials: list of str, vocabularyにあらかじめ登録するtoken\n",
    "        :param vecors: list of vectors, 事前学習済みのベクトル. ex)Vocab.load_vectors\n",
    "        \"\"\"\n",
    "        self.freqs = counter\n",
    "        counter = counter.copy()\n",
    "        min_freq = max(min_freq, 1)\n",
    "\n",
    "        self.itos = list(specials)\n",
    "        # special tokensの出現頻度はvocabulary作成の際にカウントされない\n",
    "        for tok in specials:\n",
    "            del counter[tok]\n",
    "\n",
    "        max_size = None if max_size is None else max_size + len(self.itos)\n",
    "\n",
    "        # まず頻度でソートし、次に文字順で並び替える\n",
    "        words_and_frequencies = sorted(counter.items(), key=lambda tup: tup[0])\n",
    "        words_and_frequencies.sort(key=lambda tup: tup[1], reverse=True)\n",
    "        \n",
    "        # 出現頻度がmin_freq未満のものはvocabに加えない\n",
    "        for word, freq in words_and_frequencies:\n",
    "            if freq < min_freq or len(self.itos) == max_size:\n",
    "                break\n",
    "            self.itos.append(word)\n",
    "\n",
    "        # dictのk,vをいれかえてstoiを作成する\n",
    "        self.stoi = {tok: i for i, tok in enumerate(self.itos)}\n",
    "\n",
    "        self.vectors = None\n",
    "        if vectors is not None:\n",
    "            self.load_vectors(vectors, unk_init=unk_init, cache=vectors_cache)\n",
    "        else:\n",
    "            assert unk_init is None and vectors_cache is None\n",
    "\n",
    "    def __eq__(self, other):\n",
    "        if self.freqs != other.freqs:\n",
    "            return False\n",
    "        if self.stoi != other.stoi:\n",
    "            return False\n",
    "        if self.itos != other.itos:\n",
    "            return False\n",
    "        if self.vectors != other.vectors:\n",
    "            return False\n",
    "        return True\n",
    "\n",
    "    def __len__(self):\n",
    "        return len(self.itos)\n",
    "\n",
    "    def vocab_rerank(self):\n",
    "        self.stoi = {word: i for i, word in enumerate(self.itos)}\n",
    "\n",
    "    def extend(self, v, sort=False):\n",
    "        words = sorted(v.itos) if sort else v.itos\n",
    "        for w in words:\n",
    "            if w not in self.stoi:\n",
    "                self.itos.append(w)\n",
    "                self.stoi[w] = len(self.itos) - 1\n",
    "\n",
    "\n",
    "class Vocab(TorchVocab):\n",
    "    def __init__(self, counter, max_size=None, min_freq=1):\n",
    "        self.pad_index = 0\n",
    "        self.unk_index = 1\n",
    "        self.eos_index = 2\n",
    "        self.sos_index = 3\n",
    "        self.mask_index = 4\n",
    "        super().__init__(counter, specials=[\"<pad>\", \"<unk>\", \"<eos>\", \"<sos>\", \"<mask>\"], max_size=max_size, min_freq=min_freq)\n",
    "\n",
    "    # override用\n",
    "    def to_seq(self, sentece, seq_len, with_eos=False, with_sos=False) -> list:\n",
    "        pass\n",
    "\n",
    "    # override用\n",
    "    def from_seq(self, seq, join=False, with_pad=False):\n",
    "        pass\n",
    "\n",
    "    @staticmethod\n",
    "    def load_vocab(vocab_path: str) -> 'Vocab':\n",
    "        with open(vocab_path, \"rb\") as f:\n",
    "            return pickle.load(f)\n",
    "\n",
    "    def save_vocab(self, vocab_path):\n",
    "        with open(vocab_path, \"wb\") as f:\n",
    "            pickle.dump(self, f)\n",
    "\n",
    "\n",
    "# テキストファイルからvocabを作成する\n",
    "class WordVocab(Vocab):\n",
    "    def __init__(self, texts, max_size=None, min_freq=1):\n",
    "        print(\"Building Vocab\")\n",
    "        counter = Counter()\n",
    "        for line in texts:\n",
    "            if isinstance(line, list):\n",
    "                words = line\n",
    "            else:\n",
    "                words = line.replace(\"\\n\", \"\").replace(\"\\t\", \"\").split()\n",
    "\n",
    "            for word in words:\n",
    "                counter[word] += 1\n",
    "        super().__init__(counter, max_size=max_size, min_freq=min_freq)\n",
    "\n",
    "    def to_seq(self, sentence, seq_len=None, with_eos=False, with_sos=False, with_len=False):\n",
    "        if isinstance(sentence, str):\n",
    "            sentence = sentence.split()\n",
    "\n",
    "        seq = [self.stoi.get(word, self.unk_index) for word in sentence]\n",
    "\n",
    "        if with_eos:\n",
    "            seq += [self.eos_index]  # this would be index 1\n",
    "        if with_sos:\n",
    "            seq = [self.sos_index] + seq\n",
    "\n",
    "        origin_seq_len = len(seq)\n",
    "\n",
    "        if seq_len is None:\n",
    "            pass\n",
    "        elif len(seq) <= seq_len:\n",
    "            seq += [self.pad_index for _ in range(seq_len - len(seq))]\n",
    "        else:\n",
    "            seq = seq[:seq_len]\n",
    "\n",
    "        return (seq, origin_seq_len) if with_len else seq\n",
    "\n",
    "    def from_seq(self, seq, join=False, with_pad=False):\n",
    "        words = [self.itos[idx]\n",
    "                 if idx < len(self.itos)\n",
    "                 else \"<%d>\" % idx\n",
    "                 for idx in seq\n",
    "                 if not with_pad or idx != self.pad_index]\n",
    "\n",
    "        return \" \".join(words) if join else words\n",
    "\n",
    "    @staticmethod\n",
    "    def load_vocab(vocab_path: str) -> 'WordVocab':\n",
    "        with open(vocab_path, \"rb\") as f:\n",
    "            return pickle.load(f)\n",
    "\n",
    "\n",
    "def build(corpus_path, output_path, vocab_size=None, encoding='utf-8', min_freq=1):\n",
    "    with open(corpus_path, \"r\", encoding=encoding) as f:\n",
    "        vocab = WordVocab(f, max_size=vocab_size, min_freq=min_freq)\n",
    "\n",
    "    print(\"VOCAB SIZE:\", len(vocab))\n",
    "    vocab.save_vocab(output_path)"
   ]
  },
  {
   "cell_type": "markdown",
   "metadata": {},
   "source": [
    "Dataloaderを定義する.<br>\n",
    "ここで文章中の単語をMASKする処理を行う<br>\n",
    "Windowsでの並列化処理のために外部ファイル(dataset.py)で定義する  \n",
    "MACやLinuxならこのipynbに直接定義しても良いはず"
   ]
  },
  {
   "cell_type": "markdown",
   "metadata": {},
   "source": [
    "Trainerクラスを定義する.  \n",
    "Masked Language Model : 文章中の一部の単語をマスクして,予測を行うタスク.  \n",
    "- `save_bert`はbert本体のみを保存する\n",
    "- `save_pretrain`は事前学習用のHeadも含んだ全体を保存する\n",
    "- `load_bert`と`load_pretrain`も同様"
   ]
  },
  {
   "cell_type": "code",
   "execution_count": 13,
   "metadata": {},
   "outputs": [],
   "source": [
    "from torch.utils.data import DataLoader\n",
    "class ESDTrainer:\n",
    "    def __init__(self, bert: BERT, train_dataloader: DataLoader, \n",
    "                 valid_dataloader: DataLoader = None,\n",
    "                 lr: float = 1e-4, betas=(0.9, 0.999), weight_decay: float = 0.01,\n",
    "                 with_cuda: bool = True, log_freq: int = 10):\n",
    "        # GPU環境において、GPUを指定しているかのフラグ\n",
    "        cuda_condition = torch.cuda.is_available() and with_cuda\n",
    "        self.device = torch.device(\"cuda:0\" if cuda_condition else \"cpu\")\n",
    "\n",
    "        self.bert = bert\n",
    "        self.model = BERTESD(bert).to(self.device)\n",
    "\n",
    "        if torch.cuda.device_count() > 1:\n",
    "            print(\"Using %d GPUS for BERT\" % torch.cuda.device_count())\n",
    "            self.model = nn.DataParallel(self.model)\n",
    "\n",
    "        self.train_data = train_dataloader\n",
    "        self.valid_data = valid_dataloader\n",
    "\n",
    "        self.optim = Adam(self.model.parameters(), lr=lr, betas=betas, weight_decay=weight_decay)\n",
    "\n",
    "        # masked_token予測のためのLoss関数を設定\n",
    "        self.criterion = nn.NLLLoss()\n",
    "        self.log_freq = log_freq\n",
    "        print(\"Total Parameters:\", sum([p.nelement() for p in self.model.parameters()]))\n",
    "        \n",
    "        self.train_losses = []\n",
    "        self.valid_losses = []\n",
    "        self.train_accs = []\n",
    "        self.valid_accs = []\n",
    "\n",
    "    def train(self, epoch):\n",
    "        self.iteration(epoch, self.train_data)\n",
    "\n",
    "    def valid(self, epoch):\n",
    "        self.iteration(epoch, self.valid_data, train=False)\n",
    "\n",
    "    def iteration(self, epoch, data_loader, train=True):\n",
    "        str_code = \"train\" if train else \"valid\"\n",
    "        data_iter = tqdm.tqdm(enumerate(data_loader), desc=\"EP_%s:%d\" % (str_code, epoch), total=len(data_loader), bar_format=\"{l_bar}{r_bar}\")\n",
    "        avg_loss = 0.0\n",
    "        total_correct = 0\n",
    "        total_element = 0\n",
    "\n",
    "        for i, data in data_iter:\n",
    "            data = {key: value.to(self.device) for key, value in data.items()}\n",
    "            pr_output = self.model.forward(data[\"bert_input\"])\n",
    "            pr_loss = self.criterion(pr_output, data[\"label\"])\n",
    "            loss = pr_loss\n",
    "            # training時のみ,backwardとoptimizer更新を行う\n",
    "            if train:\n",
    "                self.optim.zero_grad()\n",
    "                loss.backward()\n",
    "                self.optim.step()\n",
    "            \n",
    "            correct = pr_output.argmax(dim=-1).eq(data[\"label\"]).sum().item()\n",
    "            avg_loss += loss.item()\n",
    "            total_correct += correct\n",
    "            total_element += data[\"label\"].nelement()\n",
    "            post_fix = {\n",
    "                \"epoch\": epoch,\n",
    "                \"iter\": i,\n",
    "                \"avg_loss\": avg_loss / (i + 1),\n",
    "                \"avg_acc\": total_correct / total_element * 100,\n",
    "                \"loss\": loss.item()\n",
    "            }\n",
    "\n",
    "            if i % self.log_freq == 0:\n",
    "                data_iter.write(str(post_fix))\n",
    "\n",
    "        print(\"EP%d_%s, avg_loss=\" % (epoch, str_code), avg_loss / len(data_iter),  \"total_acc=\", total_correct * 100.0 / total_element)\n",
    "        if train:\n",
    "            self.train_losses.append(avg_loss / len(data_iter))\n",
    "            self.train_accs.append(total_correct * 100.0 / total_element)\n",
    "        else:\n",
    "            self.valid_losses.append(avg_loss / len(data_iter))\n",
    "            self.valid_accs.append(total_correct * 100.0 / total_element)\n",
    "        \n",
    "    def save_bert(self, epoch, file_path=output_dir + \"bert_model\"):\n",
    "        output_path = file_path + \".ep%d\" % epoch\n",
    "        torch.save(self.bert.state_dict(), output_path)\n",
    "        self.bert.to(self.device)\n",
    "        print(\"EP:%d Model Saved on:\" % epoch, output_path)\n",
    "        return output_path\n",
    "    \n",
    "    def save_pretrain(self, epoch, file_path=output_dir + \"mlm_model\"):\n",
    "        state = {\n",
    "            'epoch' : epoch,\n",
    "            'state_dict' : self.model.module.state_dict(),\n",
    "            'optimizer' : self.optim.state_dict()\n",
    "        }\n",
    "        output_path = file_path + \".ep%d\" % epoch\n",
    "        torch.save(state, output_path)\n",
    "        self.bert.to(self.device)\n",
    "        print(\"EP:%d Model Saved on:\" % epoch, output_path)\n",
    "        return output_path\n",
    " \n",
    "    def load_bert(self, file_path):\n",
    "        self.bert.state_dict(torch.load(file_path))\n",
    "        \n",
    "    def load_pretrain(self, file_path):\n",
    "        state = torch.load(file_path)\n",
    "        #state = self.fix_model_state_dict(state)\n",
    "        self.model.module.load_state_dict(state['state_dict'])\n",
    "        self.optim.load_state_dict(state['optimizer'])\n",
    "        return state"
   ]
  },
  {
   "cell_type": "code",
   "execution_count": 14,
   "metadata": {},
   "outputs": [],
   "source": [
    "import datetime\n",
    "dt_now = str(datetime.datetime.now()).replace(' ', '')\n",
    "dt_now = dt_now.replace(':','_')"
   ]
  },
  {
   "cell_type": "markdown",
   "metadata": {},
   "source": [
    "* 最初から学習する場合：`train_mode = 'first'`  \n",
    "* 途中から学習を再開する場合：`train_mode = 'continue'`  \n",
    "    - 保存してある学習済みモデルのパスを指定する\n",
    "    - vocabファイルのパスを指定する"
   ]
  },
  {
   "cell_type": "code",
   "execution_count": 15,
   "metadata": {},
   "outputs": [],
   "source": [
    "class EPDTrainer:\n",
    "    def __init__(self, bert: BERT, train_dataloader: DataLoader,\n",
    "                 valid_dataloader: DataLoader = None,\n",
    "                 lr: float = 1e-4, betas=(0.9, 0.999), weight_decay: float = 0.01,\n",
    "                 with_cuda: bool = True, log_freq: int = 10, head = 2):\n",
    "        # GPU環境において、GPUを指定しているかのフラグ\n",
    "        cuda_condition = torch.cuda.is_available() and with_cuda\n",
    "        self.device = torch.device(\"cuda:0\" if cuda_condition else \"cpu\")\n",
    "\n",
    "        self.bert = bert\n",
    "        self.model = BERTEPD(bert, head).to(self.device)\n",
    "\n",
    "        if torch.cuda.device_count() > 1:\n",
    "            print(\"Using %d GPUS for BERT\" % torch.cuda.device_count())\n",
    "            self.model = nn.DataParallel(self.model)\n",
    "\n",
    "        self.train_data = train_dataloader\n",
    "        self.valid_data = valid_dataloader\n",
    "\n",
    "        self.optim = Adam(self.model.parameters(), lr=lr, betas=betas, weight_decay=weight_decay)\n",
    "\n",
    "        # masked_token予測のためのLoss関数を設定\n",
    "        self.criterion = nn.NLLLoss()\n",
    "        self.log_freq = log_freq\n",
    "        print(\"Total Parameters:\", sum([p.nelement() for p in self.model.parameters()]))\n",
    "        \n",
    "        self.train_losses = []\n",
    "        self.valid_losses = []\n",
    "        self.train_accs = []\n",
    "        self.valid_accs = []\n",
    "\n",
    "    def train(self, epoch):\n",
    "        self.iteration(epoch, self.train_data)\n",
    "\n",
    "    def valid(self, epoch):\n",
    "        self.iteration(epoch, self.valid_data, train=False)\n",
    "\n",
    "    def iteration(self, epoch, data_loader, train=True):\n",
    "        str_code = \"train\" if train else \"valid\"\n",
    "        data_iter = tqdm.tqdm(enumerate(data_loader), desc=\"EP_%s:%d\" % (str_code, epoch), total=len(data_loader), bar_format=\"{l_bar}{r_bar}\")\n",
    "        avg_loss = 0.0\n",
    "        total_correct = 0\n",
    "        total_element = 0\n",
    "\n",
    "        for i, data in data_iter:\n",
    "            data = {key: value.to(self.device) for key, value in data.items()}\n",
    "            pr_output = self.model.forward(data[\"bert_input\"])\n",
    "            pr_loss = self.criterion(pr_output.transpose(1, 2), data[\"token_label\"])\n",
    "            loss = pr_loss\n",
    "            # training時のみ,backwardとoptimizer更新を行う\n",
    "            if train:\n",
    "                self.optim.zero_grad()\n",
    "                loss.backward()\n",
    "                self.optim.step()\n",
    "            \n",
    "            correct = pr_output.argmax(dim=-1).eq(data[\"token_label\"]).sum().item()\n",
    "\n",
    "\n",
    "            avg_loss += loss.item()\n",
    "            total_correct += correct\n",
    "            total_element += data[\"token_label\"].nelement() * 128\n",
    "            post_fix = {\n",
    "                \"epoch\": epoch,\n",
    "                \"iter\": i,\n",
    "                \"avg_loss\": avg_loss / (i + 1),\n",
    "                \"avg_acc\": total_correct / total_element * 100,\n",
    "                \"loss\": loss.item()\n",
    "            }\n",
    "\n",
    "            if i % self.log_freq == 0:\n",
    "                data_iter.write(str(post_fix))\n",
    "\n",
    "        print(\"EP%d_%s, avg_loss=\" % (epoch, str_code), avg_loss / len(data_iter),  \"total_acc=\", total_correct * 100.0 / total_element)\n",
    "        if train:\n",
    "            self.train_losses.append(avg_loss / len(data_iter))\n",
    "            self.train_accs.append(total_correct * 100.0 / total_element)\n",
    "        else:\n",
    "            self.valid_losses.append(avg_loss / len(data_iter))\n",
    "            self.valid_accs.append(total_correct * 100.0 / total_element)\n",
    "        \n",
    "    def save_bert(self, epoch, file_path=output_dir + \"bert_model\"):\n",
    "        output_path = file_path + \".ep%d\" % epoch\n",
    "        torch.save(self.bert.state_dict(), output_path)\n",
    "        self.bert.to(self.device)\n",
    "        print(\"EP:%d Model Saved on:\" % epoch, output_path)\n",
    "        return output_path\n",
    "    \n",
    "    def save_pretrain(self, epoch, file_path=output_dir + \"mlm_model\"):\n",
    "        state = {\n",
    "            'epoch' : epoch,\n",
    "            'state_dict' : self.model.module.state_dict(),\n",
    "            'optimizer' : self.optim.state_dict()\n",
    "        }\n",
    "        output_path = file_path + \".ep%d\" % epoch\n",
    "        torch.save(state, output_path)\n",
    "        self.bert.to(self.device)\n",
    "        print(\"EP:%d Model Saved on:\" % epoch, output_path)\n",
    "        return output_path\n",
    " \n",
    "    def load_bert(self, file_path):\n",
    "        self.bert.state_dict(torch.load(file_path))\n",
    "        \n",
    "    def load_pretrain(self, file_path):\n",
    "        state = torch.load(file_path)\n",
    "        #state = self.fix_model_state_dict(state)\n",
    "        self.model.module.load_state_dict(state['state_dict'])\n",
    "        self.optim.load_state_dict(state['optimizer'])\n",
    "        return state"
   ]
  },
  {
   "cell_type": "code",
   "execution_count": 16,
   "metadata": {},
   "outputs": [],
   "source": [
    "class HybridESDTrainer:\n",
    "    def __init__(self, bert: BERT, train_dataloader: DataLoader, \n",
    "                 valid_dataloader: DataLoader = None,\n",
    "                 lr: float = 1e-4, betas=(0.9, 0.999), weight_decay: float = 0.01,\n",
    "                 with_cuda: bool = True, log_freq: int = 10, head = 9):\n",
    "        # GPU環境において、GPUを指定しているかのフラグ\n",
    "        cuda_condition = torch.cuda.is_available() and with_cuda\n",
    "        self.device = torch.device(\"cuda:0\" if cuda_condition else \"cpu\")\n",
    "\n",
    "        self.bert = bert\n",
    "        self.epd = BERTEPD(bert, head)\n",
    "        self.model = BERTHybridESD(self.epd).to(self.device)\n",
    "\n",
    "        if torch.cuda.device_count() > 1:\n",
    "            print(\"Using %d GPUS for BERT\" % torch.cuda.device_count())\n",
    "            self.model = nn.DataParallel(self.model)\n",
    "\n",
    "        self.train_data = train_dataloader\n",
    "        self.valid_data = valid_dataloader\n",
    "\n",
    "        self.optim = Adam(self.model.parameters(), lr=lr, betas=betas, weight_decay=weight_decay)\n",
    "\n",
    "        # masked_token予測のためのLoss関数を設定\n",
    "        self.criterion = nn.NLLLoss()\n",
    "        self.log_freq = log_freq\n",
    "        print(\"Total Parameters:\", sum([p.nelement() for p in self.model.parameters()]))\n",
    "        \n",
    "        self.train_losses = []\n",
    "        self.valid_losses = []\n",
    "        self.train_accs = []\n",
    "        self.valid_accs = []\n",
    "\n",
    "    def train(self, epoch):\n",
    "        self.iteration(epoch, self.train_data)\n",
    "\n",
    "    def valid(self, epoch):\n",
    "        self.iteration(epoch, self.valid_data, train=False)\n",
    "\n",
    "    def iteration(self, epoch, data_loader, train=True):\n",
    "        str_code = \"train\" if train else \"valid\"\n",
    "        data_iter = tqdm.tqdm(enumerate(data_loader), desc=\"EP_%s:%d\" % (str_code, epoch), total=len(data_loader), bar_format=\"{l_bar}{r_bar}\")\n",
    "        avg_loss = 0.0\n",
    "        total_correct = 0\n",
    "        total_element = 0\n",
    "\n",
    "        for i, data in data_iter:\n",
    "            data = {key: value.to(self.device) for key, value in data.items()}\n",
    "            pr_output = self.model.forward(data[\"bert_input\"])\n",
    "            pr_loss = self.criterion(pr_output, data[\"label\"])\n",
    "            loss = pr_loss\n",
    "            # training時のみ,backwardとoptimizer更新を行う\n",
    "            if train:\n",
    "                self.optim.zero_grad()\n",
    "                loss.backward()\n",
    "                self.optim.step()\n",
    "            \n",
    "            correct = pr_output.argmax(dim=-1).eq(data[\"label\"]).sum().item()\n",
    "            avg_loss += loss.item()\n",
    "            total_correct += correct\n",
    "            total_element += data[\"label\"].nelement()\n",
    "            post_fix = {\n",
    "                \"epoch\": epoch,\n",
    "                \"iter\": i,\n",
    "                \"avg_loss\": avg_loss / (i + 1),\n",
    "                \"avg_acc\": total_correct / total_element * 100,\n",
    "                \"loss\": loss.item()\n",
    "            }\n",
    "\n",
    "            if i % self.log_freq == 0:\n",
    "                data_iter.write(str(post_fix))\n",
    "\n",
    "        print(\"EP%d_%s, avg_loss=\" % (epoch, str_code), avg_loss / len(data_iter),  \"total_acc=\", total_correct * 100.0 / total_element)\n",
    "        if train:\n",
    "            self.train_losses.append(avg_loss / len(data_iter))\n",
    "            self.train_accs.append(total_correct * 100.0 / total_element)\n",
    "        else:\n",
    "            self.valid_losses.append(avg_loss / len(data_iter))\n",
    "            self.valid_accs.append(total_correct * 100.0 / total_element)\n",
    "        \n",
    "    def save_bert(self, epoch, file_path=output_dir + \"bert_model\"):\n",
    "        output_path = file_path + \".ep%d\" % epoch\n",
    "        torch.save(self.bert.state_dict(), output_path)\n",
    "        self.bert.to(self.device)\n",
    "        print(\"EP:%d Model Saved on:\" % epoch, output_path)\n",
    "        return output_path\n",
    "    \n",
    "    def save_pretrain(self, epoch, file_path=output_dir + \"mlm_model\"):\n",
    "        state = {\n",
    "            'epoch' : epoch,\n",
    "            'state_dict' : self.model.module.state_dict(),\n",
    "            'optimizer' : self.optim.state_dict(),\n",
    "            'train_acc': self.train_accs[-1],\n",
    "            'valid_acc': self.valid_accs[-1],\n",
    "        }\n",
    "        output_path = file_path + \".ep%d\" % epoch\n",
    "        torch.save(state, output_path)\n",
    "        self.bert.to(self.device)\n",
    "        print(\"EP:%d Model Saved on:\" % epoch, output_path)\n",
    "        return output_path\n",
    " \n",
    "    def load_bert(self, file_path):\n",
    "        self.bert.state_dict(torch.load(file_path))\n",
    "    \n",
    "    def load_epd(self, file_path):\n",
    "        state = torch.load(file_path)\n",
    "        self.epd.load_state_dict(state['state_dict'])\n",
    "    \n",
    "    def load_pretrain(self, file_path):\n",
    "        state = torch.load(file_path)\n",
    "        #state = self.fix_model_state_dict(state)\n",
    "        self.model.module.load_state_dict(state['state_dict'])\n",
    "        self.optim.load_state_dict(state['optimizer'])\n",
    "        return state"
   ]
  },
  {
   "cell_type": "code",
   "execution_count": 17,
   "metadata": {},
   "outputs": [],
   "source": [
    "# 訓練用パラメタを定義する\n",
    "vocab_path= read_dir + 'vocab.txt'\n",
    "\n",
    "\n",
    "hidden=256 #768\n",
    "layers=2 #12 2\n",
    "attn_heads=4 #12 4\n",
    "seq_len=128\n",
    "\n",
    "batch_size=128\n",
    "epochs=50\n",
    "num_workers=0\n",
    "with_cuda=True\n",
    "log_freq=100\n",
    "corpus_lines=None\n",
    "\n",
    "lr=1e-3\n",
    "adam_weight_decay=0.00\n",
    "adam_beta1=0.9\n",
    "adam_beta2=0.999\n",
    "\n",
    "dropout=0.0\n",
    "\n",
    "min_freq=7\n",
    "\n",
    "corpus_path=processed_train_txt\n",
    "label_path=None\n",
    "\n",
    "# 最初から学習する場合は'first'、学習を続きから再開する場合は'continue'\n",
    "#train_mode = 'first' \n",
    "train_mode = 'first' "
   ]
  },
  {
   "cell_type": "code",
   "execution_count": 18,
   "metadata": {},
   "outputs": [],
   "source": [
    "#if train_mode == 'first':\n",
    "#build(corpus_path, vocab_path, min_freq=min_freq)\n"
   ]
  },
  {
   "cell_type": "code",
   "execution_count": 19,
   "metadata": {},
   "outputs": [
    {
     "name": "stdout",
     "output_type": "stream",
     "text": [
      "Loading Vocab ./data/merged_bert/vocab.txt\n",
      "Loading Train Dataset ./data/merged_bert/train_X.txt\n",
      "Loading Valid Dataset ./data/merged_bert/valid_X.txt\n",
      "Creating Dataloader\n"
     ]
    }
   ],
   "source": [
    "print(\"Loading Vocab\", vocab_path)\n",
    "\n",
    "vocab = WordVocab.load_vocab(vocab_path)\n",
    "from dataset import ReplaceDataset, MixDataset \n",
    "\n",
    "print(\"Loading Train Dataset\", processed_train_txt)\n",
    "#train_dataset = ReplaceDataset(processed_train_txt, vocab, seq_len=seq_len, label_path=label_path, corpus_lines=corpus_lines)\n",
    "#train_dataset = DeleteDataset(processed_train_txt, vocab, seq_len=seq_len, label_path=label_path, corpus_lines=corpus_lines)\n",
    "train_dataset = MixDataset(processed_train_txt, vocab, seq_len=seq_len, label_path=label_path, corpus_lines=corpus_lines)\n",
    "\n",
    "print(\"Loading Valid Dataset\", processed_valid_txt)\n",
    "#valid_dataset = ReplaceDataset(processed_valid_txt, vocab, seq_len=seq_len, label_path=label_path) if processed_valid_txt is not None else None\n",
    "#valid_dataset = DeleteDataset(processed_valid_txt, vocab, seq_len=seq_len, label_path=label_path) if processed_valid_txt is not None else None\n",
    "valid_dataset = MixDataset(processed_valid_txt, vocab, seq_len=seq_len, label_path=label_path) if processed_valid_txt is not None else None\n",
    "\n",
    "\n",
    "print(\"Creating Dataloader\")\n",
    "train_data_loader = DataLoader(train_dataset, batch_size=batch_size, num_workers=num_workers)\n",
    "valid_data_loader = DataLoader(valid_dataset, batch_size=batch_size, num_workers=num_workers) if processed_valid_txt is not None else None"
   ]
  },
  {
   "cell_type": "code",
   "execution_count": 20,
   "metadata": {},
   "outputs": [
    {
     "name": "stdout",
     "output_type": "stream",
     "text": [
      "Building BERT model\n",
      "Using 2 GPUS for BERT\n",
      "Total Parameters: 2761225\n"
     ]
    }
   ],
   "source": [
    "print(\"Building BERT model\")\n",
    "bert = BERT(len(vocab), hidden=hidden, n_layers=layers, attn_heads=attn_heads, dropout=dropout)\n",
    "#trainer = ESDTrainer(bert, train_dataloader=train_data_loader, valid_dataloader=valid_data_loader,lr=lr, betas=(adam_beta1, adam_beta2), weight_decay=adam_weight_decay,with_cuda=with_cuda, log_freq=log_freq)\n",
    "trainer = EPDTrainer(bert, train_dataloader=train_data_loader, valid_dataloader=valid_data_loader,lr=lr, betas=(adam_beta1, adam_beta2), weight_decay=adam_weight_decay,with_cuda=with_cuda, log_freq=log_freq, head=9)\n",
    "#trainer = HybridESDTrainer(bert, train_dataloader=train_data_loader, valid_dataloader=valid_data_loader,lr=lr, betas=(adam_beta1, adam_beta2), weight_decay=adam_weight_decay,with_cuda=with_cuda, log_freq=log_freq, head=9)\n",
    "\n",
    "\n",
    "output_model_path = output_dir + 'mix/epd/small/small'\n",
    "\n",
    "if train_mode == 'first':\n",
    "    trainer.load_bert(output_dir + 'bert/mid/bert.ep16')\n",
    "    #trainer.load_epd(output_dir + 'mix/epd/small/small.ep34')\n",
    "    trained_epoch = 0\n",
    "\n",
    "else:\n",
    "    state = trainer.load_pretrain(output_model_path + '.ep34')\n",
    "    trained_epoch = state['epoch'] +1\n",
    "    print(trained_epoch)"
   ]
  },
  {
   "cell_type": "code",
   "execution_count": 21,
   "metadata": {
    "scrolled": true
   },
   "outputs": [
    {
     "name": "stdout",
     "output_type": "stream",
     "text": [
      "Training Start\n"
     ]
    },
    {
     "name": "stderr",
     "output_type": "stream",
     "text": [
      "EP_train:0:   0%|| 0/50252 [00:00<?, ?it/s]C:\\Users\\is0368pi\\.conda\\envs\\nlp\\lib\\site-packages\\torch\\cuda\\nccl.py:24: UserWarning: PyTorch is not compiled with NCCL support\n",
      "  warnings.warn('PyTorch is not compiled with NCCL support')\n",
      "                                           \r"
     ]
    },
    {
     "name": "stdout",
     "output_type": "stream",
     "text": [
      "{'epoch': 0, 'iter': 0, 'avg_loss': 2.3968453407287598, 'avg_acc': 0.031757354736328125, 'loss': 2.3968453407287598}\n"
     ]
    },
    {
     "name": "stderr",
     "output_type": "stream",
     "text": [
      "                                                      \r"
     ]
    },
    {
     "name": "stdout",
     "output_type": "stream",
     "text": [
      "{'epoch': 0, 'iter': 100, 'avg_loss': 0.20024701377542892, 'avg_acc': 0.7458346905094562, 'loss': 0.16066795587539673}\n"
     ]
    },
    {
     "name": "stderr",
     "output_type": "stream",
     "text": [
      "                                                       \r"
     ]
    },
    {
     "name": "stdout",
     "output_type": "stream",
     "text": [
      "{'epoch': 0, 'iter': 200, 'avg_loss': 0.17212165532568793, 'avg_acc': 0.750356408494029, 'loss': 0.13187795877456665}\n"
     ]
    },
    {
     "name": "stderr",
     "output_type": "stream",
     "text": [
      "                                                     \r"
     ]
    },
    {
     "name": "stdout",
     "output_type": "stream",
     "text": [
      "{'epoch': 0, 'iter': 300, 'avg_loss': 0.16212434648378346, 'avg_acc': 0.7518560783411578, 'loss': 0.124681256711483}\n"
     ]
    },
    {
     "name": "stderr",
     "output_type": "stream",
     "text": [
      "                                                     \r"
     ]
    },
    {
     "name": "stdout",
     "output_type": "stream",
     "text": [
      "{'epoch': 0, 'iter': 400, 'avg_loss': 0.15698987262281694, 'avg_acc': 0.7525687800381249, 'loss': 0.13871435821056366}\n"
     ]
    },
    {
     "name": "stderr",
     "output_type": "stream",
     "text": [
      "                                                     \r"
     ]
    },
    {
     "name": "stdout",
     "output_type": "stream",
     "text": [
      "{'epoch': 0, 'iter': 500, 'avg_loss': 0.15335853090007862, 'avg_acc': 0.7530554088051924, 'loss': 0.13516204059123993}\n"
     ]
    },
    {
     "name": "stderr",
     "output_type": "stream",
     "text": [
      "                                                     \r"
     ]
    },
    {
     "name": "stdout",
     "output_type": "stream",
     "text": [
      "{'epoch': 0, 'iter': 600, 'avg_loss': 0.15080905173860254, 'avg_acc': 0.7533420143825639, 'loss': 0.13195250928401947}\n"
     ]
    },
    {
     "name": "stderr",
     "output_type": "stream",
     "text": [
      "                                                     \r"
     ]
    },
    {
     "name": "stdout",
     "output_type": "stream",
     "text": [
      "{'epoch': 0, 'iter': 700, 'avg_loss': 0.14861334003667517, 'avg_acc': 0.7535550121574021, 'loss': 0.14707638323307037}\n"
     ]
    },
    {
     "name": "stderr",
     "output_type": "stream",
     "text": [
      "                                                     \r"
     ]
    },
    {
     "name": "stdout",
     "output_type": "stream",
     "text": [
      "{'epoch': 0, 'iter': 800, 'avg_loss': 0.14677570079373065, 'avg_acc': 0.7537069689766149, 'loss': 0.1366102397441864}\n"
     ]
    },
    {
     "name": "stderr",
     "output_type": "stream",
     "text": [
      "                                                     \r"
     ]
    },
    {
     "name": "stdout",
     "output_type": "stream",
     "text": [
      "{'epoch': 0, 'iter': 900, 'avg_loss': 0.1450824712575739, 'avg_acc': 0.7538426597163362, 'loss': 0.1373373121023178}\n"
     ]
    },
    {
     "name": "stderr",
     "output_type": "stream",
     "text": [
      "                                                     \r"
     ]
    },
    {
     "name": "stdout",
     "output_type": "stream",
     "text": [
      "{'epoch': 0, 'iter': 1000, 'avg_loss': 0.14364935608057827, 'avg_acc': 0.7539282311926355, 'loss': 0.11972714960575104}\n"
     ]
    },
    {
     "name": "stderr",
     "output_type": "stream",
     "text": [
      "                                                      \r"
     ]
    },
    {
     "name": "stdout",
     "output_type": "stream",
     "text": [
      "{'epoch': 0, 'iter': 1100, 'avg_loss': 0.1421022433093956, 'avg_acc': 0.7540569426686411, 'loss': 0.12282160669565201}\n"
     ]
    },
    {
     "name": "stderr",
     "output_type": "stream",
     "text": [
      "                                                      \r"
     ]
    },
    {
     "name": "stdout",
     "output_type": "stream",
     "text": [
      "{'epoch': 0, 'iter': 1200, 'avg_loss': 0.14094105402595494, 'avg_acc': 0.7541144718039938, 'loss': 0.11693091690540314}\n"
     ]
    },
    {
     "name": "stderr",
     "output_type": "stream",
     "text": [
      "                                                      \r"
     ]
    },
    {
     "name": "stdout",
     "output_type": "stream",
     "text": [
      "{'epoch': 0, 'iter': 1300, 'avg_loss': 0.1398501885420629, 'avg_acc': 0.7541772679674177, 'loss': 0.12487543374300003}\n"
     ]
    },
    {
     "name": "stderr",
     "output_type": "stream",
     "text": [
      "                                                      \r"
     ]
    },
    {
     "name": "stdout",
     "output_type": "stream",
     "text": [
      "{'epoch': 0, 'iter': 1400, 'avg_loss': 0.1388213958147166, 'avg_acc': 0.7542463475512573, 'loss': 0.11512469500303268}\n"
     ]
    },
    {
     "name": "stderr",
     "output_type": "stream",
     "text": [
      "                                                        \r"
     ]
    },
    {
     "name": "stdout",
     "output_type": "stream",
     "text": [
      "{'epoch': 0, 'iter': 1500, 'avg_loss': 0.138078941857513, 'avg_acc': 0.7542694353564908, 'loss': 0.11803661286830902}\n"
     ]
    },
    {
     "name": "stderr",
     "output_type": "stream",
     "text": [
      "                                                      \r"
     ]
    },
    {
     "name": "stdout",
     "output_type": "stream",
     "text": [
      "{'epoch': 0, 'iter': 1600, 'avg_loss': 0.13724823778659237, 'avg_acc': 0.7543163847580766, 'loss': 0.13336512446403503}\n"
     ]
    },
    {
     "name": "stderr",
     "output_type": "stream",
     "text": [
      "                                                      \r"
     ]
    },
    {
     "name": "stdout",
     "output_type": "stream",
     "text": [
      "{'epoch': 0, 'iter': 1700, 'avg_loss': 0.13661392278824744, 'avg_acc': 0.7543335936477366, 'loss': 0.10741885006427765}\n"
     ]
    },
    {
     "name": "stderr",
     "output_type": "stream",
     "text": [
      "                                                      \r"
     ]
    },
    {
     "name": "stdout",
     "output_type": "stream",
     "text": [
      "{'epoch': 0, 'iter': 1800, 'avg_loss': 0.1360374567476926, 'avg_acc': 0.7543504271223967, 'loss': 0.13723847270011902}\n"
     ]
    },
    {
     "name": "stderr",
     "output_type": "stream",
     "text": [
      "                                                      \r"
     ]
    },
    {
     "name": "stdout",
     "output_type": "stream",
     "text": [
      "{'epoch': 0, 'iter': 1900, 'avg_loss': 0.13536472197255606, 'avg_acc': 0.754399226879459, 'loss': 0.1225067526102066}\n"
     ]
    },
    {
     "name": "stderr",
     "output_type": "stream",
     "text": [
      "                                                      \r"
     ]
    },
    {
     "name": "stdout",
     "output_type": "stream",
     "text": [
      "{'epoch': 0, 'iter': 2000, 'avg_loss': 0.1348439316483571, 'avg_acc': 0.7544179370199544, 'loss': 0.13906340301036835}\n"
     ]
    },
    {
     "name": "stderr",
     "output_type": "stream",
     "text": [
      "                                                      \r"
     ]
    },
    {
     "name": "stdout",
     "output_type": "stream",
     "text": [
      "{'epoch': 0, 'iter': 2100, 'avg_loss': 0.1341990492085455, 'avg_acc': 0.7544681834130558, 'loss': 0.11312884837388992}\n"
     ]
    },
    {
     "name": "stderr",
     "output_type": "stream",
     "text": [
      "                                                      \r"
     ]
    },
    {
     "name": "stdout",
     "output_type": "stream",
     "text": [
      "{'epoch': 0, 'iter': 2200, 'avg_loss': 0.13375572026832058, 'avg_acc': 0.7544801539586166, 'loss': 0.11215327680110931}\n"
     ]
    },
    {
     "name": "stderr",
     "output_type": "stream",
     "text": [
      "                                                      \r"
     ]
    },
    {
     "name": "stdout",
     "output_type": "stream",
     "text": [
      "{'epoch': 0, 'iter': 2300, 'avg_loss': 0.1333208946864898, 'avg_acc': 0.7544997877164904, 'loss': 0.13544219732284546}\n"
     ]
    },
    {
     "name": "stderr",
     "output_type": "stream",
     "text": [
      "                                                      \r"
     ]
    },
    {
     "name": "stdout",
     "output_type": "stream",
     "text": [
      "{'epoch': 0, 'iter': 2400, 'avg_loss': 0.1328808999915562, 'avg_acc': 0.7545295430937692, 'loss': 0.13052555918693542}\n"
     ]
    },
    {
     "name": "stderr",
     "output_type": "stream",
     "text": [
      "                                                      \r"
     ]
    },
    {
     "name": "stdout",
     "output_type": "stream",
     "text": [
      "{'epoch': 0, 'iter': 2500, 'avg_loss': 0.13247675590160513, 'avg_acc': 0.7545487016070037, 'loss': 0.11861809343099594}\n"
     ]
    },
    {
     "name": "stderr",
     "output_type": "stream",
     "text": [
      "                                                      \r"
     ]
    },
    {
     "name": "stdout",
     "output_type": "stream",
     "text": [
      "{'epoch': 0, 'iter': 2600, 'avg_loss': 0.13207969513765805, 'avg_acc': 0.7545692652108714, 'loss': 0.11904822289943695}\n"
     ]
    },
    {
     "name": "stderr",
     "output_type": "stream",
     "text": [
      "                                                      \r"
     ]
    },
    {
     "name": "stdout",
     "output_type": "stream",
     "text": [
      "{'epoch': 0, 'iter': 2700, 'avg_loss': 0.1316305161796866, 'avg_acc': 0.7546075138062383, 'loss': 0.12410170584917068}\n"
     ]
    },
    {
     "name": "stderr",
     "output_type": "stream",
     "text": [
      "                                                      \r"
     ]
    },
    {
     "name": "stdout",
     "output_type": "stream",
     "text": [
      "{'epoch': 0, 'iter': 2800, 'avg_loss': 0.13122643441525753, 'avg_acc': 0.7546381625223484, 'loss': 0.11399337649345398}\n"
     ]
    },
    {
     "name": "stderr",
     "output_type": "stream",
     "text": [
      "                                                      \r"
     ]
    },
    {
     "name": "stdout",
     "output_type": "stream",
     "text": [
      "{'epoch': 0, 'iter': 2900, 'avg_loss': 0.13088681586587564, 'avg_acc': 0.7546606494491982, 'loss': 0.11792612820863724}\n"
     ]
    },
    {
     "name": "stderr",
     "output_type": "stream",
     "text": [
      "                                                      \r"
     ]
    },
    {
     "name": "stdout",
     "output_type": "stream",
     "text": [
      "{'epoch': 0, 'iter': 3000, 'avg_loss': 0.13060081011551453, 'avg_acc': 0.7546687833232428, 'loss': 0.12652848660945892}\n"
     ]
    },
    {
     "name": "stderr",
     "output_type": "stream",
     "text": [
      "                                                      \r"
     ]
    },
    {
     "name": "stdout",
     "output_type": "stream",
     "text": [
      "{'epoch': 0, 'iter': 3100, 'avg_loss': 0.13027382789072164, 'avg_acc': 0.7546861876752522, 'loss': 0.1069667711853981}\n"
     ]
    },
    {
     "name": "stderr",
     "output_type": "stream",
     "text": [
      "                                                      \r"
     ]
    },
    {
     "name": "stdout",
     "output_type": "stream",
     "text": [
      "{'epoch': 0, 'iter': 3200, 'avg_loss': 0.12993182786104643, 'avg_acc': 0.7547074353385813, 'loss': 0.11970771849155426}\n"
     ]
    },
    {
     "name": "stderr",
     "output_type": "stream",
     "text": [
      "                                                      \r"
     ]
    },
    {
     "name": "stdout",
     "output_type": "stream",
     "text": [
      "{'epoch': 0, 'iter': 3300, 'avg_loss': 0.12963794164813242, 'avg_acc': 0.7547240010249691, 'loss': 0.12228089570999146}\n"
     ]
    },
    {
     "name": "stderr",
     "output_type": "stream",
     "text": [
      "                                                      \r"
     ]
    },
    {
     "name": "stdout",
     "output_type": "stream",
     "text": [
      "{'epoch': 0, 'iter': 3400, 'avg_loss': 0.1293012507411004, 'avg_acc': 0.7547505846166569, 'loss': 0.11957265436649323}\n"
     ]
    },
    {
     "name": "stderr",
     "output_type": "stream",
     "text": [
      "                                                      \r"
     ]
    },
    {
     "name": "stdout",
     "output_type": "stream",
     "text": [
      "{'epoch': 0, 'iter': 3500, 'avg_loss': 0.12905352180879548, 'avg_acc': 0.7547608037500237, 'loss': 0.0859709233045578}\n"
     ]
    },
    {
     "name": "stderr",
     "output_type": "stream",
     "text": [
      "                                                      \r"
     ]
    },
    {
     "name": "stdout",
     "output_type": "stream",
     "text": [
      "{'epoch': 0, 'iter': 3600, 'avg_loss': 0.1287773732686665, 'avg_acc': 0.7547789168205569, 'loss': 0.1309727281332016}\n"
     ]
    },
    {
     "name": "stderr",
     "output_type": "stream",
     "text": [
      "                                                      \r"
     ]
    },
    {
     "name": "stdout",
     "output_type": "stream",
     "text": [
      "{'epoch': 0, 'iter': 3700, 'avg_loss': 0.12850879207837262, 'avg_acc': 0.7547979707880235, 'loss': 0.12619277834892273}\n"
     ]
    },
    {
     "name": "stderr",
     "output_type": "stream",
     "text": [
      "                                                      \r"
     ]
    },
    {
     "name": "stdout",
     "output_type": "stream",
     "text": [
      "{'epoch': 0, 'iter': 3800, 'avg_loss': 0.12823687278183157, 'avg_acc': 0.7548195473365613, 'loss': 0.11586001515388489}\n"
     ]
    },
    {
     "name": "stderr",
     "output_type": "stream",
     "text": [
      "                                                      \r"
     ]
    },
    {
     "name": "stdout",
     "output_type": "stream",
     "text": [
      "{'epoch': 0, 'iter': 3900, 'avg_loss': 0.12798001199303696, 'avg_acc': 0.7548369129203399, 'loss': 0.1187761053442955}\n"
     ]
    },
    {
     "name": "stderr",
     "output_type": "stream",
     "text": [
      "                                                      \r"
     ]
    },
    {
     "name": "stdout",
     "output_type": "stream",
     "text": [
      "{'epoch': 0, 'iter': 4000, 'avg_loss': 0.127708505575611, 'avg_acc': 0.7548618721860673, 'loss': 0.12080484628677368}\n"
     ]
    },
    {
     "name": "stderr",
     "output_type": "stream",
     "text": [
      "                                                      \r"
     ]
    },
    {
     "name": "stdout",
     "output_type": "stream",
     "text": [
      "{'epoch': 0, 'iter': 4100, 'avg_loss': 0.12742567695704532, 'avg_acc': 0.7548899744755174, 'loss': 0.11934375017881393}\n"
     ]
    },
    {
     "name": "stderr",
     "output_type": "stream",
     "text": [
      "                                                      \r"
     ]
    },
    {
     "name": "stdout",
     "output_type": "stream",
     "text": [
      "{'epoch': 0, 'iter': 4200, 'avg_loss': 0.1271878767122799, 'avg_acc': 0.7549086572782847, 'loss': 0.12944120168685913}\n"
     ]
    },
    {
     "name": "stderr",
     "output_type": "stream",
     "text": [
      "                                                      \r"
     ]
    },
    {
     "name": "stdout",
     "output_type": "stream",
     "text": [
      "{'epoch': 0, 'iter': 4300, 'avg_loss': 0.1269489478227206, 'avg_acc': 0.7549270256484173, 'loss': 0.11861283332109451}\n"
     ]
    },
    {
     "name": "stderr",
     "output_type": "stream",
     "text": [
      "                                                      \r"
     ]
    },
    {
     "name": "stdout",
     "output_type": "stream",
     "text": [
      "{'epoch': 0, 'iter': 4400, 'avg_loss': 0.12671065752721866, 'avg_acc': 0.7549509409475641, 'loss': 0.1049809679389}\n"
     ]
    },
    {
     "name": "stderr",
     "output_type": "stream",
     "text": [
      "                                                      \r"
     ]
    },
    {
     "name": "stdout",
     "output_type": "stream",
     "text": [
      "{'epoch': 0, 'iter': 4500, 'avg_loss': 0.1264722993644151, 'avg_acc': 0.7549744398163255, 'loss': 0.1219373270869255}\n"
     ]
    },
    {
     "name": "stderr",
     "output_type": "stream",
     "text": [
      "                                                      \r"
     ]
    },
    {
     "name": "stdout",
     "output_type": "stream",
     "text": [
      "{'epoch': 0, 'iter': 4600, 'avg_loss': 0.12625887726531343, 'avg_acc': 0.7549934557172895, 'loss': 0.1244179829955101}\n"
     ]
    },
    {
     "name": "stderr",
     "output_type": "stream",
     "text": [
      "                                                      \r"
     ]
    },
    {
     "name": "stdout",
     "output_type": "stream",
     "text": [
      "{'epoch': 0, 'iter': 4700, 'avg_loss': 0.12605279321126345, 'avg_acc': 0.7550122712019073, 'loss': 0.13258056342601776}\n"
     ]
    },
    {
     "name": "stderr",
     "output_type": "stream",
     "text": [
      "                                                      \r"
     ]
    },
    {
     "name": "stdout",
     "output_type": "stream",
     "text": [
      "{'epoch': 0, 'iter': 4800, 'avg_loss': 0.12585542111397038, 'avg_acc': 0.7550324283274877, 'loss': 0.11600080132484436}\n"
     ]
    },
    {
     "name": "stderr",
     "output_type": "stream",
     "text": [
      "                                                      \r"
     ]
    },
    {
     "name": "stdout",
     "output_type": "stream",
     "text": [
      "{'epoch': 0, 'iter': 4900, 'avg_loss': 0.1256197716609796, 'avg_acc': 0.75505944909526, 'loss': 0.09763708710670471}\n"
     ]
    },
    {
     "name": "stderr",
     "output_type": "stream",
     "text": [
      "                                                      \r"
     ]
    },
    {
     "name": "stdout",
     "output_type": "stream",
     "text": [
      "{'epoch': 0, 'iter': 5000, 'avg_loss': 0.12540729915981316, 'avg_acc': 0.7550833964676792, 'loss': 0.11712465435266495}\n"
     ]
    },
    {
     "name": "stderr",
     "output_type": "stream",
     "text": [
      "                                                      \r"
     ]
    },
    {
     "name": "stdout",
     "output_type": "stream",
     "text": [
      "{'epoch': 0, 'iter': 5100, 'avg_loss': 0.12520363502287674, 'avg_acc': 0.7551062646928288, 'loss': 0.11308625340461731}\n"
     ]
    },
    {
     "name": "stderr",
     "output_type": "stream",
     "text": [
      "                                                      \r"
     ]
    },
    {
     "name": "stdout",
     "output_type": "stream",
     "text": [
      "{'epoch': 0, 'iter': 5200, 'avg_loss': 0.12497560177524832, 'avg_acc': 0.7551331218447371, 'loss': 0.11620582640171051}\n"
     ]
    },
    {
     "name": "stderr",
     "output_type": "stream",
     "text": [
      "                                                      \r"
     ]
    },
    {
     "name": "stdout",
     "output_type": "stream",
     "text": [
      "{'epoch': 0, 'iter': 5300, 'avg_loss': 0.12475565485719509, 'avg_acc': 0.7551628066737389, 'loss': 0.11228800565004349}\n"
     ]
    },
    {
     "name": "stderr",
     "output_type": "stream",
     "text": [
      "                                                      \r"
     ]
    },
    {
     "name": "stdout",
     "output_type": "stream",
     "text": [
      "{'epoch': 0, 'iter': 5400, 'avg_loss': 0.12452208688194676, 'avg_acc': 0.755194561765318, 'loss': 0.12277583032846451}\n"
     ]
    },
    {
     "name": "stderr",
     "output_type": "stream",
     "text": [
      "                                                      \r"
     ]
    },
    {
     "name": "stdout",
     "output_type": "stream",
     "text": [
      "{'epoch': 0, 'iter': 5500, 'avg_loss': 0.12430577484087996, 'avg_acc': 0.7552240354714448, 'loss': 0.10757356882095337}\n"
     ]
    },
    {
     "name": "stderr",
     "output_type": "stream",
     "text": [
      "                                                      \r"
     ]
    },
    {
     "name": "stdout",
     "output_type": "stream",
     "text": [
      "{'epoch': 0, 'iter': 5600, 'avg_loss': 0.12408934673136461, 'avg_acc': 0.7552535805057743, 'loss': 0.11079442501068115}\n"
     ]
    },
    {
     "name": "stderr",
     "output_type": "stream",
     "text": [
      "                                                      \r"
     ]
    },
    {
     "name": "stdout",
     "output_type": "stream",
     "text": [
      "{'epoch': 0, 'iter': 5700, 'avg_loss': 0.1238796689208297, 'avg_acc': 0.7552825908998798, 'loss': 0.11210567504167557}\n"
     ]
    },
    {
     "name": "stderr",
     "output_type": "stream",
     "text": [
      "                                                      \r"
     ]
    },
    {
     "name": "stdout",
     "output_type": "stream",
     "text": [
      "{'epoch': 0, 'iter': 5800, 'avg_loss': 0.1236773318675464, 'avg_acc': 0.7553118751945423, 'loss': 0.11918868124485016}\n"
     ]
    },
    {
     "name": "stderr",
     "output_type": "stream",
     "text": [
      "                                                      \r"
     ]
    },
    {
     "name": "stdout",
     "output_type": "stream",
     "text": [
      "{'epoch': 0, 'iter': 5900, 'avg_loss': 0.12345157178468248, 'avg_acc': 0.7553486920194976, 'loss': 0.11203055083751678}\n"
     ]
    },
    {
     "name": "stderr",
     "output_type": "stream",
     "text": [
      "                                                      \r"
     ]
    },
    {
     "name": "stdout",
     "output_type": "stream",
     "text": [
      "{'epoch': 0, 'iter': 6000, 'avg_loss': 0.12326451731044001, 'avg_acc': 0.7553758432101934, 'loss': 0.1166946068406105}\n"
     ]
    },
    {
     "name": "stderr",
     "output_type": "stream",
     "text": [
      "                                                      \r"
     ]
    },
    {
     "name": "stdout",
     "output_type": "stream",
     "text": [
      "{'epoch': 0, 'iter': 6100, 'avg_loss': 0.12305527556931224, 'avg_acc': 0.7554092791760052, 'loss': 0.10127455741167068}\n"
     ]
    },
    {
     "name": "stderr",
     "output_type": "stream",
     "text": [
      "                                                      \r"
     ]
    },
    {
     "name": "stdout",
     "output_type": "stream",
     "text": [
      "{'epoch': 0, 'iter': 6200, 'avg_loss': 0.12285890975818964, 'avg_acc': 0.7554394451769451, 'loss': 0.11115330457687378}\n"
     ]
    },
    {
     "name": "stderr",
     "output_type": "stream",
     "text": [
      "                                                      \r"
     ]
    },
    {
     "name": "stdout",
     "output_type": "stream",
     "text": [
      "{'epoch': 0, 'iter': 6300, 'avg_loss': 0.12268963573925307, 'avg_acc': 0.7554657779748697, 'loss': 0.1121760681271553}\n"
     ]
    },
    {
     "name": "stderr",
     "output_type": "stream",
     "text": [
      "                                                      \r"
     ]
    },
    {
     "name": "stdout",
     "output_type": "stream",
     "text": [
      "{'epoch': 0, 'iter': 6400, 'avg_loss': 0.12250809488101334, 'avg_acc': 0.7554952808887283, 'loss': 0.12331507354974747}\n"
     ]
    },
    {
     "name": "stderr",
     "output_type": "stream",
     "text": [
      "                                                      \r"
     ]
    },
    {
     "name": "stdout",
     "output_type": "stream",
     "text": [
      "{'epoch': 0, 'iter': 6500, 'avg_loss': 0.12229372759362107, 'avg_acc': 0.7555321938550357, 'loss': 0.11576683819293976}\n"
     ]
    },
    {
     "name": "stderr",
     "output_type": "stream",
     "text": [
      "                                                      \r"
     ]
    },
    {
     "name": "stdout",
     "output_type": "stream",
     "text": [
      "{'epoch': 0, 'iter': 6600, 'avg_loss': 0.1221098457310005, 'avg_acc': 0.7555638131111467, 'loss': 0.11332907527685165}\n"
     ]
    },
    {
     "name": "stderr",
     "output_type": "stream",
     "text": [
      "                                                      \r"
     ]
    },
    {
     "name": "stdout",
     "output_type": "stream",
     "text": [
      "{'epoch': 0, 'iter': 6700, 'avg_loss': 0.12191598674060337, 'avg_acc': 0.7555969436388197, 'loss': 0.11259106546640396}\n"
     ]
    },
    {
     "name": "stderr",
     "output_type": "stream",
     "text": [
      "                                                      \r"
     ]
    },
    {
     "name": "stdout",
     "output_type": "stream",
     "text": [
      "{'epoch': 0, 'iter': 6800, 'avg_loss': 0.12173336772682246, 'avg_acc': 0.7556275714234278, 'loss': 0.101250559091568}\n"
     ]
    },
    {
     "name": "stderr",
     "output_type": "stream",
     "text": [
      "                                                      \r"
     ]
    },
    {
     "name": "stdout",
     "output_type": "stream",
     "text": [
      "{'epoch': 0, 'iter': 6900, 'avg_loss': 0.12154051303915347, 'avg_acc': 0.7556632815400961, 'loss': 0.09096652269363403}\n"
     ]
    },
    {
     "name": "stderr",
     "output_type": "stream",
     "text": [
      "                                                      \r"
     ]
    },
    {
     "name": "stdout",
     "output_type": "stream",
     "text": [
      "{'epoch': 0, 'iter': 7000, 'avg_loss': 0.12133532890552726, 'avg_acc': 0.755698468715459, 'loss': 0.10560303926467896}\n"
     ]
    },
    {
     "name": "stderr",
     "output_type": "stream",
     "text": [
      "                                                      \r"
     ]
    },
    {
     "name": "stdout",
     "output_type": "stream",
     "text": [
      "{'epoch': 0, 'iter': 7100, 'avg_loss': 0.12120294191941058, 'avg_acc': 0.7557195838849791, 'loss': 0.11418378353118896}\n"
     ]
    },
    {
     "name": "stderr",
     "output_type": "stream",
     "text": [
      "                                                      \r"
     ]
    },
    {
     "name": "stdout",
     "output_type": "stream",
     "text": [
      "{'epoch': 0, 'iter': 7200, 'avg_loss': 0.12099243682501233, 'avg_acc': 0.7557605541575172, 'loss': 0.10313649475574493}\n"
     ]
    },
    {
     "name": "stderr",
     "output_type": "stream",
     "text": [
      "                                                      \r"
     ]
    },
    {
     "name": "stdout",
     "output_type": "stream",
     "text": [
      "{'epoch': 0, 'iter': 7300, 'avg_loss': 0.12080272215696218, 'avg_acc': 0.7557968883673764, 'loss': 0.10322147607803345}\n"
     ]
    },
    {
     "name": "stderr",
     "output_type": "stream",
     "text": [
      "                                                      \r"
     ]
    },
    {
     "name": "stdout",
     "output_type": "stream",
     "text": [
      "{'epoch': 0, 'iter': 7400, 'avg_loss': 0.12060899803194222, 'avg_acc': 0.7558345214819009, 'loss': 0.10917773097753525}\n"
     ]
    },
    {
     "name": "stderr",
     "output_type": "stream",
     "text": [
      "                                                      \r"
     ]
    },
    {
     "name": "stdout",
     "output_type": "stream",
     "text": [
      "{'epoch': 0, 'iter': 7500, 'avg_loss': 0.12042488446395852, 'avg_acc': 0.7558694729374625, 'loss': 0.11956381052732468}\n"
     ]
    },
    {
     "name": "stderr",
     "output_type": "stream",
     "text": [
      "                                                      \r"
     ]
    },
    {
     "name": "stdout",
     "output_type": "stream",
     "text": [
      "{'epoch': 0, 'iter': 7600, 'avg_loss': 0.12024274603494954, 'avg_acc': 0.7559054996634514, 'loss': 0.09100145101547241}\n"
     ]
    },
    {
     "name": "stderr",
     "output_type": "stream",
     "text": [
      "                                                      \r"
     ]
    },
    {
     "name": "stdout",
     "output_type": "stream",
     "text": [
      "{'epoch': 0, 'iter': 7700, 'avg_loss': 0.12007159875663995, 'avg_acc': 0.7559382254512972, 'loss': 0.1070605143904686}\n"
     ]
    },
    {
     "name": "stderr",
     "output_type": "stream",
     "text": [
      "                                                      \r"
     ]
    },
    {
     "name": "stdout",
     "output_type": "stream",
     "text": [
      "{'epoch': 0, 'iter': 7800, 'avg_loss': 0.1198866978706022, 'avg_acc': 0.7559760169117379, 'loss': 0.10087554156780243}\n"
     ]
    },
    {
     "name": "stderr",
     "output_type": "stream",
     "text": [
      "                                                      \r"
     ]
    },
    {
     "name": "stdout",
     "output_type": "stream",
     "text": [
      "{'epoch': 0, 'iter': 7900, 'avg_loss': 0.11970206975103284, 'avg_acc': 0.7560132017861045, 'loss': 0.10921834409236908}\n"
     ]
    },
    {
     "name": "stderr",
     "output_type": "stream",
     "text": [
      "                                                      \r"
     ]
    },
    {
     "name": "stdout",
     "output_type": "stream",
     "text": [
      "{'epoch': 0, 'iter': 8000, 'avg_loss': 0.11952022375922369, 'avg_acc': 0.7560496299866661, 'loss': 0.10029669851064682}\n"
     ]
    },
    {
     "name": "stderr",
     "output_type": "stream",
     "text": [
      "                                                      \r"
     ]
    },
    {
     "name": "stdout",
     "output_type": "stream",
     "text": [
      "{'epoch': 0, 'iter': 8100, 'avg_loss': 0.11936504572148, 'avg_acc': 0.7560801144044145, 'loss': 0.10553261637687683}\n"
     ]
    },
    {
     "name": "stderr",
     "output_type": "stream",
     "text": [
      "                                                      \r"
     ]
    },
    {
     "name": "stdout",
     "output_type": "stream",
     "text": [
      "{'epoch': 0, 'iter': 8200, 'avg_loss': 0.11920752830566277, 'avg_acc': 0.7561113380568883, 'loss': 0.08677563071250916}\n"
     ]
    },
    {
     "name": "stderr",
     "output_type": "stream",
     "text": [
      "                                                      \r"
     ]
    },
    {
     "name": "stdout",
     "output_type": "stream",
     "text": [
      "{'epoch': 0, 'iter': 8300, 'avg_loss': 0.1190501819937477, 'avg_acc': 0.7561436476096836, 'loss': 0.10695136338472366}\n"
     ]
    },
    {
     "name": "stderr",
     "output_type": "stream",
     "text": [
      "                                                      \r"
     ]
    },
    {
     "name": "stdout",
     "output_type": "stream",
     "text": [
      "{'epoch': 0, 'iter': 8400, 'avg_loss': 0.11889963208610935, 'avg_acc': 0.7561744784843409, 'loss': 0.1002187728881836}\n"
     ]
    },
    {
     "name": "stderr",
     "output_type": "stream",
     "text": [
      "                                                      \r"
     ]
    },
    {
     "name": "stdout",
     "output_type": "stream",
     "text": [
      "{'epoch': 0, 'iter': 8500, 'avg_loss': 0.11872146926481097, 'avg_acc': 0.7562111916366486, 'loss': 0.10920249670743942}\n"
     ]
    },
    {
     "name": "stderr",
     "output_type": "stream",
     "text": [
      "                                                      \r"
     ]
    },
    {
     "name": "stdout",
     "output_type": "stream",
     "text": [
      "{'epoch': 0, 'iter': 8600, 'avg_loss': 0.11854013040230421, 'avg_acc': 0.756250028207737, 'loss': 0.10404020547866821}\n"
     ]
    },
    {
     "name": "stderr",
     "output_type": "stream",
     "text": [
      "                                                      \r"
     ]
    },
    {
     "name": "stdout",
     "output_type": "stream",
     "text": [
      "{'epoch': 0, 'iter': 8700, 'avg_loss': 0.11836883545850094, 'avg_acc': 0.7562860868783015, 'loss': 0.10145155340433121}\n"
     ]
    },
    {
     "name": "stderr",
     "output_type": "stream",
     "text": [
      "                                                      \r"
     ]
    },
    {
     "name": "stdout",
     "output_type": "stream",
     "text": [
      "{'epoch': 0, 'iter': 8800, 'avg_loss': 0.1181897678792497, 'avg_acc': 0.7563258664010127, 'loss': 0.08674938231706619}\n"
     ]
    },
    {
     "name": "stderr",
     "output_type": "stream",
     "text": [
      "                                                      \r"
     ]
    },
    {
     "name": "stdout",
     "output_type": "stream",
     "text": [
      "{'epoch': 0, 'iter': 8900, 'avg_loss': 0.11803195735448238, 'avg_acc': 0.7563597324818336, 'loss': 0.1118120327591896}\n"
     ]
    },
    {
     "name": "stderr",
     "output_type": "stream",
     "text": [
      "                                                      \r"
     ]
    },
    {
     "name": "stdout",
     "output_type": "stream",
     "text": [
      "{'epoch': 0, 'iter': 9000, 'avg_loss': 0.11787625047852232, 'avg_acc': 0.7563936565998011, 'loss': 0.09754858911037445}\n"
     ]
    },
    {
     "name": "stderr",
     "output_type": "stream",
     "text": [
      "                                                      \r"
     ]
    },
    {
     "name": "stdout",
     "output_type": "stream",
     "text": [
      "{'epoch': 0, 'iter': 9100, 'avg_loss': 0.11770932570406008, 'avg_acc': 0.7564304608746474, 'loss': 0.09700588881969452}\n"
     ]
    },
    {
     "name": "stderr",
     "output_type": "stream",
     "text": [
      "                                                      \r"
     ]
    },
    {
     "name": "stdout",
     "output_type": "stream",
     "text": [
      "{'epoch': 0, 'iter': 9200, 'avg_loss': 0.11753673793430394, 'avg_acc': 0.7564682219938252, 'loss': 0.09833085536956787}\n"
     ]
    },
    {
     "name": "stderr",
     "output_type": "stream",
     "text": [
      "                                                      \r"
     ]
    },
    {
     "name": "stdout",
     "output_type": "stream",
     "text": [
      "{'epoch': 0, 'iter': 9300, 'avg_loss': 0.11737763172912925, 'avg_acc': 0.7565037971695909, 'loss': 0.10200539976358414}\n"
     ]
    },
    {
     "name": "stderr",
     "output_type": "stream",
     "text": [
      "                                                      \r"
     ]
    },
    {
     "name": "stdout",
     "output_type": "stream",
     "text": [
      "{'epoch': 0, 'iter': 9400, 'avg_loss': 0.1172204043650016, 'avg_acc': 0.7565384937745309, 'loss': 0.0940345972776413}\n"
     ]
    },
    {
     "name": "stderr",
     "output_type": "stream",
     "text": [
      "                                                      \r"
     ]
    },
    {
     "name": "stdout",
     "output_type": "stream",
     "text": [
      "{'epoch': 0, 'iter': 9500, 'avg_loss': 0.11705346751568782, 'avg_acc': 0.7565747234849174, 'loss': 0.11192771792411804}\n"
     ]
    },
    {
     "name": "stderr",
     "output_type": "stream",
     "text": [
      "                                                      \r"
     ]
    },
    {
     "name": "stdout",
     "output_type": "stream",
     "text": [
      "{'epoch': 0, 'iter': 9600, 'avg_loss': 0.11690064422097905, 'avg_acc': 0.7566089270549718, 'loss': 0.10689074546098709}\n"
     ]
    },
    {
     "name": "stderr",
     "output_type": "stream",
     "text": [
      "                                                      \r"
     ]
    },
    {
     "name": "stdout",
     "output_type": "stream",
     "text": [
      "{'epoch': 0, 'iter': 9700, 'avg_loss': 0.11674731566468265, 'avg_acc': 0.7566426466597858, 'loss': 0.10677316784858704}\n"
     ]
    },
    {
     "name": "stderr",
     "output_type": "stream",
     "text": [
      "                                                      \r"
     ]
    },
    {
     "name": "stdout",
     "output_type": "stream",
     "text": [
      "{'epoch': 0, 'iter': 9800, 'avg_loss': 0.11659220670856464, 'avg_acc': 0.7566773761305173, 'loss': 0.0922844260931015}\n"
     ]
    },
    {
     "name": "stderr",
     "output_type": "stream",
     "text": [
      "                                                      \r"
     ]
    },
    {
     "name": "stdout",
     "output_type": "stream",
     "text": [
      "{'epoch': 0, 'iter': 9900, 'avg_loss': 0.11644945448455805, 'avg_acc': 0.7567079943029005, 'loss': 0.10342154651880264}\n"
     ]
    },
    {
     "name": "stderr",
     "output_type": "stream",
     "text": [
      "                                                      \r"
     ]
    },
    {
     "name": "stdout",
     "output_type": "stream",
     "text": [
      "{'epoch': 0, 'iter': 10000, 'avg_loss': 0.11630429293963686, 'avg_acc': 0.7567399550099312, 'loss': 0.11023253202438354}\n"
     ]
    },
    {
     "name": "stderr",
     "output_type": "stream",
     "text": [
      "                                                       \r"
     ]
    },
    {
     "name": "stdout",
     "output_type": "stream",
     "text": [
      "{'epoch': 0, 'iter': 10100, 'avg_loss': 0.11615349675874735, 'avg_acc': 0.7567736243578529, 'loss': 0.08974181115627289}\n"
     ]
    },
    {
     "name": "stderr",
     "output_type": "stream",
     "text": [
      "                                                       \r"
     ]
    },
    {
     "name": "stdout",
     "output_type": "stream",
     "text": [
      "{'epoch': 0, 'iter': 10200, 'avg_loss': 0.11599181823482842, 'avg_acc': 0.7568079284003828, 'loss': 0.10534709692001343}\n"
     ]
    },
    {
     "name": "stderr",
     "output_type": "stream",
     "text": [
      "                                                       \r"
     ]
    },
    {
     "name": "stdout",
     "output_type": "stream",
     "text": [
      "{'epoch': 0, 'iter': 10300, 'avg_loss': 0.11583030361054002, 'avg_acc': 0.7568444271548699, 'loss': 0.09615160524845123}\n"
     ]
    },
    {
     "name": "stderr",
     "output_type": "stream",
     "text": [
      "                                                       \r"
     ]
    },
    {
     "name": "stdout",
     "output_type": "stream",
     "text": [
      "{'epoch': 0, 'iter': 10400, 'avg_loss': 0.11568423802492057, 'avg_acc': 0.7568757037293072, 'loss': 0.09323802590370178}\n"
     ]
    },
    {
     "name": "stderr",
     "output_type": "stream",
     "text": [
      "                                                       \r"
     ]
    },
    {
     "name": "stdout",
     "output_type": "stream",
     "text": [
      "{'epoch': 0, 'iter': 10500, 'avg_loss': 0.11551734767077299, 'avg_acc': 0.7569132958261323, 'loss': 0.11683249473571777}\n"
     ]
    },
    {
     "name": "stderr",
     "output_type": "stream",
     "text": [
      "                                                       \r"
     ]
    },
    {
     "name": "stdout",
     "output_type": "stream",
     "text": [
      "{'epoch': 0, 'iter': 10600, 'avg_loss': 0.11537326367092451, 'avg_acc': 0.7569457526342361, 'loss': 0.09174921363592148}\n"
     ]
    },
    {
     "name": "stderr",
     "output_type": "stream",
     "text": [
      "                                                       \r"
     ]
    },
    {
     "name": "stdout",
     "output_type": "stream",
     "text": [
      "{'epoch': 0, 'iter': 10700, 'avg_loss': 0.11525502371424304, 'avg_acc': 0.7569715872221757, 'loss': 0.09802934527397156}\n"
     ]
    },
    {
     "name": "stderr",
     "output_type": "stream",
     "text": [
      "                                                       \r"
     ]
    },
    {
     "name": "stdout",
     "output_type": "stream",
     "text": [
      "{'epoch': 0, 'iter': 10800, 'avg_loss': 0.11510166549845963, 'avg_acc': 0.7570058921345648, 'loss': 0.09211859107017517}\n"
     ]
    },
    {
     "name": "stderr",
     "output_type": "stream",
     "text": [
      "                                                       \r"
     ]
    },
    {
     "name": "stdout",
     "output_type": "stream",
     "text": [
      "{'epoch': 0, 'iter': 10900, 'avg_loss': 0.11494582238060412, 'avg_acc': 0.7570405956058697, 'loss': 0.08601070195436478}\n"
     ]
    },
    {
     "name": "stderr",
     "output_type": "stream",
     "text": [
      "                                                       \r"
     ]
    },
    {
     "name": "stdout",
     "output_type": "stream",
     "text": [
      "{'epoch': 0, 'iter': 11000, 'avg_loss': 0.11480809778378731, 'avg_acc': 0.7570714259643943, 'loss': 0.10339472442865372}\n"
     ]
    },
    {
     "name": "stderr",
     "output_type": "stream",
     "text": [
      "                                                       \r"
     ]
    },
    {
     "name": "stdout",
     "output_type": "stream",
     "text": [
      "{'epoch': 0, 'iter': 11100, 'avg_loss': 0.11468657595573185, 'avg_acc': 0.7570986940607103, 'loss': 0.08861679583787918}\n"
     ]
    },
    {
     "name": "stderr",
     "output_type": "stream",
     "text": [
      "                                                       \r"
     ]
    },
    {
     "name": "stdout",
     "output_type": "stream",
     "text": [
      "{'epoch': 0, 'iter': 11200, 'avg_loss': 0.11456527933445097, 'avg_acc': 0.7571258839512816, 'loss': 0.09444498270750046}\n"
     ]
    },
    {
     "name": "stderr",
     "output_type": "stream",
     "text": [
      "                                                       \r"
     ]
    },
    {
     "name": "stdout",
     "output_type": "stream",
     "text": [
      "{'epoch': 0, 'iter': 11300, 'avg_loss': 0.11442606024916811, 'avg_acc': 0.7571576601762116, 'loss': 0.08340657502412796}\n"
     ]
    },
    {
     "name": "stderr",
     "output_type": "stream",
     "text": [
      "                                                       \r"
     ]
    },
    {
     "name": "stdout",
     "output_type": "stream",
     "text": [
      "{'epoch': 0, 'iter': 11400, 'avg_loss': 0.11428739866798107, 'avg_acc': 0.757187879375173, 'loss': 0.10274304449558258}\n"
     ]
    },
    {
     "name": "stderr",
     "output_type": "stream",
     "text": [
      "                                                       \r"
     ]
    },
    {
     "name": "stdout",
     "output_type": "stream",
     "text": [
      "{'epoch': 0, 'iter': 11500, 'avg_loss': 0.11414679918338108, 'avg_acc': 0.7572192895330561, 'loss': 0.11727585643529892}\n"
     ]
    },
    {
     "name": "stderr",
     "output_type": "stream",
     "text": [
      "                                                       \r"
     ]
    },
    {
     "name": "stdout",
     "output_type": "stream",
     "text": [
      "{'epoch': 0, 'iter': 11600, 'avg_loss': 0.11401557072171177, 'avg_acc': 0.7572487688981174, 'loss': 0.10514870285987854}\n"
     ]
    },
    {
     "name": "stderr",
     "output_type": "stream",
     "text": [
      "                                                       \r"
     ]
    },
    {
     "name": "stdout",
     "output_type": "stream",
     "text": [
      "{'epoch': 0, 'iter': 11700, 'avg_loss': 0.11388999420909757, 'avg_acc': 0.7572771127321162, 'loss': 0.10918369889259338}\n"
     ]
    },
    {
     "name": "stderr",
     "output_type": "stream",
     "text": [
      "                                                       \r"
     ]
    },
    {
     "name": "stdout",
     "output_type": "stream",
     "text": [
      "{'epoch': 0, 'iter': 11800, 'avg_loss': 0.11375800098059956, 'avg_acc': 0.7573068874305148, 'loss': 0.11260082572698593}\n"
     ]
    },
    {
     "name": "stderr",
     "output_type": "stream",
     "text": [
      "                                                       \r"
     ]
    },
    {
     "name": "stdout",
     "output_type": "stream",
     "text": [
      "{'epoch': 0, 'iter': 11900, 'avg_loss': 0.11362225351293752, 'avg_acc': 0.7573376602610062, 'loss': 0.09459137916564941}\n"
     ]
    },
    {
     "name": "stderr",
     "output_type": "stream",
     "text": [
      "                                                       \r"
     ]
    },
    {
     "name": "stdout",
     "output_type": "stream",
     "text": [
      "{'epoch': 0, 'iter': 12000, 'avg_loss': 0.11350485602772918, 'avg_acc': 0.7573636966232021, 'loss': 0.10649165511131287}\n"
     ]
    },
    {
     "name": "stderr",
     "output_type": "stream",
     "text": [
      "                                                       \r"
     ]
    },
    {
     "name": "stdout",
     "output_type": "stream",
     "text": [
      "{'epoch': 0, 'iter': 12100, 'avg_loss': 0.11337445522894417, 'avg_acc': 0.757392202859161, 'loss': 0.09437194466590881}\n"
     ]
    },
    {
     "name": "stderr",
     "output_type": "stream",
     "text": [
      "                                                       \r"
     ]
    },
    {
     "name": "stdout",
     "output_type": "stream",
     "text": [
      "{'epoch': 0, 'iter': 12200, 'avg_loss': 0.11326569005689428, 'avg_acc': 0.7574155324600279, 'loss': 0.0935046523809433}\n"
     ]
    },
    {
     "name": "stderr",
     "output_type": "stream",
     "text": [
      "                                                       \r"
     ]
    },
    {
     "name": "stdout",
     "output_type": "stream",
     "text": [
      "{'epoch': 0, 'iter': 12300, 'avg_loss': 0.1131432636465089, 'avg_acc': 0.7574421420793942, 'loss': 0.0965500995516777}\n"
     ]
    },
    {
     "name": "stderr",
     "output_type": "stream",
     "text": [
      "                                                       \r"
     ]
    },
    {
     "name": "stdout",
     "output_type": "stream",
     "text": [
      "{'epoch': 0, 'iter': 12400, 'avg_loss': 0.11301784383360008, 'avg_acc': 0.7574700797799037, 'loss': 0.09984453022480011}\n"
     ]
    },
    {
     "name": "stderr",
     "output_type": "stream",
     "text": [
      "                                                       \r"
     ]
    },
    {
     "name": "stdout",
     "output_type": "stream",
     "text": [
      "{'epoch': 0, 'iter': 12500, 'avg_loss': 0.11290388936131451, 'avg_acc': 0.7574955679571025, 'loss': 0.09662211686372757}\n"
     ]
    },
    {
     "name": "stderr",
     "output_type": "stream",
     "text": [
      "                                                       \r"
     ]
    },
    {
     "name": "stdout",
     "output_type": "stream",
     "text": [
      "{'epoch': 0, 'iter': 12600, 'avg_loss': 0.11278307565374324, 'avg_acc': 0.7575228009732146, 'loss': 0.10882196575403214}\n"
     ]
    },
    {
     "name": "stderr",
     "output_type": "stream",
     "text": [
      "                                                       \r"
     ]
    },
    {
     "name": "stdout",
     "output_type": "stream",
     "text": [
      "{'epoch': 0, 'iter': 12700, 'avg_loss': 0.11266755509138127, 'avg_acc': 0.7575484150348241, 'loss': 0.0973634123802185}\n"
     ]
    },
    {
     "name": "stderr",
     "output_type": "stream",
     "text": [
      "                                                       \r"
     ]
    },
    {
     "name": "stdout",
     "output_type": "stream",
     "text": [
      "{'epoch': 0, 'iter': 12800, 'avg_loss': 0.1125414200076488, 'avg_acc': 0.7575774358572527, 'loss': 0.1076808050274849}\n"
     ]
    },
    {
     "name": "stderr",
     "output_type": "stream",
     "text": [
      "                                                       \r"
     ]
    },
    {
     "name": "stdout",
     "output_type": "stream",
     "text": [
      "{'epoch': 0, 'iter': 12900, 'avg_loss': 0.11241548048642318, 'avg_acc': 0.7576051899355776, 'loss': 0.0847194567322731}\n"
     ]
    },
    {
     "name": "stderr",
     "output_type": "stream",
     "text": [
      "                                                       \r"
     ]
    },
    {
     "name": "stdout",
     "output_type": "stream",
     "text": [
      "{'epoch': 0, 'iter': 13000, 'avg_loss': 0.11229828997968518, 'avg_acc': 0.7576312443704093, 'loss': 0.09761401265859604}\n"
     ]
    },
    {
     "name": "stderr",
     "output_type": "stream",
     "text": [
      "                                                       \r"
     ]
    },
    {
     "name": "stdout",
     "output_type": "stream",
     "text": [
      "{'epoch': 0, 'iter': 13100, 'avg_loss': 0.11219066897211398, 'avg_acc': 0.7576552741118637, 'loss': 0.08994071185588837}\n"
     ]
    },
    {
     "name": "stderr",
     "output_type": "stream",
     "text": [
      "                                                       \r"
     ]
    },
    {
     "name": "stdout",
     "output_type": "stream",
     "text": [
      "{'epoch': 0, 'iter': 13200, 'avg_loss': 0.11208979612173037, 'avg_acc': 0.7576767255587882, 'loss': 0.09575797617435455}\n"
     ]
    },
    {
     "name": "stderr",
     "output_type": "stream",
     "text": [
      "                                                       \r"
     ]
    },
    {
     "name": "stdout",
     "output_type": "stream",
     "text": [
      "{'epoch': 0, 'iter': 13300, 'avg_loss': 0.11197325915185574, 'avg_acc': 0.7577036119172398, 'loss': 0.0928146094083786}\n"
     ]
    },
    {
     "name": "stderr",
     "output_type": "stream",
     "text": [
      "                                                       \r"
     ]
    },
    {
     "name": "stdout",
     "output_type": "stream",
     "text": [
      "{'epoch': 0, 'iter': 13400, 'avg_loss': 0.11186156308036732, 'avg_acc': 0.7577290508998134, 'loss': 0.0972261130809784}\n"
     ]
    },
    {
     "name": "stderr",
     "output_type": "stream",
     "text": [
      "                                                       \r"
     ]
    },
    {
     "name": "stdout",
     "output_type": "stream",
     "text": [
      "{'epoch': 0, 'iter': 13500, 'avg_loss': 0.111749999159469, 'avg_acc': 0.7577536185753185, 'loss': 0.09467682987451553}\n"
     ]
    },
    {
     "name": "stderr",
     "output_type": "stream",
     "text": [
      "                                                       \r"
     ]
    },
    {
     "name": "stdout",
     "output_type": "stream",
     "text": [
      "{'epoch': 0, 'iter': 13600, 'avg_loss': 0.11163497955082498, 'avg_acc': 0.7577794201715353, 'loss': 0.08338374644517899}\n"
     ]
    },
    {
     "name": "stderr",
     "output_type": "stream",
     "text": [
      "                                                       \r"
     ]
    },
    {
     "name": "stdout",
     "output_type": "stream",
     "text": [
      "{'epoch': 0, 'iter': 13700, 'avg_loss': 0.11152381820917025, 'avg_acc': 0.7578033381557387, 'loss': 0.09637077897787094}\n"
     ]
    },
    {
     "name": "stderr",
     "output_type": "stream",
     "text": [
      "                                                       \r"
     ]
    },
    {
     "name": "stdout",
     "output_type": "stream",
     "text": [
      "{'epoch': 0, 'iter': 13800, 'avg_loss': 0.1114223650104973, 'avg_acc': 0.7578264672759132, 'loss': 0.09813173115253448}\n"
     ]
    },
    {
     "name": "stderr",
     "output_type": "stream",
     "text": [
      "                                                       \r"
     ]
    },
    {
     "name": "stdout",
     "output_type": "stream",
     "text": [
      "{'epoch': 0, 'iter': 13900, 'avg_loss': 0.11131860079917365, 'avg_acc': 0.7578486976379303, 'loss': 0.10534453392028809}\n"
     ]
    },
    {
     "name": "stderr",
     "output_type": "stream",
     "text": [
      "                                                       \r"
     ]
    },
    {
     "name": "stdout",
     "output_type": "stream",
     "text": [
      "{'epoch': 0, 'iter': 14000, 'avg_loss': 0.11122870429978865, 'avg_acc': 0.7578687577254091, 'loss': 0.10323213040828705}\n"
     ]
    },
    {
     "name": "stderr",
     "output_type": "stream",
     "text": [
      "                                                       \r"
     ]
    },
    {
     "name": "stdout",
     "output_type": "stream",
     "text": [
      "{'epoch': 0, 'iter': 14100, 'avg_loss': 0.11112240925204052, 'avg_acc': 0.7578918776793832, 'loss': 0.09827148914337158}\n"
     ]
    },
    {
     "name": "stderr",
     "output_type": "stream",
     "text": [
      "                                                       \r"
     ]
    },
    {
     "name": "stdout",
     "output_type": "stream",
     "text": [
      "{'epoch': 0, 'iter': 14200, 'avg_loss': 0.1110200745611491, 'avg_acc': 0.7579142355128129, 'loss': 0.10137403756380081}\n"
     ]
    },
    {
     "name": "stderr",
     "output_type": "stream",
     "text": [
      "                                                       \r"
     ]
    },
    {
     "name": "stdout",
     "output_type": "stream",
     "text": [
      "{'epoch': 0, 'iter': 14300, 'avg_loss': 0.11092056083269498, 'avg_acc': 0.7579363040111838, 'loss': 0.10083679854869843}\n"
     ]
    },
    {
     "name": "stderr",
     "output_type": "stream",
     "text": [
      "                                                       \r"
     ]
    },
    {
     "name": "stdout",
     "output_type": "stream",
     "text": [
      "{'epoch': 0, 'iter': 14400, 'avg_loss': 0.11080247790302206, 'avg_acc': 0.7579616089428757, 'loss': 0.08496630191802979}\n"
     ]
    },
    {
     "name": "stderr",
     "output_type": "stream",
     "text": [
      "                                                       \r"
     ]
    },
    {
     "name": "stdout",
     "output_type": "stream",
     "text": [
      "{'epoch': 0, 'iter': 14500, 'avg_loss': 0.11071457087574363, 'avg_acc': 0.7579806130324205, 'loss': 0.09495709091424942}\n"
     ]
    },
    {
     "name": "stderr",
     "output_type": "stream",
     "text": [
      "                                                       \r"
     ]
    },
    {
     "name": "stdout",
     "output_type": "stream",
     "text": [
      "{'epoch': 0, 'iter': 14600, 'avg_loss': 0.11060941815539571, 'avg_acc': 0.7580035076215818, 'loss': 0.09884414821863174}\n"
     ]
    },
    {
     "name": "stderr",
     "output_type": "stream",
     "text": [
      "                                                       \r"
     ]
    },
    {
     "name": "stdout",
     "output_type": "stream",
     "text": [
      "{'epoch': 0, 'iter': 14700, 'avg_loss': 0.1105194371493931, 'avg_acc': 0.7580233888474949, 'loss': 0.09674839675426483}\n"
     ]
    },
    {
     "name": "stderr",
     "output_type": "stream",
     "text": [
      "                                                       \r"
     ]
    },
    {
     "name": "stdout",
     "output_type": "stream",
     "text": [
      "{'epoch': 0, 'iter': 14800, 'avg_loss': 0.11042072824314796, 'avg_acc': 0.758045952462335, 'loss': 0.0900091677904129}\n"
     ]
    },
    {
     "name": "stderr",
     "output_type": "stream",
     "text": [
      "                                                       \r"
     ]
    },
    {
     "name": "stdout",
     "output_type": "stream",
     "text": [
      "{'epoch': 0, 'iter': 14900, 'avg_loss': 0.11033307669652916, 'avg_acc': 0.7580652723983745, 'loss': 0.08418430387973785}\n"
     ]
    },
    {
     "name": "stderr",
     "output_type": "stream",
     "text": [
      "                                                       \r"
     ]
    },
    {
     "name": "stdout",
     "output_type": "stream",
     "text": [
      "{'epoch': 0, 'iter': 15000, 'avg_loss': 0.11024309660794615, 'avg_acc': 0.7580850753901156, 'loss': 0.09867922961711884}\n"
     ]
    },
    {
     "name": "stderr",
     "output_type": "stream",
     "text": [
      "                                                       \r"
     ]
    },
    {
     "name": "stdout",
     "output_type": "stream",
     "text": [
      "{'epoch': 0, 'iter': 15100, 'avg_loss': 0.11014778841661622, 'avg_acc': 0.7581059833716323, 'loss': 0.07304386049509048}\n"
     ]
    },
    {
     "name": "stderr",
     "output_type": "stream",
     "text": [
      "                                                       \r"
     ]
    },
    {
     "name": "stdout",
     "output_type": "stream",
     "text": [
      "{'epoch': 0, 'iter': 15200, 'avg_loss': 0.11005633227435486, 'avg_acc': 0.7581264907910191, 'loss': 0.0846879854798317}\n"
     ]
    },
    {
     "name": "stderr",
     "output_type": "stream",
     "text": [
      "                                                       \r"
     ]
    },
    {
     "name": "stdout",
     "output_type": "stream",
     "text": [
      "{'epoch': 0, 'iter': 15300, 'avg_loss': 0.10996203406847627, 'avg_acc': 0.7581473316182405, 'loss': 0.09135600924491882}\n"
     ]
    },
    {
     "name": "stderr",
     "output_type": "stream",
     "text": [
      "                                                       \r"
     ]
    },
    {
     "name": "stdout",
     "output_type": "stream",
     "text": [
      "{'epoch': 0, 'iter': 15400, 'avg_loss': 0.1098745075454728, 'avg_acc': 0.7581666881144414, 'loss': 0.09456709772348404}\n"
     ]
    },
    {
     "name": "stderr",
     "output_type": "stream",
     "text": [
      "                                                       \r"
     ]
    },
    {
     "name": "stdout",
     "output_type": "stream",
     "text": [
      "{'epoch': 0, 'iter': 15500, 'avg_loss': 0.10978282045177179, 'avg_acc': 0.758187849747274, 'loss': 0.08565270900726318}\n"
     ]
    },
    {
     "name": "stderr",
     "output_type": "stream",
     "text": [
      "                                                       \r"
     ]
    },
    {
     "name": "stdout",
     "output_type": "stream",
     "text": [
      "{'epoch': 0, 'iter': 15600, 'avg_loss': 0.10970133048346788, 'avg_acc': 0.7582054482951439, 'loss': 0.09758547693490982}\n"
     ]
    },
    {
     "name": "stderr",
     "output_type": "stream",
     "text": [
      "                                                       \r"
     ]
    },
    {
     "name": "stdout",
     "output_type": "stream",
     "text": [
      "{'epoch': 0, 'iter': 15700, 'avg_loss': 0.10961079386070453, 'avg_acc': 0.7582259902482761, 'loss': 0.0987098217010498}\n"
     ]
    },
    {
     "name": "stderr",
     "output_type": "stream",
     "text": [
      "                                                       \r"
     ]
    },
    {
     "name": "stdout",
     "output_type": "stream",
     "text": [
      "{'epoch': 0, 'iter': 15800, 'avg_loss': 0.10953018119343323, 'avg_acc': 0.7582439998155696, 'loss': 0.10073285549879074}\n"
     ]
    },
    {
     "name": "stderr",
     "output_type": "stream",
     "text": [
      "                                                       \r"
     ]
    },
    {
     "name": "stdout",
     "output_type": "stream",
     "text": [
      "{'epoch': 0, 'iter': 15900, 'avg_loss': 0.10944371500912496, 'avg_acc': 0.7582632942504384, 'loss': 0.09407927095890045}\n"
     ]
    },
    {
     "name": "stderr",
     "output_type": "stream",
     "text": [
      "                                                       \r"
     ]
    },
    {
     "name": "stdout",
     "output_type": "stream",
     "text": [
      "{'epoch': 0, 'iter': 16000, 'avg_loss': 0.10935889492164694, 'avg_acc': 0.7582822819589324, 'loss': 0.08067578822374344}\n"
     ]
    },
    {
     "name": "stderr",
     "output_type": "stream",
     "text": [
      "                                                       \r"
     ]
    },
    {
     "name": "stdout",
     "output_type": "stream",
     "text": [
      "{'epoch': 0, 'iter': 16100, 'avg_loss': 0.10926829784568086, 'avg_acc': 0.7583029765785425, 'loss': 0.07839294523000717}\n"
     ]
    },
    {
     "name": "stderr",
     "output_type": "stream",
     "text": [
      "                                                       \r"
     ]
    },
    {
     "name": "stdout",
     "output_type": "stream",
     "text": [
      "{'epoch': 0, 'iter': 16200, 'avg_loss': 0.10917464057456695, 'avg_acc': 0.7583237012207754, 'loss': 0.09948913007974625}\n"
     ]
    },
    {
     "name": "stderr",
     "output_type": "stream",
     "text": [
      "                                                       \r"
     ]
    },
    {
     "name": "stdout",
     "output_type": "stream",
     "text": [
      "{'epoch': 0, 'iter': 16300, 'avg_loss': 0.10908911349676363, 'avg_acc': 0.7583426592591482, 'loss': 0.08889659494161606}\n"
     ]
    },
    {
     "name": "stderr",
     "output_type": "stream",
     "text": [
      "                                                       \r"
     ]
    },
    {
     "name": "stdout",
     "output_type": "stream",
     "text": [
      "{'epoch': 0, 'iter': 16400, 'avg_loss': 0.10901941580502669, 'avg_acc': 0.7583583653623698, 'loss': 0.1064402312040329}\n"
     ]
    },
    {
     "name": "stderr",
     "output_type": "stream",
     "text": [
      "                                                       \r"
     ]
    },
    {
     "name": "stdout",
     "output_type": "stream",
     "text": [
      "{'epoch': 0, 'iter': 16500, 'avg_loss': 0.10895981950406905, 'avg_acc': 0.7583705405525479, 'loss': 0.10431725531816483}\n"
     ]
    },
    {
     "name": "stderr",
     "output_type": "stream",
     "text": [
      "                                                       \r"
     ]
    },
    {
     "name": "stdout",
     "output_type": "stream",
     "text": [
      "{'epoch': 0, 'iter': 16600, 'avg_loss': 0.10887611068955287, 'avg_acc': 0.7583891294870123, 'loss': 0.10420001298189163}\n"
     ]
    },
    {
     "name": "stderr",
     "output_type": "stream",
     "text": [
      "                                                       \r"
     ]
    },
    {
     "name": "stdout",
     "output_type": "stream",
     "text": [
      "{'epoch': 0, 'iter': 16700, 'avg_loss': 0.1087947601416669, 'avg_acc': 0.7584073216492141, 'loss': 0.1055116280913353}\n"
     ]
    },
    {
     "name": "stderr",
     "output_type": "stream",
     "text": [
      "                                                       \r"
     ]
    },
    {
     "name": "stdout",
     "output_type": "stream",
     "text": [
      "{'epoch': 0, 'iter': 16800, 'avg_loss': 0.10870336380365185, 'avg_acc': 0.7584275933122586, 'loss': 0.08522643893957138}\n"
     ]
    },
    {
     "name": "stderr",
     "output_type": "stream",
     "text": [
      "                                                       \r"
     ]
    },
    {
     "name": "stdout",
     "output_type": "stream",
     "text": [
      "{'epoch': 0, 'iter': 16900, 'avg_loss': 0.10863295552404482, 'avg_acc': 0.7584423717257045, 'loss': 0.09842368215322495}\n"
     ]
    },
    {
     "name": "stderr",
     "output_type": "stream",
     "text": [
      "                                                       \r"
     ]
    },
    {
     "name": "stdout",
     "output_type": "stream",
     "text": [
      "{'epoch': 0, 'iter': 17000, 'avg_loss': 0.10855554723743481, 'avg_acc': 0.7584591948504336, 'loss': 0.11490710824728012}\n"
     ]
    },
    {
     "name": "stderr",
     "output_type": "stream",
     "text": [
      "                                                       \r"
     ]
    },
    {
     "name": "stdout",
     "output_type": "stream",
     "text": [
      "{'epoch': 0, 'iter': 17100, 'avg_loss': 0.10847911510796696, 'avg_acc': 0.7584761363094672, 'loss': 0.09376880526542664}\n"
     ]
    },
    {
     "name": "stderr",
     "output_type": "stream",
     "text": [
      "                                                       \r"
     ]
    },
    {
     "name": "stdout",
     "output_type": "stream",
     "text": [
      "{'epoch': 0, 'iter': 17200, 'avg_loss': 0.10839360460884162, 'avg_acc': 0.7584943223031452, 'loss': 0.0894496887922287}\n"
     ]
    },
    {
     "name": "stderr",
     "output_type": "stream",
     "text": [
      "                                                       \r"
     ]
    },
    {
     "name": "stdout",
     "output_type": "stream",
     "text": [
      "{'epoch': 0, 'iter': 17300, 'avg_loss': 0.10831845905762051, 'avg_acc': 0.7585109833947262, 'loss': 0.1039181724190712}\n"
     ]
    },
    {
     "name": "stderr",
     "output_type": "stream",
     "text": [
      "                                                       \r"
     ]
    },
    {
     "name": "stdout",
     "output_type": "stream",
     "text": [
      "{'epoch': 0, 'iter': 17400, 'avg_loss': 0.1082349288659523, 'avg_acc': 0.7585296644012748, 'loss': 0.08813481032848358}\n"
     ]
    },
    {
     "name": "stderr",
     "output_type": "stream",
     "text": [
      "                                                       \r"
     ]
    },
    {
     "name": "stdout",
     "output_type": "stream",
     "text": [
      "{'epoch': 0, 'iter': 17500, 'avg_loss': 0.10815746914839092, 'avg_acc': 0.7585473363314088, 'loss': 0.10345838963985443}\n"
     ]
    },
    {
     "name": "stderr",
     "output_type": "stream",
     "text": [
      "                                                       \r"
     ]
    },
    {
     "name": "stdout",
     "output_type": "stream",
     "text": [
      "{'epoch': 0, 'iter': 17600, 'avg_loss': 0.1080964913894511, 'avg_acc': 0.7585606462040732, 'loss': 0.11571861803531647}\n"
     ]
    },
    {
     "name": "stderr",
     "output_type": "stream",
     "text": [
      "                                                       \r"
     ]
    },
    {
     "name": "stdout",
     "output_type": "stream",
     "text": [
      "{'epoch': 0, 'iter': 17700, 'avg_loss': 0.10803521955766204, 'avg_acc': 0.7585736736928829, 'loss': 0.10280651599168777}\n"
     ]
    },
    {
     "name": "stderr",
     "output_type": "stream",
     "text": [
      "                                                       \r"
     ]
    },
    {
     "name": "stdout",
     "output_type": "stream",
     "text": [
      "{'epoch': 0, 'iter': 17800, 'avg_loss': 0.1079540190669226, 'avg_acc': 0.7585921961767915, 'loss': 0.08305365592241287}\n"
     ]
    },
    {
     "name": "stderr",
     "output_type": "stream",
     "text": [
      "                                                       \r"
     ]
    },
    {
     "name": "stdout",
     "output_type": "stream",
     "text": [
      "{'epoch': 0, 'iter': 17900, 'avg_loss': 0.10788275914034773, 'avg_acc': 0.7586077973600354, 'loss': 0.08392823487520218}\n"
     ]
    },
    {
     "name": "stderr",
     "output_type": "stream",
     "text": [
      "                                                       \r"
     ]
    },
    {
     "name": "stdout",
     "output_type": "stream",
     "text": [
      "{'epoch': 0, 'iter': 18000, 'avg_loss': 0.10781509218335278, 'avg_acc': 0.7586228755452714, 'loss': 0.0814346894621849}\n"
     ]
    },
    {
     "name": "stderr",
     "output_type": "stream",
     "text": [
      "                                                       \r"
     ]
    },
    {
     "name": "stdout",
     "output_type": "stream",
     "text": [
      "{'epoch': 0, 'iter': 18100, 'avg_loss': 0.10773492130482239, 'avg_acc': 0.758640763904632, 'loss': 0.09252245724201202}\n"
     ]
    },
    {
     "name": "stderr",
     "output_type": "stream",
     "text": [
      "                                                       \r"
     ]
    },
    {
     "name": "stdout",
     "output_type": "stream",
     "text": [
      "{'epoch': 0, 'iter': 18200, 'avg_loss': 0.10766583703129601, 'avg_acc': 0.7586554638416346, 'loss': 0.09237112104892731}\n"
     ]
    },
    {
     "name": "stderr",
     "output_type": "stream",
     "text": [
      "                                                       \r"
     ]
    },
    {
     "name": "stdout",
     "output_type": "stream",
     "text": [
      "{'epoch': 0, 'iter': 18300, 'avg_loss': 0.10758793176858714, 'avg_acc': 0.7586730125139179, 'loss': 0.10521000623703003}\n"
     ]
    },
    {
     "name": "stderr",
     "output_type": "stream",
     "text": [
      "                                                       \r"
     ]
    },
    {
     "name": "stdout",
     "output_type": "stream",
     "text": [
      "{'epoch': 0, 'iter': 18400, 'avg_loss': 0.10751427626444279, 'avg_acc': 0.7586890462623797, 'loss': 0.08927955478429794}\n"
     ]
    },
    {
     "name": "stderr",
     "output_type": "stream",
     "text": [
      "                                                       \r"
     ]
    },
    {
     "name": "stdout",
     "output_type": "stream",
     "text": [
      "{'epoch': 0, 'iter': 18500, 'avg_loss': 0.10743970007008781, 'avg_acc': 0.7587054247315153, 'loss': 0.09835158288478851}\n"
     ]
    },
    {
     "name": "stderr",
     "output_type": "stream",
     "text": [
      "                                                       \r"
     ]
    },
    {
     "name": "stdout",
     "output_type": "stream",
     "text": [
      "{'epoch': 0, 'iter': 18600, 'avg_loss': 0.10736035656939591, 'avg_acc': 0.7587231062386705, 'loss': 0.083841972053051}\n"
     ]
    },
    {
     "name": "stderr",
     "output_type": "stream",
     "text": [
      "                                                       \r"
     ]
    },
    {
     "name": "stdout",
     "output_type": "stream",
     "text": [
      "{'epoch': 0, 'iter': 18700, 'avg_loss': 0.10728912145611717, 'avg_acc': 0.7587388902862763, 'loss': 0.09694387018680573}\n"
     ]
    },
    {
     "name": "stderr",
     "output_type": "stream",
     "text": [
      "                                                       \r"
     ]
    },
    {
     "name": "stdout",
     "output_type": "stream",
     "text": [
      "{'epoch': 0, 'iter': 18800, 'avg_loss': 0.10720997917254893, 'avg_acc': 0.7587566774428243, 'loss': 0.09749281406402588}\n"
     ]
    },
    {
     "name": "stderr",
     "output_type": "stream",
     "text": [
      "                                                       \r"
     ]
    },
    {
     "name": "stdout",
     "output_type": "stream",
     "text": [
      "{'epoch': 0, 'iter': 18900, 'avg_loss': 0.10714641912867358, 'avg_acc': 0.7587704543215681, 'loss': 0.08654481917619705}\n"
     ]
    },
    {
     "name": "stderr",
     "output_type": "stream",
     "text": [
      "                                                       \r"
     ]
    },
    {
     "name": "stdout",
     "output_type": "stream",
     "text": [
      "{'epoch': 0, 'iter': 19000, 'avg_loss': 0.10707618905963925, 'avg_acc': 0.7587858202783542, 'loss': 0.10806410759687424}\n"
     ]
    },
    {
     "name": "stderr",
     "output_type": "stream",
     "text": [
      "                                                       \r"
     ]
    },
    {
     "name": "stdout",
     "output_type": "stream",
     "text": [
      "{'epoch': 0, 'iter': 19100, 'avg_loss': 0.10700366196621588, 'avg_acc': 0.758802153715806, 'loss': 0.09326416254043579}\n"
     ]
    },
    {
     "name": "stderr",
     "output_type": "stream",
     "text": [
      "                                                       \r"
     ]
    },
    {
     "name": "stdout",
     "output_type": "stream",
     "text": [
      "{'epoch': 0, 'iter': 19200, 'avg_loss': 0.10693733733052121, 'avg_acc': 0.7588165960276626, 'loss': 0.08837232738733292}\n"
     ]
    },
    {
     "name": "stderr",
     "output_type": "stream",
     "text": [
      "EP_train:0:  38%|| 19247/50252 [21:38<34:31, 14.97it/s]"
     ]
    },
    {
     "ename": "KeyboardInterrupt",
     "evalue": "",
     "output_type": "error",
     "traceback": [
      "\u001b[1;31m---------------------------------------------------------------------------\u001b[0m",
      "\u001b[1;31mKeyboardInterrupt\u001b[0m                         Traceback (most recent call last)",
      "\u001b[1;32m<ipython-input-21-e0c88e4f28c6>\u001b[0m in \u001b[0;36m<module>\u001b[1;34m\u001b[0m\n\u001b[0;32m      2\u001b[0m \u001b[1;32mfor\u001b[0m \u001b[0mepoch\u001b[0m \u001b[1;32min\u001b[0m \u001b[0mrange\u001b[0m\u001b[1;33m(\u001b[0m\u001b[0mtrained_epoch\u001b[0m\u001b[1;33m,\u001b[0m \u001b[0mepochs\u001b[0m\u001b[1;33m)\u001b[0m\u001b[1;33m:\u001b[0m\u001b[1;33m\u001b[0m\u001b[1;33m\u001b[0m\u001b[0m\n\u001b[0;32m      3\u001b[0m     \u001b[0mepoch_start\u001b[0m \u001b[1;33m=\u001b[0m \u001b[0mtime\u001b[0m\u001b[1;33m.\u001b[0m\u001b[0mtime\u001b[0m\u001b[1;33m(\u001b[0m\u001b[1;33m)\u001b[0m\u001b[1;33m\u001b[0m\u001b[1;33m\u001b[0m\u001b[0m\n\u001b[1;32m----> 4\u001b[1;33m     \u001b[0mtrainer\u001b[0m\u001b[1;33m.\u001b[0m\u001b[0mtrain\u001b[0m\u001b[1;33m(\u001b[0m\u001b[0mepoch\u001b[0m\u001b[1;33m)\u001b[0m\u001b[1;33m\u001b[0m\u001b[1;33m\u001b[0m\u001b[0m\n\u001b[0m\u001b[0;32m      5\u001b[0m     \u001b[1;31m# Model Save\u001b[0m\u001b[1;33m\u001b[0m\u001b[1;33m\u001b[0m\u001b[1;33m\u001b[0m\u001b[0m\n\u001b[0;32m      6\u001b[0m     trainer.save_pretrain(epoch, output_model_path\n",
      "\u001b[1;32m<ipython-input-15-b99a62e9552c>\u001b[0m in \u001b[0;36mtrain\u001b[1;34m(self, epoch)\u001b[0m\n\u001b[0;32m     31\u001b[0m \u001b[1;33m\u001b[0m\u001b[0m\n\u001b[0;32m     32\u001b[0m     \u001b[1;32mdef\u001b[0m \u001b[0mtrain\u001b[0m\u001b[1;33m(\u001b[0m\u001b[0mself\u001b[0m\u001b[1;33m,\u001b[0m \u001b[0mepoch\u001b[0m\u001b[1;33m)\u001b[0m\u001b[1;33m:\u001b[0m\u001b[1;33m\u001b[0m\u001b[1;33m\u001b[0m\u001b[0m\n\u001b[1;32m---> 33\u001b[1;33m         \u001b[0mself\u001b[0m\u001b[1;33m.\u001b[0m\u001b[0miteration\u001b[0m\u001b[1;33m(\u001b[0m\u001b[0mepoch\u001b[0m\u001b[1;33m,\u001b[0m \u001b[0mself\u001b[0m\u001b[1;33m.\u001b[0m\u001b[0mtrain_data\u001b[0m\u001b[1;33m)\u001b[0m\u001b[1;33m\u001b[0m\u001b[1;33m\u001b[0m\u001b[0m\n\u001b[0m\u001b[0;32m     34\u001b[0m \u001b[1;33m\u001b[0m\u001b[0m\n\u001b[0;32m     35\u001b[0m     \u001b[1;32mdef\u001b[0m \u001b[0mvalid\u001b[0m\u001b[1;33m(\u001b[0m\u001b[0mself\u001b[0m\u001b[1;33m,\u001b[0m \u001b[0mepoch\u001b[0m\u001b[1;33m)\u001b[0m\u001b[1;33m:\u001b[0m\u001b[1;33m\u001b[0m\u001b[1;33m\u001b[0m\u001b[0m\n",
      "\u001b[1;32m<ipython-input-15-b99a62e9552c>\u001b[0m in \u001b[0;36miteration\u001b[1;34m(self, epoch, data_loader, train)\u001b[0m\n\u001b[0;32m     45\u001b[0m         \u001b[1;32mfor\u001b[0m \u001b[0mi\u001b[0m\u001b[1;33m,\u001b[0m \u001b[0mdata\u001b[0m \u001b[1;32min\u001b[0m \u001b[0mdata_iter\u001b[0m\u001b[1;33m:\u001b[0m\u001b[1;33m\u001b[0m\u001b[1;33m\u001b[0m\u001b[0m\n\u001b[0;32m     46\u001b[0m             \u001b[0mdata\u001b[0m \u001b[1;33m=\u001b[0m \u001b[1;33m{\u001b[0m\u001b[0mkey\u001b[0m\u001b[1;33m:\u001b[0m \u001b[0mvalue\u001b[0m\u001b[1;33m.\u001b[0m\u001b[0mto\u001b[0m\u001b[1;33m(\u001b[0m\u001b[0mself\u001b[0m\u001b[1;33m.\u001b[0m\u001b[0mdevice\u001b[0m\u001b[1;33m)\u001b[0m \u001b[1;32mfor\u001b[0m \u001b[0mkey\u001b[0m\u001b[1;33m,\u001b[0m \u001b[0mvalue\u001b[0m \u001b[1;32min\u001b[0m \u001b[0mdata\u001b[0m\u001b[1;33m.\u001b[0m\u001b[0mitems\u001b[0m\u001b[1;33m(\u001b[0m\u001b[1;33m)\u001b[0m\u001b[1;33m}\u001b[0m\u001b[1;33m\u001b[0m\u001b[1;33m\u001b[0m\u001b[0m\n\u001b[1;32m---> 47\u001b[1;33m             \u001b[0mpr_output\u001b[0m \u001b[1;33m=\u001b[0m \u001b[0mself\u001b[0m\u001b[1;33m.\u001b[0m\u001b[0mmodel\u001b[0m\u001b[1;33m.\u001b[0m\u001b[0mforward\u001b[0m\u001b[1;33m(\u001b[0m\u001b[0mdata\u001b[0m\u001b[1;33m[\u001b[0m\u001b[1;34m\"bert_input\"\u001b[0m\u001b[1;33m]\u001b[0m\u001b[1;33m)\u001b[0m\u001b[1;33m\u001b[0m\u001b[1;33m\u001b[0m\u001b[0m\n\u001b[0m\u001b[0;32m     48\u001b[0m             \u001b[0mpr_loss\u001b[0m \u001b[1;33m=\u001b[0m \u001b[0mself\u001b[0m\u001b[1;33m.\u001b[0m\u001b[0mcriterion\u001b[0m\u001b[1;33m(\u001b[0m\u001b[0mpr_output\u001b[0m\u001b[1;33m.\u001b[0m\u001b[0mtranspose\u001b[0m\u001b[1;33m(\u001b[0m\u001b[1;36m1\u001b[0m\u001b[1;33m,\u001b[0m \u001b[1;36m2\u001b[0m\u001b[1;33m)\u001b[0m\u001b[1;33m,\u001b[0m \u001b[0mdata\u001b[0m\u001b[1;33m[\u001b[0m\u001b[1;34m\"token_label\"\u001b[0m\u001b[1;33m]\u001b[0m\u001b[1;33m)\u001b[0m\u001b[1;33m\u001b[0m\u001b[1;33m\u001b[0m\u001b[0m\n\u001b[0;32m     49\u001b[0m             \u001b[0mloss\u001b[0m \u001b[1;33m=\u001b[0m \u001b[0mpr_loss\u001b[0m\u001b[1;33m\u001b[0m\u001b[1;33m\u001b[0m\u001b[0m\n",
      "\u001b[1;32m~\\.conda\\envs\\nlp\\lib\\site-packages\\torch\\nn\\parallel\\data_parallel.py\u001b[0m in \u001b[0;36mforward\u001b[1;34m(self, *inputs, **kwargs)\u001b[0m\n\u001b[0;32m    150\u001b[0m             \u001b[1;32mreturn\u001b[0m \u001b[0mself\u001b[0m\u001b[1;33m.\u001b[0m\u001b[0mmodule\u001b[0m\u001b[1;33m(\u001b[0m\u001b[1;33m*\u001b[0m\u001b[0minputs\u001b[0m\u001b[1;33m[\u001b[0m\u001b[1;36m0\u001b[0m\u001b[1;33m]\u001b[0m\u001b[1;33m,\u001b[0m \u001b[1;33m**\u001b[0m\u001b[0mkwargs\u001b[0m\u001b[1;33m[\u001b[0m\u001b[1;36m0\u001b[0m\u001b[1;33m]\u001b[0m\u001b[1;33m)\u001b[0m\u001b[1;33m\u001b[0m\u001b[1;33m\u001b[0m\u001b[0m\n\u001b[0;32m    151\u001b[0m         \u001b[0mreplicas\u001b[0m \u001b[1;33m=\u001b[0m \u001b[0mself\u001b[0m\u001b[1;33m.\u001b[0m\u001b[0mreplicate\u001b[0m\u001b[1;33m(\u001b[0m\u001b[0mself\u001b[0m\u001b[1;33m.\u001b[0m\u001b[0mmodule\u001b[0m\u001b[1;33m,\u001b[0m \u001b[0mself\u001b[0m\u001b[1;33m.\u001b[0m\u001b[0mdevice_ids\u001b[0m\u001b[1;33m[\u001b[0m\u001b[1;33m:\u001b[0m\u001b[0mlen\u001b[0m\u001b[1;33m(\u001b[0m\u001b[0minputs\u001b[0m\u001b[1;33m)\u001b[0m\u001b[1;33m]\u001b[0m\u001b[1;33m)\u001b[0m\u001b[1;33m\u001b[0m\u001b[1;33m\u001b[0m\u001b[0m\n\u001b[1;32m--> 152\u001b[1;33m         \u001b[0moutputs\u001b[0m \u001b[1;33m=\u001b[0m \u001b[0mself\u001b[0m\u001b[1;33m.\u001b[0m\u001b[0mparallel_apply\u001b[0m\u001b[1;33m(\u001b[0m\u001b[0mreplicas\u001b[0m\u001b[1;33m,\u001b[0m \u001b[0minputs\u001b[0m\u001b[1;33m,\u001b[0m \u001b[0mkwargs\u001b[0m\u001b[1;33m)\u001b[0m\u001b[1;33m\u001b[0m\u001b[1;33m\u001b[0m\u001b[0m\n\u001b[0m\u001b[0;32m    153\u001b[0m         \u001b[1;32mreturn\u001b[0m \u001b[0mself\u001b[0m\u001b[1;33m.\u001b[0m\u001b[0mgather\u001b[0m\u001b[1;33m(\u001b[0m\u001b[0moutputs\u001b[0m\u001b[1;33m,\u001b[0m \u001b[0mself\u001b[0m\u001b[1;33m.\u001b[0m\u001b[0moutput_device\u001b[0m\u001b[1;33m)\u001b[0m\u001b[1;33m\u001b[0m\u001b[1;33m\u001b[0m\u001b[0m\n\u001b[0;32m    154\u001b[0m \u001b[1;33m\u001b[0m\u001b[0m\n",
      "\u001b[1;32m~\\.conda\\envs\\nlp\\lib\\site-packages\\torch\\nn\\parallel\\data_parallel.py\u001b[0m in \u001b[0;36mparallel_apply\u001b[1;34m(self, replicas, inputs, kwargs)\u001b[0m\n\u001b[0;32m    160\u001b[0m \u001b[1;33m\u001b[0m\u001b[0m\n\u001b[0;32m    161\u001b[0m     \u001b[1;32mdef\u001b[0m \u001b[0mparallel_apply\u001b[0m\u001b[1;33m(\u001b[0m\u001b[0mself\u001b[0m\u001b[1;33m,\u001b[0m \u001b[0mreplicas\u001b[0m\u001b[1;33m,\u001b[0m \u001b[0minputs\u001b[0m\u001b[1;33m,\u001b[0m \u001b[0mkwargs\u001b[0m\u001b[1;33m)\u001b[0m\u001b[1;33m:\u001b[0m\u001b[1;33m\u001b[0m\u001b[1;33m\u001b[0m\u001b[0m\n\u001b[1;32m--> 162\u001b[1;33m         \u001b[1;32mreturn\u001b[0m \u001b[0mparallel_apply\u001b[0m\u001b[1;33m(\u001b[0m\u001b[0mreplicas\u001b[0m\u001b[1;33m,\u001b[0m \u001b[0minputs\u001b[0m\u001b[1;33m,\u001b[0m \u001b[0mkwargs\u001b[0m\u001b[1;33m,\u001b[0m \u001b[0mself\u001b[0m\u001b[1;33m.\u001b[0m\u001b[0mdevice_ids\u001b[0m\u001b[1;33m[\u001b[0m\u001b[1;33m:\u001b[0m\u001b[0mlen\u001b[0m\u001b[1;33m(\u001b[0m\u001b[0mreplicas\u001b[0m\u001b[1;33m)\u001b[0m\u001b[1;33m]\u001b[0m\u001b[1;33m)\u001b[0m\u001b[1;33m\u001b[0m\u001b[1;33m\u001b[0m\u001b[0m\n\u001b[0m\u001b[0;32m    163\u001b[0m \u001b[1;33m\u001b[0m\u001b[0m\n\u001b[0;32m    164\u001b[0m     \u001b[1;32mdef\u001b[0m \u001b[0mgather\u001b[0m\u001b[1;33m(\u001b[0m\u001b[0mself\u001b[0m\u001b[1;33m,\u001b[0m \u001b[0moutputs\u001b[0m\u001b[1;33m,\u001b[0m \u001b[0moutput_device\u001b[0m\u001b[1;33m)\u001b[0m\u001b[1;33m:\u001b[0m\u001b[1;33m\u001b[0m\u001b[1;33m\u001b[0m\u001b[0m\n",
      "\u001b[1;32m~\\.conda\\envs\\nlp\\lib\\site-packages\\torch\\nn\\parallel\\parallel_apply.py\u001b[0m in \u001b[0;36mparallel_apply\u001b[1;34m(modules, inputs, kwargs_tup, devices)\u001b[0m\n\u001b[0;32m     75\u001b[0m             \u001b[0mthread\u001b[0m\u001b[1;33m.\u001b[0m\u001b[0mstart\u001b[0m\u001b[1;33m(\u001b[0m\u001b[1;33m)\u001b[0m\u001b[1;33m\u001b[0m\u001b[1;33m\u001b[0m\u001b[0m\n\u001b[0;32m     76\u001b[0m         \u001b[1;32mfor\u001b[0m \u001b[0mthread\u001b[0m \u001b[1;32min\u001b[0m \u001b[0mthreads\u001b[0m\u001b[1;33m:\u001b[0m\u001b[1;33m\u001b[0m\u001b[1;33m\u001b[0m\u001b[0m\n\u001b[1;32m---> 77\u001b[1;33m             \u001b[0mthread\u001b[0m\u001b[1;33m.\u001b[0m\u001b[0mjoin\u001b[0m\u001b[1;33m(\u001b[0m\u001b[1;33m)\u001b[0m\u001b[1;33m\u001b[0m\u001b[1;33m\u001b[0m\u001b[0m\n\u001b[0m\u001b[0;32m     78\u001b[0m     \u001b[1;32melse\u001b[0m\u001b[1;33m:\u001b[0m\u001b[1;33m\u001b[0m\u001b[1;33m\u001b[0m\u001b[0m\n\u001b[0;32m     79\u001b[0m         \u001b[0m_worker\u001b[0m\u001b[1;33m(\u001b[0m\u001b[1;36m0\u001b[0m\u001b[1;33m,\u001b[0m \u001b[0mmodules\u001b[0m\u001b[1;33m[\u001b[0m\u001b[1;36m0\u001b[0m\u001b[1;33m]\u001b[0m\u001b[1;33m,\u001b[0m \u001b[0minputs\u001b[0m\u001b[1;33m[\u001b[0m\u001b[1;36m0\u001b[0m\u001b[1;33m]\u001b[0m\u001b[1;33m,\u001b[0m \u001b[0mkwargs_tup\u001b[0m\u001b[1;33m[\u001b[0m\u001b[1;36m0\u001b[0m\u001b[1;33m]\u001b[0m\u001b[1;33m,\u001b[0m \u001b[0mdevices\u001b[0m\u001b[1;33m[\u001b[0m\u001b[1;36m0\u001b[0m\u001b[1;33m]\u001b[0m\u001b[1;33m)\u001b[0m\u001b[1;33m\u001b[0m\u001b[1;33m\u001b[0m\u001b[0m\n",
      "\u001b[1;32m~\\.conda\\envs\\nlp\\lib\\threading.py\u001b[0m in \u001b[0;36mjoin\u001b[1;34m(self, timeout)\u001b[0m\n\u001b[0;32m   1054\u001b[0m \u001b[1;33m\u001b[0m\u001b[0m\n\u001b[0;32m   1055\u001b[0m         \u001b[1;32mif\u001b[0m \u001b[0mtimeout\u001b[0m \u001b[1;32mis\u001b[0m \u001b[1;32mNone\u001b[0m\u001b[1;33m:\u001b[0m\u001b[1;33m\u001b[0m\u001b[1;33m\u001b[0m\u001b[0m\n\u001b[1;32m-> 1056\u001b[1;33m             \u001b[0mself\u001b[0m\u001b[1;33m.\u001b[0m\u001b[0m_wait_for_tstate_lock\u001b[0m\u001b[1;33m(\u001b[0m\u001b[1;33m)\u001b[0m\u001b[1;33m\u001b[0m\u001b[1;33m\u001b[0m\u001b[0m\n\u001b[0m\u001b[0;32m   1057\u001b[0m         \u001b[1;32melse\u001b[0m\u001b[1;33m:\u001b[0m\u001b[1;33m\u001b[0m\u001b[1;33m\u001b[0m\u001b[0m\n\u001b[0;32m   1058\u001b[0m             \u001b[1;31m# the behavior of a negative timeout isn't documented, but\u001b[0m\u001b[1;33m\u001b[0m\u001b[1;33m\u001b[0m\u001b[1;33m\u001b[0m\u001b[0m\n",
      "\u001b[1;32m~\\.conda\\envs\\nlp\\lib\\threading.py\u001b[0m in \u001b[0;36m_wait_for_tstate_lock\u001b[1;34m(self, block, timeout)\u001b[0m\n\u001b[0;32m   1070\u001b[0m         \u001b[1;32mif\u001b[0m \u001b[0mlock\u001b[0m \u001b[1;32mis\u001b[0m \u001b[1;32mNone\u001b[0m\u001b[1;33m:\u001b[0m  \u001b[1;31m# already determined that the C code is done\u001b[0m\u001b[1;33m\u001b[0m\u001b[1;33m\u001b[0m\u001b[0m\n\u001b[0;32m   1071\u001b[0m             \u001b[1;32massert\u001b[0m \u001b[0mself\u001b[0m\u001b[1;33m.\u001b[0m\u001b[0m_is_stopped\u001b[0m\u001b[1;33m\u001b[0m\u001b[1;33m\u001b[0m\u001b[0m\n\u001b[1;32m-> 1072\u001b[1;33m         \u001b[1;32melif\u001b[0m \u001b[0mlock\u001b[0m\u001b[1;33m.\u001b[0m\u001b[0macquire\u001b[0m\u001b[1;33m(\u001b[0m\u001b[0mblock\u001b[0m\u001b[1;33m,\u001b[0m \u001b[0mtimeout\u001b[0m\u001b[1;33m)\u001b[0m\u001b[1;33m:\u001b[0m\u001b[1;33m\u001b[0m\u001b[1;33m\u001b[0m\u001b[0m\n\u001b[0m\u001b[0;32m   1073\u001b[0m             \u001b[0mlock\u001b[0m\u001b[1;33m.\u001b[0m\u001b[0mrelease\u001b[0m\u001b[1;33m(\u001b[0m\u001b[1;33m)\u001b[0m\u001b[1;33m\u001b[0m\u001b[1;33m\u001b[0m\u001b[0m\n\u001b[0;32m   1074\u001b[0m             \u001b[0mself\u001b[0m\u001b[1;33m.\u001b[0m\u001b[0m_stop\u001b[0m\u001b[1;33m(\u001b[0m\u001b[1;33m)\u001b[0m\u001b[1;33m\u001b[0m\u001b[1;33m\u001b[0m\u001b[0m\n",
      "\u001b[1;31mKeyboardInterrupt\u001b[0m: "
     ]
    }
   ],
   "source": [
    "print(\"Training Start\")\n",
    "for epoch in range(trained_epoch, epochs):\n",
    "    epoch_start = time.time()\n",
    "    trainer.train(epoch)\n",
    "    # Model Save\n",
    "    trainer.save_pretrain(epoch, output_model_path\n",
    "                         )\n",
    "    trainer.valid(epoch)\n",
    "    print(time.time() - epoch_start)"
   ]
  },
  {
   "cell_type": "code",
   "execution_count": null,
   "metadata": {},
   "outputs": [],
   "source": [
    "import matplotlib.pyplot as plt\n",
    "\n",
    "import matplotlib.ticker as ticker\n",
    "import numpy as np\n",
    "plt.style.use('ggplot')\n",
    "\n",
    "def showPlot(points):\n",
    "\n",
    "    fig, ax = plt.subplots()\n",
    "    # this locator puts ticks at regular intervals\n",
    "    #loc = ticker.MultipleLocator(base=0.2)\n",
    "    #ax.yaxis.set_major_locator(loc)\n",
    "    plt.plot(points)\n",
    "    plt.show()\n",
    "    \n",
    "def savePlot(points, figure_path):\n",
    "    plt.switch_backend('Agg')\n",
    "    plt.figure()\n",
    "    fig, ax = plt.subplots()\n",
    "    # this locator puts ticks at regular intervals\n",
    "    loc = ticker.MultipleLocator(base=0.2)\n",
    "    ax.yaxis.set_major_locator(loc)\n",
    "    plt.plot(points)\n",
    "    plt.savefig(figure_path)"
   ]
  },
  {
   "cell_type": "code",
   "execution_count": null,
   "metadata": {},
   "outputs": [],
   "source": [
    "def save_results():\n",
    "    with open(output_model_path + \"results.txt\",\"w\",encoding='utf-8') as f:\n",
    "        f.write(\"----------Parameters list----------\\n\")\n",
    "        f.write(\"hidden=\" +str(hidden) + \"\\n\")\n",
    "        f.write(\"layers=\"+str(layers)+\"\\n\")\n",
    "        f.write(\"attn_heads=\"+str(attn_heads)+\"\\n\")\n",
    "        f.write(\"seq_len=\"+str(seq_len)+\"\\n\")\n",
    "        f.write(\"batch_size=\"+str(batch_size)+\"\\n\")\n",
    "        f.write(\"epochs=\"+str(epochs)+\"\\n\")\n",
    "        f.write(\"lr=\"+str(lr)+\"\\n\")\n",
    "        f.write(\"\\n\")\n",
    "        \n",
    "        f.write(\"-\"*10+\"Train Loss\"+\"-\"*10+\"\\n\")\n",
    "        f.write(str(trainer.train_losses[-1]))\n",
    "        f.write(\"\\n\")\n",
    "        \n",
    "        f.write(\"-\"*10+\"Valid Loss\"+\"-\"*10+\"\\n\")\n",
    "        f.write(str(trainer.valid_losses[-1]))\n",
    "        f.write(\"\\n\")\n",
    "        \n",
    "        f.write(\"-\"*10+\"Train Acc\"+\"-\"*10+\"\\n\")\n",
    "        f.write(str(trainer.train_accs[-1]))\n",
    "        f.write(\"\\n\")\n",
    "        \n",
    "        f.write(\"-\"*10+\"Valid Acc\"+\"-\"*10+\"\\n\")\n",
    "        f.write(str(trainer.valid_accs[-1]))\n",
    "    savePlot(trainer.train_accs, output_model_path + \"train_accs\")\n",
    "    savePlot(trainer.valid_accs, output_model_path + \"valid_accs\")\n",
    "    savePlot(trainer.train_losses, output_model_path + \"train_losses\")\n",
    "    savePlot(trainer.valid_losses, output_model_path + \"valid_losses\")\n",
    "save_results()"
   ]
  },
  {
   "cell_type": "markdown",
   "metadata": {},
   "source": [
    "TestデータからDataLoaderを作成"
   ]
  },
  {
   "cell_type": "code",
   "execution_count": null,
   "metadata": {
    "scrolled": true
   },
   "outputs": [],
   "source": [
    "test_dataset = MixDataset(processed_test_txt, vocab, seq_len=seq_len, label_path=label_path, is_train=True)\n",
    "test_loader = DataLoader(test_dataset, batch_size=1, num_workers=num_workers, shuffle=False)"
   ]
  },
  {
   "cell_type": "code",
   "execution_count": null,
   "metadata": {},
   "outputs": [],
   "source": [
    "def test_esd():\n",
    "    trainer.model.eval()\n",
    "    with torch.no_grad():\n",
    "        for batch in test_loader:\n",
    "            #batch = next(iter(test_loader))\n",
    "            input_line = []\n",
    "            text = batch['bert_input'][0]\n",
    "            output = trainer.model(batch['bert_input'])\n",
    "            for j in range(len(text)):\n",
    "                input_line.append(vocab.itos[text[j].item()])\n",
    "            #print(\"\".join(input_line))\n",
    "            print(batch['label'].item(), output.argmax(dim=-1).item())\n",
    "test_esd()"
   ]
  },
  {
   "cell_type": "code",
   "execution_count": null,
   "metadata": {
    "scrolled": true
   },
   "outputs": [],
   "source": [
    "def test_epd():\n",
    "    trainer.model.eval()\n",
    "    with torch.no_grad():\n",
    "        for batch in test_loader:\n",
    "            #batch = next(iter(test_loader))\n",
    "            input_line = []\n",
    "            text = batch['bert_input'][0]\n",
    "            output = trainer.model(batch['bert_input'])\n",
    "            for j in range(len(text)):\n",
    "                input_line.append(vocab.itos[text[j].item()])\n",
    "            print(\"\".join(input_line))\n",
    "            #print(batch['token_label'][0], output.argmax(dim=-1))\n",
    "            for j in range(128):\n",
    "                predict = output[0,j].argmax(dim=-1).item()\n",
    "                print(input_line[j], ':',predict)\n",
    "            break\n",
    "\n",
    "test_epd()"
   ]
  },
  {
   "cell_type": "raw",
   "metadata": {},
   "source": [
    "trainer.model.eval()\n",
    "with torch.no_grad():\n",
    "    with open(\"./results/single_bert.txt\",'w',encoding='utf-8') as sf:\n",
    "        for batch in test_loader:\n",
    "            for i in range(len(batch['bert_input'])):\n",
    "                input_line = []\n",
    "                text = batch['bert_input'][i]\n",
    "                masked_label = [-1] * len(text)\n",
    "                for j in range(len(text)):\n",
    "                    prob = random.random()\n",
    "                    if prob < 0.1:\n",
    "                        masked_label[j] = text[j].item()\n",
    "                        text[j] = vocab.mask_index\n",
    "                    input_line.append(vocab.itos[text[j].item()])\n",
    "                output = trainer.model(text.unsqueeze(0))\n",
    "                for j in range(len(text)):\n",
    "                    topv, topi = output[0,j].topk(5)\n",
    "                    predict = [vocab.itos[index.item()] for index in topi]\n",
    "                    if masked_label[j] != -1:\n",
    "                        sf.write(str(input_line[j]) +':'+ vocab.itos[masked_label[j]] +':'+ str(predict)+'\\n')\n",
    "                    else:\n",
    "                        sf.write(str(input_line[j]) +':'+ str(predict)+'\\n')"
   ]
  },
  {
   "cell_type": "code",
   "execution_count": null,
   "metadata": {},
   "outputs": [],
   "source": [
    "import matplotlib.pyplot as plt\n",
    "plt.switch_backend('Agg')\n",
    "import matplotlib.ticker as ticker\n",
    "import numpy as np\n",
    "plt.style.use('ggplot')\n",
    "\n",
    "def showPlot(points, figure_path):\n",
    "    plt.figure()\n",
    "    fig, ax = plt.subplots()\n",
    "    # this locator puts ticks at regular intervals\n",
    "    loc = ticker.MultipleLocator(base=0.2)\n",
    "    ax.yaxis.set_major_locator(loc)\n",
    "    plt.plot(points)\n",
    "    plt.savefig(figure_path)"
   ]
  },
  {
   "cell_type": "code",
   "execution_count": null,
   "metadata": {},
   "outputs": [],
   "source": [
    "showPlot(trainer.train_losses, \"./results/\"+str(epochs)+\"_train.png\")\n",
    "showPlot(trainer.valid_losses, \"./results/\"+str(epochs)+\"_valid.png\")"
   ]
  },
  {
   "cell_type": "code",
   "execution_count": null,
   "metadata": {},
   "outputs": [],
   "source": []
  }
 ],
 "metadata": {
  "kernelspec": {
   "display_name": "Python 3",
   "language": "python",
   "name": "python3"
  },
  "language_info": {
   "codemirror_mode": {
    "name": "ipython",
    "version": 3
   },
   "file_extension": ".py",
   "mimetype": "text/x-python",
   "name": "python",
   "nbconvert_exporter": "python",
   "pygments_lexer": "ipython3",
   "version": "3.6.7"
  }
 },
 "nbformat": 4,
 "nbformat_minor": 2
}
