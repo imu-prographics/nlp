{
 "cells": [
  {
   "cell_type": "markdown",
   "metadata": {},
   "source": [
    "必要ModuleをImport"
   ]
  },
  {
   "cell_type": "code",
   "execution_count": 1,
   "metadata": {},
   "outputs": [],
   "source": [
    "import torch\n",
    "import torch.nn as nn\n",
    "import torch.nn.functional as F\n",
    "from torch.optim import Adam\n",
    "\n",
    "import math\n",
    "\n",
    "import random\n",
    "import time\n",
    "import pickle\n",
    "import tqdm\n",
    "from collections import Counter\n",
    "\n",
    "from torch.utils.data import Dataset\n",
    "import numpy as np\n",
    "\n",
    "from utils import GELU, PositionwiseFeedForward, LayerNorm, SublayerConnection, LayerNorm\n",
    "\n",
    "import matplotlib\n",
    "%matplotlib inline\n",
    "import matplotlib.pyplot as plt\n",
    "from ipywidgets import FloatProgress\n",
    "from IPython.display import display, clear_output"
   ]
  },
  {
   "cell_type": "markdown",
   "metadata": {},
   "source": [
    "read_dirでディレクトリを指定<br>\n",
    "このディレクトリ内のコーパスを読み込む<br>\n",
    "vocabファイルもここに作成される"
   ]
  },
  {
   "cell_type": "code",
   "execution_count": 2,
   "metadata": {},
   "outputs": [],
   "source": [
    "device = torch.device(\"cuda\" if torch.cuda.is_available() else \"cpu\")\n",
    "\n",
    "#read_dir = './data/single/'\n",
    "read_dir = './data/merged_bert/'\n",
    "#output_dir = './output/single/'\n",
    "output_dir = './output/merged_bert/'\n",
    "processed_train_txt = read_dir + 'train_X.txt'\n",
    "processed_valid_txt = read_dir + 'valid_X.txt'\n",
    "processed_test_txt = read_dir + 'test_X.txt'"
   ]
  },
  {
   "cell_type": "markdown",
   "metadata": {},
   "source": [
    "Attentionセルを定義する"
   ]
  },
  {
   "cell_type": "code",
   "execution_count": 3,
   "metadata": {},
   "outputs": [],
   "source": [
    "class Attention(nn.Module):\n",
    "    \"\"\"\n",
    "    Scaled Dot Product Attention\n",
    "    \"\"\"\n",
    "    def forward(self, query, key, value, mask=None, dropout=None):\n",
    "        scores = torch.matmul(query, key.transpose(-2, -1)) / math.sqrt(query.size(-1))\n",
    "\n",
    "        if mask is not None:\n",
    "            scores = scores.masked_fill(mask == 0, -1e9)\n",
    "\n",
    "        p_attn = F.softmax(scores, dim=-1)\n",
    "\n",
    "        if dropout is not None:\n",
    "            p_attn = dropout(p_attn)\n",
    "\n",
    "        return torch.matmul(p_attn, value), p_attn\n"
   ]
  },
  {
   "cell_type": "markdown",
   "metadata": {},
   "source": [
    "Multi Head Attentionを定義する"
   ]
  },
  {
   "cell_type": "code",
   "execution_count": 4,
   "metadata": {},
   "outputs": [],
   "source": [
    "class MultiHeadedAttention(nn.Module):\n",
    "\n",
    "    def __init__(self, h, d_model, dropout=0.1):\n",
    "        super().__init__()\n",
    "        assert d_model % h == 0\n",
    "\n",
    "        # We assume d_v always equals d_k\n",
    "        self.d_k = d_model // h\n",
    "        self.h = h\n",
    "\n",
    "        self.linear_layers = nn.ModuleList([nn.Linear(d_model, d_model) for _ in range(3)])\n",
    "        self.output_linear = nn.Linear(d_model, d_model)\n",
    "        self.attention = Attention()\n",
    "\n",
    "        self.dropout = nn.Dropout(p=dropout)\n",
    "\n",
    "    def forward(self, query, key, value, mask=None):\n",
    "        batch_size = query.size(0)\n",
    "\n",
    "        query, key, value = [l(x).view(batch_size, -1, self.h, self.d_k).transpose(1, 2) for l, x in zip(self.linear_layers, (query, key, value))]\n",
    "\n",
    "        x, attn = self.attention(query, key, value, mask=mask, dropout=self.dropout)\n",
    "\n",
    "        x = x.transpose(1, 2).contiguous().view(batch_size, -1, self.h * self.d_k)\n",
    "\n",
    "        return self.output_linear(x)\n"
   ]
  },
  {
   "cell_type": "markdown",
   "metadata": {},
   "source": [
    "Transformerを定義する"
   ]
  },
  {
   "cell_type": "code",
   "execution_count": 5,
   "metadata": {},
   "outputs": [],
   "source": [
    "class TransformerBlock(nn.Module):\n",
    "    def __init__(self, hidden, attn_heads, feed_forward_hidden, dropout):\n",
    "        super().__init__()\n",
    "        self.attention = MultiHeadedAttention(h=attn_heads, d_model=hidden, dropout=dropout)\n",
    "        self.feed_forward = PositionwiseFeedForward(d_model=hidden, d_ff=feed_forward_hidden, dropout=dropout)\n",
    "        self.input_sublayer = SublayerConnection(size=hidden, dropout=dropout)\n",
    "        self.output_sublayer = SublayerConnection(size=hidden, dropout=dropout)\n",
    "        self.dropout = nn.Dropout(p=dropout)\n",
    "\n",
    "    def forward(self, x, mask):\n",
    "        x = self.input_sublayer(x, lambda _x: self.attention.forward(_x, _x, _x, mask=mask))\n",
    "        x = self.output_sublayer(x, self.feed_forward)\n",
    "        return self.dropout(x)\n"
   ]
  },
  {
   "cell_type": "markdown",
   "metadata": {},
   "source": [
    "BERTクラスを定義する"
   ]
  },
  {
   "cell_type": "code",
   "execution_count": 6,
   "metadata": {},
   "outputs": [],
   "source": [
    "class BERT(nn.Module):\n",
    "\n",
    "    def __init__(self, vocab_size, hidden=768, n_layers=12, attn_heads=12, dropout=0.1):\n",
    "        super().__init__()\n",
    "        self.hidden = hidden\n",
    "        self.n_layers = n_layers\n",
    "        self.attn_heads = attn_heads\n",
    "        self.feed_forward_hidden = hidden * 4\n",
    "        # embedding for BERT\n",
    "        self.embedding = BERTEmbedding(vocab_size=vocab_size, embed_size=hidden, dropout=dropout)\n",
    "\n",
    "        self.transformer_blocks = nn.ModuleList([TransformerBlock(hidden, attn_heads, hidden * 4, dropout) for _ in range(n_layers)])\n",
    "\n",
    "    def forward(self, x):\n",
    "        # xの中で0以上は1, 0未満は0として, maskテンソルを作る\n",
    "        mask = (x > 0).unsqueeze(1).repeat(1, x.size(1), 1).unsqueeze(1)\n",
    "        x = self.embedding(x)\n",
    "\n",
    "        for transformer in self.transformer_blocks:\n",
    "            x = transformer.forward(x, mask)\n",
    "        return x\n"
   ]
  },
  {
   "cell_type": "markdown",
   "metadata": {},
   "source": [
    "BERTのEmbedding層を定義する"
   ]
  },
  {
   "cell_type": "code",
   "execution_count": 7,
   "metadata": {},
   "outputs": [],
   "source": [
    "class TokenEmbedding(nn.Embedding):\n",
    "    def __init__(self, vocab_size, embed_size=512):\n",
    "        super().__init__(vocab_size, embed_size, padding_idx=0)\n",
    "\n",
    "class PositionalEmbedding(nn.Module):\n",
    "\n",
    "    def __init__(self, d_model, max_len=512):\n",
    "        super().__init__()\n",
    "\n",
    "        pe = torch.zeros(max_len, d_model).float()\n",
    "        pe.require_grad = False\n",
    "\n",
    "        position = torch.arange(0, max_len).float().unsqueeze(1)\n",
    "        div_term = (torch.arange(0, d_model, 2) * -(math.log(10000.0) / d_model)).float().exp()\n",
    "\n",
    "        pe[:, 0::2] = torch.sin(position * div_term)\n",
    "        pe[:, 1::2] = torch.cos(position * div_term)\n",
    "\n",
    "        pe = pe.unsqueeze(0)\n",
    "        self.register_buffer('pe', pe)\n",
    "\n",
    "    def forward(self, x):\n",
    "        return self.pe[:, :x.size(1)]\n",
    "\n",
    "\n",
    "class BERTEmbedding(nn.Module):\n",
    "    def __init__(self, vocab_size, embed_size, dropout=0.1):\n",
    "        super().__init__()\n",
    "        self.token = TokenEmbedding(vocab_size=vocab_size, embed_size=embed_size)\n",
    "        self.position = PositionalEmbedding(d_model=self.token.embedding_dim)\n",
    "        self.dropout = nn.Dropout(p=dropout)\n",
    "        self.embed_size = embed_size\n",
    "\n",
    "    #def forward(self, sequence, segment_label):\n",
    "    def forward(self, sequence):\n",
    "        x = self.token(sequence) + self.position(sequence)\n",
    "        return self.dropout(x)\n"
   ]
  },
  {
   "cell_type": "markdown",
   "metadata": {},
   "source": [
    "学習用にマスク予測の層を追加する<br>\n",
    "Next Sentence Prediction用のクラスは削除してある"
   ]
  },
  {
   "cell_type": "code",
   "execution_count": 8,
   "metadata": {},
   "outputs": [],
   "source": [
    "class BERTLM(nn.Module):\n",
    "    def __init__(self, bert: BERT, vocab_size):\n",
    "        super().__init__()\n",
    "        self.bert = bert\n",
    "        self.mask_lm = MaskedLanguageModel(self.bert.hidden, vocab_size)\n",
    "\n",
    "    def forward(self, x):\n",
    "        x = self.bert(x)\n",
    "        return self.mask_lm(x)\n",
    "\n",
    "class MaskedLanguageModel(nn.Module):\n",
    "    def __init__(self, hidden, vocab_size):\n",
    "        super().__init__()\n",
    "        self.linear = nn.Linear(hidden, vocab_size)\n",
    "        self.softmax = nn.LogSoftmax(dim=-1)\n",
    "\n",
    "    def forward(self, x):\n",
    "        return self.softmax(self.linear(x))"
   ]
  },
  {
   "cell_type": "code",
   "execution_count": 9,
   "metadata": {},
   "outputs": [],
   "source": [
    "class BERTHybrid(nn.Module):\n",
    "    def __init__(self, bert: BERT, head):\n",
    "        super().__init__()\n",
    "        self.bert = bert\n",
    "        self.epd = ErrorPositionDetectionHead(self.bert.hidden, head)\n",
    "        self.esd = ErrorSentenceDetectionHead(head)\n",
    "    def forward(self, x):\n",
    "        x = self.bert(x)\n",
    "        x = self.epd(x)\n",
    "        return x, self.esd(x) \n",
    "\n",
    "class ErrorSentenceDetectionHead(nn.Module):\n",
    "    def __init__(self, hidden):\n",
    "        super().__init__()\n",
    "        self.linear = nn.Linear(hidden, 2)\n",
    "        self.softmax = nn.LogSoftmax(dim=-1)\n",
    "\n",
    "    def forward(self, x):\n",
    "        return self.softmax(self.linear(x[:, 0]))\n",
    "    \n",
    "class ErrorPositionDetectionHead(nn.Module):\n",
    "    def __init__(self, hidden, head):\n",
    "        super().__init__()\n",
    "        self.linear = nn.Linear(hidden, head)\n",
    "        self.softmax = nn.LogSoftmax(dim=-1)\n",
    "\n",
    "    def forward(self, x):\n",
    "        return self.softmax(self.linear(x))"
   ]
  },
  {
   "cell_type": "markdown",
   "metadata": {},
   "source": [
    "BERT用のVocabを生成するクラスを定義する"
   ]
  },
  {
   "cell_type": "code",
   "execution_count": 10,
   "metadata": {},
   "outputs": [],
   "source": [
    "import pickle\n",
    "import tqdm\n",
    "from collections import Counter\n",
    "\n",
    "class TorchVocab(object):\n",
    "    \"\"\"\n",
    "    :property freqs: collections.Counter, コーパス中の単語の出現頻度を保持するオブジェクト\n",
    "    :property stoi: collections.defaultdict, string → id の対応を示す辞書\n",
    "    :property itos: collections.defaultdict, id → string の対応を示す辞書\n",
    "    \"\"\"\n",
    "    def __init__(self, counter, max_size=None, min_freq=1, specials=['<pad>', '<oov>'],\n",
    "                 vectors=None, unk_init=None, vectors_cache=None):\n",
    "        \"\"\"\n",
    "        :param coutenr: collections.Counter, データ中に含まれる単語の頻度を計測するためのcounter\n",
    "        :param max_size: int, vocabularyの最大のサイズ. Noneの場合は最大値なし. defaultはNone\n",
    "        :param min_freq: int, vocabulary中の単語の最低出現頻度. この数以下の出現回数の単語はvocabularyに加えられない.\n",
    "        :param specials: list of str, vocabularyにあらかじめ登録するtoken\n",
    "        :param vecors: list of vectors, 事前学習済みのベクトル. ex)Vocab.load_vectors\n",
    "        \"\"\"\n",
    "        self.freqs = counter\n",
    "        counter = counter.copy()\n",
    "        min_freq = max(min_freq, 1)\n",
    "\n",
    "        self.itos = list(specials)\n",
    "        # special tokensの出現頻度はvocabulary作成の際にカウントされない\n",
    "        for tok in specials:\n",
    "            del counter[tok]\n",
    "\n",
    "        max_size = None if max_size is None else max_size + len(self.itos)\n",
    "\n",
    "        # まず頻度でソートし、次に文字順で並び替える\n",
    "        words_and_frequencies = sorted(counter.items(), key=lambda tup: tup[0])\n",
    "        words_and_frequencies.sort(key=lambda tup: tup[1], reverse=True)\n",
    "        \n",
    "        # 出現頻度がmin_freq未満のものはvocabに加えない\n",
    "        for word, freq in words_and_frequencies:\n",
    "            if freq < min_freq or len(self.itos) == max_size:\n",
    "                break\n",
    "            self.itos.append(word)\n",
    "\n",
    "        # dictのk,vをいれかえてstoiを作成する\n",
    "        self.stoi = {tok: i for i, tok in enumerate(self.itos)}\n",
    "\n",
    "        self.vectors = None\n",
    "        if vectors is not None:\n",
    "            self.load_vectors(vectors, unk_init=unk_init, cache=vectors_cache)\n",
    "        else:\n",
    "            assert unk_init is None and vectors_cache is None\n",
    "\n",
    "    def __eq__(self, other):\n",
    "        if self.freqs != other.freqs:\n",
    "            return False\n",
    "        if self.stoi != other.stoi:\n",
    "            return False\n",
    "        if self.itos != other.itos:\n",
    "            return False\n",
    "        if self.vectors != other.vectors:\n",
    "            return False\n",
    "        return True\n",
    "\n",
    "    def __len__(self):\n",
    "        return len(self.itos)\n",
    "\n",
    "    def vocab_rerank(self):\n",
    "        self.stoi = {word: i for i, word in enumerate(self.itos)}\n",
    "\n",
    "    def extend(self, v, sort=False):\n",
    "        words = sorted(v.itos) if sort else v.itos\n",
    "        for w in words:\n",
    "            if w not in self.stoi:\n",
    "                self.itos.append(w)\n",
    "                self.stoi[w] = len(self.itos) - 1\n",
    "\n",
    "\n",
    "class Vocab(TorchVocab):\n",
    "    def __init__(self, counter, max_size=None, min_freq=1):\n",
    "        self.pad_index = 0\n",
    "        self.unk_index = 1\n",
    "        self.eos_index = 2\n",
    "        self.sos_index = 3\n",
    "        self.mask_index = 4\n",
    "        super().__init__(counter, specials=[\"<pad>\", \"<unk>\", \"<eos>\", \"<sos>\", \"<mask>\"], max_size=max_size, min_freq=min_freq)\n",
    "\n",
    "    # override用\n",
    "    def to_seq(self, sentece, seq_len, with_eos=False, with_sos=False) -> list:\n",
    "        pass\n",
    "\n",
    "    # override用\n",
    "    def from_seq(self, seq, join=False, with_pad=False):\n",
    "        pass\n",
    "\n",
    "    @staticmethod\n",
    "    def load_vocab(vocab_path: str) -> 'Vocab':\n",
    "        with open(vocab_path, \"rb\") as f:\n",
    "            return pickle.load(f)\n",
    "\n",
    "    def save_vocab(self, vocab_path):\n",
    "        with open(vocab_path, \"wb\") as f:\n",
    "            pickle.dump(self, f)\n",
    "\n",
    "\n",
    "# テキストファイルからvocabを作成する\n",
    "class WordVocab(Vocab):\n",
    "    def __init__(self, texts, max_size=None, min_freq=1):\n",
    "        print(\"Building Vocab\")\n",
    "        counter = Counter()\n",
    "        for line in texts:\n",
    "            if isinstance(line, list):\n",
    "                words = line\n",
    "            else:\n",
    "                words = line.replace(\"\\n\", \"\").replace(\"\\t\", \"\").split()\n",
    "\n",
    "            for word in words:\n",
    "                counter[word] += 1\n",
    "        super().__init__(counter, max_size=max_size, min_freq=min_freq)\n",
    "\n",
    "    def to_seq(self, sentence, seq_len=None, with_eos=False, with_sos=False, with_len=False):\n",
    "        if isinstance(sentence, str):\n",
    "            sentence = sentence.split()\n",
    "\n",
    "        seq = [self.stoi.get(word, self.unk_index) for word in sentence]\n",
    "\n",
    "        if with_eos:\n",
    "            seq += [self.eos_index]  # this would be index 1\n",
    "        if with_sos:\n",
    "            seq = [self.sos_index] + seq\n",
    "\n",
    "        origin_seq_len = len(seq)\n",
    "\n",
    "        if seq_len is None:\n",
    "            pass\n",
    "        elif len(seq) <= seq_len:\n",
    "            seq += [self.pad_index for _ in range(seq_len - len(seq))]\n",
    "        else:\n",
    "            seq = seq[:seq_len]\n",
    "\n",
    "        return (seq, origin_seq_len) if with_len else seq\n",
    "\n",
    "    def from_seq(self, seq, join=False, with_pad=False):\n",
    "        words = [self.itos[idx]\n",
    "                 if idx < len(self.itos)\n",
    "                 else \"<%d>\" % idx\n",
    "                 for idx in seq\n",
    "                 if not with_pad or idx != self.pad_index]\n",
    "\n",
    "        return \" \".join(words) if join else words\n",
    "\n",
    "    @staticmethod\n",
    "    def load_vocab(vocab_path: str) -> 'WordVocab':\n",
    "        with open(vocab_path, \"rb\") as f:\n",
    "            return pickle.load(f)\n",
    "\n",
    "\n",
    "def build(corpus_path, output_path, vocab_size=None, encoding='utf-8', min_freq=1):\n",
    "    with open(corpus_path, \"r\", encoding=encoding) as f:\n",
    "        vocab = WordVocab(f, max_size=vocab_size, min_freq=min_freq)\n",
    "\n",
    "    print(\"VOCAB SIZE:\", len(vocab))\n",
    "    vocab.save_vocab(output_path)"
   ]
  },
  {
   "cell_type": "code",
   "execution_count": 11,
   "metadata": {},
   "outputs": [],
   "source": [
    "import datetime\n",
    "dt_now = str(datetime.datetime.now()).replace(' ', '')\n",
    "dt_now = dt_now.replace(':','_')"
   ]
  },
  {
   "cell_type": "code",
   "execution_count": 12,
   "metadata": {},
   "outputs": [],
   "source": [
    "from torch.utils.data import DataLoader\n",
    "class HybridTrainer:\n",
    "    def __init__(self, bert: BERT, train_dataloader: DataLoader, \n",
    "                 valid_dataloader: DataLoader = None,\n",
    "                 lr: float = 1e-4, betas=(0.9, 0.999), weight_decay: float = 0.01,\n",
    "                 with_cuda: bool = True, log_freq: int = 10, head = 9):\n",
    "        # GPU環境において、GPUを指定しているかのフラグ\n",
    "        cuda_condition = torch.cuda.is_available() and with_cuda\n",
    "        self.device = torch.device(\"cuda:0\" if cuda_condition else \"cpu\")\n",
    "\n",
    "        self.bert = bert\n",
    "        self.model = BERTHybrid(self.bert, head).to(self.device)\n",
    "\n",
    "        if torch.cuda.device_count() > 1:\n",
    "            print(\"Using %d GPUS for BERT\" % torch.cuda.device_count())\n",
    "            self.model = nn.DataParallel(self.model)\n",
    "\n",
    "        self.train_data = train_dataloader\n",
    "        self.valid_data = valid_dataloader\n",
    "\n",
    "        self.optim = Adam(self.model.parameters(), lr=lr, betas=betas, weight_decay=weight_decay)\n",
    "\n",
    "        # masked_token予測のためのLoss関数を設定\n",
    "        self.criterion = nn.NLLLoss()\n",
    "        self.log_freq = log_freq\n",
    "        print(\"Total Parameters:\", sum([p.nelement() for p in self.model.parameters()]))\n",
    "        \n",
    "        self.train_losses = []\n",
    "        self.valid_losses = []\n",
    "        self.train_epd_accs = []\n",
    "        self.valid_epd_accs = []\n",
    "        self.train_esd_accs = []\n",
    "        self.valid_esd_accs = []\n",
    "        \n",
    "        self.train_epd_accs_epoch = []\n",
    "        self.valid_epd_accs_epoch = []\n",
    "        self.train_esd_accs_epoch = []\n",
    "        self.valid_esd_accs_epoch = []\n",
    "\n",
    "    def train(self, epoch):\n",
    "        self.iteration(epoch, self.train_data)\n",
    "\n",
    "    def valid(self, epoch):\n",
    "        self.iteration(epoch, self.valid_data, train=False)\n",
    "\n",
    "    def iteration(self, epoch, data_loader, train=True):\n",
    "        str_code = \"train\" if train else \"valid\"\n",
    "        data_iter = tqdm.tqdm(enumerate(data_loader), desc=\"EP_%s:%d\" % (str_code, epoch), total=len(data_loader), bar_format=\"{l_bar}{r_bar}\")\n",
    "        avg_loss = 0.0\n",
    "        total_epd_correct = 0\n",
    "        total_esd_correct = 0\n",
    "        total_element = 0\n",
    "        for i, data in data_iter:\n",
    "            data = {key: value.to(self.device) for key, value in data.items()}\n",
    "            epd_output, esd_output = self.model.forward(data[\"bert_input\"])\n",
    "            epd_loss = self.criterion(epd_output.transpose(1, 2), data[\"token_label\"])\n",
    "            esd_loss = self.criterion(esd_output, data[\"label\"])\n",
    "            \n",
    "            loss = epd_loss + esd_loss\n",
    "            # training時のみ,backwardとoptimizer更新を行う\n",
    "            if train:\n",
    "                self.optim.zero_grad()\n",
    "                loss.backward()\n",
    "                self.optim.step()\n",
    "            \n",
    "            epd_correct = epd_output.argmax(dim=-1).eq(data[\"token_label\"]).sum().item()\n",
    "            esd_correct = esd_output.argmax(dim=-1).eq(data[\"label\"]).sum().item()\n",
    "            avg_loss += loss.item()\n",
    "            total_epd_correct += epd_correct\n",
    "            total_esd_correct += esd_correct\n",
    "            total_element += data[\"label\"].nelement()\n",
    "            post_fix = {\n",
    "                \"epoch\": epoch,\n",
    "                \"iter\": i,\n",
    "                \"avg_loss\": avg_loss / (i + 1),\n",
    "                \"avg_epd_acc\": total_epd_correct / (total_element*128) * 100,\n",
    "                \"avg_esd_acc\": total_esd_correct / total_element * 100,                \n",
    "                \"loss\": loss.item()\n",
    "            }\n",
    "\n",
    "            if i % self.log_freq == 0:\n",
    "                data_iter.write(str(post_fix))\n",
    "\n",
    "        print(\"EP%d_%s, avg_loss=\" % (epoch, str_code), avg_loss / len(data_iter),  \n",
    "              \"total_epd_acc=\", total_epd_correct / (total_element*128) * 100,\n",
    "                \"total_esd_acc=\", total_esd_correct * 100.0 / total_element)\n",
    "        if train:\n",
    "            self.train_losses.append(avg_loss / len(data_iter))\n",
    "            self.train_epd_accs.append(total_epd_correct / (total_element*128) * 100 )\n",
    "            self.train_esd_accs.append(total_esd_correct * 100.0 / total_element)\n",
    "        else:\n",
    "            self.valid_losses.append(avg_loss / len(data_iter))\n",
    "            self.valid_epd_accs.append(total_epd_correct / (total_element*128) * 100)\n",
    "            self.valid_esd_accs.append(total_esd_correct * 100.0 / total_element)\n",
    "        \n",
    "    def save_bert(self, epoch, file_path=output_dir + \"bert_model\"):\n",
    "        output_path = file_path + \".ep%d\" % epoch\n",
    "        torch.save(self.bert.state_dict(), output_path)\n",
    "        self.bert.to(self.device)\n",
    "        print(\"EP:%d Model Saved on:\" % epoch, output_path)\n",
    "        return output_path\n",
    "    \n",
    "    def save_pretrain(self, epoch, file_path=output_dir + \"mlm_model\"):\n",
    "        self.train_epd_accs_epoch.append(self.train_epd_accs[-1])\n",
    "        self.train_esd_accs_epoch.append(self.train_esd_accs[-1])\n",
    "        self.train_epd_accs_epoch.append(self.valid_epd_accs[-1])\n",
    "        self.train_esd_accs_epoch.append(self.valid_esd_accs[-1])\n",
    "        state = {\n",
    "            'epoch' : epoch,\n",
    "            'state_dict' : self.model.module.state_dict(),\n",
    "            'optimizer' : self.optim.state_dict(),\n",
    "            'train_epd_acc': self.train_epd_accs_epoch,\n",
    "            'train_esd_acc': self.train_esd_accs_epoch,\n",
    "            'valid_epd_acc': self.valid_epd_accs_epoch,\n",
    "            'valid_esd_acc': self.valid_esd_accs_epoch\n",
    "        }\n",
    "        output_path = file_path + \".ep%d\" % epoch\n",
    "        torch.save(state, output_path)\n",
    "        self.bert.to(self.device)\n",
    "        print(\"EP:%d Model Saved on:\" % epoch, output_path)\n",
    "        return output_path\n",
    " \n",
    "    def load_bert(self, file_path):\n",
    "        self.bert.state_dict(torch.load(file_path))\n",
    "    \n",
    "    def load_pretrain(self, file_path):\n",
    "        state = torch.load(file_path)\n",
    "        #state = self.fix_model_state_dict(state)\n",
    "        self.model.module.load_state_dict(state['state_dict'])\n",
    "        self.optim.load_state_dict(state['optimizer'])\n",
    "        self.train_epd_accs_epoch = state['train_epd_acc']\n",
    "        self.train_esd_accs_epoch = state['train_esd_acc']\n",
    "        self.valid_epd_accs_epoch = state['valid_epd_acc']\n",
    "        self.valid_esd_accs_epoch = state['valid_esd_acc']\n",
    "        return state"
   ]
  },
  {
   "cell_type": "code",
   "execution_count": 13,
   "metadata": {},
   "outputs": [],
   "source": [
    "# 訓練用パラメタを定義する\n",
    "vocab_path= read_dir + 'vocab.txt'\n",
    "\n",
    "\n",
    "hidden=256 #768\n",
    "layers=2 #12 2\n",
    "attn_heads=4 #12 4\n",
    "seq_len=128\n",
    "\n",
    "batch_size=128\n",
    "epochs=50\n",
    "num_workers=0\n",
    "with_cuda=True\n",
    "log_freq=100\n",
    "corpus_lines=None\n",
    "\n",
    "lr=1e-3\n",
    "adam_weight_decay=0.00\n",
    "adam_beta1=0.9\n",
    "adam_beta2=0.999\n",
    "\n",
    "dropout=0.0\n",
    "\n",
    "min_freq=7\n",
    "\n",
    "corpus_path=processed_train_txt\n",
    "label_path=None\n",
    "\n",
    "# 最初から学習する場合は'first'、学習を続きから再開する場合は'continue'\n",
    "#train_mode = 'first' \n",
    "train_mode = 'continue' "
   ]
  },
  {
   "cell_type": "code",
   "execution_count": 14,
   "metadata": {},
   "outputs": [
    {
     "name": "stdout",
     "output_type": "stream",
     "text": [
      "Loading Vocab ./data/merged_bert/vocab.txt\n",
      "Loading Train Dataset ./data/merged_bert/train_X.txt\n",
      "Loading Valid Dataset ./data/merged_bert/valid_X.txt\n",
      "Creating Dataloader\n"
     ]
    }
   ],
   "source": [
    "print(\"Loading Vocab\", vocab_path)\n",
    "\n",
    "vocab = WordVocab.load_vocab(vocab_path)\n",
    "from dataset import MixDataset \n",
    "\n",
    "print(\"Loading Train Dataset\", processed_train_txt)\n",
    "train_dataset = MixDataset(processed_train_txt, vocab, seq_len=seq_len, label_path=label_path, corpus_lines=corpus_lines, is_train=True)\n",
    "\n",
    "print(\"Loading Valid Dataset\", processed_valid_txt)\n",
    "valid_dataset = MixDataset(processed_valid_txt, vocab, seq_len=seq_len, label_path=label_path) if processed_valid_txt is not None else None\n",
    "\n",
    "\n",
    "print(\"Creating Dataloader\")\n",
    "train_data_loader = DataLoader(train_dataset, batch_size=batch_size, num_workers=num_workers)\n",
    "valid_data_loader = DataLoader(valid_dataset, batch_size=batch_size, num_workers=num_workers) if processed_valid_txt is not None else None"
   ]
  },
  {
   "cell_type": "code",
   "execution_count": 15,
   "metadata": {},
   "outputs": [
    {
     "name": "stdout",
     "output_type": "stream",
     "text": [
      "Building BERT model\n",
      "Using 2 GPUS for BERT\n",
      "Total Parameters: 2761501\n"
     ]
    }
   ],
   "source": [
    "print(\"Building BERT model\")\n",
    "bert = BERT(len(vocab), hidden=hidden, n_layers=layers, attn_heads=attn_heads, dropout=dropout)\n",
    "trainer = HybridTrainer(bert, train_dataloader=train_data_loader, valid_dataloader=valid_data_loader,\n",
    "                        lr=lr, betas=(adam_beta1, adam_beta2), weight_decay=adam_weight_decay,\n",
    "                        with_cuda=with_cuda, log_freq=log_freq, head=9)"
   ]
  },
  {
   "cell_type": "code",
   "execution_count": 16,
   "metadata": {
    "scrolled": true
   },
   "outputs": [
    {
     "name": "stdout",
     "output_type": "stream",
     "text": [
      "27\n"
     ]
    }
   ],
   "source": [
    "output_model_path = output_dir + 'mix/hybrid/small'\n",
    "\n",
    "if train_mode == 'first':\n",
    "    trainer.load_bert(output_dir + 'bert/mid/bert.ep16')\n",
    "    trained_epoch = 0\n",
    "\n",
    "else:\n",
    "    state = trainer.load_pretrain(output_model_path + '.ep26')\n",
    "    trained_epoch = state['epoch'] +1\n",
    "    print(trained_epoch)"
   ]
  },
  {
   "cell_type": "code",
   "execution_count": 17,
   "metadata": {
    "scrolled": true
   },
   "outputs": [
    {
     "name": "stdout",
     "output_type": "stream",
     "text": [
      "Training Start\n"
     ]
    },
    {
     "name": "stderr",
     "output_type": "stream",
     "text": [
      "EP_train:27:   0%|| 0/50252 [00:00<?, ?it/s]C:\\Users\\is0368pi\\.conda\\envs\\nlp\\lib\\site-packages\\torch\\cuda\\nccl.py:24: UserWarning: PyTorch is not compiled with NCCL support\n",
      "  warnings.warn('PyTorch is not compiled with NCCL support')\n",
      "                                            \r"
     ]
    },
    {
     "name": "stdout",
     "output_type": "stream",
     "text": [
      "{'epoch': 27, 'iter': 0, 'avg_loss': 0.29316115379333496, 'avg_epd_acc': 96.795654296875, 'avg_esd_acc': 90.625, 'loss': 0.29316115379333496}\n"
     ]
    },
    {
     "name": "stderr",
     "output_type": "stream",
     "text": [
      "                                                       \r"
     ]
    },
    {
     "name": "stdout",
     "output_type": "stream",
     "text": [
      "{'epoch': 27, 'iter': 100, 'avg_loss': 0.32064396024930597, 'avg_epd_acc': 96.85022335241337, 'avg_esd_acc': 90.3697400990099, 'loss': 0.341367244720459}\n"
     ]
    },
    {
     "name": "stderr",
     "output_type": "stream",
     "text": [
      "                                                        \r"
     ]
    },
    {
     "name": "stdout",
     "output_type": "stream",
     "text": [
      "{'epoch': 27, 'iter': 200, 'avg_loss': 0.32135508198346663, 'avg_epd_acc': 96.85040374300374, 'avg_esd_acc': 90.38013059701493, 'loss': 0.39842116832733154}\n"
     ]
    },
    {
     "name": "stderr",
     "output_type": "stream",
     "text": [
      "                                                        \r"
     ]
    },
    {
     "name": "stdout",
     "output_type": "stream",
     "text": [
      "{'epoch': 27, 'iter': 300, 'avg_loss': 0.3225102063726349, 'avg_epd_acc': 96.85711527979652, 'avg_esd_acc': 90.2200996677741, 'loss': 0.3076341152191162}\n"
     ]
    },
    {
     "name": "stderr",
     "output_type": "stream",
     "text": [
      "                                                        \r"
     ]
    },
    {
     "name": "stdout",
     "output_type": "stream",
     "text": [
      "{'epoch': 27, 'iter': 400, 'avg_loss': 0.32045695178229316, 'avg_epd_acc': 96.86229068442177, 'avg_esd_acc': 90.36198566084788, 'loss': 0.33300790190696716}\n"
     ]
    },
    {
     "name": "stderr",
     "output_type": "stream",
     "text": [
      "                                                        \r"
     ]
    },
    {
     "name": "stdout",
     "output_type": "stream",
     "text": [
      "{'epoch': 27, 'iter': 500, 'avg_loss': 0.32082331525589414, 'avg_epd_acc': 96.86565589524076, 'avg_esd_acc': 90.34743013972056, 'loss': 0.36655864119529724}\n"
     ]
    },
    {
     "name": "stderr",
     "output_type": "stream",
     "text": [
      "                                                        \r"
     ]
    },
    {
     "name": "stdout",
     "output_type": "stream",
     "text": [
      "{'epoch': 27, 'iter': 600, 'avg_loss': 0.3207002214951047, 'avg_epd_acc': 96.86864259437395, 'avg_esd_acc': 90.28832154742096, 'loss': 0.34859830141067505}\n"
     ]
    },
    {
     "name": "stderr",
     "output_type": "stream",
     "text": [
      "                                                        \r"
     ]
    },
    {
     "name": "stdout",
     "output_type": "stream",
     "text": [
      "{'epoch': 27, 'iter': 700, 'avg_loss': 0.32055232407108014, 'avg_epd_acc': 96.87271009328192, 'avg_esd_acc': 90.28731276747504, 'loss': 0.3209839165210724}\n"
     ]
    },
    {
     "name": "stderr",
     "output_type": "stream",
     "text": [
      "                                                        \r"
     ]
    },
    {
     "name": "stdout",
     "output_type": "stream",
     "text": [
      "{'epoch': 27, 'iter': 800, 'avg_loss': 0.3202872223845135, 'avg_epd_acc': 96.87377320097924, 'avg_esd_acc': 90.27192571785268, 'loss': 0.399077832698822}\n"
     ]
    },
    {
     "name": "stderr",
     "output_type": "stream",
     "text": [
      "                                                        \r"
     ]
    },
    {
     "name": "stdout",
     "output_type": "stream",
     "text": [
      "{'epoch': 27, 'iter': 900, 'avg_loss': 0.3200769144607569, 'avg_epd_acc': 96.87577225391925, 'avg_esd_acc': 90.28076442841288, 'loss': 0.2818152904510498}\n"
     ]
    },
    {
     "name": "stderr",
     "output_type": "stream",
     "text": [
      "                                                        \r"
     ]
    },
    {
     "name": "stdout",
     "output_type": "stream",
     "text": [
      "{'epoch': 27, 'iter': 1000, 'avg_loss': 0.320101632700338, 'avg_epd_acc': 96.87349393770293, 'avg_esd_acc': 90.28627622377621, 'loss': 0.28980183601379395}\n"
     ]
    },
    {
     "name": "stderr",
     "output_type": "stream",
     "text": [
      "                                                         \r"
     ]
    },
    {
     "name": "stdout",
     "output_type": "stream",
     "text": [
      "{'epoch': 27, 'iter': 1100, 'avg_loss': 0.31991141430905035, 'avg_epd_acc': 96.88061013425295, 'avg_esd_acc': 90.29078678474114, 'loss': 0.30206942558288574}\n"
     ]
    },
    {
     "name": "stderr",
     "output_type": "stream",
     "text": [
      "                                                         \r"
     ]
    },
    {
     "name": "stdout",
     "output_type": "stream",
     "text": [
      "{'epoch': 27, 'iter': 1200, 'avg_loss': 0.3200283984310125, 'avg_epd_acc': 96.88329386969193, 'avg_esd_acc': 90.28934221482098, 'loss': 0.3773515224456787}\n"
     ]
    },
    {
     "name": "stderr",
     "output_type": "stream",
     "text": [
      "                                                         \r"
     ]
    },
    {
     "name": "stdout",
     "output_type": "stream",
     "text": [
      "{'epoch': 27, 'iter': 1300, 'avg_loss': 0.31971980169770536, 'avg_epd_acc': 96.8821309329362, 'avg_esd_acc': 90.31814469638739, 'loss': 0.32534059882164}\n"
     ]
    },
    {
     "name": "stderr",
     "output_type": "stream",
     "text": [
      "                                                       \r"
     ]
    },
    {
     "name": "stdout",
     "output_type": "stream",
     "text": [
      "{'epoch': 27, 'iter': 1400, 'avg_loss': 0.31983237675817244, 'avg_epd_acc': 96.88170471844887, 'avg_esd_acc': 90.30324321912919, 'loss': 0.3034752309322357}\n"
     ]
    },
    {
     "name": "stderr",
     "output_type": "stream",
     "text": [
      "                                                         \r"
     ]
    },
    {
     "name": "stdout",
     "output_type": "stream",
     "text": [
      "{'epoch': 27, 'iter': 1500, 'avg_loss': 0.32038244088834955, 'avg_epd_acc': 96.88082700725558, 'avg_esd_acc': 90.2601390739507, 'loss': 0.3511143922805786}\n"
     ]
    },
    {
     "name": "stderr",
     "output_type": "stream",
     "text": [
      "                                                       \r"
     ]
    },
    {
     "name": "stdout",
     "output_type": "stream",
     "text": [
      "{'epoch': 27, 'iter': 1600, 'avg_loss': 0.3206164769870203, 'avg_epd_acc': 96.87984926413179, 'avg_esd_acc': 90.24145065584011, 'loss': 0.31653648614883423}\n"
     ]
    },
    {
     "name": "stderr",
     "output_type": "stream",
     "text": [
      "                                                         \r"
     ]
    },
    {
     "name": "stdout",
     "output_type": "stream",
     "text": [
      "{'epoch': 27, 'iter': 1700, 'avg_loss': 0.3203847131033213, 'avg_epd_acc': 96.87571405032885, 'avg_esd_acc': 90.25573192239858, 'loss': 0.26401281356811523}\n"
     ]
    },
    {
     "name": "stderr",
     "output_type": "stream",
     "text": [
      "                                                       \r"
     ]
    },
    {
     "name": "stdout",
     "output_type": "stream",
     "text": [
      "{'epoch': 27, 'iter': 1800, 'avg_loss': 0.3200282521591393, 'avg_epd_acc': 96.87266839602998, 'avg_esd_acc': 90.2914179622432, 'loss': 0.3025129735469818}\n"
     ]
    },
    {
     "name": "stderr",
     "output_type": "stream",
     "text": [
      "                                                       \r"
     ]
    },
    {
     "name": "stdout",
     "output_type": "stream",
     "text": [
      "{'epoch': 27, 'iter': 1900, 'avg_loss': 0.31962705222102983, 'avg_epd_acc': 96.87553939538401, 'avg_esd_acc': 90.30526696475539, 'loss': 0.2989127039909363}\n"
     ]
    },
    {
     "name": "stderr",
     "output_type": "stream",
     "text": [
      "                                                         \r"
     ]
    },
    {
     "name": "stdout",
     "output_type": "stream",
     "text": [
      "{'epoch': 27, 'iter': 2000, 'avg_loss': 0.3196368305341176, 'avg_epd_acc': 96.87306005200524, 'avg_esd_acc': 90.30289542728636, 'loss': 0.316825270652771}\n"
     ]
    },
    {
     "name": "stderr",
     "output_type": "stream",
     "text": [
      "                                                       \r"
     ]
    },
    {
     "name": "stdout",
     "output_type": "stream",
     "text": [
      "{'epoch': 27, 'iter': 2100, 'avg_loss': 0.3194548881859623, 'avg_epd_acc': 96.87784985665309, 'avg_esd_acc': 90.31339243217515, 'loss': 0.32783034443855286}\n"
     ]
    },
    {
     "name": "stderr",
     "output_type": "stream",
     "text": [
      "                                                       \r"
     ]
    },
    {
     "name": "stdout",
     "output_type": "stream",
     "text": [
      "{'epoch': 27, 'iter': 2200, 'avg_loss': 0.31962523007869503, 'avg_epd_acc': 96.87394068924637, 'avg_esd_acc': 90.30092855520218, 'loss': 0.3712584972381592}\n"
     ]
    },
    {
     "name": "stderr",
     "output_type": "stream",
     "text": [
      "                                                       \r"
     ]
    },
    {
     "name": "stdout",
     "output_type": "stream",
     "text": [
      "{'epoch': 27, 'iter': 2300, 'avg_loss': 0.3195010645267291, 'avg_epd_acc': 96.87352783521432, 'avg_esd_acc': 90.29905475880052, 'loss': 0.3451465368270874}\n"
     ]
    },
    {
     "name": "stderr",
     "output_type": "stream",
     "text": [
      "                                                       \r"
     ]
    },
    {
     "name": "stdout",
     "output_type": "stream",
     "text": [
      "{'epoch': 27, 'iter': 2400, 'avg_loss': 0.3194858817719559, 'avg_epd_acc': 96.87234607650458, 'avg_esd_acc': 90.30872553102873, 'loss': 0.3374004065990448}\n"
     ]
    },
    {
     "name": "stderr",
     "output_type": "stream",
     "text": [
      "                                                       \r"
     ]
    },
    {
     "name": "stdout",
     "output_type": "stream",
     "text": [
      "{'epoch': 27, 'iter': 2500, 'avg_loss': 0.31945823631087383, 'avg_epd_acc': 96.87209832863729, 'avg_esd_acc': 90.30918882447021, 'loss': 0.3109487295150757}\n"
     ]
    },
    {
     "name": "stderr",
     "output_type": "stream",
     "text": [
      "                                                       \r"
     ]
    },
    {
     "name": "stdout",
     "output_type": "stream",
     "text": [
      "{'epoch': 27, 'iter': 2600, 'avg_loss': 0.3194872276661993, 'avg_epd_acc': 96.8728387782043, 'avg_esd_acc': 90.30691320645904, 'loss': 0.29213184118270874}\n"
     ]
    },
    {
     "name": "stderr",
     "output_type": "stream",
     "text": [
      "                                                         \r"
     ]
    },
    {
     "name": "stdout",
     "output_type": "stream",
     "text": [
      "{'epoch': 27, 'iter': 2700, 'avg_loss': 0.3195149535682192, 'avg_epd_acc': 96.87501807779526, 'avg_esd_acc': 90.29670723805998, 'loss': 0.35513556003570557}\n"
     ]
    },
    {
     "name": "stderr",
     "output_type": "stream",
     "text": [
      "                                                       \r"
     ]
    },
    {
     "name": "stdout",
     "output_type": "stream",
     "text": [
      "{'epoch': 27, 'iter': 2800, 'avg_loss': 0.31953880672304175, 'avg_epd_acc': 96.87568640036483, 'avg_esd_acc': 90.29838673687969, 'loss': 0.3209650218486786}\n"
     ]
    },
    {
     "name": "stderr",
     "output_type": "stream",
     "text": [
      "                                                         \r"
     ]
    },
    {
     "name": "stdout",
     "output_type": "stream",
     "text": [
      "{'epoch': 27, 'iter': 2900, 'avg_loss': 0.3195458220042512, 'avg_epd_acc': 96.87758784013056, 'avg_esd_acc': 90.28756247845571, 'loss': 0.3406206965446472}\n"
     ]
    },
    {
     "name": "stderr",
     "output_type": "stream",
     "text": [
      "                                                       \r"
     ]
    },
    {
     "name": "stdout",
     "output_type": "stream",
     "text": [
      "{'epoch': 27, 'iter': 3000, 'avg_loss': 0.319572011388091, 'avg_epd_acc': 96.87768668581826, 'avg_esd_acc': 90.29516202932356, 'loss': 0.3669125735759735}\n"
     ]
    },
    {
     "name": "stderr",
     "output_type": "stream",
     "text": [
      "                                                       \r"
     ]
    },
    {
     "name": "stdout",
     "output_type": "stream",
     "text": [
      "{'epoch': 27, 'iter': 3100, 'avg_loss': 0.31948412290718126, 'avg_epd_acc': 96.8778775684759, 'avg_esd_acc': 90.30050790067719, 'loss': 0.2483557164669037}\n"
     ]
    },
    {
     "name": "stderr",
     "output_type": "stream",
     "text": [
      "                                                       \r"
     ]
    },
    {
     "name": "stdout",
     "output_type": "stream",
     "text": [
      "{'epoch': 27, 'iter': 3200, 'avg_loss': 0.31943315793595733, 'avg_epd_acc': 96.87896795251973, 'avg_esd_acc': 90.29673344267415, 'loss': 0.34959501028060913}\n"
     ]
    },
    {
     "name": "stderr",
     "output_type": "stream",
     "text": [
      "                                                       \r"
     ]
    },
    {
     "name": "stdout",
     "output_type": "stream",
     "text": [
      "{'epoch': 27, 'iter': 3300, 'avg_loss': 0.31952430956997824, 'avg_epd_acc': 96.87941353886606, 'avg_esd_acc': 90.29460769463799, 'loss': 0.3716121017932892}\n"
     ]
    },
    {
     "name": "stderr",
     "output_type": "stream",
     "text": [
      "                                                       \r"
     ]
    },
    {
     "name": "stdout",
     "output_type": "stream",
     "text": [
      "{'epoch': 27, 'iter': 3400, 'avg_loss': 0.3196051896573585, 'avg_epd_acc': 96.88006263380716, 'avg_esd_acc': 90.28709386945016, 'loss': 0.3657767176628113}\n"
     ]
    },
    {
     "name": "stderr",
     "output_type": "stream",
     "text": [
      "                                                       \r"
     ]
    },
    {
     "name": "stdout",
     "output_type": "stream",
     "text": [
      "{'epoch': 27, 'iter': 3500, 'avg_loss': 0.319584452464934, 'avg_epd_acc': 96.87947695747644, 'avg_esd_acc': 90.28871215367037, 'loss': 0.34714263677597046}\n"
     ]
    },
    {
     "name": "stderr",
     "output_type": "stream",
     "text": [
      "                                                       \r"
     ]
    },
    {
     "name": "stdout",
     "output_type": "stream",
     "text": [
      "{'epoch': 27, 'iter': 3600, 'avg_loss': 0.31936752465541945, 'avg_epd_acc': 96.87863566815209, 'avg_esd_acc': 90.29241009441822, 'loss': 0.33666175603866577}\n"
     ]
    },
    {
     "name": "stderr",
     "output_type": "stream",
     "text": [
      "                                                       \r"
     ]
    },
    {
     "name": "stdout",
     "output_type": "stream",
     "text": [
      "{'epoch': 27, 'iter': 3700, 'avg_loss': 0.319268451574299, 'avg_epd_acc': 96.87895961659433, 'avg_esd_acc': 90.29464165090516, 'loss': 0.2912716567516327}\n"
     ]
    },
    {
     "name": "stderr",
     "output_type": "stream",
     "text": [
      "                                                       \r"
     ]
    },
    {
     "name": "stdout",
     "output_type": "stream",
     "text": [
      "{'epoch': 27, 'iter': 3800, 'avg_loss': 0.319193420308855, 'avg_epd_acc': 96.8799521815805, 'avg_esd_acc': 90.29367271770586, 'loss': 0.2675299644470215}\n"
     ]
    },
    {
     "name": "stderr",
     "output_type": "stream",
     "text": [
      "                                                         \r"
     ]
    },
    {
     "name": "stdout",
     "output_type": "stream",
     "text": [
      "{'epoch': 27, 'iter': 3900, 'avg_loss': 0.31925909935862734, 'avg_epd_acc': 96.88049332052279, 'avg_esd_acc': 90.29255319148936, 'loss': 0.3247135877609253}\n"
     ]
    },
    {
     "name": "stderr",
     "output_type": "stream",
     "text": [
      "                                                         \r"
     ]
    },
    {
     "name": "stdout",
     "output_type": "stream",
     "text": [
      "{'epoch': 27, 'iter': 4000, 'avg_loss': 0.3191606040724633, 'avg_epd_acc': 96.88056348949871, 'avg_esd_acc': 90.2981285928518, 'loss': 0.31413546204566956}\n"
     ]
    },
    {
     "name": "stderr",
     "output_type": "stream",
     "text": [
      "                                                         \r"
     ]
    },
    {
     "name": "stdout",
     "output_type": "stream",
     "text": [
      "{'epoch': 27, 'iter': 4100, 'avg_loss': 0.3191551923991645, 'avg_epd_acc': 96.88084901643654, 'avg_esd_acc': 90.29676450865642, 'loss': 0.2930673360824585}\n"
     ]
    },
    {
     "name": "stderr",
     "output_type": "stream",
     "text": [
      "                                                       \r"
     ]
    },
    {
     "name": "stdout",
     "output_type": "stream",
     "text": [
      "{'epoch': 27, 'iter': 4200, 'avg_loss': 0.31922290254436597, 'avg_epd_acc': 96.87999061560863, 'avg_esd_acc': 90.29899875029754, 'loss': 0.26013094186782837}\n"
     ]
    },
    {
     "name": "stderr",
     "output_type": "stream",
     "text": [
      "                                                       \r"
     ]
    },
    {
     "name": "stdout",
     "output_type": "stream",
     "text": [
      "{'epoch': 27, 'iter': 4300, 'avg_loss': 0.3192016523339199, 'avg_epd_acc': 96.8792998494173, 'avg_esd_acc': 90.29731457800511, 'loss': 0.33261337876319885}\n"
     ]
    },
    {
     "name": "stderr",
     "output_type": "stream",
     "text": [
      "                                                       \r"
     ]
    },
    {
     "name": "stdout",
     "output_type": "stream",
     "text": [
      "{'epoch': 27, 'iter': 4400, 'avg_loss': 0.31928325864475604, 'avg_epd_acc': 96.88062227956004, 'avg_esd_acc': 90.29126902976597, 'loss': 0.2834671437740326}\n"
     ]
    },
    {
     "name": "stderr",
     "output_type": "stream",
     "text": [
      "                                                       \r"
     ]
    },
    {
     "name": "stdout",
     "output_type": "stream",
     "text": [
      "{'epoch': 27, 'iter': 4500, 'avg_loss': 0.3192870412415013, 'avg_epd_acc': 96.87997258204774, 'avg_esd_acc': 90.28826927349478, 'loss': 0.30883437395095825}\n"
     ]
    },
    {
     "name": "stderr",
     "output_type": "stream",
     "text": [
      "                                                       \r"
     ]
    },
    {
     "name": "stdout",
     "output_type": "stream",
     "text": [
      "{'epoch': 27, 'iter': 4600, 'avg_loss': 0.31927009539950335, 'avg_epd_acc': 96.88003828566481, 'avg_esd_acc': 90.28981471419256, 'loss': 0.26308655738830566}\n"
     ]
    },
    {
     "name": "stderr",
     "output_type": "stream",
     "text": [
      "                                                       \r"
     ]
    },
    {
     "name": "stdout",
     "output_type": "stream",
     "text": [
      "{'epoch': 27, 'iter': 4700, 'avg_loss': 0.31917801252440475, 'avg_epd_acc': 96.8797064973709, 'avg_esd_acc': 90.29428579025739, 'loss': 0.32822009921073914}\n"
     ]
    },
    {
     "name": "stderr",
     "output_type": "stream",
     "text": [
      "                                                       \r"
     ]
    },
    {
     "name": "stdout",
     "output_type": "stream",
     "text": [
      "{'epoch': 27, 'iter': 4800, 'avg_loss': 0.31915663467350414, 'avg_epd_acc': 96.8794648087638, 'avg_esd_acc': 90.30133696104978, 'loss': 0.3095366060733795}\n"
     ]
    },
    {
     "name": "stderr",
     "output_type": "stream",
     "text": [
      "                                                       \r"
     ]
    },
    {
     "name": "stdout",
     "output_type": "stream",
     "text": [
      "{'epoch': 27, 'iter': 4900, 'avg_loss': 0.31902608523208786, 'avg_epd_acc': 96.88010598124107, 'avg_esd_acc': 90.30220235666191, 'loss': 0.3455599546432495}\n"
     ]
    },
    {
     "name": "stderr",
     "output_type": "stream",
     "text": [
      "                                                       \r"
     ]
    },
    {
     "name": "stdout",
     "output_type": "stream",
     "text": [
      "{'epoch': 27, 'iter': 5000, 'avg_loss': 0.31901092026095895, 'avg_epd_acc': 96.88035293331959, 'avg_esd_acc': 90.30256448710257, 'loss': 0.30138203501701355}\n"
     ]
    },
    {
     "name": "stderr",
     "output_type": "stream",
     "text": [
      "                                                       \r"
     ]
    },
    {
     "name": "stdout",
     "output_type": "stream",
     "text": [
      "{'epoch': 27, 'iter': 5100, 'avg_loss': 0.3189487543246999, 'avg_epd_acc': 96.87951332306164, 'avg_esd_acc': 90.30811973142521, 'loss': 0.36382678151130676}\n"
     ]
    },
    {
     "name": "stderr",
     "output_type": "stream",
     "text": [
      "                                                       \r"
     ]
    },
    {
     "name": "stdout",
     "output_type": "stream",
     "text": [
      "{'epoch': 27, 'iter': 5200, 'avg_loss': 0.3188391318947644, 'avg_epd_acc': 96.87935848049052, 'avg_esd_acc': 90.31195923860797, 'loss': 0.3204696774482727}\n"
     ]
    },
    {
     "name": "stderr",
     "output_type": "stream",
     "text": [
      "                                                         \r"
     ]
    },
    {
     "name": "stdout",
     "output_type": "stream",
     "text": [
      "{'epoch': 27, 'iter': 5300, 'avg_loss': 0.3187640159366446, 'avg_epd_acc': 96.87943745504975, 'avg_esd_acc': 90.30813761554424, 'loss': 0.2752133011817932}\n"
     ]
    },
    {
     "name": "stderr",
     "output_type": "stream",
     "text": [
      "                                                       \r"
     ]
    },
    {
     "name": "stdout",
     "output_type": "stream",
     "text": [
      "{'epoch': 27, 'iter': 5400, 'avg_loss': 0.3187940882115734, 'avg_epd_acc': 96.87993163158443, 'avg_esd_acc': 90.30966487687465, 'loss': 0.26557081937789917}\n"
     ]
    },
    {
     "name": "stderr",
     "output_type": "stream",
     "text": [
      "                                                       \r"
     ]
    },
    {
     "name": "stdout",
     "output_type": "stream",
     "text": [
      "{'epoch': 27, 'iter': 5500, 'avg_loss': 0.3189630688612861, 'avg_epd_acc': 96.87957791410085, 'avg_esd_acc': 90.30588188511179, 'loss': 0.34024709463119507}\n"
     ]
    },
    {
     "name": "stderr",
     "output_type": "stream",
     "text": [
      "                                                       \r"
     ]
    },
    {
     "name": "stdout",
     "output_type": "stream",
     "text": [
      "{'epoch': 27, 'iter': 5600, 'avg_loss': 0.3189544050986374, 'avg_epd_acc': 96.87935124761482, 'avg_esd_acc': 90.3062790126763, 'loss': 0.3521282970905304}\n"
     ]
    },
    {
     "name": "stderr",
     "output_type": "stream",
     "text": [
      "                                                       \r"
     ]
    },
    {
     "name": "stdout",
     "output_type": "stream",
     "text": [
      "{'epoch': 27, 'iter': 5700, 'avg_loss': 0.3189027744978065, 'avg_epd_acc': 96.87983806123651, 'avg_esd_acc': 90.3025510875285, 'loss': 0.30430129170417786}\n"
     ]
    },
    {
     "name": "stderr",
     "output_type": "stream",
     "text": [
      "                                                       \r"
     ]
    },
    {
     "name": "stdout",
     "output_type": "stream",
     "text": [
      "{'epoch': 27, 'iter': 5800, 'avg_loss': 0.31891168359075617, 'avg_epd_acc': 96.87996614269092, 'avg_esd_acc': 90.30164519048441, 'loss': 0.23678737878799438}\n"
     ]
    },
    {
     "name": "stderr",
     "output_type": "stream",
     "text": [
      "                                                       \r"
     ]
    },
    {
     "name": "stdout",
     "output_type": "stream",
     "text": [
      "{'epoch': 27, 'iter': 5900, 'avg_loss': 0.3189809501570092, 'avg_epd_acc': 96.88039190424558, 'avg_esd_acc': 90.29746017624132, 'loss': 0.33328723907470703}\n"
     ]
    },
    {
     "name": "stderr",
     "output_type": "stream",
     "text": [
      "                                                       \r"
     ]
    },
    {
     "name": "stdout",
     "output_type": "stream",
     "text": [
      "{'epoch': 27, 'iter': 6000, 'avg_loss': 0.31903405078320357, 'avg_epd_acc': 96.87995522881603, 'avg_esd_acc': 90.29510706548909, 'loss': 0.3175962567329407}\n"
     ]
    },
    {
     "name": "stderr",
     "output_type": "stream",
     "text": [
      "                                                       \r"
     ]
    },
    {
     "name": "stdout",
     "output_type": "stream",
     "text": [
      "{'epoch': 27, 'iter': 6100, 'avg_loss': 0.31914641199503113, 'avg_epd_acc': 96.87988901505645, 'avg_esd_acc': 90.28630040157351, 'loss': 0.46793031692504883}\n"
     ]
    },
    {
     "name": "stderr",
     "output_type": "stream",
     "text": [
      "                                                       \r"
     ]
    },
    {
     "name": "stdout",
     "output_type": "stream",
     "text": [
      "{'epoch': 27, 'iter': 6200, 'avg_loss': 0.31912743590845444, 'avg_epd_acc': 96.8798898993106, 'avg_esd_acc': 90.2883607482664, 'loss': 0.2435724139213562}\n"
     ]
    },
    {
     "name": "stderr",
     "output_type": "stream",
     "text": [
      "                                                       \r"
     ]
    },
    {
     "name": "stdout",
     "output_type": "stream",
     "text": [
      "{'epoch': 27, 'iter': 6300, 'avg_loss': 0.3191288410813217, 'avg_epd_acc': 96.87923497386328, 'avg_esd_acc': 90.29047968576417, 'loss': 0.24492451548576355}\n"
     ]
    },
    {
     "name": "stderr",
     "output_type": "stream",
     "text": [
      "                                                       \r"
     ]
    },
    {
     "name": "stdout",
     "output_type": "stream",
     "text": [
      "{'epoch': 27, 'iter': 6400, 'avg_loss': 0.3191462455643581, 'avg_epd_acc': 96.87937000657855, 'avg_esd_acc': 90.29118985314794, 'loss': 0.2590342164039612}\n"
     ]
    },
    {
     "name": "stderr",
     "output_type": "stream",
     "text": [
      "                                                       \r"
     ]
    },
    {
     "name": "stdout",
     "output_type": "stream",
     "text": [
      "{'epoch': 27, 'iter': 6500, 'avg_loss': 0.3190878158490523, 'avg_epd_acc': 96.87985014024285, 'avg_esd_acc': 90.28935452238117, 'loss': 0.30502134561538696}\n"
     ]
    },
    {
     "name": "stderr",
     "output_type": "stream",
     "text": [
      "                                                         \r"
     ]
    },
    {
     "name": "stdout",
     "output_type": "stream",
     "text": [
      "{'epoch': 27, 'iter': 6600, 'avg_loss': 0.3190889107022497, 'avg_epd_acc': 96.88038230032619, 'avg_esd_acc': 90.28781150583245, 'loss': 0.38075482845306396}\n"
     ]
    },
    {
     "name": "stderr",
     "output_type": "stream",
     "text": [
      "                                                       \r"
     ]
    },
    {
     "name": "stdout",
     "output_type": "stream",
     "text": [
      "{'epoch': 27, 'iter': 6700, 'avg_loss': 0.319038729806157, 'avg_epd_acc': 96.88041583404062, 'avg_esd_acc': 90.29191072228025, 'loss': 0.3016122579574585}\n"
     ]
    },
    {
     "name": "stderr",
     "output_type": "stream",
     "text": [
      "                                                       \r"
     ]
    },
    {
     "name": "stdout",
     "output_type": "stream",
     "text": [
      "{'epoch': 27, 'iter': 6800, 'avg_loss': 0.31900478695494483, 'avg_epd_acc': 96.88023568742189, 'avg_esd_acc': 90.2954299000147, 'loss': 0.27063050866127014}\n"
     ]
    },
    {
     "name": "stderr",
     "output_type": "stream",
     "text": [
      "                                                       \r"
     ]
    },
    {
     "name": "stdout",
     "output_type": "stream",
     "text": [
      "{'epoch': 27, 'iter': 6900, 'avg_loss': 0.31899450960547626, 'avg_epd_acc': 96.88070463349968, 'avg_esd_acc': 90.29499800753514, 'loss': 0.3128502368927002}\n"
     ]
    },
    {
     "name": "stderr",
     "output_type": "stream",
     "text": [
      "                                                       \r"
     ]
    },
    {
     "name": "stdout",
     "output_type": "stream",
     "text": [
      "{'epoch': 27, 'iter': 7000, 'avg_loss': 0.3190609557579933, 'avg_epd_acc': 96.88118197818838, 'avg_esd_acc': 90.29011480502786, 'loss': 0.3248526155948639}\n"
     ]
    },
    {
     "name": "stderr",
     "output_type": "stream",
     "text": [
      "                                                       \r"
     ]
    },
    {
     "name": "stdout",
     "output_type": "stream",
     "text": [
      "{'epoch': 27, 'iter': 7100, 'avg_loss': 0.3190011474959801, 'avg_epd_acc': 96.88049153095734, 'avg_esd_acc': 90.2908701239262, 'loss': 0.22816407680511475}\n"
     ]
    },
    {
     "name": "stderr",
     "output_type": "stream",
     "text": [
      "                                                       \r"
     ]
    },
    {
     "name": "stdout",
     "output_type": "stream",
     "text": [
      "{'epoch': 27, 'iter': 7200, 'avg_loss': 0.31887407642266036, 'avg_epd_acc': 96.88097129115096, 'avg_esd_acc': 90.29431676156089, 'loss': 0.2934175133705139}\n"
     ]
    },
    {
     "name": "stderr",
     "output_type": "stream",
     "text": [
      "                                                       \r"
     ]
    },
    {
     "name": "stdout",
     "output_type": "stream",
     "text": [
      "{'epoch': 27, 'iter': 7300, 'avg_loss': 0.31895613608507567, 'avg_epd_acc': 96.88100737752106, 'avg_esd_acc': 90.28964354198055, 'loss': 0.3055654764175415}\n"
     ]
    },
    {
     "name": "stderr",
     "output_type": "stream",
     "text": [
      "                                                       \r"
     ]
    },
    {
     "name": "stdout",
     "output_type": "stream",
     "text": [
      "{'epoch': 27, 'iter': 7400, 'avg_loss': 0.31905777140326347, 'avg_epd_acc': 96.88123216694746, 'avg_esd_acc': 90.28330208755574, 'loss': 0.2970091998577118}\n"
     ]
    },
    {
     "name": "stderr",
     "output_type": "stream",
     "text": [
      "                                                       \r"
     ]
    },
    {
     "name": "stdout",
     "output_type": "stream",
     "text": [
      "{'epoch': 27, 'iter': 7500, 'avg_loss': 0.3190159994119041, 'avg_epd_acc': 96.88093996321324, 'avg_esd_acc': 90.2850453272897, 'loss': 0.3376627266407013}\n"
     ]
    },
    {
     "name": "stderr",
     "output_type": "stream",
     "text": [
      "                                                       \r"
     ]
    },
    {
     "name": "stdout",
     "output_type": "stream",
     "text": [
      "{'epoch': 27, 'iter': 7600, 'avg_loss': 0.3191241685822047, 'avg_epd_acc': 96.88079356206215, 'avg_esd_acc': 90.28037018155506, 'loss': 0.3276122212409973}\n"
     ]
    },
    {
     "name": "stderr",
     "output_type": "stream",
     "text": [
      "                                                       \r"
     ]
    },
    {
     "name": "stdout",
     "output_type": "stream",
     "text": [
      "{'epoch': 27, 'iter': 7700, 'avg_loss': 0.319194006095179, 'avg_epd_acc': 96.88032046492542, 'avg_esd_acc': 90.27693237891184, 'loss': 0.32730913162231445}\n"
     ]
    },
    {
     "name": "stderr",
     "output_type": "stream",
     "text": [
      "                                                         \r"
     ]
    },
    {
     "name": "stdout",
     "output_type": "stream",
     "text": [
      "{'epoch': 27, 'iter': 7800, 'avg_loss': 0.31923441258038854, 'avg_epd_acc': 96.88034145637378, 'avg_esd_acc': 90.2756858095116, 'loss': 0.32668837904930115}\n"
     ]
    },
    {
     "name": "stderr",
     "output_type": "stream",
     "text": [
      "                                                       \r"
     ]
    },
    {
     "name": "stdout",
     "output_type": "stream",
     "text": [
      "{'epoch': 27, 'iter': 7900, 'avg_loss': 0.31926549857190223, 'avg_epd_acc': 96.88103785319896, 'avg_esd_acc': 90.27288871661816, 'loss': 0.35886350274086}\n"
     ]
    },
    {
     "name": "stderr",
     "output_type": "stream",
     "text": [
      "                                                       \r"
     ]
    },
    {
     "name": "stdout",
     "output_type": "stream",
     "text": [
      "{'epoch': 27, 'iter': 8000, 'avg_loss': 0.3192641705594917, 'avg_epd_acc': 96.88124006471848, 'avg_esd_acc': 90.27465316835396, 'loss': 0.38548386096954346}\n"
     ]
    },
    {
     "name": "stderr",
     "output_type": "stream",
     "text": [
      "                                                       \r"
     ]
    },
    {
     "name": "stdout",
     "output_type": "stream",
     "text": [
      "{'epoch': 27, 'iter': 8100, 'avg_loss': 0.3192494842921079, 'avg_epd_acc': 96.8812956396201, 'avg_esd_acc': 90.27405952968769, 'loss': 0.33244094252586365}\n"
     ]
    },
    {
     "name": "stderr",
     "output_type": "stream",
     "text": [
      "                                                       \r"
     ]
    },
    {
     "name": "stdout",
     "output_type": "stream",
     "text": [
      "{'epoch': 27, 'iter': 8200, 'avg_loss': 0.3192134115819073, 'avg_epd_acc': 96.88173835269708, 'avg_esd_acc': 90.27586193756859, 'loss': 0.33260077238082886}\n"
     ]
    },
    {
     "name": "stderr",
     "output_type": "stream",
     "text": [
      "                                                       \r"
     ]
    },
    {
     "name": "stdout",
     "output_type": "stream",
     "text": [
      "{'epoch': 27, 'iter': 8300, 'avg_loss': 0.3192086145560033, 'avg_epd_acc': 96.8813601265096, 'avg_esd_acc': 90.27696211299843, 'loss': 0.3297111392021179}\n"
     ]
    },
    {
     "name": "stderr",
     "output_type": "stream",
     "text": [
      "                                                       \r"
     ]
    },
    {
     "name": "stdout",
     "output_type": "stream",
     "text": [
      "{'epoch': 27, 'iter': 8400, 'avg_loss': 0.3191129607134611, 'avg_epd_acc': 96.88080782096253, 'avg_esd_acc': 90.28389477443162, 'loss': 0.38251999020576477}\n"
     ]
    },
    {
     "name": "stderr",
     "output_type": "stream",
     "text": [
      "                                                       \r"
     ]
    },
    {
     "name": "stdout",
     "output_type": "stream",
     "text": [
      "{'epoch': 27, 'iter': 8500, 'avg_loss': 0.3191837383927829, 'avg_epd_acc': 96.88122485360178, 'avg_esd_acc': 90.27890101164569, 'loss': 0.31035900115966797}\n"
     ]
    },
    {
     "name": "stderr",
     "output_type": "stream",
     "text": [
      "                                                       \r"
     ]
    },
    {
     "name": "stdout",
     "output_type": "stream",
     "text": [
      "{'epoch': 27, 'iter': 8600, 'avg_loss': 0.31913321799884603, 'avg_epd_acc': 96.88122841025934, 'avg_esd_acc': 90.28010914428555, 'loss': 0.34378552436828613}\n"
     ]
    },
    {
     "name": "stderr",
     "output_type": "stream",
     "text": [
      "                                                       \r"
     ]
    },
    {
     "name": "stdout",
     "output_type": "stream",
     "text": [
      "{'epoch': 27, 'iter': 8700, 'avg_loss': 0.31908583441194127, 'avg_epd_acc': 96.88158402455537, 'avg_esd_acc': 90.28218739225376, 'loss': 0.39857348799705505}\n"
     ]
    },
    {
     "name": "stderr",
     "output_type": "stream",
     "text": [
      "                                                       \r"
     ]
    },
    {
     "name": "stdout",
     "output_type": "stream",
     "text": [
      "{'epoch': 27, 'iter': 8800, 'avg_loss': 0.3190663038140169, 'avg_epd_acc': 96.88181921021936, 'avg_esd_acc': 90.28492855925462, 'loss': 0.3564775586128235}\n"
     ]
    },
    {
     "name": "stderr",
     "output_type": "stream",
     "text": [
      "                                                       \r"
     ]
    },
    {
     "name": "stdout",
     "output_type": "stream",
     "text": [
      "{'epoch': 27, 'iter': 8900, 'avg_loss': 0.3190357787945795, 'avg_epd_acc': 96.8820326543366, 'avg_esd_acc': 90.28558940006741, 'loss': 0.3153359293937683}\n"
     ]
    },
    {
     "name": "stderr",
     "output_type": "stream",
     "text": [
      "                                                         \r"
     ]
    },
    {
     "name": "stdout",
     "output_type": "stream",
     "text": [
      "{'epoch': 27, 'iter': 9000, 'avg_loss': 0.3190741036192813, 'avg_epd_acc': 96.88198571469489, 'avg_esd_acc': 90.28285051660927, 'loss': 0.2849133610725403}\n"
     ]
    },
    {
     "name": "stderr",
     "output_type": "stream",
     "text": [
      "                                                       \r"
     ]
    },
    {
     "name": "stdout",
     "output_type": "stream",
     "text": [
      "{'epoch': 27, 'iter': 9100, 'avg_loss': 0.3191057642715709, 'avg_epd_acc': 96.88242132775588, 'avg_esd_acc': 90.28025766399297, 'loss': 0.34439122676849365}\n"
     ]
    },
    {
     "name": "stderr",
     "output_type": "stream",
     "text": [
      "                                                       \r"
     ]
    },
    {
     "name": "stdout",
     "output_type": "stream",
     "text": [
      "{'epoch': 27, 'iter': 9200, 'avg_loss': 0.31913200563813615, 'avg_epd_acc': 96.88277383975756, 'avg_esd_acc': 90.27670226062384, 'loss': 0.26820090413093567}\n"
     ]
    },
    {
     "name": "stderr",
     "output_type": "stream",
     "text": [
      "                                                       \r"
     ]
    },
    {
     "name": "stdout",
     "output_type": "stream",
     "text": [
      "{'epoch': 27, 'iter': 9300, 'avg_loss': 0.31914593593694357, 'avg_epd_acc': 96.88248420553738, 'avg_esd_acc': 90.27649916675627, 'loss': 0.337893545627594}\n"
     ]
    },
    {
     "name": "stderr",
     "output_type": "stream",
     "text": [
      "                                                       \r"
     ]
    },
    {
     "name": "stdout",
     "output_type": "stream",
     "text": [
      "{'epoch': 27, 'iter': 9400, 'avg_loss': 0.31923027600985665, 'avg_epd_acc': 96.88249029462457, 'avg_esd_acc': 90.27281007339644, 'loss': 0.37077051401138306}\n"
     ]
    },
    {
     "name": "stderr",
     "output_type": "stream",
     "text": [
      "                                                       \r"
     ]
    },
    {
     "name": "stdout",
     "output_type": "stream",
     "text": [
      "{'epoch': 27, 'iter': 9500, 'avg_loss': 0.3192996746090861, 'avg_epd_acc': 96.88227590969043, 'avg_esd_acc': 90.26845858330702, 'loss': 0.3213479816913605}\n"
     ]
    },
    {
     "name": "stderr",
     "output_type": "stream",
     "text": [
      "                                                       \r"
     ]
    },
    {
     "name": "stdout",
     "output_type": "stream",
     "text": [
      "{'epoch': 27, 'iter': 9600, 'avg_loss': 0.31928910392638904, 'avg_epd_acc': 96.88195537594554, 'avg_esd_acc': 90.26859181335277, 'loss': 0.32457029819488525}\n"
     ]
    },
    {
     "name": "stderr",
     "output_type": "stream",
     "text": [
      "                                                       \r"
     ]
    },
    {
     "name": "stdout",
     "output_type": "stream",
     "text": [
      "{'epoch': 27, 'iter': 9700, 'avg_loss': 0.319236201098894, 'avg_epd_acc': 96.88196169471091, 'avg_esd_acc': 90.26984975775693, 'loss': 0.29600030183792114}\n"
     ]
    },
    {
     "name": "stderr",
     "output_type": "stream",
     "text": [
      "                                                       \r"
     ]
    },
    {
     "name": "stdout",
     "output_type": "stream",
     "text": [
      "{'epoch': 27, 'iter': 9800, 'avg_loss': 0.31922821061408785, 'avg_epd_acc': 96.88172127784314, 'avg_esd_acc': 90.2729153912866, 'loss': 0.3020707964897156}\n"
     ]
    },
    {
     "name": "stderr",
     "output_type": "stream",
     "text": [
      "                                                       \r"
     ]
    },
    {
     "name": "stdout",
     "output_type": "stream",
     "text": [
      "{'epoch': 27, 'iter': 9900, 'avg_loss': 0.3192654963548515, 'avg_epd_acc': 96.88190059124395, 'avg_esd_acc': 90.26929098070902, 'loss': 0.29278087615966797}\n"
     ]
    },
    {
     "name": "stderr",
     "output_type": "stream",
     "text": [
      "                                                       \r"
     ]
    },
    {
     "name": "stdout",
     "output_type": "stream",
     "text": [
      "{'epoch': 27, 'iter': 10000, 'avg_loss': 0.31925699758018306, 'avg_epd_acc': 96.88212086994426, 'avg_esd_acc': 90.27058231676833, 'loss': 0.3749958276748657}\n"
     ]
    },
    {
     "name": "stderr",
     "output_type": "stream",
     "text": [
      "                                                        \r"
     ]
    },
    {
     "name": "stdout",
     "output_type": "stream",
     "text": [
      "{'epoch': 27, 'iter': 10100, 'avg_loss': 0.3193076977371851, 'avg_epd_acc': 96.88189991534718, 'avg_esd_acc': 90.26666604791605, 'loss': 0.31703823804855347}\n"
     ]
    },
    {
     "name": "stderr",
     "output_type": "stream",
     "text": [
      "                                                          \r"
     ]
    },
    {
     "name": "stdout",
     "output_type": "stream",
     "text": [
      "{'epoch': 27, 'iter': 10200, 'avg_loss': 0.3192607875054823, 'avg_epd_acc': 96.88210511205243, 'avg_esd_acc': 90.26849389765708, 'loss': 0.31995242834091187}\n"
     ]
    },
    {
     "name": "stderr",
     "output_type": "stream",
     "text": [
      "                                                        \r"
     ]
    },
    {
     "name": "stdout",
     "output_type": "stream",
     "text": [
      "{'epoch': 27, 'iter': 10300, 'avg_loss': 0.3192941813347537, 'avg_epd_acc': 96.88215641799036, 'avg_esd_acc': 90.26831436268323, 'loss': 0.3044993579387665}\n"
     ]
    },
    {
     "name": "stderr",
     "output_type": "stream",
     "text": [
      "                                                        \r"
     ]
    },
    {
     "name": "stdout",
     "output_type": "stream",
     "text": [
      "{'epoch': 27, 'iter': 10400, 'avg_loss': 0.3192893233970087, 'avg_epd_acc': 96.88247374050573, 'avg_esd_acc': 90.26971565234112, 'loss': 0.32879093289375305}\n"
     ]
    },
    {
     "name": "stderr",
     "output_type": "stream",
     "text": [
      "                                                        \r"
     ]
    },
    {
     "name": "stdout",
     "output_type": "stream",
     "text": [
      "{'epoch': 27, 'iter': 10500, 'avg_loss': 0.3192652535218873, 'avg_epd_acc': 96.8825786820526, 'avg_esd_acc': 90.26856073231122, 'loss': 0.34896421432495117}\n"
     ]
    },
    {
     "name": "stderr",
     "output_type": "stream",
     "text": [
      "                                                        \r"
     ]
    },
    {
     "name": "stdout",
     "output_type": "stream",
     "text": [
      "{'epoch': 27, 'iter': 10600, 'avg_loss': 0.3192702608421809, 'avg_epd_acc': 96.88248531333277, 'avg_esd_acc': 90.26971217337987, 'loss': 0.2989840507507324}\n"
     ]
    },
    {
     "name": "stderr",
     "output_type": "stream",
     "text": [
      "                                                        \r"
     ]
    },
    {
     "name": "stdout",
     "output_type": "stream",
     "text": [
      "{'epoch': 27, 'iter': 10700, 'avg_loss': 0.3192698829904381, 'avg_epd_acc': 96.88265149631897, 'avg_esd_acc': 90.27208321652182, 'loss': 0.29211682081222534}\n"
     ]
    },
    {
     "name": "stderr",
     "output_type": "stream",
     "text": [
      "                                                        \r"
     ]
    },
    {
     "name": "stdout",
     "output_type": "stream",
     "text": [
      "{'epoch': 27, 'iter': 10800, 'avg_loss': 0.31925857569837823, 'avg_epd_acc': 96.88296661080282, 'avg_esd_acc': 90.2746273493195, 'loss': 0.3056035041809082}\n"
     ]
    },
    {
     "name": "stderr",
     "output_type": "stream",
     "text": [
      "                                                        \r"
     ]
    },
    {
     "name": "stdout",
     "output_type": "stream",
     "text": [
      "{'epoch': 27, 'iter': 10900, 'avg_loss': 0.31930752174152865, 'avg_epd_acc': 96.88284313795754, 'avg_esd_acc': 90.27217973121732, 'loss': 0.34783175587654114}\n"
     ]
    },
    {
     "name": "stderr",
     "output_type": "stream",
     "text": [
      "                                                        \r"
     ]
    },
    {
     "name": "stdout",
     "output_type": "stream",
     "text": [
      "{'epoch': 27, 'iter': 11000, 'avg_loss': 0.3192748464396754, 'avg_epd_acc': 96.88283398242206, 'avg_esd_acc': 90.27602604308699, 'loss': 0.34162819385528564}\n"
     ]
    },
    {
     "name": "stderr",
     "output_type": "stream",
     "text": [
      "                                                        \r"
     ]
    },
    {
     "name": "stdout",
     "output_type": "stream",
     "text": [
      "{'epoch': 27, 'iter': 11100, 'avg_loss': 0.31918854853068696, 'avg_epd_acc': 96.88212892384414, 'avg_esd_acc': 90.28402565084227, 'loss': 0.32323116064071655}\n"
     ]
    },
    {
     "name": "stderr",
     "output_type": "stream",
     "text": [
      "                                                        \r"
     ]
    },
    {
     "name": "stdout",
     "output_type": "stream",
     "text": [
      "{'epoch': 27, 'iter': 11200, 'avg_loss': 0.31921312573067623, 'avg_epd_acc': 96.88210614652849, 'avg_esd_acc': 90.28372187751094, 'loss': 0.3603450059890747}\n"
     ]
    },
    {
     "name": "stderr",
     "output_type": "stream",
     "text": [
      "                                                        \r"
     ]
    },
    {
     "name": "stdout",
     "output_type": "stream",
     "text": [
      "{'epoch': 27, 'iter': 11300, 'avg_loss': 0.31923545355338373, 'avg_epd_acc': 96.88235543573992, 'avg_esd_acc': 90.2817643350146, 'loss': 0.2940486967563629}\n"
     ]
    },
    {
     "name": "stderr",
     "output_type": "stream",
     "text": [
      "                                                          \r"
     ]
    },
    {
     "name": "stdout",
     "output_type": "stream",
     "text": [
      "{'epoch': 27, 'iter': 11400, 'avg_loss': 0.3193187226410885, 'avg_epd_acc': 96.88244295919081, 'avg_esd_acc': 90.27826506446803, 'loss': 0.34636402130126953}\n"
     ]
    },
    {
     "name": "stderr",
     "output_type": "stream",
     "text": [
      "                                                        \r"
     ]
    },
    {
     "name": "stdout",
     "output_type": "stream",
     "text": [
      "{'epoch': 27, 'iter': 11500, 'avg_loss': 0.31934665757493863, 'avg_epd_acc': 96.88264836685397, 'avg_esd_acc': 90.27625315189984, 'loss': 0.31171151995658875}\n"
     ]
    },
    {
     "name": "stderr",
     "output_type": "stream",
     "text": [
      "                                                        \r"
     ]
    },
    {
     "name": "stdout",
     "output_type": "stream",
     "text": [
      "{'epoch': 27, 'iter': 11600, 'avg_loss': 0.3193080623186762, 'avg_epd_acc': 96.88298807669463, 'avg_esd_acc': 90.27683497112318, 'loss': 0.3106268048286438}\n"
     ]
    },
    {
     "name": "stderr",
     "output_type": "stream",
     "text": [
      "                                                        \r"
     ]
    },
    {
     "name": "stdout",
     "output_type": "stream",
     "text": [
      "{'epoch': 27, 'iter': 11700, 'avg_loss': 0.31928349544264173, 'avg_epd_acc': 96.88259431535633, 'avg_esd_acc': 90.2792095761046, 'loss': 0.3449508845806122}\n"
     ]
    },
    {
     "name": "stderr",
     "output_type": "stream",
     "text": [
      "                                                        \r"
     ]
    },
    {
     "name": "stdout",
     "output_type": "stream",
     "text": [
      "{'epoch': 27, 'iter': 11800, 'avg_loss': 0.3193413709437036, 'avg_epd_acc': 96.8826685726779, 'avg_esd_acc': 90.27439411914244, 'loss': 0.2854406237602234}\n"
     ]
    },
    {
     "name": "stderr",
     "output_type": "stream",
     "text": [
      "                                                        \r"
     ]
    },
    {
     "name": "stdout",
     "output_type": "stream",
     "text": [
      "{'epoch': 27, 'iter': 11900, 'avg_loss': 0.31932089529801955, 'avg_epd_acc': 96.88267644919544, 'avg_esd_acc': 90.27602722460297, 'loss': 0.36860716342926025}\n"
     ]
    },
    {
     "name": "stderr",
     "output_type": "stream",
     "text": [
      "                                                        \r"
     ]
    },
    {
     "name": "stdout",
     "output_type": "stream",
     "text": [
      "{'epoch': 27, 'iter': 12000, 'avg_loss': 0.3193081515638563, 'avg_epd_acc': 96.88296137268509, 'avg_esd_acc': 90.27678683026414, 'loss': 0.3223056197166443}\n"
     ]
    },
    {
     "name": "stderr",
     "output_type": "stream",
     "text": [
      "                                                        \r"
     ]
    },
    {
     "name": "stdout",
     "output_type": "stream",
     "text": [
      "{'epoch': 27, 'iter': 12100, 'avg_loss': 0.31933206415981236, 'avg_epd_acc': 96.8830342864549, 'avg_esd_acc': 90.27585530121478, 'loss': 0.29702824354171753}\n"
     ]
    },
    {
     "name": "stderr",
     "output_type": "stream",
     "text": [
      "                                                        \r"
     ]
    },
    {
     "name": "stdout",
     "output_type": "stream",
     "text": [
      "{'epoch': 27, 'iter': 12200, 'avg_loss': 0.3193353625455163, 'avg_epd_acc': 96.88292891751958, 'avg_esd_acc': 90.27737224407836, 'loss': 0.3840530216693878}\n"
     ]
    },
    {
     "name": "stderr",
     "output_type": "stream",
     "text": [
      "                                                        \r"
     ]
    },
    {
     "name": "stdout",
     "output_type": "stream",
     "text": [
      "{'epoch': 27, 'iter': 12300, 'avg_loss': 0.3193522747934625, 'avg_epd_acc': 96.88295526103697, 'avg_esd_acc': 90.27607003495652, 'loss': 0.29582899808883667}\n"
     ]
    },
    {
     "name": "stderr",
     "output_type": "stream",
     "text": [
      "                                                        \r"
     ]
    },
    {
     "name": "stdout",
     "output_type": "stream",
     "text": [
      "{'epoch': 27, 'iter': 12400, 'avg_loss': 0.3192867683062735, 'avg_epd_acc': 96.8830166166035, 'avg_esd_acc': 90.27957674784291, 'loss': 0.41330686211586}\n"
     ]
    },
    {
     "name": "stderr",
     "output_type": "stream",
     "text": [
      "                                                        \r"
     ]
    },
    {
     "name": "stdout",
     "output_type": "stream",
     "text": [
      "{'epoch': 27, 'iter': 12500, 'avg_loss': 0.31927111262598473, 'avg_epd_acc': 96.8828060161437, 'avg_esd_acc': 90.28090252779778, 'loss': 0.30279725790023804}\n"
     ]
    },
    {
     "name": "stderr",
     "output_type": "stream",
     "text": [
      "                                                        \r"
     ]
    },
    {
     "name": "stdout",
     "output_type": "stream",
     "text": [
      "{'epoch': 27, 'iter': 12600, 'avg_loss': 0.31928489370773105, 'avg_epd_acc': 96.88294023741295, 'avg_esd_acc': 90.28121528053329, 'loss': 0.35783636569976807}\n"
     ]
    },
    {
     "name": "stderr",
     "output_type": "stream",
     "text": [
      "                                                        \r"
     ]
    },
    {
     "name": "stdout",
     "output_type": "stream",
     "text": [
      "{'epoch': 27, 'iter': 12700, 'avg_loss': 0.3192525567965999, 'avg_epd_acc': 96.88301371754685, 'avg_esd_acc': 90.28484469726793, 'loss': 0.32539844512939453}\n"
     ]
    },
    {
     "name": "stderr",
     "output_type": "stream",
     "text": [
      "                                                        \r"
     ]
    },
    {
     "name": "stdout",
     "output_type": "stream",
     "text": [
      "{'epoch': 27, 'iter': 12800, 'avg_loss': 0.31932155515205, 'avg_epd_acc': 96.88298592166261, 'avg_esd_acc': 90.28133788375908, 'loss': 0.30375921726226807}\n"
     ]
    },
    {
     "name": "stderr",
     "output_type": "stream",
     "text": [
      "                                                        \r"
     ]
    },
    {
     "name": "stdout",
     "output_type": "stream",
     "text": [
      "{'epoch': 27, 'iter': 12900, 'avg_loss': 0.31925652775664853, 'avg_epd_acc': 96.88351918501351, 'avg_esd_acc': 90.28491008448958, 'loss': 0.3674916625022888}\n"
     ]
    },
    {
     "name": "stderr",
     "output_type": "stream",
     "text": [
      "                                                        \r"
     ]
    },
    {
     "name": "stdout",
     "output_type": "stream",
     "text": [
      "{'epoch': 27, 'iter': 13000, 'avg_loss': 0.3192730833693987, 'avg_epd_acc': 96.88371608884653, 'avg_esd_acc': 90.28319936927929, 'loss': 0.2655968964099884}\n"
     ]
    },
    {
     "name": "stderr",
     "output_type": "stream",
     "text": [
      "                                                        \r"
     ]
    },
    {
     "name": "stdout",
     "output_type": "stream",
     "text": [
      "{'epoch': 27, 'iter': 13100, 'avg_loss': 0.31931580437743823, 'avg_epd_acc': 96.88383917273133, 'avg_esd_acc': 90.27960651858636, 'loss': 0.29389676451683044}\n"
     ]
    },
    {
     "name": "stderr",
     "output_type": "stream",
     "text": [
      "                                                        \r"
     ]
    },
    {
     "name": "stdout",
     "output_type": "stream",
     "text": [
      "{'epoch': 27, 'iter': 13200, 'avg_loss': 0.31926527775925095, 'avg_epd_acc': 96.88351699578274, 'avg_esd_acc': 90.28109849632604, 'loss': 0.3128129243850708}\n"
     ]
    },
    {
     "name": "stderr",
     "output_type": "stream",
     "text": [
      "                                                        \r"
     ]
    },
    {
     "name": "stdout",
     "output_type": "stream",
     "text": [
      "{'epoch': 27, 'iter': 13300, 'avg_loss': 0.3192224665500465, 'avg_epd_acc': 96.88352638326653, 'avg_esd_acc': 90.28538737688896, 'loss': 0.3311961889266968}\n"
     ]
    },
    {
     "name": "stderr",
     "output_type": "stream",
     "text": [
      "                                                        \r"
     ]
    },
    {
     "name": "stdout",
     "output_type": "stream",
     "text": [
      "{'epoch': 27, 'iter': 13400, 'avg_loss': 0.3191879627380111, 'avg_epd_acc': 96.88377292127221, 'avg_esd_acc': 90.28576458846355, 'loss': 0.2887420654296875}\n"
     ]
    },
    {
     "name": "stderr",
     "output_type": "stream",
     "text": [
      "                                                        \r"
     ]
    },
    {
     "name": "stdout",
     "output_type": "stream",
     "text": [
      "{'epoch': 27, 'iter': 13500, 'avg_loss': 0.3191617894138233, 'avg_epd_acc': 96.88413877256198, 'avg_esd_acc': 90.28654127472039, 'loss': 0.31378909945487976}\n"
     ]
    },
    {
     "name": "stderr",
     "output_type": "stream",
     "text": [
      "                                                        \r"
     ]
    },
    {
     "name": "stdout",
     "output_type": "stream",
     "text": [
      "{'epoch': 27, 'iter': 13600, 'avg_loss': 0.3191324086176035, 'avg_epd_acc': 96.88437718274392, 'avg_esd_acc': 90.28655981177855, 'loss': 0.22662436962127686}\n"
     ]
    },
    {
     "name": "stderr",
     "output_type": "stream",
     "text": [
      "                                                        \r"
     ]
    },
    {
     "name": "stdout",
     "output_type": "stream",
     "text": [
      "{'epoch': 27, 'iter': 13700, 'avg_loss': 0.3191096415674849, 'avg_epd_acc': 96.88447045023516, 'avg_esd_acc': 90.28891595503978, 'loss': 0.30920180678367615}\n"
     ]
    },
    {
     "name": "stderr",
     "output_type": "stream",
     "text": [
      "                                                        \r"
     ]
    },
    {
     "name": "stdout",
     "output_type": "stream",
     "text": [
      "{'epoch': 27, 'iter': 13800, 'avg_loss': 0.3191397376517767, 'avg_epd_acc': 96.88431912769002, 'avg_esd_acc': 90.28716216216216, 'loss': 0.3295767903327942}\n"
     ]
    },
    {
     "name": "stderr",
     "output_type": "stream",
     "text": [
      "                                                        \r"
     ]
    },
    {
     "name": "stdout",
     "output_type": "stream",
     "text": [
      "{'epoch': 27, 'iter': 13900, 'avg_loss': 0.31914512666019895, 'avg_epd_acc': 96.88436229506307, 'avg_esd_acc': 90.28644521976837, 'loss': 0.323794960975647}\n"
     ]
    },
    {
     "name": "stderr",
     "output_type": "stream",
     "text": [
      "                                                        \r"
     ]
    },
    {
     "name": "stdout",
     "output_type": "stream",
     "text": [
      "{'epoch': 27, 'iter': 14000, 'avg_loss': 0.3191212365982081, 'avg_epd_acc': 96.88461060677585, 'avg_esd_acc': 90.28624071494893, 'loss': 0.3165191113948822}\n"
     ]
    },
    {
     "name": "stderr",
     "output_type": "stream",
     "text": [
      "                                                        \r"
     ]
    },
    {
     "name": "stdout",
     "output_type": "stream",
     "text": [
      "{'epoch': 27, 'iter': 14100, 'avg_loss': 0.3190611017753398, 'avg_epd_acc': 96.88485972501397, 'avg_esd_acc': 90.2910254591873, 'loss': 0.3308410346508026}\n"
     ]
    },
    {
     "name": "stderr",
     "output_type": "stream",
     "text": [
      "                                                        \r"
     ]
    },
    {
     "name": "stdout",
     "output_type": "stream",
     "text": [
      "{'epoch': 27, 'iter': 14200, 'avg_loss': 0.31901338480113384, 'avg_epd_acc': 96.88464588417519, 'avg_esd_acc': 90.29524769382438, 'loss': 0.37529587745666504}\n"
     ]
    },
    {
     "name": "stderr",
     "output_type": "stream",
     "text": [
      "                                                        \r"
     ]
    },
    {
     "name": "stdout",
     "output_type": "stream",
     "text": [
      "{'epoch': 27, 'iter': 14300, 'avg_loss': 0.3189416255638588, 'avg_epd_acc': 96.88470519161685, 'avg_esd_acc': 90.2993562513111, 'loss': 0.2735940217971802}\n"
     ]
    },
    {
     "name": "stderr",
     "output_type": "stream",
     "text": [
      "                                                        \r"
     ]
    },
    {
     "name": "stdout",
     "output_type": "stream",
     "text": [
      "{'epoch': 27, 'iter': 14400, 'avg_loss': 0.31890684990582885, 'avg_epd_acc': 96.88527989524924, 'avg_esd_acc': 90.2999900180543, 'loss': 0.29229724407196045}\n"
     ]
    },
    {
     "name": "stderr",
     "output_type": "stream",
     "text": [
      "                                                        \r"
     ]
    },
    {
     "name": "stdout",
     "output_type": "stream",
     "text": [
      "{'epoch': 27, 'iter': 14500, 'avg_loss': 0.31888945537179547, 'avg_epd_acc': 96.88513239994764, 'avg_esd_acc': 90.30099217295358, 'loss': 0.2912614941596985}\n"
     ]
    },
    {
     "name": "stderr",
     "output_type": "stream",
     "text": [
      "                                                        \r"
     ]
    },
    {
     "name": "stdout",
     "output_type": "stream",
     "text": [
      "{'epoch': 27, 'iter': 14600, 'avg_loss': 0.3189155837122557, 'avg_epd_acc': 96.88507972551645, 'avg_esd_acc': 90.29989384288747, 'loss': 0.26936963200569153}\n"
     ]
    },
    {
     "name": "stderr",
     "output_type": "stream",
     "text": [
      "                                                        \r"
     ]
    },
    {
     "name": "stdout",
     "output_type": "stream",
     "text": [
      "{'epoch': 27, 'iter': 14700, 'avg_loss': 0.3188415981561065, 'avg_epd_acc': 96.88512491909033, 'avg_esd_acc': 90.30369957825998, 'loss': 0.3006894886493683}\n"
     ]
    },
    {
     "name": "stderr",
     "output_type": "stream",
     "text": [
      "                                                        \r"
     ]
    },
    {
     "name": "stdout",
     "output_type": "stream",
     "text": [
      "{'epoch': 27, 'iter': 14800, 'avg_loss': 0.31881377432170926, 'avg_epd_acc': 96.88515589371073, 'avg_esd_acc': 90.30639821633673, 'loss': 0.3498322367668152}\n"
     ]
    },
    {
     "name": "stderr",
     "output_type": "stream",
     "text": [
      "                                                        \r"
     ]
    },
    {
     "name": "stdout",
     "output_type": "stream",
     "text": [
      "{'epoch': 27, 'iter': 14900, 'avg_loss': 0.31880287087953263, 'avg_epd_acc': 96.88513074638972, 'avg_esd_acc': 90.30528571907925, 'loss': 0.25802257657051086}\n"
     ]
    },
    {
     "name": "stderr",
     "output_type": "stream",
     "text": [
      "                                                        \r"
     ]
    },
    {
     "name": "stdout",
     "output_type": "stream",
     "text": [
      "{'epoch': 27, 'iter': 15000, 'avg_loss': 0.31873723258019193, 'avg_epd_acc': 96.88496881783402, 'avg_esd_acc': 90.31080219652023, 'loss': 0.28534236550331116}\n"
     ]
    },
    {
     "name": "stderr",
     "output_type": "stream",
     "text": [
      "                                                        \r"
     ]
    },
    {
     "name": "stdout",
     "output_type": "stream",
     "text": [
      "{'epoch': 27, 'iter': 15100, 'avg_loss': 0.3187285117120682, 'avg_epd_acc': 96.88506528373017, 'avg_esd_acc': 90.30869230514536, 'loss': 0.3105519413948059}\n"
     ]
    },
    {
     "name": "stderr",
     "output_type": "stream",
     "text": [
      "                                                        \r"
     ]
    },
    {
     "name": "stdout",
     "output_type": "stream",
     "text": [
      "{'epoch': 27, 'iter': 15200, 'avg_loss': 0.31867081949125975, 'avg_epd_acc': 96.88501512994108, 'avg_esd_acc': 90.31051616669956, 'loss': 0.3007321357727051}\n"
     ]
    },
    {
     "name": "stderr",
     "output_type": "stream",
     "text": [
      "                                                        \r"
     ]
    },
    {
     "name": "stdout",
     "output_type": "stream",
     "text": [
      "{'epoch': 27, 'iter': 15300, 'avg_loss': 0.31868716126333285, 'avg_epd_acc': 96.88497879529933, 'avg_esd_acc': 90.30925266322463, 'loss': 0.3640167713165283}\n"
     ]
    },
    {
     "name": "stderr",
     "output_type": "stream",
     "text": [
      "                                                        \r"
     ]
    },
    {
     "name": "stdout",
     "output_type": "stream",
     "text": [
      "{'epoch': 27, 'iter': 15400, 'avg_loss': 0.31865879397242575, 'avg_epd_acc': 96.88496354044076, 'avg_esd_acc': 90.31013611129147, 'loss': 0.2739940285682678}\n"
     ]
    },
    {
     "name": "stderr",
     "output_type": "stream",
     "text": [
      "                                                        \r"
     ]
    },
    {
     "name": "stdout",
     "output_type": "stream",
     "text": [
      "{'epoch': 27, 'iter': 15500, 'avg_loss': 0.31861265562582874, 'avg_epd_acc': 96.8848181512231, 'avg_esd_acc': 90.31201616024772, 'loss': 0.3271339535713196}\n"
     ]
    },
    {
     "name": "stderr",
     "output_type": "stream",
     "text": [
      "                                                        \r"
     ]
    },
    {
     "name": "stdout",
     "output_type": "stream",
     "text": [
      "{'epoch': 27, 'iter': 15600, 'avg_loss': 0.31854275698218926, 'avg_epd_acc': 96.88530136977897, 'avg_esd_acc': 90.31362172296647, 'loss': 0.2981458604335785}\n"
     ]
    },
    {
     "name": "stderr",
     "output_type": "stream",
     "text": [
      "                                                        \r"
     ]
    },
    {
     "name": "stdout",
     "output_type": "stream",
     "text": [
      "{'epoch': 27, 'iter': 15700, 'avg_loss': 0.3185375377248255, 'avg_epd_acc': 96.88512030608122, 'avg_esd_acc': 90.31421167441565, 'loss': 0.32947051525115967}\n"
     ]
    },
    {
     "name": "stderr",
     "output_type": "stream",
     "text": [
      "                                                        \r"
     ]
    },
    {
     "name": "stdout",
     "output_type": "stream",
     "text": [
      "{'epoch': 27, 'iter': 15800, 'avg_loss': 0.3185400846598458, 'avg_epd_acc': 96.88488359308252, 'avg_esd_acc': 90.31400306942598, 'loss': 0.3885470926761627}\n"
     ]
    },
    {
     "name": "stderr",
     "output_type": "stream",
     "text": [
      "                                                        \r"
     ]
    },
    {
     "name": "stdout",
     "output_type": "stream",
     "text": [
      "{'epoch': 27, 'iter': 15900, 'avg_loss': 0.31854378491214635, 'avg_epd_acc': 96.88497535778016, 'avg_esd_acc': 90.31487799509465, 'loss': 0.29952096939086914}\n"
     ]
    },
    {
     "name": "stderr",
     "output_type": "stream",
     "text": [
      "                                                        \r"
     ]
    },
    {
     "name": "stdout",
     "output_type": "stream",
     "text": [
      "{'epoch': 27, 'iter': 16000, 'avg_loss': 0.3185490339484098, 'avg_epd_acc': 96.88490119086795, 'avg_esd_acc': 90.31427723267296, 'loss': 0.36217695474624634}\n"
     ]
    },
    {
     "name": "stderr",
     "output_type": "stream",
     "text": [
      "                                                        \r"
     ]
    },
    {
     "name": "stdout",
     "output_type": "stream",
     "text": [
      "{'epoch': 27, 'iter': 16100, 'avg_loss': 0.3184880809316457, 'avg_epd_acc': 96.88483135691786, 'avg_esd_acc': 90.3182935066145, 'loss': 0.31071627140045166}\n"
     ]
    },
    {
     "name": "stderr",
     "output_type": "stream",
     "text": [
      "                                                        \r"
     ]
    },
    {
     "name": "stdout",
     "output_type": "stream",
     "text": [
      "{'epoch': 27, 'iter': 16200, 'avg_loss': 0.3184693054612879, 'avg_epd_acc': 96.88474957600515, 'avg_esd_acc': 90.32086175236097, 'loss': 0.30637919902801514}\n"
     ]
    },
    {
     "name": "stderr",
     "output_type": "stream",
     "text": [
      "                                                        \r"
     ]
    },
    {
     "name": "stdout",
     "output_type": "stream",
     "text": [
      "{'epoch': 27, 'iter': 16300, 'avg_loss': 0.31845552737574206, 'avg_epd_acc': 96.88477588426802, 'avg_esd_acc': 90.32128972148948, 'loss': 0.30350354313850403}\n"
     ]
    },
    {
     "name": "stderr",
     "output_type": "stream",
     "text": [
      "                                                        \r"
     ]
    },
    {
     "name": "stdout",
     "output_type": "stream",
     "text": [
      "{'epoch': 27, 'iter': 16400, 'avg_loss': 0.31845354064540393, 'avg_epd_acc': 96.88456556097952, 'avg_esd_acc': 90.32247462044998, 'loss': 0.32537609338760376}\n"
     ]
    },
    {
     "name": "stderr",
     "output_type": "stream",
     "text": [
      "                                                        \r"
     ]
    },
    {
     "name": "stdout",
     "output_type": "stream",
     "text": [
      "{'epoch': 27, 'iter': 16500, 'avg_loss': 0.3184256473965128, 'avg_epd_acc': 96.88436111589827, 'avg_esd_acc': 90.32658058602509, 'loss': 0.2895438075065613}\n"
     ]
    },
    {
     "name": "stderr",
     "output_type": "stream",
     "text": [
      "                                                        \r"
     ]
    },
    {
     "name": "stdout",
     "output_type": "stream",
     "text": [
      "{'epoch': 27, 'iter': 16600, 'avg_loss': 0.3184102295475633, 'avg_epd_acc': 96.88426538746255, 'avg_esd_acc': 90.32696637250768, 'loss': 0.2862626910209656}\n"
     ]
    },
    {
     "name": "stderr",
     "output_type": "stream",
     "text": [
      "                                                        \r"
     ]
    },
    {
     "name": "stdout",
     "output_type": "stream",
     "text": [
      "{'epoch': 27, 'iter': 16700, 'avg_loss': 0.31840770977191973, 'avg_epd_acc': 96.88431954685068, 'avg_esd_acc': 90.32655230225734, 'loss': 0.3009670674800873}\n"
     ]
    },
    {
     "name": "stderr",
     "output_type": "stream",
     "text": [
      "                                                        \r"
     ]
    },
    {
     "name": "stdout",
     "output_type": "stream",
     "text": [
      "{'epoch': 27, 'iter': 16800, 'avg_loss': 0.3184403786337608, 'avg_epd_acc': 96.88451328871328, 'avg_esd_acc': 90.32595716028807, 'loss': 0.3200821280479431}\n"
     ]
    },
    {
     "name": "stderr",
     "output_type": "stream",
     "text": [
      "                                                        \r"
     ]
    },
    {
     "name": "stdout",
     "output_type": "stream",
     "text": [
      "{'epoch': 27, 'iter': 16900, 'avg_loss': 0.3184369570938739, 'avg_epd_acc': 96.88420565154706, 'avg_esd_acc': 90.32717183894444, 'loss': 0.30867356061935425}\n"
     ]
    },
    {
     "name": "stderr",
     "output_type": "stream",
     "text": [
      "                                                        \r"
     ]
    },
    {
     "name": "stdout",
     "output_type": "stream",
     "text": [
      "{'epoch': 27, 'iter': 17000, 'avg_loss': 0.3184677465473103, 'avg_epd_acc': 96.8842319219044, 'avg_esd_acc': 90.3240526292571, 'loss': 0.2852492332458496}\n"
     ]
    },
    {
     "name": "stderr",
     "output_type": "stream",
     "text": [
      "                                                        \r"
     ]
    },
    {
     "name": "stdout",
     "output_type": "stream",
     "text": [
      "{'epoch': 27, 'iter': 17100, 'avg_loss': 0.318462571866484, 'avg_epd_acc': 96.88444347815461, 'avg_esd_acc': 90.32398507397228, 'loss': 0.31851375102996826}\n"
     ]
    },
    {
     "name": "stderr",
     "output_type": "stream",
     "text": [
      "                                                        \r"
     ]
    },
    {
     "name": "stdout",
     "output_type": "stream",
     "text": [
      "{'epoch': 27, 'iter': 17200, 'avg_loss': 0.31846015577028397, 'avg_epd_acc': 96.88445244769109, 'avg_esd_acc': 90.32514461368525, 'loss': 0.29427796602249146}\n"
     ]
    },
    {
     "name": "stderr",
     "output_type": "stream",
     "text": [
      "                                                        \r"
     ]
    },
    {
     "name": "stdout",
     "output_type": "stream",
     "text": [
      "{'epoch': 27, 'iter': 17300, 'avg_loss': 0.31849483970110626, 'avg_epd_acc': 96.88430220796485, 'avg_esd_acc': 90.32276855384082, 'loss': 0.33004096150398254}\n"
     ]
    },
    {
     "name": "stderr",
     "output_type": "stream",
     "text": [
      "                                                        \r"
     ]
    },
    {
     "name": "stdout",
     "output_type": "stream",
     "text": [
      "{'epoch': 27, 'iter': 17400, 'avg_loss': 0.31849944299767396, 'avg_epd_acc': 96.88443289728768, 'avg_esd_acc': 90.32248505832999, 'loss': 0.27893781661987305}\n"
     ]
    },
    {
     "name": "stderr",
     "output_type": "stream",
     "text": [
      "                                                        \r"
     ]
    },
    {
     "name": "stdout",
     "output_type": "stream",
     "text": [
      "{'epoch': 27, 'iter': 17500, 'avg_loss': 0.3184777438882405, 'avg_epd_acc': 96.88463009982019, 'avg_esd_acc': 90.32381185360836, 'loss': 0.2957371473312378}\n"
     ]
    },
    {
     "name": "stderr",
     "output_type": "stream",
     "text": [
      "                                                        \r"
     ]
    },
    {
     "name": "stdout",
     "output_type": "stream",
     "text": [
      "{'epoch': 27, 'iter': 17600, 'avg_loss': 0.31848136421584466, 'avg_epd_acc': 96.8843156550054, 'avg_esd_acc': 90.32445777228565, 'loss': 0.2659343481063843}\n"
     ]
    },
    {
     "name": "stderr",
     "output_type": "stream",
     "text": [
      "                                                        \r"
     ]
    },
    {
     "name": "stdout",
     "output_type": "stream",
     "text": [
      "{'epoch': 27, 'iter': 17700, 'avg_loss': 0.3184742645084989, 'avg_epd_acc': 96.8841399293075, 'avg_esd_acc': 90.3257142958025, 'loss': 0.2635129690170288}\n"
     ]
    },
    {
     "name": "stderr",
     "output_type": "stream",
     "text": [
      "                                                        \r"
     ]
    },
    {
     "name": "stdout",
     "output_type": "stream",
     "text": [
      "{'epoch': 27, 'iter': 17800, 'avg_loss': 0.3184865513647696, 'avg_epd_acc': 96.8841208145127, 'avg_esd_acc': 90.32564006235604, 'loss': 0.25071460008621216}\n"
     ]
    },
    {
     "name": "stderr",
     "output_type": "stream",
     "text": [
      "                                                        \r"
     ]
    },
    {
     "name": "stdout",
     "output_type": "stream",
     "text": [
      "{'epoch': 27, 'iter': 17900, 'avg_loss': 0.31846270854529984, 'avg_epd_acc': 96.88395189110857, 'avg_esd_acc': 90.32547937266074, 'loss': 0.31510356068611145}\n"
     ]
    },
    {
     "name": "stderr",
     "output_type": "stream",
     "text": [
      "                                                        \r"
     ]
    },
    {
     "name": "stdout",
     "output_type": "stream",
     "text": [
      "{'epoch': 27, 'iter': 18000, 'avg_loss': 0.31846311872276717, 'avg_epd_acc': 96.88381366508284, 'avg_esd_acc': 90.32657907894006, 'loss': 0.2932179868221283}\n"
     ]
    },
    {
     "name": "stderr",
     "output_type": "stream",
     "text": [
      "                                                        \r"
     ]
    },
    {
     "name": "stdout",
     "output_type": "stream",
     "text": [
      "{'epoch': 27, 'iter': 18100, 'avg_loss': 0.3184893617756254, 'avg_epd_acc': 96.88381285478013, 'avg_esd_acc': 90.3253791227004, 'loss': 0.24634715914726257}\n"
     ]
    },
    {
     "name": "stderr",
     "output_type": "stream",
     "text": [
      "                                                        \r"
     ]
    },
    {
     "name": "stdout",
     "output_type": "stream",
     "text": [
      "{'epoch': 27, 'iter': 18200, 'avg_loss': 0.3184999605460348, 'avg_epd_acc': 96.8839991728648, 'avg_esd_acc': 90.32397773473984, 'loss': 0.33203789591789246}\n"
     ]
    },
    {
     "name": "stderr",
     "output_type": "stream",
     "text": [
      "                                                        \r"
     ]
    },
    {
     "name": "stdout",
     "output_type": "stream",
     "text": [
      "{'epoch': 27, 'iter': 18300, 'avg_loss': 0.3184775211872491, 'avg_epd_acc': 96.88397301174201, 'avg_esd_acc': 90.32579333096552, 'loss': 0.31208619475364685}\n"
     ]
    },
    {
     "name": "stderr",
     "output_type": "stream",
     "text": [
      "                                                        \r"
     ]
    },
    {
     "name": "stdout",
     "output_type": "stream",
     "text": [
      "{'epoch': 27, 'iter': 18400, 'avg_loss': 0.31848386416347263, 'avg_epd_acc': 96.88407085711628, 'avg_esd_acc': 90.32665514102494, 'loss': 0.28541556000709534}\n"
     ]
    },
    {
     "name": "stderr",
     "output_type": "stream",
     "text": [
      "                                                        \r"
     ]
    },
    {
     "name": "stdout",
     "output_type": "stream",
     "text": [
      "{'epoch': 27, 'iter': 18500, 'avg_loss': 0.31851643028871274, 'avg_epd_acc': 96.88418941828736, 'avg_esd_acc': 90.32472062320956, 'loss': 0.3376660645008087}\n"
     ]
    },
    {
     "name": "stderr",
     "output_type": "stream",
     "text": [
      "                                                        \r"
     ]
    },
    {
     "name": "stdout",
     "output_type": "stream",
     "text": [
      "{'epoch': 27, 'iter': 18600, 'avg_loss': 0.31853064235135, 'avg_epd_acc': 96.8844287684256, 'avg_esd_acc': 90.32305890812322, 'loss': 0.3329605460166931}\n"
     ]
    },
    {
     "name": "stderr",
     "output_type": "stream",
     "text": [
      "                                                        \r"
     ]
    },
    {
     "name": "stdout",
     "output_type": "stream",
     "text": [
      "{'epoch': 27, 'iter': 18700, 'avg_loss': 0.31853280267650563, 'avg_epd_acc': 96.88445570048059, 'avg_esd_acc': 90.32216692957596, 'loss': 0.3051382005214691}\n"
     ]
    },
    {
     "name": "stderr",
     "output_type": "stream",
     "text": [
      "                                                        \r"
     ]
    },
    {
     "name": "stdout",
     "output_type": "stream",
     "text": [
      "{'epoch': 27, 'iter': 18800, 'avg_loss': 0.3185106354912864, 'avg_epd_acc': 96.88446319240832, 'avg_esd_acc': 90.32311279985107, 'loss': 0.3210839629173279}\n"
     ]
    },
    {
     "name": "stderr",
     "output_type": "stream",
     "text": [
      "                                                        \r"
     ]
    },
    {
     "name": "stdout",
     "output_type": "stream",
     "text": [
      "{'epoch': 27, 'iter': 18900, 'avg_loss': 0.3185004216436671, 'avg_epd_acc': 96.88457071033774, 'avg_esd_acc': 90.32437933178139, 'loss': 0.34703516960144043}\n"
     ]
    },
    {
     "name": "stderr",
     "output_type": "stream",
     "text": [
      "                                                        \r"
     ]
    },
    {
     "name": "stdout",
     "output_type": "stream",
     "text": [
      "{'epoch': 27, 'iter': 19000, 'avg_loss': 0.31853449713066434, 'avg_epd_acc': 96.88457366347495, 'avg_esd_acc': 90.32254881322037, 'loss': 0.27813073992729187}\n"
     ]
    },
    {
     "name": "stderr",
     "output_type": "stream",
     "text": [
      "                                                        \r"
     ]
    },
    {
     "name": "stdout",
     "output_type": "stream",
     "text": [
      "{'epoch': 27, 'iter': 19100, 'avg_loss': 0.31854412176990865, 'avg_epd_acc': 96.88435770143333, 'avg_esd_acc': 90.32131007538872, 'loss': 0.3323820233345032}\n"
     ]
    },
    {
     "name": "stderr",
     "output_type": "stream",
     "text": [
      "                                                        \r"
     ]
    },
    {
     "name": "stdout",
     "output_type": "stream",
     "text": [
      "{'epoch': 27, 'iter': 19200, 'avg_loss': 0.3185231793705023, 'avg_epd_acc': 96.88434870030369, 'avg_esd_acc': 90.32248483151919, 'loss': 0.3466919958591461}\n"
     ]
    },
    {
     "name": "stderr",
     "output_type": "stream",
     "text": [
      "                                                        \r"
     ]
    },
    {
     "name": "stdout",
     "output_type": "stream",
     "text": [
      "{'epoch': 27, 'iter': 19300, 'avg_loss': 0.31849605376133927, 'avg_epd_acc': 96.88435275779105, 'avg_esd_acc': 90.32348550593234, 'loss': 0.2942696809768677}\n"
     ]
    },
    {
     "name": "stderr",
     "output_type": "stream",
     "text": [
      "                                                        \r"
     ]
    },
    {
     "name": "stdout",
     "output_type": "stream",
     "text": [
      "{'epoch': 27, 'iter': 19400, 'avg_loss': 0.318457313049768, 'avg_epd_acc': 96.88428347211887, 'avg_esd_acc': 90.32544230967477, 'loss': 0.26468154788017273}\n"
     ]
    },
    {
     "name": "stderr",
     "output_type": "stream",
     "text": [
      "                                                        \r"
     ]
    },
    {
     "name": "stdout",
     "output_type": "stream",
     "text": [
      "{'epoch': 27, 'iter': 19500, 'avg_loss': 0.3184446903234763, 'avg_epd_acc': 96.88428187576919, 'avg_esd_acc': 90.32689830008718, 'loss': 0.3255869448184967}\n"
     ]
    },
    {
     "name": "stderr",
     "output_type": "stream",
     "text": [
      "                                                        \r"
     ]
    },
    {
     "name": "stdout",
     "output_type": "stream",
     "text": [
      "{'epoch': 27, 'iter': 19600, 'avg_loss': 0.31846283939543274, 'avg_epd_acc': 96.88437869430689, 'avg_esd_acc': 90.3262269782154, 'loss': 0.31650203466415405}\n"
     ]
    },
    {
     "name": "stderr",
     "output_type": "stream",
     "text": [
      "                                                        \r"
     ]
    },
    {
     "name": "stdout",
     "output_type": "stream",
     "text": [
      "{'epoch': 27, 'iter': 19700, 'avg_loss': 0.31847916330188597, 'avg_epd_acc': 96.88459628427411, 'avg_esd_acc': 90.32361935942338, 'loss': 0.2969306707382202}\n"
     ]
    },
    {
     "name": "stderr",
     "output_type": "stream",
     "text": [
      "                                                        \r"
     ]
    },
    {
     "name": "stdout",
     "output_type": "stream",
     "text": [
      "{'epoch': 27, 'iter': 19800, 'avg_loss': 0.3184461220929577, 'avg_epd_acc': 96.88449942652045, 'avg_esd_acc': 90.32573323317004, 'loss': 0.31329435110092163}\n"
     ]
    },
    {
     "name": "stderr",
     "output_type": "stream",
     "text": [
      "                                                        \r"
     ]
    },
    {
     "name": "stdout",
     "output_type": "stream",
     "text": [
      "{'epoch': 27, 'iter': 19900, 'avg_loss': 0.3184545017652707, 'avg_epd_acc': 96.88447990894772, 'avg_esd_acc': 90.32499937189085, 'loss': 0.25910302996635437}\n"
     ]
    },
    {
     "name": "stderr",
     "output_type": "stream",
     "text": [
      "                                                        \r"
     ]
    },
    {
     "name": "stdout",
     "output_type": "stream",
     "text": [
      "{'epoch': 27, 'iter': 20000, 'avg_loss': 0.31845223485103313, 'avg_epd_acc': 96.88477703800356, 'avg_esd_acc': 90.32474157542123, 'loss': 0.4083309769630432}\n"
     ]
    },
    {
     "name": "stderr",
     "output_type": "stream",
     "text": [
      "                                                        \r"
     ]
    },
    {
     "name": "stdout",
     "output_type": "stream",
     "text": [
      "{'epoch': 27, 'iter': 20100, 'avg_loss': 0.3184479329160337, 'avg_epd_acc': 96.88486260837847, 'avg_esd_acc': 90.3243697452863, 'loss': 0.3451419770717621}\n"
     ]
    },
    {
     "name": "stderr",
     "output_type": "stream",
     "text": [
      "                                                        \r"
     ]
    },
    {
     "name": "stdout",
     "output_type": "stream",
     "text": [
      "{'epoch': 27, 'iter': 20200, 'avg_loss': 0.3184408977717009, 'avg_epd_acc': 96.8848539705259, 'avg_esd_acc': 90.32469772536012, 'loss': 0.3112785220146179}\n"
     ]
    },
    {
     "name": "stderr",
     "output_type": "stream",
     "text": [
      "                                                        \r"
     ]
    },
    {
     "name": "stdout",
     "output_type": "stream",
     "text": [
      "{'epoch': 27, 'iter': 20300, 'avg_loss': 0.3184297036224149, 'avg_epd_acc': 96.88493831892518, 'avg_esd_acc': 90.32563820747747, 'loss': 0.3231973946094513}\n"
     ]
    },
    {
     "name": "stderr",
     "output_type": "stream",
     "text": [
      "                                                        \r"
     ]
    },
    {
     "name": "stdout",
     "output_type": "stream",
     "text": [
      "{'epoch': 27, 'iter': 20400, 'avg_loss': 0.3184449896409952, 'avg_epd_acc': 96.8850050864924, 'avg_esd_acc': 90.32618652271948, 'loss': 0.2900416851043701}\n"
     ]
    },
    {
     "name": "stderr",
     "output_type": "stream",
     "text": [
      "                                                        \r"
     ]
    },
    {
     "name": "stdout",
     "output_type": "stream",
     "text": [
      "{'epoch': 27, 'iter': 20500, 'avg_loss': 0.31846986655493864, 'avg_epd_acc': 96.88481605842017, 'avg_esd_acc': 90.32539571240427, 'loss': 0.319405198097229}\n"
     ]
    },
    {
     "name": "stderr",
     "output_type": "stream",
     "text": [
      "                                                        \r"
     ]
    },
    {
     "name": "stdout",
     "output_type": "stream",
     "text": [
      "{'epoch': 27, 'iter': 20600, 'avg_loss': 0.3184806387590312, 'avg_epd_acc': 96.88454561283054, 'avg_esd_acc': 90.32521934614824, 'loss': 0.3171589970588684}\n"
     ]
    },
    {
     "name": "stderr",
     "output_type": "stream",
     "text": [
      "                                                        \r"
     ]
    },
    {
     "name": "stdout",
     "output_type": "stream",
     "text": [
      "{'epoch': 27, 'iter': 20700, 'avg_loss': 0.3184681087106065, 'avg_epd_acc': 96.88456760939236, 'avg_esd_acc': 90.3262523549587, 'loss': 0.2627982497215271}\n"
     ]
    },
    {
     "name": "stderr",
     "output_type": "stream",
     "text": [
      "                                                        \r"
     ]
    },
    {
     "name": "stdout",
     "output_type": "stream",
     "text": [
      "{'epoch': 27, 'iter': 20800, 'avg_loss': 0.31847391933995045, 'avg_epd_acc': 96.88462049741824, 'avg_esd_acc': 90.32708764001731, 'loss': 0.26021021604537964}\n"
     ]
    },
    {
     "name": "stderr",
     "output_type": "stream",
     "text": [
      "                                                        \r"
     ]
    },
    {
     "name": "stdout",
     "output_type": "stream",
     "text": [
      "{'epoch': 27, 'iter': 20900, 'avg_loss': 0.3184793297390146, 'avg_epd_acc': 96.88441677758765, 'avg_esd_acc': 90.32709260322473, 'loss': 0.3427254855632782}\n"
     ]
    },
    {
     "name": "stderr",
     "output_type": "stream",
     "text": [
      "                                                        \r"
     ]
    },
    {
     "name": "stdout",
     "output_type": "stream",
     "text": [
      "{'epoch': 27, 'iter': 21000, 'avg_loss': 0.31848950921413494, 'avg_epd_acc': 96.88459688536038, 'avg_esd_acc': 90.32583269844294, 'loss': 0.2941455543041229}\n"
     ]
    },
    {
     "name": "stderr",
     "output_type": "stream",
     "text": [
      "                                                        \r"
     ]
    },
    {
     "name": "stdout",
     "output_type": "stream",
     "text": [
      "{'epoch': 27, 'iter': 21100, 'avg_loss': 0.3185205602222447, 'avg_epd_acc': 96.8843552914961, 'avg_esd_acc': 90.32288161698497, 'loss': 0.2822948694229126}\n"
     ]
    },
    {
     "name": "stderr",
     "output_type": "stream",
     "text": [
      "                                                        \r"
     ]
    },
    {
     "name": "stdout",
     "output_type": "stream",
     "text": [
      "{'epoch': 27, 'iter': 21200, 'avg_loss': 0.31853896527561704, 'avg_epd_acc': 96.88443956293705, 'avg_esd_acc': 90.32305374746474, 'loss': 0.2564116418361664}\n"
     ]
    },
    {
     "name": "stderr",
     "output_type": "stream",
     "text": [
      "                                                        \r"
     ]
    },
    {
     "name": "stdout",
     "output_type": "stream",
     "text": [
      "{'epoch': 27, 'iter': 21300, 'avg_loss': 0.3185359285762683, 'avg_epd_acc': 96.88461272908255, 'avg_esd_acc': 90.32219731468007, 'loss': 0.28845086693763733}\n"
     ]
    },
    {
     "name": "stderr",
     "output_type": "stream",
     "text": [
      "                                                        \r"
     ]
    },
    {
     "name": "stdout",
     "output_type": "stream",
     "text": [
      "{'epoch': 27, 'iter': 21400, 'avg_loss': 0.31851011474975544, 'avg_epd_acc': 96.88469615084429, 'avg_esd_acc': 90.3240137727209, 'loss': 0.2506885826587677}\n"
     ]
    },
    {
     "name": "stderr",
     "output_type": "stream",
     "text": [
      "                                                        \r"
     ]
    },
    {
     "name": "stdout",
     "output_type": "stream",
     "text": [
      "{'epoch': 27, 'iter': 21500, 'avg_loss': 0.3185329520850951, 'avg_epd_acc': 96.88458349320962, 'avg_esd_acc': 90.32428724245383, 'loss': 0.35319048166275024}\n"
     ]
    },
    {
     "name": "stderr",
     "output_type": "stream",
     "text": [
      "                                                        \r"
     ]
    },
    {
     "name": "stdout",
     "output_type": "stream",
     "text": [
      "{'epoch': 27, 'iter': 21600, 'avg_loss': 0.3185534643374142, 'avg_epd_acc': 96.88477138916456, 'avg_esd_acc': 90.32173713022546, 'loss': 0.2918652594089508}\n"
     ]
    },
    {
     "name": "stderr",
     "output_type": "stream",
     "text": [
      "                                                        \r"
     ]
    },
    {
     "name": "stdout",
     "output_type": "stream",
     "text": [
      "{'epoch': 27, 'iter': 21700, 'avg_loss': 0.31854618607119567, 'avg_epd_acc': 96.88484927024892, 'avg_esd_acc': 90.32115455508962, 'loss': 0.2522943615913391}\n"
     ]
    },
    {
     "name": "stderr",
     "output_type": "stream",
     "text": [
      "                                                        \r"
     ]
    },
    {
     "name": "stdout",
     "output_type": "stream",
     "text": [
      "{'epoch': 27, 'iter': 21800, 'avg_loss': 0.31855221949546775, 'avg_epd_acc': 96.88478981397068, 'avg_esd_acc': 90.31989644970415, 'loss': 0.4003955125808716}\n"
     ]
    },
    {
     "name": "stderr",
     "output_type": "stream",
     "text": [
      "                                                        \r"
     ]
    },
    {
     "name": "stdout",
     "output_type": "stream",
     "text": [
      "{'epoch': 27, 'iter': 21900, 'avg_loss': 0.318563777782439, 'avg_epd_acc': 96.88487135870294, 'avg_esd_acc': 90.31889953655084, 'loss': 0.32292598485946655}\n"
     ]
    },
    {
     "name": "stderr",
     "output_type": "stream",
     "text": [
      "                                                        \r"
     ]
    },
    {
     "name": "stdout",
     "output_type": "stream",
     "text": [
      "{'epoch': 27, 'iter': 22000, 'avg_loss': 0.31854623911445895, 'avg_epd_acc': 96.88476712306756, 'avg_esd_acc': 90.32089450479523, 'loss': 0.3891652822494507}\n"
     ]
    },
    {
     "name": "stderr",
     "output_type": "stream",
     "text": [
      "                                                        \r"
     ]
    },
    {
     "name": "stdout",
     "output_type": "stream",
     "text": [
      "{'epoch': 27, 'iter': 22100, 'avg_loss': 0.31853968706636815, 'avg_epd_acc': 96.88487067804483, 'avg_esd_acc': 90.3220230419438, 'loss': 0.3053225874900818}\n"
     ]
    },
    {
     "name": "stderr",
     "output_type": "stream",
     "text": [
      "                                                        \r"
     ]
    },
    {
     "name": "stdout",
     "output_type": "stream",
     "text": [
      "{'epoch': 27, 'iter': 22200, 'avg_loss': 0.31854299073535886, 'avg_epd_acc': 96.88504340492827, 'avg_esd_acc': 90.32155786901491, 'loss': 0.29886019229888916}\n"
     ]
    },
    {
     "name": "stderr",
     "output_type": "stream",
     "text": [
      "                                                        \r"
     ]
    },
    {
     "name": "stdout",
     "output_type": "stream",
     "text": [
      "{'epoch': 27, 'iter': 22300, 'avg_loss': 0.3185483938536833, 'avg_epd_acc': 96.88494965279723, 'avg_esd_acc': 90.3215522846509, 'loss': 0.3157358765602112}\n"
     ]
    },
    {
     "name": "stderr",
     "output_type": "stream",
     "text": [
      "                                                        \r"
     ]
    },
    {
     "name": "stdout",
     "output_type": "stream",
     "text": [
      "{'epoch': 27, 'iter': 22400, 'avg_loss': 0.31854658615673753, 'avg_epd_acc': 96.88506272215805, 'avg_esd_acc': 90.3214769987947, 'loss': 0.3659188151359558}\n"
     ]
    },
    {
     "name": "stderr",
     "output_type": "stream",
     "text": [
      "                                                        \r"
     ]
    },
    {
     "name": "stdout",
     "output_type": "stream",
     "text": [
      "{'epoch': 27, 'iter': 22500, 'avg_loss': 0.31857827760358315, 'avg_epd_acc': 96.8850453977219, 'avg_esd_acc': 90.32098573396738, 'loss': 0.3100988268852234}\n"
     ]
    },
    {
     "name": "stderr",
     "output_type": "stream",
     "text": [
      "                                                        \r"
     ]
    },
    {
     "name": "stdout",
     "output_type": "stream",
     "text": [
      "{'epoch': 27, 'iter': 22600, 'avg_loss': 0.3185649829910928, 'avg_epd_acc': 96.8852434605182, 'avg_esd_acc': 90.32208890093358, 'loss': 0.3013385534286499}\n"
     ]
    },
    {
     "name": "stderr",
     "output_type": "stream",
     "text": [
      "                                                        \r"
     ]
    },
    {
     "name": "stdout",
     "output_type": "stream",
     "text": [
      "{'epoch': 27, 'iter': 22700, 'avg_loss': 0.31853613338343484, 'avg_epd_acc': 96.88530722765518, 'avg_esd_acc': 90.32307910444473, 'loss': 0.28697970509529114}\n"
     ]
    },
    {
     "name": "stderr",
     "output_type": "stream",
     "text": [
      "                                                        \r"
     ]
    },
    {
     "name": "stdout",
     "output_type": "stream",
     "text": [
      "{'epoch': 27, 'iter': 22800, 'avg_loss': 0.3185218505048003, 'avg_epd_acc': 96.88544913523187, 'avg_esd_acc': 90.32327255383535, 'loss': 0.3609822392463684}\n"
     ]
    },
    {
     "name": "stderr",
     "output_type": "stream",
     "text": [
      "                                                        \r"
     ]
    },
    {
     "name": "stdout",
     "output_type": "stream",
     "text": [
      "{'epoch': 27, 'iter': 22900, 'avg_loss': 0.3185190309282682, 'avg_epd_acc': 96.88557541155409, 'avg_esd_acc': 90.32274791493822, 'loss': 0.3266155421733856}\n"
     ]
    },
    {
     "name": "stderr",
     "output_type": "stream",
     "text": [
      "                                                        \r"
     ]
    },
    {
     "name": "stdout",
     "output_type": "stream",
     "text": [
      "{'epoch': 27, 'iter': 23000, 'avg_loss': 0.318571498138527, 'avg_epd_acc': 96.88552147274167, 'avg_esd_acc': 90.32086920133906, 'loss': 0.3491722345352173}\n"
     ]
    },
    {
     "name": "stderr",
     "output_type": "stream",
     "text": [
      "                                                        \r"
     ]
    },
    {
     "name": "stdout",
     "output_type": "stream",
     "text": [
      "{'epoch': 27, 'iter': 23100, 'avg_loss': 0.31854877578652807, 'avg_epd_acc': 96.88550314084414, 'avg_esd_acc': 90.32205045236137, 'loss': 0.3863571286201477}\n"
     ]
    },
    {
     "name": "stderr",
     "output_type": "stream",
     "text": [
      "                                                        \r"
     ]
    },
    {
     "name": "stdout",
     "output_type": "stream",
     "text": [
      "{'epoch': 27, 'iter': 23200, 'avg_loss': 0.31855172969548284, 'avg_epd_acc': 96.88528792662157, 'avg_esd_acc': 90.32150419162967, 'loss': 0.34688690304756165}\n"
     ]
    },
    {
     "name": "stderr",
     "output_type": "stream",
     "text": [
      "                                                        \r"
     ]
    },
    {
     "name": "stdout",
     "output_type": "stream",
     "text": [
      "{'epoch': 27, 'iter': 23300, 'avg_loss': 0.3185460935530041, 'avg_epd_acc': 96.8854604005394, 'avg_esd_acc': 90.32216964937128, 'loss': 0.31133580207824707}\n"
     ]
    },
    {
     "name": "stderr",
     "output_type": "stream",
     "text": [
      "                                                        \r"
     ]
    },
    {
     "name": "stdout",
     "output_type": "stream",
     "text": [
      "{'epoch': 27, 'iter': 23400, 'avg_loss': 0.318527522319418, 'avg_epd_acc': 96.88542274210037, 'avg_esd_acc': 90.3227626490321, 'loss': 0.28447628021240234}\n"
     ]
    },
    {
     "name": "stderr",
     "output_type": "stream",
     "text": [
      "                                                        \r"
     ]
    },
    {
     "name": "stdout",
     "output_type": "stream",
     "text": [
      "{'epoch': 27, 'iter': 23500, 'avg_loss': 0.3184938319729651, 'avg_epd_acc': 96.8854248805237, 'avg_esd_acc': 90.32561114420663, 'loss': 0.29996442794799805}\n"
     ]
    },
    {
     "name": "stderr",
     "output_type": "stream",
     "text": [
      "                                                        \r"
     ]
    },
    {
     "name": "stdout",
     "output_type": "stream",
     "text": [
      "{'epoch': 27, 'iter': 23600, 'avg_loss': 0.31848650526661504, 'avg_epd_acc': 96.88544975873307, 'avg_esd_acc': 90.32664797042497, 'loss': 0.3237956762313843}\n"
     ]
    },
    {
     "name": "stderr",
     "output_type": "stream",
     "text": [
      "                                                        \r"
     ]
    },
    {
     "name": "stdout",
     "output_type": "stream",
     "text": [
      "{'epoch': 27, 'iter': 23700, 'avg_loss': 0.31848763568590654, 'avg_epd_acc': 96.88540412365579, 'avg_esd_acc': 90.32606087295895, 'loss': 0.34171098470687866}\n"
     ]
    },
    {
     "name": "stderr",
     "output_type": "stream",
     "text": [
      "                                                        \r"
     ]
    },
    {
     "name": "stdout",
     "output_type": "stream",
     "text": [
      "{'epoch': 27, 'iter': 23800, 'avg_loss': 0.31849656293401796, 'avg_epd_acc': 96.88543170085751, 'avg_esd_acc': 90.32685732742321, 'loss': 0.3186214566230774}\n"
     ]
    },
    {
     "name": "stderr",
     "output_type": "stream",
     "text": [
      "                                                        \r"
     ]
    },
    {
     "name": "stdout",
     "output_type": "stream",
     "text": [
      "{'epoch': 27, 'iter': 23900, 'avg_loss': 0.3185116834344687, 'avg_epd_acc': 96.88532676743063, 'avg_esd_acc': 90.32620889293335, 'loss': 0.37571412324905396}\n"
     ]
    },
    {
     "name": "stderr",
     "output_type": "stream",
     "text": [
      "                                                        \r"
     ]
    },
    {
     "name": "stdout",
     "output_type": "stream",
     "text": [
      "{'epoch': 27, 'iter': 24000, 'avg_loss': 0.3184900932893431, 'avg_epd_acc': 96.88550345843338, 'avg_esd_acc': 90.32751890546227, 'loss': 0.3656170964241028}\n"
     ]
    },
    {
     "name": "stderr",
     "output_type": "stream",
     "text": [
      "                                                        \r"
     ]
    },
    {
     "name": "stdout",
     "output_type": "stream",
     "text": [
      "{'epoch': 27, 'iter': 24100, 'avg_loss': 0.3185149712780888, 'avg_epd_acc': 96.88553711788411, 'avg_esd_acc': 90.32577097423344, 'loss': 0.30549919605255127}\n"
     ]
    },
    {
     "name": "stderr",
     "output_type": "stream",
     "text": [
      "                                                        \r"
     ]
    },
    {
     "name": "stdout",
     "output_type": "stream",
     "text": [
      "{'epoch': 27, 'iter': 24200, 'avg_loss': 0.3185133548774166, 'avg_epd_acc': 96.88552863380839, 'avg_esd_acc': 90.32700740671874, 'loss': 0.2937161922454834}\n"
     ]
    },
    {
     "name": "stderr",
     "output_type": "stream",
     "text": [
      "                                                        \r"
     ]
    },
    {
     "name": "stdout",
     "output_type": "stream",
     "text": [
      "{'epoch': 27, 'iter': 24300, 'avg_loss': 0.31851552136591604, 'avg_epd_acc': 96.88536223793838, 'avg_esd_acc': 90.32720489897535, 'loss': 0.23563387989997864}\n"
     ]
    },
    {
     "name": "stderr",
     "output_type": "stream",
     "text": [
      "                                                        \r"
     ]
    },
    {
     "name": "stdout",
     "output_type": "stream",
     "text": [
      "{'epoch': 27, 'iter': 24400, 'avg_loss': 0.3184995216924604, 'avg_epd_acc': 96.8854413365327, 'avg_esd_acc': 90.32832926929224, 'loss': 0.30089181661605835}\n"
     ]
    },
    {
     "name": "stderr",
     "output_type": "stream",
     "text": [
      "                                                        \r"
     ]
    },
    {
     "name": "stdout",
     "output_type": "stream",
     "text": [
      "{'epoch': 27, 'iter': 24500, 'avg_loss': 0.3184831573160993, 'avg_epd_acc': 96.88543558928399, 'avg_esd_acc': 90.32845598138852, 'loss': 0.3139726519584656}\n"
     ]
    },
    {
     "name": "stderr",
     "output_type": "stream",
     "text": [
      "                                                        \r"
     ]
    },
    {
     "name": "stdout",
     "output_type": "stream",
     "text": [
      "{'epoch': 27, 'iter': 24600, 'avg_loss': 0.31849544026612664, 'avg_epd_acc': 96.88553930099386, 'avg_esd_acc': 90.32766071501158, 'loss': 0.4002334475517273}\n"
     ]
    },
    {
     "name": "stderr",
     "output_type": "stream",
     "text": [
      "                                                        \r"
     ]
    },
    {
     "name": "stdout",
     "output_type": "stream",
     "text": [
      "{'epoch': 27, 'iter': 24700, 'avg_loss': 0.318473845752264, 'avg_epd_acc': 96.88548847932206, 'avg_esd_acc': 90.32886446904985, 'loss': 0.31019771099090576}\n"
     ]
    },
    {
     "name": "stderr",
     "output_type": "stream",
     "text": [
      "                                                        \r"
     ]
    },
    {
     "name": "stdout",
     "output_type": "stream",
     "text": [
      "{'epoch': 27, 'iter': 24800, 'avg_loss': 0.31847976259522215, 'avg_epd_acc': 96.88555570308405, 'avg_esd_acc': 90.32860948147253, 'loss': 0.2695552706718445}\n"
     ]
    },
    {
     "name": "stderr",
     "output_type": "stream",
     "text": [
      "                                                        \r"
     ]
    },
    {
     "name": "stdout",
     "output_type": "stream",
     "text": [
      "{'epoch': 27, 'iter': 24900, 'avg_loss': 0.3184775478626551, 'avg_epd_acc': 96.88556233465775, 'avg_esd_acc': 90.32816829645395, 'loss': 0.3210124969482422}\n"
     ]
    },
    {
     "name": "stderr",
     "output_type": "stream",
     "text": [
      "                                                        \r"
     ]
    },
    {
     "name": "stdout",
     "output_type": "stream",
     "text": [
      "{'epoch': 27, 'iter': 25000, 'avg_loss': 0.3184733533424395, 'avg_epd_acc': 96.88525740220392, 'avg_esd_acc': 90.32801187952482, 'loss': 0.3226530849933624}\n"
     ]
    },
    {
     "name": "stderr",
     "output_type": "stream",
     "text": [
      "                                                        \r"
     ]
    },
    {
     "name": "stdout",
     "output_type": "stream",
     "text": [
      "{'epoch': 27, 'iter': 25100, 'avg_loss': 0.3184888598129458, 'avg_epd_acc': 96.88523307244981, 'avg_esd_acc': 90.32773221186406, 'loss': 0.3440326154232025}\n"
     ]
    },
    {
     "name": "stderr",
     "output_type": "stream",
     "text": [
      "                                                        \r"
     ]
    },
    {
     "name": "stdout",
     "output_type": "stream",
     "text": [
      "{'epoch': 27, 'iter': 25200, 'avg_loss': 0.31850096215523355, 'avg_epd_acc': 96.88515105156107, 'avg_esd_acc': 90.32671074560533, 'loss': 0.327000230550766}\n"
     ]
    },
    {
     "name": "stderr",
     "output_type": "stream",
     "text": [
      "                                                        \r"
     ]
    },
    {
     "name": "stdout",
     "output_type": "stream",
     "text": [
      "{'epoch': 27, 'iter': 25300, 'avg_loss': 0.3184936926806003, 'avg_epd_acc': 96.8850622007128, 'avg_esd_acc': 90.32739565629817, 'loss': 0.313059538602829}\n"
     ]
    },
    {
     "name": "stderr",
     "output_type": "stream",
     "text": [
      "                                                        \r"
     ]
    },
    {
     "name": "stdout",
     "output_type": "stream",
     "text": [
      "{'epoch': 27, 'iter': 25400, 'avg_loss': 0.3184811587034682, 'avg_epd_acc': 96.88513648307708, 'avg_esd_acc': 90.328136687532, 'loss': 0.35052937269210815}\n"
     ]
    },
    {
     "name": "stderr",
     "output_type": "stream",
     "text": [
      "                                                        \r"
     ]
    },
    {
     "name": "stdout",
     "output_type": "stream",
     "text": [
      "{'epoch': 27, 'iter': 25500, 'avg_loss': 0.3184902249059323, 'avg_epd_acc': 96.8849100452709, 'avg_esd_acc': 90.32850427434218, 'loss': 0.32475024461746216}\n"
     ]
    },
    {
     "name": "stderr",
     "output_type": "stream",
     "text": [
      "                                                        \r"
     ]
    },
    {
     "name": "stdout",
     "output_type": "stream",
     "text": [
      "{'epoch': 27, 'iter': 25600, 'avg_loss': 0.3184737769907878, 'avg_epd_acc': 96.88483628950651, 'avg_esd_acc': 90.32911312058123, 'loss': 0.3101794123649597}\n"
     ]
    },
    {
     "name": "stderr",
     "output_type": "stream",
     "text": [
      "                                                        \r"
     ]
    },
    {
     "name": "stdout",
     "output_type": "stream",
     "text": [
      "{'epoch': 27, 'iter': 25700, 'avg_loss': 0.3184724656823618, 'avg_epd_acc': 96.88482817766393, 'avg_esd_acc': 90.32880529940469, 'loss': 0.24717919528484344}\n"
     ]
    },
    {
     "name": "stderr",
     "output_type": "stream",
     "text": [
      "                                                        \r"
     ]
    },
    {
     "name": "stdout",
     "output_type": "stream",
     "text": [
      "{'epoch': 27, 'iter': 25800, 'avg_loss': 0.3184981939075418, 'avg_epd_acc': 96.88467558980575, 'avg_esd_acc': 90.32753090965467, 'loss': 0.28198686242103577}\n"
     ]
    },
    {
     "name": "stderr",
     "output_type": "stream",
     "text": [
      "                                                        \r"
     ]
    },
    {
     "name": "stdout",
     "output_type": "stream",
     "text": [
      "{'epoch': 27, 'iter': 25900, 'avg_loss': 0.3185032077890479, 'avg_epd_acc': 96.88468960499534, 'avg_esd_acc': 90.32795548434423, 'loss': 0.30210524797439575}\n"
     ]
    },
    {
     "name": "stderr",
     "output_type": "stream",
     "text": [
      "                                                        \r"
     ]
    },
    {
     "name": "stdout",
     "output_type": "stream",
     "text": [
      "{'epoch': 27, 'iter': 26000, 'avg_loss': 0.31849654023807594, 'avg_epd_acc': 96.88483308972792, 'avg_esd_acc': 90.32903782546825, 'loss': 0.302975594997406}\n"
     ]
    },
    {
     "name": "stderr",
     "output_type": "stream",
     "text": [
      "                                                        \r"
     ]
    },
    {
     "name": "stdout",
     "output_type": "stream",
     "text": [
      "{'epoch': 27, 'iter': 26100, 'avg_loss': 0.31846492038773905, 'avg_epd_acc': 96.88498436100689, 'avg_esd_acc': 90.3315785314739, 'loss': 0.2870435118675232}\n"
     ]
    },
    {
     "name": "stderr",
     "output_type": "stream",
     "text": [
      "                                                        \r"
     ]
    },
    {
     "name": "stdout",
     "output_type": "stream",
     "text": [
      "{'epoch': 27, 'iter': 26200, 'avg_loss': 0.31845814883504214, 'avg_epd_acc': 96.88495860054842, 'avg_esd_acc': 90.33222133697187, 'loss': 0.3173583745956421}\n"
     ]
    },
    {
     "name": "stderr",
     "output_type": "stream",
     "text": [
      "                                                        \r"
     ]
    },
    {
     "name": "stdout",
     "output_type": "stream",
     "text": [
      "{'epoch': 27, 'iter': 26300, 'avg_loss': 0.3184413511511001, 'avg_epd_acc': 96.88487177107989, 'avg_esd_acc': 90.33277014181971, 'loss': 0.2767064571380615}\n"
     ]
    },
    {
     "name": "stderr",
     "output_type": "stream",
     "text": [
      "                                                        \r"
     ]
    },
    {
     "name": "stdout",
     "output_type": "stream",
     "text": [
      "{'epoch': 27, 'iter': 26400, 'avg_loss': 0.31844950409580064, 'avg_epd_acc': 96.88505516111488, 'avg_esd_acc': 90.33118418809893, 'loss': 0.3593951463699341}\n"
     ]
    },
    {
     "name": "stderr",
     "output_type": "stream",
     "text": [
      "                                                        \r"
     ]
    },
    {
     "name": "stdout",
     "output_type": "stream",
     "text": [
      "{'epoch': 27, 'iter': 26500, 'avg_loss': 0.3184288086128623, 'avg_epd_acc': 96.88501813979308, 'avg_esd_acc': 90.33267612542923, 'loss': 0.2893756926059723}\n"
     ]
    },
    {
     "name": "stderr",
     "output_type": "stream",
     "text": [
      "                                                        \r"
     ]
    },
    {
     "name": "stdout",
     "output_type": "stream",
     "text": [
      "{'epoch': 27, 'iter': 26600, 'avg_loss': 0.31845447959512174, 'avg_epd_acc': 96.88485290658129, 'avg_esd_acc': 90.331190556746, 'loss': 0.27721086144447327}\n"
     ]
    },
    {
     "name": "stderr",
     "output_type": "stream",
     "text": [
      "                                                        \r"
     ]
    },
    {
     "name": "stdout",
     "output_type": "stream",
     "text": [
      "{'epoch': 27, 'iter': 26700, 'avg_loss': 0.3184780798868349, 'avg_epd_acc': 96.88477257406089, 'avg_esd_acc': 90.33027204037302, 'loss': 0.2513715624809265}\n"
     ]
    },
    {
     "name": "stderr",
     "output_type": "stream",
     "text": [
      "                                                        \r"
     ]
    },
    {
     "name": "stdout",
     "output_type": "stream",
     "text": [
      "{'epoch': 27, 'iter': 26800, 'avg_loss': 0.31846801277997444, 'avg_epd_acc': 96.88462019366989, 'avg_esd_acc': 90.33105108018358, 'loss': 0.3741149306297302}\n"
     ]
    },
    {
     "name": "stderr",
     "output_type": "stream",
     "text": [
      "                                                        \r"
     ]
    },
    {
     "name": "stdout",
     "output_type": "stream",
     "text": [
      "{'epoch': 27, 'iter': 26900, 'avg_loss': 0.31849052690304386, 'avg_epd_acc': 96.88450297938506, 'avg_esd_acc': 90.33002374447047, 'loss': 0.3323928713798523}\n"
     ]
    },
    {
     "name": "stderr",
     "output_type": "stream",
     "text": [
      "                                                        \r"
     ]
    },
    {
     "name": "stdout",
     "output_type": "stream",
     "text": [
      "{'epoch': 27, 'iter': 27000, 'avg_loss': 0.31847958576943686, 'avg_epd_acc': 96.88450259582399, 'avg_esd_acc': 90.32984310766268, 'loss': 0.27186119556427}\n"
     ]
    },
    {
     "name": "stderr",
     "output_type": "stream",
     "text": [
      "                                                        \r"
     ]
    },
    {
     "name": "stdout",
     "output_type": "stream",
     "text": [
      "{'epoch': 27, 'iter': 27100, 'avg_loss': 0.31849419887002284, 'avg_epd_acc': 96.88442902065134, 'avg_esd_acc': 90.32874132873326, 'loss': 0.28652864694595337}\n"
     ]
    },
    {
     "name": "stderr",
     "output_type": "stream",
     "text": [
      "                                                        \r"
     ]
    },
    {
     "name": "stdout",
     "output_type": "stream",
     "text": [
      "{'epoch': 27, 'iter': 27200, 'avg_loss': 0.3184832055214104, 'avg_epd_acc': 96.8843342210391, 'avg_esd_acc': 90.32971558950038, 'loss': 0.2971874177455902}\n"
     ]
    },
    {
     "name": "stderr",
     "output_type": "stream",
     "text": [
      "                                                        \r"
     ]
    },
    {
     "name": "stdout",
     "output_type": "stream",
     "text": [
      "{'epoch': 27, 'iter': 27300, 'avg_loss': 0.3184841860743836, 'avg_epd_acc': 96.88426291941286, 'avg_esd_acc': 90.32925190469213, 'loss': 0.25743699073791504}\n"
     ]
    },
    {
     "name": "stderr",
     "output_type": "stream",
     "text": [
      "                                                        \r"
     ]
    },
    {
     "name": "stdout",
     "output_type": "stream",
     "text": [
      "{'epoch': 27, 'iter': 27400, 'avg_loss': 0.31848270005596574, 'avg_epd_acc': 96.88436699533092, 'avg_esd_acc': 90.32921928031824, 'loss': 0.31478676199913025}\n"
     ]
    },
    {
     "name": "stderr",
     "output_type": "stream",
     "text": [
      "                                                        \r"
     ]
    },
    {
     "name": "stdout",
     "output_type": "stream",
     "text": [
      "{'epoch': 27, 'iter': 27500, 'avg_loss': 0.3184870098577682, 'avg_epd_acc': 96.88450826575057, 'avg_esd_acc': 90.32844828369878, 'loss': 0.27971750497817993}\n"
     ]
    },
    {
     "name": "stderr",
     "output_type": "stream",
     "text": [
      "                                                        \r"
     ]
    },
    {
     "name": "stdout",
     "output_type": "stream",
     "text": [
      "{'epoch': 27, 'iter': 27600, 'avg_loss': 0.31850807990532354, 'avg_epd_acc': 96.8842113308706, 'avg_esd_acc': 90.32788100974602, 'loss': 0.2525034546852112}\n"
     ]
    },
    {
     "name": "stderr",
     "output_type": "stream",
     "text": [
      "                                                        \r"
     ]
    },
    {
     "name": "stdout",
     "output_type": "stream",
     "text": [
      "{'epoch': 27, 'iter': 27700, 'avg_loss': 0.31850938087028097, 'avg_epd_acc': 96.88415251924287, 'avg_esd_acc': 90.32762806396882, 'loss': 0.30355149507522583}\n"
     ]
    },
    {
     "name": "stderr",
     "output_type": "stream",
     "text": [
      "                                                        \r"
     ]
    },
    {
     "name": "stdout",
     "output_type": "stream",
     "text": [
      "{'epoch': 27, 'iter': 27800, 'avg_loss': 0.318493060218525, 'avg_epd_acc': 96.88422344154661, 'avg_esd_acc': 90.32858530268696, 'loss': 0.38093462586402893}\n"
     ]
    },
    {
     "name": "stderr",
     "output_type": "stream",
     "text": [
      "                                                        \r"
     ]
    },
    {
     "name": "stdout",
     "output_type": "stream",
     "text": [
      "{'epoch': 27, 'iter': 27900, 'avg_loss': 0.3184857106255586, 'avg_epd_acc': 96.8842848864624, 'avg_esd_acc': 90.32931167341673, 'loss': 0.34131765365600586}\n"
     ]
    },
    {
     "name": "stderr",
     "output_type": "stream",
     "text": [
      "                                                        \r"
     ]
    },
    {
     "name": "stdout",
     "output_type": "stream",
     "text": [
      "{'epoch': 27, 'iter': 28000, 'avg_loss': 0.3184599631490684, 'avg_epd_acc': 96.88420813235464, 'avg_esd_acc': 90.33053507017607, 'loss': 0.3120426833629608}\n"
     ]
    },
    {
     "name": "stderr",
     "output_type": "stream",
     "text": [
      "                                                        \r"
     ]
    },
    {
     "name": "stdout",
     "output_type": "stream",
     "text": [
      "{'epoch': 27, 'iter': 28100, 'avg_loss': 0.3184819830858149, 'avg_epd_acc': 96.88436193850697, 'avg_esd_acc': 90.32938663214833, 'loss': 0.3015254735946655}\n"
     ]
    },
    {
     "name": "stderr",
     "output_type": "stream",
     "text": [
      "                                                        \r"
     ]
    },
    {
     "name": "stdout",
     "output_type": "stream",
     "text": [
      "{'epoch': 27, 'iter': 28200, 'avg_loss': 0.3184876092371926, 'avg_epd_acc': 96.88452417675238, 'avg_esd_acc': 90.32960378178079, 'loss': 0.34342628717422485}\n"
     ]
    },
    {
     "name": "stderr",
     "output_type": "stream",
     "text": [
      "                                                        \r"
     ]
    },
    {
     "name": "stdout",
     "output_type": "stream",
     "text": [
      "{'epoch': 27, 'iter': 28300, 'avg_loss': 0.31848042237761165, 'avg_epd_acc': 96.8845532819208, 'avg_esd_acc': 90.32990221193597, 'loss': 0.32229506969451904}\n"
     ]
    },
    {
     "name": "stderr",
     "output_type": "stream",
     "text": [
      "                                                        \r"
     ]
    },
    {
     "name": "stdout",
     "output_type": "stream",
     "text": [
      "{'epoch': 27, 'iter': 28400, 'avg_loss': 0.31847901330248646, 'avg_epd_acc': 96.88442981451743, 'avg_esd_acc': 90.3299784778705, 'loss': 0.29782792925834656}\n"
     ]
    },
    {
     "name": "stderr",
     "output_type": "stream",
     "text": [
      "                                                        \r"
     ]
    },
    {
     "name": "stdout",
     "output_type": "stream",
     "text": [
      "{'epoch': 27, 'iter': 28500, 'avg_loss': 0.31846548829364013, 'avg_epd_acc': 96.88438944747827, 'avg_esd_acc': 90.33005420862426, 'loss': 0.32072556018829346}\n"
     ]
    },
    {
     "name": "stderr",
     "output_type": "stream",
     "text": [
      "                                                        \r"
     ]
    },
    {
     "name": "stdout",
     "output_type": "stream",
     "text": [
      "{'epoch': 27, 'iter': 28600, 'avg_loss': 0.3184747540466452, 'avg_epd_acc': 96.88447783082596, 'avg_esd_acc': 90.32958310024125, 'loss': 0.3311299681663513}\n"
     ]
    },
    {
     "name": "stderr",
     "output_type": "stream",
     "text": [
      "                                                        \r"
     ]
    },
    {
     "name": "stdout",
     "output_type": "stream",
     "text": [
      "{'epoch': 27, 'iter': 28700, 'avg_loss': 0.31848154887351954, 'avg_epd_acc': 96.88434655988412, 'avg_esd_acc': 90.32982300268283, 'loss': 0.2508663535118103}\n"
     ]
    },
    {
     "name": "stderr",
     "output_type": "stream",
     "text": [
      "                                                        \r"
     ]
    },
    {
     "name": "stdout",
     "output_type": "stream",
     "text": [
      "{'epoch': 27, 'iter': 28800, 'avg_loss': 0.318479876793125, 'avg_epd_acc': 96.88444549824388, 'avg_esd_acc': 90.32968147807368, 'loss': 0.36356082558631897}\n"
     ]
    },
    {
     "name": "stderr",
     "output_type": "stream",
     "text": [
      "                                                        \r"
     ]
    },
    {
     "name": "stdout",
     "output_type": "stream",
     "text": [
      "{'epoch': 27, 'iter': 28900, 'avg_loss': 0.318494064447554, 'avg_epd_acc': 96.88459401443991, 'avg_esd_acc': 90.3283515276288, 'loss': 0.32718944549560547}\n"
     ]
    },
    {
     "name": "stderr",
     "output_type": "stream",
     "text": [
      "                                                        \r"
     ]
    },
    {
     "name": "stdout",
     "output_type": "stream",
     "text": [
      "{'epoch': 27, 'iter': 29000, 'avg_loss': 0.31849818747847874, 'avg_epd_acc': 96.88460807554318, 'avg_esd_acc': 90.32813523671598, 'loss': 0.3270510137081146}\n"
     ]
    },
    {
     "name": "stderr",
     "output_type": "stream",
     "text": [
      "                                                        \r"
     ]
    },
    {
     "name": "stdout",
     "output_type": "stream",
     "text": [
      "{'epoch': 27, 'iter': 29100, 'avg_loss': 0.31852500170929104, 'avg_epd_acc': 96.88465203220036, 'avg_esd_acc': 90.3270076629669, 'loss': 0.3591872751712799}\n"
     ]
    },
    {
     "name": "stderr",
     "output_type": "stream",
     "text": [
      "                                                        \r"
     ]
    },
    {
     "name": "stdout",
     "output_type": "stream",
     "text": [
      "{'epoch': 27, 'iter': 29200, 'avg_loss': 0.3185192265956272, 'avg_epd_acc': 96.88472139692882, 'avg_esd_acc': 90.3270382435533, 'loss': 0.2780315577983856}\n"
     ]
    },
    {
     "name": "stderr",
     "output_type": "stream",
     "text": [
      "                                                        \r"
     ]
    },
    {
     "name": "stdout",
     "output_type": "stream",
     "text": [
      "{'epoch': 27, 'iter': 29300, 'avg_loss': 0.3185035952160511, 'avg_epd_acc': 96.8848109102905, 'avg_esd_acc': 90.32752188491861, 'loss': 0.29522454738616943}\n"
     ]
    },
    {
     "name": "stderr",
     "output_type": "stream",
     "text": [
      "                                                        \r"
     ]
    },
    {
     "name": "stdout",
     "output_type": "stream",
     "text": [
      "{'epoch': 27, 'iter': 29400, 'avg_loss': 0.31851386737113524, 'avg_epd_acc': 96.88483504493894, 'avg_esd_acc': 90.32646104724328, 'loss': 0.28188198804855347}\n"
     ]
    },
    {
     "name": "stderr",
     "output_type": "stream",
     "text": [
      "                                                        \r"
     ]
    },
    {
     "name": "stdout",
     "output_type": "stream",
     "text": [
      "{'epoch': 27, 'iter': 29500, 'avg_loss': 0.31849049889204084, 'avg_epd_acc': 96.88488529122954, 'avg_esd_acc': 90.32781727738043, 'loss': 0.33634528517723083}\n"
     ]
    },
    {
     "name": "stderr",
     "output_type": "stream",
     "text": [
      "                                                        \r"
     ]
    },
    {
     "name": "stdout",
     "output_type": "stream",
     "text": [
      "{'epoch': 27, 'iter': 29600, 'avg_loss': 0.31851254412148966, 'avg_epd_acc': 96.88503685112254, 'avg_esd_acc': 90.3263931117192, 'loss': 0.2803123891353607}\n"
     ]
    },
    {
     "name": "stderr",
     "output_type": "stream",
     "text": [
      "                                                        \r"
     ]
    },
    {
     "name": "stdout",
     "output_type": "stream",
     "text": [
      "{'epoch': 27, 'iter': 29700, 'avg_loss': 0.3185151483812042, 'avg_epd_acc': 96.8850244300092, 'avg_esd_acc': 90.3263726389684, 'loss': 0.32662028074264526}\n"
     ]
    },
    {
     "name": "stderr",
     "output_type": "stream",
     "text": [
      "                                                        \r"
     ]
    },
    {
     "name": "stdout",
     "output_type": "stream",
     "text": [
      "{'epoch': 27, 'iter': 29800, 'avg_loss': 0.3185206642672222, 'avg_epd_acc': 96.88484066704976, 'avg_esd_acc': 90.32650959699339, 'loss': 0.26702338457107544}\n"
     ]
    },
    {
     "name": "stderr",
     "output_type": "stream",
     "text": [
      "                                                        \r"
     ]
    },
    {
     "name": "stdout",
     "output_type": "stream",
     "text": [
      "{'epoch': 27, 'iter': 29900, 'avg_loss': 0.31851973235039027, 'avg_epd_acc': 96.88493655854685, 'avg_esd_acc': 90.32641048794355, 'loss': 0.2846938371658325}\n"
     ]
    },
    {
     "name": "stderr",
     "output_type": "stream",
     "text": [
      "                                                        \r"
     ]
    },
    {
     "name": "stdout",
     "output_type": "stream",
     "text": [
      "{'epoch': 27, 'iter': 30000, 'avg_loss': 0.3185297279729473, 'avg_epd_acc': 96.88478442320152, 'avg_esd_acc': 90.32659848838372, 'loss': 0.3137862980365753}\n"
     ]
    },
    {
     "name": "stderr",
     "output_type": "stream",
     "text": [
      "                                                        \r"
     ]
    },
    {
     "name": "stdout",
     "output_type": "stream",
     "text": [
      "{'epoch': 27, 'iter': 30100, 'avg_loss': 0.3185408972675256, 'avg_epd_acc': 96.88503011540833, 'avg_esd_acc': 90.32556538819308, 'loss': 0.28420525789260864}\n"
     ]
    },
    {
     "name": "stderr",
     "output_type": "stream",
     "text": [
      "                                                        \r"
     ]
    },
    {
     "name": "stdout",
     "output_type": "stream",
     "text": [
      "{'epoch': 27, 'iter': 30200, 'avg_loss': 0.3185127041687504, 'avg_epd_acc': 96.88503186689545, 'avg_esd_acc': 90.32735877951062, 'loss': 0.3033100664615631}\n"
     ]
    },
    {
     "name": "stderr",
     "output_type": "stream",
     "text": [
      "                                                        \r"
     ]
    },
    {
     "name": "stdout",
     "output_type": "stream",
     "text": [
      "{'epoch': 27, 'iter': 30300, 'avg_loss': 0.31850960717101384, 'avg_epd_acc': 96.88494256068282, 'avg_esd_acc': 90.3270003465232, 'loss': 0.3167952001094818}\n"
     ]
    },
    {
     "name": "stderr",
     "output_type": "stream",
     "text": [
      "                                                        \r"
     ]
    },
    {
     "name": "stdout",
     "output_type": "stream",
     "text": [
      "{'epoch': 27, 'iter': 30400, 'avg_loss': 0.3185181122196375, 'avg_epd_acc': 96.88486628954178, 'avg_esd_acc': 90.32643868622743, 'loss': 0.2725680470466614}\n"
     ]
    },
    {
     "name": "stderr",
     "output_type": "stream",
     "text": [
      "                                                        \r"
     ]
    },
    {
     "name": "stdout",
     "output_type": "stream",
     "text": [
      "{'epoch': 27, 'iter': 30500, 'avg_loss': 0.3185377959874664, 'avg_epd_acc': 96.88490798233306, 'avg_esd_acc': 90.3261880758008, 'loss': 0.3584420680999756}\n"
     ]
    },
    {
     "name": "stderr",
     "output_type": "stream",
     "text": [
      "                                                        \r"
     ]
    },
    {
     "name": "stdout",
     "output_type": "stream",
     "text": [
      "{'epoch': 27, 'iter': 30600, 'avg_loss': 0.3185361911103576, 'avg_epd_acc': 96.88500165978286, 'avg_esd_acc': 90.32568380118296, 'loss': 0.3592524230480194}\n"
     ]
    },
    {
     "name": "stderr",
     "output_type": "stream",
     "text": [
      "                                                        \r"
     ]
    },
    {
     "name": "stdout",
     "output_type": "stream",
     "text": [
      "{'epoch': 27, 'iter': 30700, 'avg_loss': 0.3185411356740198, 'avg_epd_acc': 96.88501937984003, 'avg_esd_acc': 90.32497923520407, 'loss': 0.34432584047317505}\n"
     ]
    },
    {
     "name": "stderr",
     "output_type": "stream",
     "text": [
      "                                                        \r"
     ]
    },
    {
     "name": "stdout",
     "output_type": "stream",
     "text": [
      "{'epoch': 27, 'iter': 30800, 'avg_loss': 0.3185487700374261, 'avg_epd_acc': 96.8849206651164, 'avg_esd_acc': 90.32448215967014, 'loss': 0.33972007036209106}\n"
     ]
    },
    {
     "name": "stderr",
     "output_type": "stream",
     "text": [
      "                                                        \r"
     ]
    },
    {
     "name": "stdout",
     "output_type": "stream",
     "text": [
      "{'epoch': 27, 'iter': 30900, 'avg_loss': 0.3185435153575535, 'avg_epd_acc': 96.88476669159928, 'avg_esd_acc': 90.3244939484159, 'loss': 0.4707680940628052}\n"
     ]
    },
    {
     "name": "stderr",
     "output_type": "stream",
     "text": [
      "                                                        \r"
     ]
    },
    {
     "name": "stdout",
     "output_type": "stream",
     "text": [
      "{'epoch': 27, 'iter': 31000, 'avg_loss': 0.3185703715192999, 'avg_epd_acc': 96.88470565497131, 'avg_esd_acc': 90.3234472275088, 'loss': 0.32844334840774536}\n"
     ]
    },
    {
     "name": "stderr",
     "output_type": "stream",
     "text": [
      "                                                        \r"
     ]
    },
    {
     "name": "stdout",
     "output_type": "stream",
     "text": [
      "{'epoch': 27, 'iter': 31100, 'avg_loss': 0.3185986034766887, 'avg_epd_acc': 96.88476688098855, 'avg_esd_acc': 90.3210507700717, 'loss': 0.351702481508255}\n"
     ]
    },
    {
     "name": "stderr",
     "output_type": "stream",
     "text": [
      "                                                        \r"
     ]
    },
    {
     "name": "stdout",
     "output_type": "stream",
     "text": [
      "{'epoch': 27, 'iter': 31200, 'avg_loss': 0.3186025781866977, 'avg_epd_acc': 96.8847152334861, 'avg_esd_acc': 90.32037234383513, 'loss': 0.3081924021244049}\n"
     ]
    },
    {
     "name": "stderr",
     "output_type": "stream",
     "text": [
      "                                                        \r"
     ]
    },
    {
     "name": "stdout",
     "output_type": "stream",
     "text": [
      "{'epoch': 27, 'iter': 31300, 'avg_loss': 0.318579239837716, 'avg_epd_acc': 96.88475634327278, 'avg_esd_acc': 90.32199450496789, 'loss': 0.32922041416168213}\n"
     ]
    },
    {
     "name": "stderr",
     "output_type": "stream",
     "text": [
      "                                                        \r"
     ]
    },
    {
     "name": "stdout",
     "output_type": "stream",
     "text": [
      "{'epoch': 27, 'iter': 31400, 'avg_loss': 0.3185663837910435, 'avg_epd_acc': 96.88462147776941, 'avg_esd_acc': 90.32285994076622, 'loss': 0.2554106116294861}\n"
     ]
    },
    {
     "name": "stderr",
     "output_type": "stream",
     "text": [
      "                                                        \r"
     ]
    },
    {
     "name": "stdout",
     "output_type": "stream",
     "text": [
      "{'epoch': 27, 'iter': 31500, 'avg_loss': 0.3185553716122584, 'avg_epd_acc': 96.88443999824659, 'avg_esd_acc': 90.32386868670837, 'loss': 0.30174529552459717}\n"
     ]
    },
    {
     "name": "stderr",
     "output_type": "stream",
     "text": [
      "                                                        \r"
     ]
    },
    {
     "name": "stdout",
     "output_type": "stream",
     "text": [
      "{'epoch': 27, 'iter': 31600, 'avg_loss': 0.31855891883507176, 'avg_epd_acc': 96.8844738630082, 'avg_esd_acc': 90.32363493243885, 'loss': 0.3493705987930298}\n"
     ]
    },
    {
     "name": "stderr",
     "output_type": "stream",
     "text": [
      "                                                        \r"
     ]
    },
    {
     "name": "stdout",
     "output_type": "stream",
     "text": [
      "{'epoch': 27, 'iter': 31700, 'avg_loss': 0.31856426085599543, 'avg_epd_acc': 96.88447805643946, 'avg_esd_acc': 90.323673740576, 'loss': 0.3291819393634796}\n"
     ]
    },
    {
     "name": "stderr",
     "output_type": "stream",
     "text": [
      "                                                        \r"
     ]
    },
    {
     "name": "stdout",
     "output_type": "stream",
     "text": [
      "{'epoch': 27, 'iter': 31800, 'avg_loss': 0.31855945278966896, 'avg_epd_acc': 96.88450410333745, 'avg_esd_acc': 90.32349120310683, 'loss': 0.3380002975463867}\n"
     ]
    },
    {
     "name": "stderr",
     "output_type": "stream",
     "text": [
      "                                                        \r"
     ]
    },
    {
     "name": "stdout",
     "output_type": "stream",
     "text": [
      "{'epoch': 27, 'iter': 31900, 'avg_loss': 0.3185565597006514, 'avg_epd_acc': 96.88456251248981, 'avg_esd_acc': 90.32321185072568, 'loss': 0.3277099132537842}\n"
     ]
    },
    {
     "name": "stderr",
     "output_type": "stream",
     "text": [
      "                                                        \r"
     ]
    },
    {
     "name": "stdout",
     "output_type": "stream",
     "text": [
      "{'epoch': 27, 'iter': 32000, 'avg_loss': 0.3185648150370235, 'avg_epd_acc': 96.88453091401198, 'avg_esd_acc': 90.32232391175276, 'loss': 0.30432936549186707}\n"
     ]
    },
    {
     "name": "stderr",
     "output_type": "stream",
     "text": [
      "                                                        \r"
     ]
    },
    {
     "name": "stdout",
     "output_type": "stream",
     "text": [
      "{'epoch': 27, 'iter': 32100, 'avg_loss': 0.31856922839288454, 'avg_epd_acc': 96.8846839431112, 'avg_esd_acc': 90.32212294788324, 'loss': 0.33359572291374207}\n"
     ]
    },
    {
     "name": "stderr",
     "output_type": "stream",
     "text": [
      "                                                        \r"
     ]
    },
    {
     "name": "stdout",
     "output_type": "stream",
     "text": [
      "{'epoch': 27, 'iter': 32200, 'avg_loss': 0.3185895063599194, 'avg_epd_acc': 96.8846402224989, 'avg_esd_acc': 90.3218261855222, 'loss': 0.4086301028728485}\n"
     ]
    },
    {
     "name": "stderr",
     "output_type": "stream",
     "text": [
      "                                                        \r"
     ]
    },
    {
     "name": "stdout",
     "output_type": "stream",
     "text": [
      "{'epoch': 27, 'iter': 32300, 'avg_loss': 0.318563363899266, 'avg_epd_acc': 96.88473490051344, 'avg_esd_acc': 90.32385317018048, 'loss': 0.29150938987731934}\n"
     ]
    },
    {
     "name": "stderr",
     "output_type": "stream",
     "text": [
      "                                                        \r"
     ]
    },
    {
     "name": "stdout",
     "output_type": "stream",
     "text": [
      "{'epoch': 27, 'iter': 32400, 'avg_loss': 0.31854896235751506, 'avg_epd_acc': 96.88477474231601, 'avg_esd_acc': 90.32487905465881, 'loss': 0.33291926980018616}\n"
     ]
    },
    {
     "name": "stderr",
     "output_type": "stream",
     "text": [
      "                                                        \r"
     ]
    },
    {
     "name": "stdout",
     "output_type": "stream",
     "text": [
      "{'epoch': 27, 'iter': 32500, 'avg_loss': 0.3185570528768861, 'avg_epd_acc': 96.88459724826977, 'avg_esd_acc': 90.32517749453864, 'loss': 0.361812561750412}\n"
     ]
    },
    {
     "name": "stderr",
     "output_type": "stream",
     "text": [
      "                                                        \r"
     ]
    },
    {
     "name": "stdout",
     "output_type": "stream",
     "text": [
      "{'epoch': 27, 'iter': 32600, 'avg_loss': 0.3185726168013903, 'avg_epd_acc': 96.88446689890168, 'avg_esd_acc': 90.32453950799055, 'loss': 0.2907746434211731}\n"
     ]
    },
    {
     "name": "stderr",
     "output_type": "stream",
     "text": [
      "                                                        \r"
     ]
    },
    {
     "name": "stdout",
     "output_type": "stream",
     "text": [
      "{'epoch': 27, 'iter': 32700, 'avg_loss': 0.31859077957550586, 'avg_epd_acc': 96.88444298847178, 'avg_esd_acc': 90.32328426500719, 'loss': 0.38989710807800293}\n"
     ]
    },
    {
     "name": "stderr",
     "output_type": "stream",
     "text": [
      "                                                        \r"
     ]
    },
    {
     "name": "stdout",
     "output_type": "stream",
     "text": [
      "{'epoch': 27, 'iter': 32800, 'avg_loss': 0.31858859972346354, 'avg_epd_acc': 96.8844636962645, 'avg_esd_acc': 90.32377538032377, 'loss': 0.33168578147888184}\n"
     ]
    },
    {
     "name": "stderr",
     "output_type": "stream",
     "text": [
      "                                                        \r"
     ]
    },
    {
     "name": "stdout",
     "output_type": "stream",
     "text": [
      "{'epoch': 27, 'iter': 32900, 'avg_loss': 0.3185986146049577, 'avg_epd_acc': 96.88455551461439, 'avg_esd_acc': 90.32336118203094, 'loss': 0.37984609603881836}\n"
     ]
    },
    {
     "name": "stderr",
     "output_type": "stream",
     "text": [
      "                                                        \r"
     ]
    },
    {
     "name": "stdout",
     "output_type": "stream",
     "text": [
      "{'epoch': 27, 'iter': 33000, 'avg_loss': 0.31861236671923376, 'avg_epd_acc': 96.88449530293589, 'avg_esd_acc': 90.32349398503075, 'loss': 0.4015815258026123}\n"
     ]
    },
    {
     "name": "stderr",
     "output_type": "stream",
     "text": [
      "                                                        \r"
     ]
    },
    {
     "name": "stdout",
     "output_type": "stream",
     "text": [
      "{'epoch': 27, 'iter': 33100, 'avg_loss': 0.318604806424527, 'avg_epd_acc': 96.88451879964683, 'avg_esd_acc': 90.32310674148817, 'loss': 0.32226383686065674}\n"
     ]
    },
    {
     "name": "stderr",
     "output_type": "stream",
     "text": [
      "                                                        \r"
     ]
    },
    {
     "name": "stdout",
     "output_type": "stream",
     "text": [
      "{'epoch': 27, 'iter': 33200, 'avg_loss': 0.31861704240013744, 'avg_epd_acc': 96.8844904970977, 'avg_esd_acc': 90.32258064516128, 'loss': 0.32340526580810547}\n"
     ]
    },
    {
     "name": "stderr",
     "output_type": "stream",
     "text": [
      "                                                        \r"
     ]
    },
    {
     "name": "stdout",
     "output_type": "stream",
     "text": [
      "{'epoch': 27, 'iter': 33300, 'avg_loss': 0.31861379339721396, 'avg_epd_acc': 96.88455253988948, 'avg_esd_acc': 90.32273805591424, 'loss': 0.27761754393577576}\n"
     ]
    },
    {
     "name": "stderr",
     "output_type": "stream",
     "text": [
      "                                                        \r"
     ]
    },
    {
     "name": "stdout",
     "output_type": "stream",
     "text": [
      "{'epoch': 27, 'iter': 33400, 'avg_loss': 0.31861966313553736, 'avg_epd_acc': 96.88454166557513, 'avg_esd_acc': 90.32266062393342, 'loss': 0.27400800585746765}\n"
     ]
    },
    {
     "name": "stderr",
     "output_type": "stream",
     "text": [
      "                                                        \r"
     ]
    },
    {
     "name": "stdout",
     "output_type": "stream",
     "text": [
      "{'epoch': 27, 'iter': 33500, 'avg_loss': 0.31861996044303365, 'avg_epd_acc': 96.88456911588227, 'avg_esd_acc': 90.32279353601385, 'loss': 0.37980982661247253}\n"
     ]
    },
    {
     "name": "stderr",
     "output_type": "stream",
     "text": [
      "                                                        \r"
     ]
    },
    {
     "name": "stdout",
     "output_type": "stream",
     "text": [
      "{'epoch': 27, 'iter': 33600, 'avg_loss': 0.3186101800450604, 'avg_epd_acc': 96.88458859198526, 'avg_esd_acc': 90.32287915538228, 'loss': 0.3346502482891083}\n"
     ]
    },
    {
     "name": "stderr",
     "output_type": "stream",
     "text": [
      "                                                        \r"
     ]
    },
    {
     "name": "stdout",
     "output_type": "stream",
     "text": [
      "{'epoch': 27, 'iter': 33700, 'avg_loss': 0.3186128340567125, 'avg_epd_acc': 96.88464018970366, 'avg_esd_acc': 90.32317290288123, 'loss': 0.37382280826568604}\n"
     ]
    },
    {
     "name": "stderr",
     "output_type": "stream",
     "text": [
      "                                                        \r"
     ]
    },
    {
     "name": "stdout",
     "output_type": "stream",
     "text": [
      "{'epoch': 27, 'iter': 33800, 'avg_loss': 0.31861126940968665, 'avg_epd_acc': 96.88464218595142, 'avg_esd_acc': 90.32297953462916, 'loss': 0.34248653054237366}\n"
     ]
    },
    {
     "name": "stderr",
     "output_type": "stream",
     "text": [
      "                                                        \r"
     ]
    },
    {
     "name": "stdout",
     "output_type": "stream",
     "text": [
      "{'epoch': 27, 'iter': 33900, 'avg_loss': 0.3186304321567139, 'avg_epd_acc': 96.88459285919386, 'avg_esd_acc': 90.32161200997021, 'loss': 0.3057022988796234}\n"
     ]
    },
    {
     "name": "stderr",
     "output_type": "stream",
     "text": [
      "                                                        \r"
     ]
    },
    {
     "name": "stdout",
     "output_type": "stream",
     "text": [
      "{'epoch': 27, 'iter': 34000, 'avg_loss': 0.3186385189426152, 'avg_epd_acc': 96.88468401980595, 'avg_esd_acc': 90.32096482456399, 'loss': 0.33524537086486816}\n"
     ]
    },
    {
     "name": "stderr",
     "output_type": "stream",
     "text": [
      "                                                        \r"
     ]
    },
    {
     "name": "stdout",
     "output_type": "stream",
     "text": [
      "{'epoch': 27, 'iter': 34100, 'avg_loss': 0.3186465558504164, 'avg_epd_acc': 96.88455968660881, 'avg_esd_acc': 90.32103164130085, 'loss': 0.30955496430397034}\n"
     ]
    },
    {
     "name": "stderr",
     "output_type": "stream",
     "text": [
      "                                                        \r"
     ]
    },
    {
     "name": "stdout",
     "output_type": "stream",
     "text": [
      "{'epoch': 27, 'iter': 34200, 'avg_loss': 0.3186462088377621, 'avg_epd_acc': 96.88470394917181, 'avg_esd_acc': 90.32057268062339, 'loss': 0.3319539427757263}\n"
     ]
    },
    {
     "name": "stderr",
     "output_type": "stream",
     "text": [
      "                                                        \r"
     ]
    },
    {
     "name": "stdout",
     "output_type": "stream",
     "text": [
      "{'epoch': 27, 'iter': 34300, 'avg_loss': 0.31864737288544764, 'avg_epd_acc': 96.88461889577972, 'avg_esd_acc': 90.32068580362088, 'loss': 0.35205066204071045}\n"
     ]
    },
    {
     "name": "stderr",
     "output_type": "stream",
     "text": [
      "                                                        \r"
     ]
    },
    {
     "name": "stdout",
     "output_type": "stream",
     "text": [
      "{'epoch': 27, 'iter': 34400, 'avg_loss': 0.31862387424454275, 'avg_epd_acc': 96.88470909815258, 'avg_esd_acc': 90.32197919391878, 'loss': 0.29035523533821106}\n"
     ]
    },
    {
     "name": "stderr",
     "output_type": "stream",
     "text": [
      "                                                        \r"
     ]
    },
    {
     "name": "stdout",
     "output_type": "stream",
     "text": [
      "{'epoch': 27, 'iter': 34500, 'avg_loss': 0.318629050357788, 'avg_epd_acc': 96.88480231579565, 'avg_esd_acc': 90.32174792035013, 'loss': 0.2850594222545624}\n"
     ]
    },
    {
     "name": "stderr",
     "output_type": "stream",
     "text": [
      "                                                        \r"
     ]
    },
    {
     "name": "stdout",
     "output_type": "stream",
     "text": [
      "{'epoch': 27, 'iter': 34600, 'avg_loss': 0.3186410863200852, 'avg_epd_acc': 96.88476498997048, 'avg_esd_acc': 90.32158572006588, 'loss': 0.297954261302948}\n"
     ]
    },
    {
     "name": "stderr",
     "output_type": "stream",
     "text": [
      "                                                        \r"
     ]
    },
    {
     "name": "stdout",
     "output_type": "stream",
     "text": [
      "{'epoch': 27, 'iter': 34700, 'avg_loss': 0.318634286126085, 'avg_epd_acc': 96.8847875055609, 'avg_esd_acc': 90.322595170168, 'loss': 0.3032163679599762}\n"
     ]
    },
    {
     "name": "stderr",
     "output_type": "stream",
     "text": [
      "                                                        \r"
     ]
    },
    {
     "name": "stdout",
     "output_type": "stream",
     "text": [
      "{'epoch': 27, 'iter': 34800, 'avg_loss': 0.31865459323967293, 'avg_epd_acc': 96.88471518475133, 'avg_esd_acc': 90.32128656504123, 'loss': 0.3519977331161499}\n"
     ]
    },
    {
     "name": "stderr",
     "output_type": "stream",
     "text": [
      "                                                        \r"
     ]
    },
    {
     "name": "stdout",
     "output_type": "stream",
     "text": [
      "{'epoch': 27, 'iter': 34900, 'avg_loss': 0.3186507260888044, 'avg_epd_acc': 96.88470955820794, 'avg_esd_acc': 90.32188816223031, 'loss': 0.2936001420021057}\n"
     ]
    },
    {
     "name": "stderr",
     "output_type": "stream",
     "text": [
      "                                                        \r"
     ]
    },
    {
     "name": "stdout",
     "output_type": "stream",
     "text": [
      "{'epoch': 27, 'iter': 35000, 'avg_loss': 0.3186539759404598, 'avg_epd_acc': 96.88481085947768, 'avg_esd_acc': 90.32183901888517, 'loss': 0.31486988067626953}\n"
     ]
    },
    {
     "name": "stderr",
     "output_type": "stream",
     "text": [
      "                                                        \r"
     ]
    },
    {
     "name": "stdout",
     "output_type": "stream",
     "text": [
      "{'epoch': 27, 'iter': 35100, 'avg_loss': 0.31864163386767747, 'avg_epd_acc': 96.88486950352866, 'avg_esd_acc': 90.32272495797841, 'loss': 0.2739332616329193}\n"
     ]
    },
    {
     "name": "stderr",
     "output_type": "stream",
     "text": [
      "                                                        \r"
     ]
    },
    {
     "name": "stdout",
     "output_type": "stream",
     "text": [
      "{'epoch': 27, 'iter': 35200, 'avg_loss': 0.3186408169748553, 'avg_epd_acc': 96.88506964773505, 'avg_esd_acc': 90.32167498792649, 'loss': 0.3557929992675781}\n"
     ]
    },
    {
     "name": "stderr",
     "output_type": "stream",
     "text": [
      "                                                        \r"
     ]
    },
    {
     "name": "stdout",
     "output_type": "stream",
     "text": [
      "{'epoch': 27, 'iter': 35300, 'avg_loss': 0.31867524143300485, 'avg_epd_acc': 96.88509748777699, 'avg_esd_acc': 90.3201219512195, 'loss': 0.24253790080547333}\n"
     ]
    },
    {
     "name": "stderr",
     "output_type": "stream",
     "text": [
      "                                                        \r"
     ]
    },
    {
     "name": "stdout",
     "output_type": "stream",
     "text": [
      "{'epoch': 27, 'iter': 35400, 'avg_loss': 0.31866988285162473, 'avg_epd_acc': 96.88498689705314, 'avg_esd_acc': 90.32096109573176, 'loss': 0.2517143487930298}\n"
     ]
    },
    {
     "name": "stderr",
     "output_type": "stream",
     "text": [
      "                                                        \r"
     ]
    },
    {
     "name": "stdout",
     "output_type": "stream",
     "text": [
      "{'epoch': 27, 'iter': 35500, 'avg_loss': 0.31866938039110176, 'avg_epd_acc': 96.88485492293572, 'avg_esd_acc': 90.32155344215656, 'loss': 0.25063470005989075}\n"
     ]
    },
    {
     "name": "stderr",
     "output_type": "stream",
     "text": [
      "                                                        \r"
     ]
    },
    {
     "name": "stdout",
     "output_type": "stream",
     "text": [
      "{'epoch': 27, 'iter': 35600, 'avg_loss': 0.31867160755698426, 'avg_epd_acc': 96.88497519600924, 'avg_esd_acc': 90.32093550742957, 'loss': 0.3271942138671875}\n"
     ]
    },
    {
     "name": "stderr",
     "output_type": "stream",
     "text": [
      "                                                        \r"
     ]
    },
    {
     "name": "stdout",
     "output_type": "stream",
     "text": [
      "{'epoch': 27, 'iter': 35700, 'avg_loss': 0.3186648370036691, 'avg_epd_acc': 96.88487716063187, 'avg_esd_acc': 90.32148084087281, 'loss': 0.3201340138912201}\n"
     ]
    },
    {
     "name": "stderr",
     "output_type": "stream",
     "text": [
      "                                                        \r"
     ]
    },
    {
     "name": "stdout",
     "output_type": "stream",
     "text": [
      "{'epoch': 27, 'iter': 35800, 'avg_loss': 0.31865699561240735, 'avg_epd_acc': 96.884795698466, 'avg_esd_acc': 90.32232863607162, 'loss': 0.3125714063644409}\n"
     ]
    },
    {
     "name": "stderr",
     "output_type": "stream",
     "text": [
      "                                                        \r"
     ]
    },
    {
     "name": "stdout",
     "output_type": "stream",
     "text": [
      "{'epoch': 27, 'iter': 35900, 'avg_loss': 0.3186559746854535, 'avg_epd_acc': 96.88478303398583, 'avg_esd_acc': 90.32193131806913, 'loss': 0.31039169430732727}\n"
     ]
    },
    {
     "name": "stderr",
     "output_type": "stream",
     "text": [
      "                                                        \r"
     ]
    },
    {
     "name": "stdout",
     "output_type": "stream",
     "text": [
      "{'epoch': 27, 'iter': 36000, 'avg_loss': 0.318670260263335, 'avg_epd_acc': 96.88481485865844, 'avg_esd_acc': 90.32157960889975, 'loss': 0.27103888988494873}\n"
     ]
    },
    {
     "name": "stderr",
     "output_type": "stream",
     "text": [
      "                                                        \r"
     ]
    },
    {
     "name": "stdout",
     "output_type": "stream",
     "text": [
      "{'epoch': 27, 'iter': 36100, 'avg_loss': 0.3186602719574535, 'avg_epd_acc': 96.8847812468621, 'avg_esd_acc': 90.3220089124955, 'loss': 0.3952848017215729}\n"
     ]
    },
    {
     "name": "stderr",
     "output_type": "stream",
     "text": [
      "                                                        \r"
     ]
    },
    {
     "name": "stdout",
     "output_type": "stream",
     "text": [
      "{'epoch': 27, 'iter': 36200, 'avg_loss': 0.3186715237508376, 'avg_epd_acc': 96.88461968419381, 'avg_esd_acc': 90.3214215422226, 'loss': 0.25217509269714355}\n"
     ]
    },
    {
     "name": "stderr",
     "output_type": "stream",
     "text": [
      "                                                        \r"
     ]
    },
    {
     "name": "stdout",
     "output_type": "stream",
     "text": [
      "{'epoch': 27, 'iter': 36300, 'avg_loss': 0.3186824153930713, 'avg_epd_acc': 96.88470364996186, 'avg_esd_acc': 90.32072980083193, 'loss': 0.434398889541626}\n"
     ]
    },
    {
     "name": "stderr",
     "output_type": "stream",
     "text": [
      "                                                        \r"
     ]
    },
    {
     "name": "stdout",
     "output_type": "stream",
     "text": [
      "{'epoch': 27, 'iter': 36400, 'avg_loss': 0.3186963792874038, 'avg_epd_acc': 96.88472712695908, 'avg_esd_acc': 90.31993454850141, 'loss': 0.3076915442943573}\n"
     ]
    },
    {
     "name": "stderr",
     "output_type": "stream",
     "text": [
      "                                                        \r"
     ]
    },
    {
     "name": "stdout",
     "output_type": "stream",
     "text": [
      "{'epoch': 27, 'iter': 36500, 'avg_loss': 0.3187092848485249, 'avg_epd_acc': 96.8848387648519, 'avg_esd_acc': 90.31933628530724, 'loss': 0.3416783809661865}\n"
     ]
    },
    {
     "name": "stderr",
     "output_type": "stream",
     "text": [
      "                                                        \r"
     ]
    },
    {
     "name": "stdout",
     "output_type": "stream",
     "text": [
      "{'epoch': 27, 'iter': 36600, 'avg_loss': 0.3187398505002103, 'avg_epd_acc': 96.8847733625789, 'avg_esd_acc': 90.31848515067894, 'loss': 0.2776676416397095}\n"
     ]
    },
    {
     "name": "stderr",
     "output_type": "stream",
     "text": [
      "                                                        \r"
     ]
    },
    {
     "name": "stdout",
     "output_type": "stream",
     "text": [
      "{'epoch': 27, 'iter': 36700, 'avg_loss': 0.3187438947812227, 'avg_epd_acc': 96.88471280691432, 'avg_esd_acc': 90.31827726083758, 'loss': 0.3189474940299988}\n"
     ]
    },
    {
     "name": "stderr",
     "output_type": "stream",
     "text": [
      "                                                        \r"
     ]
    },
    {
     "name": "stdout",
     "output_type": "stream",
     "text": [
      "{'epoch': 27, 'iter': 36800, 'avg_loss': 0.318735789910616, 'avg_epd_acc': 96.8846351658986, 'avg_esd_acc': 90.3186649139969, 'loss': 0.2777383327484131}\n"
     ]
    },
    {
     "name": "stderr",
     "output_type": "stream",
     "text": [
      "                                                        \r"
     ]
    },
    {
     "name": "stdout",
     "output_type": "stream",
     "text": [
      "{'epoch': 27, 'iter': 36900, 'avg_loss': 0.31874093022621997, 'avg_epd_acc': 96.88462758011936, 'avg_esd_acc': 90.31826712013225, 'loss': 0.29448017477989197}\n"
     ]
    },
    {
     "name": "stderr",
     "output_type": "stream",
     "text": [
      "                                                        \r"
     ]
    },
    {
     "name": "stdout",
     "output_type": "stream",
     "text": [
      "{'epoch': 27, 'iter': 37000, 'avg_loss': 0.3187288236596778, 'avg_epd_acc': 96.8846480777652, 'avg_esd_acc': 90.31880050539175, 'loss': 0.2754088044166565}\n"
     ]
    },
    {
     "name": "stderr",
     "output_type": "stream",
     "text": [
      "                                                        \r"
     ]
    },
    {
     "name": "stdout",
     "output_type": "stream",
     "text": [
      "{'epoch': 27, 'iter': 37100, 'avg_loss': 0.318732098721323, 'avg_epd_acc': 96.88450494116778, 'avg_esd_acc': 90.31895198242636, 'loss': 0.3041578531265259}\n"
     ]
    },
    {
     "name": "stderr",
     "output_type": "stream",
     "text": [
      "                                                        \r"
     ]
    },
    {
     "name": "stdout",
     "output_type": "stream",
     "text": [
      "{'epoch': 27, 'iter': 37200, 'avg_loss': 0.3187154822932953, 'avg_epd_acc': 96.88441409163858, 'avg_esd_acc': 90.3199216754926, 'loss': 0.30927395820617676}\n"
     ]
    },
    {
     "name": "stderr",
     "output_type": "stream",
     "text": [
      "                                                        \r"
     ]
    },
    {
     "name": "stdout",
     "output_type": "stream",
     "text": [
      "{'epoch': 27, 'iter': 37300, 'avg_loss': 0.3187388586172172, 'avg_epd_acc': 96.8843328924346, 'avg_esd_acc': 90.31851944317847, 'loss': 0.27114740014076233}\n"
     ]
    },
    {
     "name": "stderr",
     "output_type": "stream",
     "text": [
      "                                                        \r"
     ]
    },
    {
     "name": "stdout",
     "output_type": "stream",
     "text": [
      "{'epoch': 27, 'iter': 37400, 'avg_loss': 0.3187374172901611, 'avg_epd_acc': 96.88445122075404, 'avg_esd_acc': 90.31900467233497, 'loss': 0.29459065198898315}\n"
     ]
    },
    {
     "name": "stderr",
     "output_type": "stream",
     "text": [
      "                                                        \r"
     ]
    },
    {
     "name": "stdout",
     "output_type": "stream",
     "text": [
      "{'epoch': 27, 'iter': 37500, 'avg_loss': 0.31874311325540605, 'avg_epd_acc': 96.8844479902411, 'avg_esd_acc': 90.31867483533772, 'loss': 0.3901130259037018}\n"
     ]
    },
    {
     "name": "stderr",
     "output_type": "stream",
     "text": [
      "                                                        \r"
     ]
    },
    {
     "name": "stdout",
     "output_type": "stream",
     "text": [
      "{'epoch': 27, 'iter': 37600, 'avg_loss': 0.31873770680539404, 'avg_epd_acc': 96.88452626317078, 'avg_esd_acc': 90.31888696444244, 'loss': 0.30567461252212524}\n"
     ]
    },
    {
     "name": "stderr",
     "output_type": "stream",
     "text": [
      "                                                        \r"
     ]
    },
    {
     "name": "stdout",
     "output_type": "stream",
     "text": [
      "{'epoch': 27, 'iter': 37700, 'avg_loss': 0.3187316508622755, 'avg_epd_acc': 96.88456575230721, 'avg_esd_acc': 90.31953313572583, 'loss': 0.2522874176502228}\n"
     ]
    },
    {
     "name": "stderr",
     "output_type": "stream",
     "text": [
      "                                                        \r"
     ]
    },
    {
     "name": "stdout",
     "output_type": "stream",
     "text": [
      "{'epoch': 27, 'iter': 37800, 'avg_loss': 0.3187449569653394, 'avg_epd_acc': 96.88440336348162, 'avg_esd_acc': 90.31928718816962, 'loss': 0.27567070722579956}\n"
     ]
    },
    {
     "name": "stderr",
     "output_type": "stream",
     "text": [
      "                                                        \r"
     ]
    },
    {
     "name": "stdout",
     "output_type": "stream",
     "text": [
      "{'epoch': 27, 'iter': 37900, 'avg_loss': 0.31873601532866874, 'avg_epd_acc': 96.88447501514018, 'avg_esd_acc': 90.31997011952191, 'loss': 0.29835838079452515}\n"
     ]
    },
    {
     "name": "stderr",
     "output_type": "stream",
     "text": [
      "                                                        \r"
     ]
    },
    {
     "name": "stdout",
     "output_type": "stream",
     "text": [
      "{'epoch': 27, 'iter': 38000, 'avg_loss': 0.3187361548977185, 'avg_epd_acc': 96.8843757169836, 'avg_esd_acc': 90.32046442856767, 'loss': 0.29712265729904175}\n"
     ]
    },
    {
     "name": "stderr",
     "output_type": "stream",
     "text": [
      "                                                        \r"
     ]
    },
    {
     "name": "stdout",
     "output_type": "stream",
     "text": [
      "{'epoch': 27, 'iter': 38100, 'avg_loss': 0.31871619520663014, 'avg_epd_acc': 96.88455743810448, 'avg_esd_acc': 90.3218173407522, 'loss': 0.284310519695282}\n"
     ]
    },
    {
     "name": "stderr",
     "output_type": "stream",
     "text": [
      "                                                        \r"
     ]
    },
    {
     "name": "stdout",
     "output_type": "stream",
     "text": [
      "{'epoch': 27, 'iter': 38200, 'avg_loss': 0.3187183271988702, 'avg_epd_acc': 96.88450829345723, 'avg_esd_acc': 90.32232467736446, 'loss': 0.3031677007675171}\n"
     ]
    },
    {
     "name": "stderr",
     "output_type": "stream",
     "text": [
      "                                                        \r"
     ]
    },
    {
     "name": "stdout",
     "output_type": "stream",
     "text": [
      "{'epoch': 27, 'iter': 38300, 'avg_loss': 0.318705031687135, 'avg_epd_acc': 96.88467358065064, 'avg_esd_acc': 90.32293135296729, 'loss': 0.2642381489276886}\n"
     ]
    },
    {
     "name": "stderr",
     "output_type": "stream",
     "text": [
      "                                                        \r"
     ]
    },
    {
     "name": "stdout",
     "output_type": "stream",
     "text": [
      "{'epoch': 27, 'iter': 38400, 'avg_loss': 0.3186679178181578, 'avg_epd_acc': 96.88472102599258, 'avg_esd_acc': 90.32430796073018, 'loss': 0.3250907063484192}\n"
     ]
    },
    {
     "name": "stderr",
     "output_type": "stream",
     "text": [
      "                                                        \r"
     ]
    },
    {
     "name": "stdout",
     "output_type": "stream",
     "text": [
      "{'epoch': 27, 'iter': 38500, 'avg_loss': 0.3186529275682145, 'avg_epd_acc': 96.8846678761692, 'avg_esd_acc': 90.32517012545128, 'loss': 0.39308786392211914}\n"
     ]
    },
    {
     "name": "stderr",
     "output_type": "stream",
     "text": [
      "                                                        \r"
     ]
    },
    {
     "name": "stdout",
     "output_type": "stream",
     "text": [
      "{'epoch': 27, 'iter': 38600, 'avg_loss': 0.3186493683138807, 'avg_epd_acc': 96.88467445412077, 'avg_esd_acc': 90.32606830133935, 'loss': 0.3444194495677948}\n"
     ]
    },
    {
     "name": "stderr",
     "output_type": "stream",
     "text": [
      "                                                        \r"
     ]
    },
    {
     "name": "stdout",
     "output_type": "stream",
     "text": [
      "{'epoch': 27, 'iter': 38700, 'avg_loss': 0.3186456087578859, 'avg_epd_acc': 96.88471380165605, 'avg_esd_acc': 90.32653791245704, 'loss': 0.3455922603607178}\n"
     ]
    },
    {
     "name": "stderr",
     "output_type": "stream",
     "text": [
      "                                                        \r"
     ]
    },
    {
     "name": "stdout",
     "output_type": "stream",
     "text": [
      "{'epoch': 27, 'iter': 38800, 'avg_loss': 0.3186470340701287, 'avg_epd_acc': 96.88463481178401, 'avg_esd_acc': 90.32579701554083, 'loss': 0.2988058924674988}\n"
     ]
    },
    {
     "name": "stderr",
     "output_type": "stream",
     "text": [
      "                                                        \r"
     ]
    },
    {
     "name": "stdout",
     "output_type": "stream",
     "text": [
      "{'epoch': 27, 'iter': 38900, 'avg_loss': 0.31864328224941935, 'avg_epd_acc': 96.8845607780809, 'avg_esd_acc': 90.32596366417316, 'loss': 0.34474116563796997}\n"
     ]
    },
    {
     "name": "stderr",
     "output_type": "stream",
     "text": [
      "                                                        \r"
     ]
    },
    {
     "name": "stdout",
     "output_type": "stream",
     "text": [
      "{'epoch': 27, 'iter': 39000, 'avg_loss': 0.31863323168295665, 'avg_epd_acc': 96.88455363499293, 'avg_esd_acc': 90.3263097420579, 'loss': 0.33706972002983093}\n"
     ]
    },
    {
     "name": "stderr",
     "output_type": "stream",
     "text": [
      "                                                        \r"
     ]
    },
    {
     "name": "stdout",
     "output_type": "stream",
     "text": [
      "{'epoch': 27, 'iter': 39100, 'avg_loss': 0.31863450103388585, 'avg_epd_acc': 96.88449564109614, 'avg_esd_acc': 90.3261145814685, 'loss': 0.32040077447891235}\n"
     ]
    },
    {
     "name": "stderr",
     "output_type": "stream",
     "text": [
      "                                                        \r"
     ]
    },
    {
     "name": "stdout",
     "output_type": "stream",
     "text": [
      "{'epoch': 27, 'iter': 39200, 'avg_loss': 0.31863168406267867, 'avg_epd_acc': 96.88454039233494, 'avg_esd_acc': 90.32715603556032, 'loss': 0.25164595246315}\n"
     ]
    },
    {
     "name": "stderr",
     "output_type": "stream",
     "text": [
      "                                                        \r"
     ]
    },
    {
     "name": "stdout",
     "output_type": "stream",
     "text": [
      "{'epoch': 27, 'iter': 39300, 'avg_loss': 0.3186231201960535, 'avg_epd_acc': 96.88461768451542, 'avg_esd_acc': 90.32715850105595, 'loss': 0.3916206955909729}\n"
     ]
    },
    {
     "name": "stderr",
     "output_type": "stream",
     "text": [
      "                                                        \r"
     ]
    },
    {
     "name": "stdout",
     "output_type": "stream",
     "text": [
      "{'epoch': 27, 'iter': 39400, 'avg_loss': 0.31861104708016397, 'avg_epd_acc': 96.88454835155477, 'avg_esd_acc': 90.32765665846044, 'loss': 0.3236088156700134}\n"
     ]
    },
    {
     "name": "stderr",
     "output_type": "stream",
     "text": [
      "                                                        \r"
     ]
    },
    {
     "name": "stdout",
     "output_type": "stream",
     "text": [
      "{'epoch': 27, 'iter': 39500, 'avg_loss': 0.31861507321738863, 'avg_epd_acc': 96.88462693191312, 'avg_esd_acc': 90.327123838637, 'loss': 0.3040085732936859}\n"
     ]
    },
    {
     "name": "stderr",
     "output_type": "stream",
     "text": [
      "                                                        \r"
     ]
    },
    {
     "name": "stdout",
     "output_type": "stream",
     "text": [
      "{'epoch': 27, 'iter': 39600, 'avg_loss': 0.3185957852366362, 'avg_epd_acc': 96.88463021051986, 'avg_esd_acc': 90.32748147142749, 'loss': 0.28992965817451477}\n"
     ]
    },
    {
     "name": "stderr",
     "output_type": "stream",
     "text": [
      "                                                        \r"
     ]
    },
    {
     "name": "stdout",
     "output_type": "stream",
     "text": [
      "{'epoch': 27, 'iter': 39700, 'avg_loss': 0.31858741336438023, 'avg_epd_acc': 96.88472064153177, 'avg_esd_acc': 90.32712888214402, 'loss': 0.3422549366950989}\n"
     ]
    },
    {
     "name": "stderr",
     "output_type": "stream",
     "text": [
      "                                                        \r"
     ]
    },
    {
     "name": "stdout",
     "output_type": "stream",
     "text": [
      "{'epoch': 27, 'iter': 39800, 'avg_loss': 0.318593694017729, 'avg_epd_acc': 96.88460666154941, 'avg_esd_acc': 90.32709212708224, 'loss': 0.3091939389705658}\n"
     ]
    },
    {
     "name": "stderr",
     "output_type": "stream",
     "text": [
      "                                                        \r"
     ]
    },
    {
     "name": "stdout",
     "output_type": "stream",
     "text": [
      "{'epoch': 27, 'iter': 39900, 'avg_loss': 0.3185944146383813, 'avg_epd_acc': 96.88474717724219, 'avg_esd_acc': 90.32672270118543, 'loss': 0.3317481279373169}\n"
     ]
    },
    {
     "name": "stderr",
     "output_type": "stream",
     "text": [
      "                                                        \r"
     ]
    },
    {
     "name": "stdout",
     "output_type": "stream",
     "text": [
      "{'epoch': 27, 'iter': 40000, 'avg_loss': 0.3185967073287431, 'avg_epd_acc': 96.88483373853154, 'avg_esd_acc': 90.32680432989176, 'loss': 0.3087823987007141}\n"
     ]
    },
    {
     "name": "stderr",
     "output_type": "stream",
     "text": [
      "                                                        \r"
     ]
    },
    {
     "name": "stdout",
     "output_type": "stream",
     "text": [
      "{'epoch': 27, 'iter': 40100, 'avg_loss': 0.31860348216771084, 'avg_epd_acc': 96.8848393524125, 'avg_esd_acc': 90.32556077155182, 'loss': 0.30373549461364746}\n"
     ]
    },
    {
     "name": "stderr",
     "output_type": "stream",
     "text": [
      "                                                        \r"
     ]
    },
    {
     "name": "stdout",
     "output_type": "stream",
     "text": [
      "{'epoch': 27, 'iter': 40200, 'avg_loss': 0.31861849832094735, 'avg_epd_acc': 96.88489655885427, 'avg_esd_acc': 90.32488697420462, 'loss': 0.3055771589279175}\n"
     ]
    },
    {
     "name": "stderr",
     "output_type": "stream",
     "text": [
      "                                                        \r"
     ]
    },
    {
     "name": "stdout",
     "output_type": "stream",
     "text": [
      "{'epoch': 27, 'iter': 40300, 'avg_loss': 0.318599873212312, 'avg_epd_acc': 96.88480718239776, 'avg_esd_acc': 90.32638768268777, 'loss': 0.29147401452064514}\n"
     ]
    },
    {
     "name": "stderr",
     "output_type": "stream",
     "text": [
      "                                                        \r"
     ]
    },
    {
     "name": "stdout",
     "output_type": "stream",
     "text": [
      "{'epoch': 27, 'iter': 40400, 'avg_loss': 0.318600971908154, 'avg_epd_acc': 96.88485919985158, 'avg_esd_acc': 90.32672071854657, 'loss': 0.3180956542491913}\n"
     ]
    },
    {
     "name": "stderr",
     "output_type": "stream",
     "text": [
      "                                                        \r"
     ]
    },
    {
     "name": "stdout",
     "output_type": "stream",
     "text": [
      "{'epoch': 27, 'iter': 40500, 'avg_loss': 0.3185881836108639, 'avg_epd_acc': 96.88498133750748, 'avg_esd_acc': 90.3266470272339, 'loss': 0.2681952118873596}\n"
     ]
    },
    {
     "name": "stderr",
     "output_type": "stream",
     "text": [
      "                                                        \r"
     ]
    },
    {
     "name": "stdout",
     "output_type": "stream",
     "text": [
      "{'epoch': 27, 'iter': 40600, 'avg_loss': 0.3185926207676682, 'avg_epd_acc': 96.885126926186, 'avg_esd_acc': 90.32599643481689, 'loss': 0.3271964192390442}\n"
     ]
    },
    {
     "name": "stderr",
     "output_type": "stream",
     "text": [
      "                                                        \r"
     ]
    },
    {
     "name": "stdout",
     "output_type": "stream",
     "text": [
      "{'epoch': 27, 'iter': 40700, 'avg_loss': 0.318585709080055, 'avg_epd_acc': 96.88518452282922, 'avg_esd_acc': 90.3264815360802, 'loss': 0.3359262943267822}\n"
     ]
    },
    {
     "name": "stderr",
     "output_type": "stream",
     "text": [
      "                                                        \r"
     ]
    },
    {
     "name": "stdout",
     "output_type": "stream",
     "text": [
      "{'epoch': 27, 'iter': 40800, 'avg_loss': 0.31859708410984006, 'avg_epd_acc': 96.88524572654278, 'avg_esd_acc': 90.32577709492415, 'loss': 0.37304365634918213}\n"
     ]
    },
    {
     "name": "stderr",
     "output_type": "stream",
     "text": [
      "                                                        \r"
     ]
    },
    {
     "name": "stdout",
     "output_type": "stream",
     "text": [
      "{'epoch': 27, 'iter': 40900, 'avg_loss': 0.31859752303965067, 'avg_epd_acc': 96.88526962279155, 'avg_esd_acc': 90.3258592393829, 'loss': 0.28362512588500977}\n"
     ]
    },
    {
     "name": "stderr",
     "output_type": "stream",
     "text": [
      "                                                        \r"
     ]
    },
    {
     "name": "stdout",
     "output_type": "stream",
     "text": [
      "{'epoch': 27, 'iter': 41000, 'avg_loss': 0.31859407517406196, 'avg_epd_acc': 96.8852338574345, 'avg_esd_acc': 90.32565516694714, 'loss': 0.2940540313720703}\n"
     ]
    },
    {
     "name": "stderr",
     "output_type": "stream",
     "text": [
      "                                                        \r"
     ]
    },
    {
     "name": "stdout",
     "output_type": "stream",
     "text": [
      "{'epoch': 27, 'iter': 41100, 'avg_loss': 0.3185939657926989, 'avg_epd_acc': 96.8851574284993, 'avg_esd_acc': 90.32564216807377, 'loss': 0.3104229271411896}\n"
     ]
    },
    {
     "name": "stderr",
     "output_type": "stream",
     "text": [
      "                                                        \r"
     ]
    },
    {
     "name": "stdout",
     "output_type": "stream",
     "text": [
      "{'epoch': 27, 'iter': 41200, 'avg_loss': 0.3185885555061888, 'avg_epd_acc': 96.88508107428937, 'avg_esd_acc': 90.32634978519938, 'loss': 0.40232497453689575}\n"
     ]
    },
    {
     "name": "stderr",
     "output_type": "stream",
     "text": [
      "                                                        \r"
     ]
    },
    {
     "name": "stdout",
     "output_type": "stream",
     "text": [
      "{'epoch': 27, 'iter': 41300, 'avg_loss': 0.3185942410431989, 'avg_epd_acc': 96.88500627207497, 'avg_esd_acc': 90.3259757632987, 'loss': 0.338519811630249}\n"
     ]
    },
    {
     "name": "stderr",
     "output_type": "stream",
     "text": [
      "                                                        \r"
     ]
    },
    {
     "name": "stdout",
     "output_type": "stream",
     "text": [
      "{'epoch': 27, 'iter': 41400, 'avg_loss': 0.31861973325291026, 'avg_epd_acc': 96.88502942613667, 'avg_esd_acc': 90.32466003236637, 'loss': 0.4117070436477661}\n"
     ]
    },
    {
     "name": "stderr",
     "output_type": "stream",
     "text": [
      "                                                        \r"
     ]
    },
    {
     "name": "stdout",
     "output_type": "stream",
     "text": [
      "{'epoch': 27, 'iter': 41500, 'avg_loss': 0.3186155496126244, 'avg_epd_acc': 96.88503540859709, 'avg_esd_acc': 90.32419776029494, 'loss': 0.26469022035598755}\n"
     ]
    },
    {
     "name": "stderr",
     "output_type": "stream",
     "text": [
      "                                                        \r"
     ]
    },
    {
     "name": "stdout",
     "output_type": "stream",
     "text": [
      "{'epoch': 27, 'iter': 41600, 'avg_loss': 0.3186112651375549, 'avg_epd_acc': 96.88500629726825, 'avg_esd_acc': 90.324263539338, 'loss': 0.3120057284832001}\n"
     ]
    },
    {
     "name": "stderr",
     "output_type": "stream",
     "text": [
      "                                                        \r"
     ]
    },
    {
     "name": "stdout",
     "output_type": "stream",
     "text": [
      "{'epoch': 27, 'iter': 41700, 'avg_loss': 0.3186313821475102, 'avg_epd_acc': 96.88501625832188, 'avg_esd_acc': 90.32305505263662, 'loss': 0.40610527992248535}\n"
     ]
    },
    {
     "name": "stderr",
     "output_type": "stream",
     "text": [
      "                                                        \r"
     ]
    },
    {
     "name": "stdout",
     "output_type": "stream",
     "text": [
      "{'epoch': 27, 'iter': 41800, 'avg_loss': 0.31863730094496484, 'avg_epd_acc': 96.88510209880221, 'avg_esd_acc': 90.32218876342671, 'loss': 0.37319594621658325}\n"
     ]
    },
    {
     "name": "stderr",
     "output_type": "stream",
     "text": [
      "                                                        \r"
     ]
    },
    {
     "name": "stdout",
     "output_type": "stream",
     "text": [
      "{'epoch': 27, 'iter': 41900, 'avg_loss': 0.3186512158309266, 'avg_epd_acc': 96.88512416521048, 'avg_esd_acc': 90.3210282869144, 'loss': 0.38137176632881165}\n"
     ]
    },
    {
     "name": "stderr",
     "output_type": "stream",
     "text": [
      "                                                        \r"
     ]
    },
    {
     "name": "stdout",
     "output_type": "stream",
     "text": [
      "{'epoch': 27, 'iter': 42000, 'avg_loss': 0.318641050788284, 'avg_epd_acc': 96.8851510673667, 'avg_esd_acc': 90.32123119092402, 'loss': 0.31802812218666077}\n"
     ]
    },
    {
     "name": "stderr",
     "output_type": "stream",
     "text": [
      "                                                        \r"
     ]
    },
    {
     "name": "stdout",
     "output_type": "stream",
     "text": [
      "{'epoch': 27, 'iter': 42100, 'avg_loss': 0.31864513407730183, 'avg_epd_acc': 96.88501373209107, 'avg_esd_acc': 90.32161869670554, 'loss': 0.3548039197921753}\n"
     ]
    },
    {
     "name": "stderr",
     "output_type": "stream",
     "text": [
      "                                                        \r"
     ]
    },
    {
     "name": "stdout",
     "output_type": "stream",
     "text": [
      "{'epoch': 27, 'iter': 42200, 'avg_loss': 0.31863258482657014, 'avg_epd_acc': 96.88492520934967, 'avg_esd_acc': 90.32298553351816, 'loss': 0.3371009826660156}\n"
     ]
    },
    {
     "name": "stderr",
     "output_type": "stream",
     "text": [
      "                                                        \r"
     ]
    },
    {
     "name": "stdout",
     "output_type": "stream",
     "text": [
      "{'epoch': 27, 'iter': 42300, 'avg_loss': 0.3186395460775971, 'avg_epd_acc': 96.88487995860396, 'avg_esd_acc': 90.32296074560885, 'loss': 0.3516661524772644}\n"
     ]
    },
    {
     "name": "stderr",
     "output_type": "stream",
     "text": [
      "                                                        \r"
     ]
    },
    {
     "name": "stdout",
     "output_type": "stream",
     "text": [
      "{'epoch': 27, 'iter': 42400, 'avg_loss': 0.3186397188309524, 'avg_epd_acc': 96.884912796868, 'avg_esd_acc': 90.32288079880192, 'loss': 0.36816516518592834}\n"
     ]
    },
    {
     "name": "stderr",
     "output_type": "stream",
     "text": [
      "                                                        \r"
     ]
    },
    {
     "name": "stdout",
     "output_type": "stream",
     "text": [
      "{'epoch': 27, 'iter': 42500, 'avg_loss': 0.31864315883117195, 'avg_epd_acc': 96.8848136477671, 'avg_esd_acc': 90.3228012282064, 'loss': 0.3095559775829315}\n"
     ]
    },
    {
     "name": "stderr",
     "output_type": "stream",
     "text": [
      "                                                        \r"
     ]
    },
    {
     "name": "stdout",
     "output_type": "stream",
     "text": [
      "{'epoch': 27, 'iter': 42600, 'avg_loss': 0.31863749807620984, 'avg_epd_acc': 96.88487041388589, 'avg_esd_acc': 90.32327219431468, 'loss': 0.30802905559539795}\n"
     ]
    },
    {
     "name": "stderr",
     "output_type": "stream",
     "text": [
      "                                                        \r"
     ]
    },
    {
     "name": "stdout",
     "output_type": "stream",
     "text": [
      "{'epoch': 27, 'iter': 42700, 'avg_loss': 0.3186400069045489, 'avg_epd_acc': 96.88497065258278, 'avg_esd_acc': 90.32315548816186, 'loss': 0.2811318635940552}\n"
     ]
    },
    {
     "name": "stderr",
     "output_type": "stream",
     "text": [
      "                                                        \r"
     ]
    },
    {
     "name": "stdout",
     "output_type": "stream",
     "text": [
      "{'epoch': 27, 'iter': 42800, 'avg_loss': 0.318651661817494, 'avg_epd_acc': 96.88505929991597, 'avg_esd_acc': 90.32240046961519, 'loss': 0.3069477677345276}\n"
     ]
    },
    {
     "name": "stderr",
     "output_type": "stream",
     "text": [
      "                                                        \r"
     ]
    },
    {
     "name": "stdout",
     "output_type": "stream",
     "text": [
      "{'epoch': 27, 'iter': 42900, 'avg_loss': 0.31865133085144376, 'avg_epd_acc': 96.88511225108026, 'avg_esd_acc': 90.32214065522948, 'loss': 0.297549307346344}\n"
     ]
    },
    {
     "name": "stderr",
     "output_type": "stream",
     "text": [
      "                                                        \r"
     ]
    },
    {
     "name": "stdout",
     "output_type": "stream",
     "text": [
      "{'epoch': 27, 'iter': 43000, 'avg_loss': 0.3186405017580066, 'avg_epd_acc': 96.88509128966477, 'avg_esd_acc': 90.32304481291132, 'loss': 0.3813279867172241}\n"
     ]
    },
    {
     "name": "stderr",
     "output_type": "stream",
     "text": [
      "                                                        \r"
     ]
    },
    {
     "name": "stdout",
     "output_type": "stream",
     "text": [
      "{'epoch': 27, 'iter': 43100, 'avg_loss': 0.3186508367033736, 'avg_epd_acc': 96.8850944991488, 'avg_esd_acc': 90.32216842416649, 'loss': 0.3447709083557129}\n"
     ]
    },
    {
     "name": "stderr",
     "output_type": "stream",
     "text": [
      "                                                        \r"
     ]
    },
    {
     "name": "stdout",
     "output_type": "stream",
     "text": [
      "{'epoch': 27, 'iter': 43200, 'avg_loss': 0.3186599827759774, 'avg_epd_acc': 96.88505403769408, 'avg_esd_acc': 90.32147693340433, 'loss': 0.318019300699234}\n"
     ]
    },
    {
     "name": "stderr",
     "output_type": "stream",
     "text": [
      "                                                        \r"
     ]
    },
    {
     "name": "stdout",
     "output_type": "stream",
     "text": [
      "{'epoch': 27, 'iter': 43300, 'avg_loss': 0.3186491749818869, 'avg_epd_acc': 96.88508198560297, 'avg_esd_acc': 90.32244852890233, 'loss': 0.3755093216896057}\n"
     ]
    },
    {
     "name": "stderr",
     "output_type": "stream",
     "text": [
      "                                                        \r"
     ]
    },
    {
     "name": "stdout",
     "output_type": "stream",
     "text": [
      "{'epoch': 27, 'iter': 43400, 'avg_loss': 0.3186585579270638, 'avg_epd_acc': 96.8850726782019, 'avg_esd_acc': 90.32192158590816, 'loss': 0.32556623220443726}\n"
     ]
    },
    {
     "name": "stderr",
     "output_type": "stream",
     "text": [
      "                                                        \r"
     ]
    },
    {
     "name": "stdout",
     "output_type": "stream",
     "text": [
      "{'epoch': 27, 'iter': 43500, 'avg_loss': 0.3186329256591872, 'avg_epd_acc': 96.88510283999398, 'avg_esd_acc': 90.3234803510264, 'loss': 0.32980236411094666}\n"
     ]
    },
    {
     "name": "stderr",
     "output_type": "stream",
     "text": [
      "                                                        \r"
     ]
    },
    {
     "name": "stdout",
     "output_type": "stream",
     "text": [
      "{'epoch': 27, 'iter': 43600, 'avg_loss': 0.31863020105583784, 'avg_epd_acc': 96.88511788496466, 'avg_esd_acc': 90.32329390380954, 'loss': 0.2560196816921234}\n"
     ]
    },
    {
     "name": "stderr",
     "output_type": "stream",
     "text": [
      "                                                        \r"
     ]
    },
    {
     "name": "stdout",
     "output_type": "stream",
     "text": [
      "{'epoch': 27, 'iter': 43700, 'avg_loss': 0.3186203890226135, 'avg_epd_acc': 96.88522545921074, 'avg_esd_acc': 90.32351948467998, 'loss': 0.2894865870475769}\n"
     ]
    },
    {
     "name": "stderr",
     "output_type": "stream",
     "text": [
      "                                                        \r"
     ]
    },
    {
     "name": "stdout",
     "output_type": "stream",
     "text": [
      "{'epoch': 27, 'iter': 43800, 'avg_loss': 0.3186154076194864, 'avg_epd_acc': 96.88522148310862, 'avg_esd_acc': 90.32388672633044, 'loss': 0.2746254801750183}\n"
     ]
    },
    {
     "name": "stderr",
     "output_type": "stream",
     "text": [
      "                                                        \r"
     ]
    },
    {
     "name": "stdout",
     "output_type": "stream",
     "text": [
      "{'epoch': 27, 'iter': 43900, 'avg_loss': 0.31860215718055224, 'avg_epd_acc': 96.88524463579097, 'avg_esd_acc': 90.32453702649143, 'loss': 0.3149477541446686}\n"
     ]
    },
    {
     "name": "stderr",
     "output_type": "stream",
     "text": [
      "                                                        \r"
     ]
    },
    {
     "name": "stdout",
     "output_type": "stream",
     "text": [
      "{'epoch': 27, 'iter': 44000, 'avg_loss': 0.31860408583138955, 'avg_epd_acc': 96.88529847754704, 'avg_esd_acc': 90.32422558578213, 'loss': 0.34774941205978394}\n"
     ]
    },
    {
     "name": "stderr",
     "output_type": "stream",
     "text": [
      "                                                        \r"
     ]
    },
    {
     "name": "stdout",
     "output_type": "stream",
     "text": [
      "{'epoch': 27, 'iter': 44100, 'avg_loss': 0.3186301757165065, 'avg_epd_acc': 96.88531415391834, 'avg_esd_acc': 90.32310066665154, 'loss': 0.31495317816734314}\n"
     ]
    },
    {
     "name": "stderr",
     "output_type": "stream",
     "text": [
      "                                                        \r"
     ]
    },
    {
     "name": "stdout",
     "output_type": "stream",
     "text": [
      "{'epoch': 27, 'iter': 44200, 'avg_loss': 0.31863696808224473, 'avg_epd_acc': 96.88528681477794, 'avg_esd_acc': 90.32272318499581, 'loss': 0.32499492168426514}\n"
     ]
    },
    {
     "name": "stderr",
     "output_type": "stream",
     "text": [
      "                                                        \r"
     ]
    },
    {
     "name": "stdout",
     "output_type": "stream",
     "text": [
      "{'epoch': 27, 'iter': 44300, 'avg_loss': 0.3186381483074101, 'avg_epd_acc': 96.88531305528339, 'avg_esd_acc': 90.32243558271821, 'loss': 0.32481613755226135}\n"
     ]
    },
    {
     "name": "stderr",
     "output_type": "stream",
     "text": [
      "                                                        \r"
     ]
    },
    {
     "name": "stdout",
     "output_type": "stream",
     "text": [
      "{'epoch': 27, 'iter': 44400, 'avg_loss': 0.31864877018708965, 'avg_epd_acc': 96.88517284678977, 'avg_esd_acc': 90.32206129929506, 'loss': 0.3586932420730591}\n"
     ]
    },
    {
     "name": "stderr",
     "output_type": "stream",
     "text": [
      "                                                        \r"
     ]
    },
    {
     "name": "stdout",
     "output_type": "stream",
     "text": [
      "{'epoch': 27, 'iter': 44500, 'avg_loss': 0.3186439902168968, 'avg_epd_acc': 96.88526684266927, 'avg_esd_acc': 90.32182914428888, 'loss': 0.30225104093551636}\n"
     ]
    },
    {
     "name": "stderr",
     "output_type": "stream",
     "text": [
      "                                                        \r"
     ]
    },
    {
     "name": "stdout",
     "output_type": "stream",
     "text": [
      "{'epoch': 27, 'iter': 44600, 'avg_loss': 0.31865355838497367, 'avg_epd_acc': 96.88532907907579, 'avg_esd_acc': 90.32098495549428, 'loss': 0.3186395764350891}\n"
     ]
    },
    {
     "name": "stderr",
     "output_type": "stream",
     "text": [
      "                                                        \r"
     ]
    },
    {
     "name": "stdout",
     "output_type": "stream",
     "text": [
      "{'epoch': 27, 'iter': 44700, 'avg_loss': 0.3186481012640345, 'avg_epd_acc': 96.88535867682805, 'avg_esd_acc': 90.32110579181673, 'loss': 0.281578004360199}\n"
     ]
    },
    {
     "name": "stderr",
     "output_type": "stream",
     "text": [
      "                                                        \r"
     ]
    },
    {
     "name": "stdout",
     "output_type": "stream",
     "text": [
      "{'epoch': 27, 'iter': 44800, 'avg_loss': 0.3186458981072928, 'avg_epd_acc': 96.88537942333703, 'avg_esd_acc': 90.32056343608402, 'loss': 0.2894161343574524}\n"
     ]
    },
    {
     "name": "stderr",
     "output_type": "stream",
     "text": [
      "                                                        \r"
     ]
    },
    {
     "name": "stdout",
     "output_type": "stream",
     "text": [
      "{'epoch': 27, 'iter': 44900, 'avg_loss': 0.31863552280352303, 'avg_epd_acc': 96.88542468126057, 'avg_esd_acc': 90.3211544564709, 'loss': 0.2449243664741516}\n"
     ]
    },
    {
     "name": "stderr",
     "output_type": "stream",
     "text": [
      "                                                        \r"
     ]
    },
    {
     "name": "stdout",
     "output_type": "stream",
     "text": [
      "{'epoch': 27, 'iter': 45000, 'avg_loss': 0.3186367778638366, 'avg_epd_acc': 96.88546783921295, 'avg_esd_acc': 90.32073592809049, 'loss': 0.2639641761779785}\n"
     ]
    },
    {
     "name": "stderr",
     "output_type": "stream",
     "text": [
      "                                                        \r"
     ]
    },
    {
     "name": "stdout",
     "output_type": "stream",
     "text": [
      "{'epoch': 27, 'iter': 45100, 'avg_loss': 0.3186458971557304, 'avg_epd_acc': 96.88548306314404, 'avg_esd_acc': 90.31995548879182, 'loss': 0.3098088502883911}\n"
     ]
    },
    {
     "name": "stderr",
     "output_type": "stream",
     "text": [
      "                                                        \r"
     ]
    },
    {
     "name": "stdout",
     "output_type": "stream",
     "text": [
      "{'epoch': 27, 'iter': 45200, 'avg_loss': 0.3186297745174524, 'avg_epd_acc': 96.88556992093302, 'avg_esd_acc': 90.32075133846597, 'loss': 0.33936384320259094}\n"
     ]
    },
    {
     "name": "stderr",
     "output_type": "stream",
     "text": [
      "                                                        \r"
     ]
    },
    {
     "name": "stdout",
     "output_type": "stream",
     "text": [
      "{'epoch': 27, 'iter': 45300, 'avg_loss': 0.31862121348787503, 'avg_epd_acc': 96.88558458284585, 'avg_esd_acc': 90.32145744575175, 'loss': 0.27367714047431946}\n"
     ]
    },
    {
     "name": "stderr",
     "output_type": "stream",
     "text": [
      "                                                        \r"
     ]
    },
    {
     "name": "stdout",
     "output_type": "stream",
     "text": [
      "{'epoch': 27, 'iter': 45400, 'avg_loss': 0.318620490009324, 'avg_epd_acc': 96.88556355470729, 'avg_esd_acc': 90.32191953371071, 'loss': 0.30692076683044434}\n"
     ]
    },
    {
     "name": "stderr",
     "output_type": "stream",
     "text": [
      "                                                        \r"
     ]
    },
    {
     "name": "stdout",
     "output_type": "stream",
     "text": [
      "{'epoch': 27, 'iter': 45500, 'avg_loss': 0.3186083162780102, 'avg_epd_acc': 96.88561331091108, 'avg_esd_acc': 90.3224826102723, 'loss': 0.3347315788269043}\n"
     ]
    },
    {
     "name": "stderr",
     "output_type": "stream",
     "text": [
      "                                                        \r"
     ]
    },
    {
     "name": "stdout",
     "output_type": "stream",
     "text": [
      "{'epoch': 27, 'iter': 45600, 'avg_loss': 0.3186018172579558, 'avg_epd_acc': 96.88567248580931, 'avg_esd_acc': 90.32228939606588, 'loss': 0.28788483142852783}\n"
     ]
    },
    {
     "name": "stderr",
     "output_type": "stream",
     "text": [
      "                                                        \r"
     ]
    },
    {
     "name": "stdout",
     "output_type": "stream",
     "text": [
      "{'epoch': 27, 'iter': 45700, 'avg_loss': 0.3186042761577563, 'avg_epd_acc': 96.88552733242469, 'avg_esd_acc': 90.32211412222927, 'loss': 0.2440265715122223}\n"
     ]
    },
    {
     "name": "stderr",
     "output_type": "stream",
     "text": [
      "                                                        \r"
     ]
    },
    {
     "name": "stdout",
     "output_type": "stream",
     "text": [
      "{'epoch': 27, 'iter': 45800, 'avg_loss': 0.3186039680589487, 'avg_epd_acc': 96.88553246568715, 'avg_esd_acc': 90.32171786642213, 'loss': 0.3230132758617401}\n"
     ]
    },
    {
     "name": "stderr",
     "output_type": "stream",
     "text": [
      "                                                        \r"
     ]
    },
    {
     "name": "stdout",
     "output_type": "stream",
     "text": [
      "{'epoch': 27, 'iter': 45900, 'avg_loss': 0.31861127910660814, 'avg_epd_acc': 96.88553877332465, 'avg_esd_acc': 90.32074464608614, 'loss': 0.2906143367290497}\n"
     ]
    },
    {
     "name": "stderr",
     "output_type": "stream",
     "text": [
      "                                                        \r"
     ]
    },
    {
     "name": "stdout",
     "output_type": "stream",
     "text": [
      "{'epoch': 27, 'iter': 46000, 'avg_loss': 0.31860191739974303, 'avg_epd_acc': 96.88551891513737, 'avg_esd_acc': 90.32142303971654, 'loss': 0.32621708512306213}\n"
     ]
    },
    {
     "name": "stderr",
     "output_type": "stream",
     "text": [
      "                                                        \r"
     ]
    },
    {
     "name": "stdout",
     "output_type": "stream",
     "text": [
      "{'epoch': 27, 'iter': 46100, 'avg_loss': 0.31861560485423307, 'avg_epd_acc': 96.88553952340209, 'avg_esd_acc': 90.32057330643588, 'loss': 0.3436775207519531}\n"
     ]
    },
    {
     "name": "stderr",
     "output_type": "stream",
     "text": [
      "                                                        \r"
     ]
    },
    {
     "name": "stdout",
     "output_type": "stream",
     "text": [
      "{'epoch': 27, 'iter': 46200, 'avg_loss': 0.3186186117475413, 'avg_epd_acc': 96.88560165643398, 'avg_esd_acc': 90.31989634964611, 'loss': 0.3539223372936249}\n"
     ]
    },
    {
     "name": "stderr",
     "output_type": "stream",
     "text": [
      "                                                        \r"
     ]
    },
    {
     "name": "stdout",
     "output_type": "stream",
     "text": [
      "{'epoch': 27, 'iter': 46300, 'avg_loss': 0.3186132518553234, 'avg_epd_acc': 96.885651788872, 'avg_esd_acc': 90.32009972786766, 'loss': 0.3976393938064575}\n"
     ]
    },
    {
     "name": "stderr",
     "output_type": "stream",
     "text": [
      "                                                        \r"
     ]
    },
    {
     "name": "stdout",
     "output_type": "stream",
     "text": [
      "{'epoch': 27, 'iter': 46400, 'avg_loss': 0.31859421163616897, 'avg_epd_acc': 96.88569631215013, 'avg_esd_acc': 90.32100938018577, 'loss': 0.2961291968822479}\n"
     ]
    },
    {
     "name": "stderr",
     "output_type": "stream",
     "text": [
      "                                                        \r"
     ]
    },
    {
     "name": "stdout",
     "output_type": "stream",
     "text": [
      "{'epoch': 27, 'iter': 46500, 'avg_loss': 0.3185874022345874, 'avg_epd_acc': 96.88566097179866, 'avg_esd_acc': 90.3214783015419, 'loss': 0.3087849020957947}\n"
     ]
    },
    {
     "name": "stderr",
     "output_type": "stream",
     "text": [
      "                                                        \r"
     ]
    },
    {
     "name": "stdout",
     "output_type": "stream",
     "text": [
      "{'epoch': 27, 'iter': 46600, 'avg_loss': 0.31859000012566663, 'avg_epd_acc': 96.8856817089829, 'avg_esd_acc': 90.32145903521383, 'loss': 0.28640055656433105}\n"
     ]
    },
    {
     "name": "stderr",
     "output_type": "stream",
     "text": [
      "                                                        \r"
     ]
    },
    {
     "name": "stdout",
     "output_type": "stream",
     "text": [
      "{'epoch': 27, 'iter': 46700, 'avg_loss': 0.31858283670215937, 'avg_epd_acc': 96.88581017946952, 'avg_esd_acc': 90.3221257307124, 'loss': 0.3441622853279114}\n"
     ]
    },
    {
     "name": "stderr",
     "output_type": "stream",
     "text": [
      "                                                        \r"
     ]
    },
    {
     "name": "stdout",
     "output_type": "stream",
     "text": [
      "{'epoch': 27, 'iter': 46800, 'avg_loss': 0.31858088748180874, 'avg_epd_acc': 96.8857664758432, 'avg_esd_acc': 90.32257256789384, 'loss': 0.2788711190223694}\n"
     ]
    },
    {
     "name": "stderr",
     "output_type": "stream",
     "text": [
      "                                                        \r"
     ]
    },
    {
     "name": "stdout",
     "output_type": "stream",
     "text": [
      "{'epoch': 27, 'iter': 46900, 'avg_loss': 0.3185780339187804, 'avg_epd_acc': 96.88577696508503, 'avg_esd_acc': 90.32253443423382, 'loss': 0.23594415187835693}\n"
     ]
    },
    {
     "name": "stderr",
     "output_type": "stream",
     "text": [
      "                                                        \r"
     ]
    },
    {
     "name": "stdout",
     "output_type": "stream",
     "text": [
      "{'epoch': 27, 'iter': 47000, 'avg_loss': 0.31855719698153645, 'avg_epd_acc': 96.88570507891454, 'avg_esd_acc': 90.32357689198102, 'loss': 0.3192315399646759}\n"
     ]
    },
    {
     "name": "stderr",
     "output_type": "stream",
     "text": [
      "                                                        \r"
     ]
    },
    {
     "name": "stdout",
     "output_type": "stream",
     "text": [
      "{'epoch': 27, 'iter': 47100, 'avg_loss': 0.3185491385430111, 'avg_epd_acc': 96.88579184910651, 'avg_esd_acc': 90.32393486868644, 'loss': 0.29234617948532104}\n"
     ]
    },
    {
     "name": "stderr",
     "output_type": "stream",
     "text": [
      "                                                        \r"
     ]
    },
    {
     "name": "stdout",
     "output_type": "stream",
     "text": [
      "{'epoch': 27, 'iter': 47200, 'avg_loss': 0.31854988973801557, 'avg_epd_acc': 96.88576239074318, 'avg_esd_acc': 90.32396029745132, 'loss': 0.2641063928604126}\n"
     ]
    },
    {
     "name": "stderr",
     "output_type": "stream",
     "text": [
      "                                                        \r"
     ]
    },
    {
     "name": "stdout",
     "output_type": "stream",
     "text": [
      "{'epoch': 27, 'iter': 47300, 'avg_loss': 0.3185411289761791, 'avg_epd_acc': 96.88587151219716, 'avg_esd_acc': 90.32398561869728, 'loss': 0.3456258177757263}\n"
     ]
    },
    {
     "name": "stderr",
     "output_type": "stream",
     "text": [
      "                                                        \r"
     ]
    },
    {
     "name": "stdout",
     "output_type": "stream",
     "text": [
      "{'epoch': 27, 'iter': 47400, 'avg_loss': 0.3185390323668964, 'avg_epd_acc': 96.88586042323738, 'avg_esd_acc': 90.32409324170376, 'loss': 0.30467450618743896}\n"
     ]
    },
    {
     "name": "stderr",
     "output_type": "stream",
     "text": [
      "                                                        \r"
     ]
    },
    {
     "name": "stdout",
     "output_type": "stream",
     "text": [
      "{'epoch': 27, 'iter': 47500, 'avg_loss': 0.3185433485246789, 'avg_epd_acc': 96.8858748224544, 'avg_esd_acc': 90.32347674259489, 'loss': 0.3177659511566162}\n"
     ]
    },
    {
     "name": "stderr",
     "output_type": "stream",
     "text": [
      "                                                        \r"
     ]
    },
    {
     "name": "stdout",
     "output_type": "stream",
     "text": [
      "{'epoch': 27, 'iter': 47600, 'avg_loss': 0.31853142543903745, 'avg_epd_acc': 96.88602828250227, 'avg_esd_acc': 90.3233716203441, 'loss': 0.32739296555519104}\n"
     ]
    },
    {
     "name": "stderr",
     "output_type": "stream",
     "text": [
      "                                                        \r"
     ]
    },
    {
     "name": "stdout",
     "output_type": "stream",
     "text": [
      "{'epoch': 27, 'iter': 47700, 'avg_loss': 0.3185249474740314, 'avg_epd_acc': 96.88605634434583, 'avg_esd_acc': 90.32341434141841, 'loss': 0.22916372120380402}\n"
     ]
    },
    {
     "name": "stderr",
     "output_type": "stream",
     "text": [
      "                                                        \r"
     ]
    },
    {
     "name": "stdout",
     "output_type": "stream",
     "text": [
      "{'epoch': 27, 'iter': 47800, 'avg_loss': 0.31851769986511713, 'avg_epd_acc': 96.88605275035106, 'avg_esd_acc': 90.32350591514822, 'loss': 0.2897230386734009}\n"
     ]
    },
    {
     "name": "stderr",
     "output_type": "stream",
     "text": [
      "                                                        \r"
     ]
    },
    {
     "name": "stdout",
     "output_type": "stream",
     "text": [
      "{'epoch': 27, 'iter': 47900, 'avg_loss': 0.31852002419734016, 'avg_epd_acc': 96.88610714717922, 'avg_esd_acc': 90.32327091292457, 'loss': 0.2566155791282654}\n"
     ]
    },
    {
     "name": "stderr",
     "output_type": "stream",
     "text": [
      "                                                        \r"
     ]
    },
    {
     "name": "stdout",
     "output_type": "stream",
     "text": [
      "{'epoch': 27, 'iter': 48000, 'avg_loss': 0.31851387724638286, 'avg_epd_acc': 96.88614974635131, 'avg_esd_acc': 90.3236065394471, 'loss': 0.34085655212402344}\n"
     ]
    },
    {
     "name": "stderr",
     "output_type": "stream",
     "text": [
      "                                                        \r"
     ]
    },
    {
     "name": "stdout",
     "output_type": "stream",
     "text": [
      "{'epoch': 27, 'iter': 48100, 'avg_loss': 0.3185177886213563, 'avg_epd_acc': 96.88612314046875, 'avg_esd_acc': 90.32312867715848, 'loss': 0.29386788606643677}\n"
     ]
    },
    {
     "name": "stderr",
     "output_type": "stream",
     "text": [
      "                                                        \r"
     ]
    },
    {
     "name": "stdout",
     "output_type": "stream",
     "text": [
      "{'epoch': 27, 'iter': 48200, 'avg_loss': 0.31851091779803553, 'avg_epd_acc': 96.8860849953596, 'avg_esd_acc': 90.32378736955665, 'loss': 0.3217194676399231}\n"
     ]
    },
    {
     "name": "stderr",
     "output_type": "stream",
     "text": [
      "                                                        \r"
     ]
    },
    {
     "name": "stdout",
     "output_type": "stream",
     "text": [
      "{'epoch': 27, 'iter': 48300, 'avg_loss': 0.31850754131124603, 'avg_epd_acc': 96.88618322876985, 'avg_esd_acc': 90.32390957226558, 'loss': 0.34943288564682007}\n"
     ]
    },
    {
     "name": "stderr",
     "output_type": "stream",
     "text": [
      "                                                        \r"
     ]
    },
    {
     "name": "stdout",
     "output_type": "stream",
     "text": [
      "{'epoch': 27, 'iter': 48400, 'avg_loss': 0.3184856900687119, 'avg_epd_acc': 96.88622771465853, 'avg_esd_acc': 90.32478990620028, 'loss': 0.31806647777557373}\n"
     ]
    },
    {
     "name": "stderr",
     "output_type": "stream",
     "text": [
      "                                                        \r"
     ]
    },
    {
     "name": "stdout",
     "output_type": "stream",
     "text": [
      "{'epoch': 27, 'iter': 48500, 'avg_loss': 0.31846576569874296, 'avg_epd_acc': 96.88640805348247, 'avg_esd_acc': 90.3255538545597, 'loss': 0.3376989960670471}\n"
     ]
    },
    {
     "name": "stderr",
     "output_type": "stream",
     "text": [
      "                                                        \r"
     ]
    },
    {
     "name": "stdout",
     "output_type": "stream",
     "text": [
      "{'epoch': 27, 'iter': 48600, 'avg_loss': 0.3184623858786589, 'avg_epd_acc': 96.8864581729205, 'avg_esd_acc': 90.32575204213906, 'loss': 0.33689337968826294}\n"
     ]
    },
    {
     "name": "stderr",
     "output_type": "stream",
     "text": [
      "                                                        \r"
     ]
    },
    {
     "name": "stdout",
     "output_type": "stream",
     "text": [
      "{'epoch': 27, 'iter': 48700, 'avg_loss': 0.31845499286085976, 'avg_epd_acc': 96.88646484896357, 'avg_esd_acc': 90.32636650171455, 'loss': 0.3496953248977661}\n"
     ]
    },
    {
     "name": "stderr",
     "output_type": "stream",
     "text": [
      "                                                        \r"
     ]
    },
    {
     "name": "stdout",
     "output_type": "stream",
     "text": [
      "{'epoch': 27, 'iter': 48800, 'avg_loss': 0.31845173579740593, 'avg_epd_acc': 96.88643635312289, 'avg_esd_acc': 90.32673830966579, 'loss': 0.3020409643650055}\n"
     ]
    },
    {
     "name": "stderr",
     "output_type": "stream",
     "text": [
      "                                                        \r"
     ]
    },
    {
     "name": "stdout",
     "output_type": "stream",
     "text": [
      "{'epoch': 27, 'iter': 48900, 'avg_loss': 0.31843607874050067, 'avg_epd_acc': 96.88650507889984, 'avg_esd_acc': 90.3270926208053, 'loss': 0.33790460228919983}\n"
     ]
    },
    {
     "name": "stderr",
     "output_type": "stream",
     "text": [
      "                                                        \r"
     ]
    },
    {
     "name": "stdout",
     "output_type": "stream",
     "text": [
      "{'epoch': 27, 'iter': 49000, 'avg_loss': 0.3184375941710205, 'avg_epd_acc': 96.88647375240907, 'avg_esd_acc': 90.3270468970021, 'loss': 0.3237890601158142}\n"
     ]
    },
    {
     "name": "stderr",
     "output_type": "stream",
     "text": [
      "                                                        \r"
     ]
    },
    {
     "name": "stdout",
     "output_type": "stream",
     "text": [
      "{'epoch': 27, 'iter': 49100, 'avg_loss': 0.3184299916620762, 'avg_epd_acc': 96.8865326748771, 'avg_esd_acc': 90.3275582472862, 'loss': 0.3433491587638855}\n"
     ]
    },
    {
     "name": "stderr",
     "output_type": "stream",
     "text": [
      "                                                        \r"
     ]
    },
    {
     "name": "stdout",
     "output_type": "stream",
     "text": [
      "{'epoch': 27, 'iter': 49200, 'avg_loss': 0.31842195563360104, 'avg_epd_acc': 96.88661071004495, 'avg_esd_acc': 90.32782933781833, 'loss': 0.3162804841995239}\n"
     ]
    },
    {
     "name": "stderr",
     "output_type": "stream",
     "text": [
      "                                                        \r"
     ]
    },
    {
     "name": "stdout",
     "output_type": "stream",
     "text": [
      "{'epoch': 27, 'iter': 49300, 'avg_loss': 0.31842952111084555, 'avg_epd_acc': 96.8865797313236, 'avg_esd_acc': 90.32725946228271, 'loss': 0.2976168394088745}\n"
     ]
    },
    {
     "name": "stderr",
     "output_type": "stream",
     "text": [
      "                                                        \r"
     ]
    },
    {
     "name": "stdout",
     "output_type": "stream",
     "text": [
      "{'epoch': 27, 'iter': 49400, 'avg_loss': 0.3184092641163325, 'avg_epd_acc': 96.88651737265566, 'avg_esd_acc': 90.32855799983805, 'loss': 0.2757698595523834}\n"
     ]
    },
    {
     "name": "stderr",
     "output_type": "stream",
     "text": [
      "                                                        \r"
     ]
    },
    {
     "name": "stdout",
     "output_type": "stream",
     "text": [
      "{'epoch': 27, 'iter': 49500, 'avg_loss': 0.31840161481840856, 'avg_epd_acc': 96.88647696688734, 'avg_esd_acc': 90.32939359810914, 'loss': 0.30020415782928467}\n"
     ]
    },
    {
     "name": "stderr",
     "output_type": "stream",
     "text": [
      "                                                        \r"
     ]
    },
    {
     "name": "stdout",
     "output_type": "stream",
     "text": [
      "{'epoch': 27, 'iter': 49600, 'avg_loss': 0.31839781853193067, 'avg_epd_acc': 96.88646576437786, 'avg_esd_acc': 90.32917053083607, 'loss': 0.3249698579311371}\n"
     ]
    },
    {
     "name": "stderr",
     "output_type": "stream",
     "text": [
      "                                                        \r"
     ]
    },
    {
     "name": "stdout",
     "output_type": "stream",
     "text": [
      "{'epoch': 27, 'iter': 49700, 'avg_loss': 0.3183841494416613, 'avg_epd_acc': 96.88646836107266, 'avg_esd_acc': 90.32992293917627, 'loss': 0.2968757748603821}\n"
     ]
    },
    {
     "name": "stderr",
     "output_type": "stream",
     "text": [
      "                                                        \r"
     ]
    },
    {
     "name": "stdout",
     "output_type": "stream",
     "text": [
      "{'epoch': 27, 'iter': 49800, 'avg_loss': 0.31837830070328926, 'avg_epd_acc': 96.88657070962743, 'avg_esd_acc': 90.330374264573, 'loss': 0.3020489811897278}\n"
     ]
    },
    {
     "name": "stderr",
     "output_type": "stream",
     "text": [
      "                                                          \r"
     ]
    },
    {
     "name": "stdout",
     "output_type": "stream",
     "text": [
      "{'epoch': 27, 'iter': 49900, 'avg_loss': 0.3183747070804034, 'avg_epd_acc': 96.88666641003874, 'avg_esd_acc': 90.32982179715837, 'loss': 0.28080081939697266}\n"
     ]
    },
    {
     "name": "stderr",
     "output_type": "stream",
     "text": [
      "                                                          \r"
     ]
    },
    {
     "name": "stdout",
     "output_type": "stream",
     "text": [
      "{'epoch': 27, 'iter': 50000, 'avg_loss': 0.31836440678159084, 'avg_epd_acc': 96.88671900390116, 'avg_esd_acc': 90.33061526269475, 'loss': 0.24712887406349182}\n"
     ]
    },
    {
     "name": "stderr",
     "output_type": "stream",
     "text": [
      "                                                          \r"
     ]
    },
    {
     "name": "stdout",
     "output_type": "stream",
     "text": [
      "{'epoch': 27, 'iter': 50100, 'avg_loss': 0.31835404330973965, 'avg_epd_acc': 96.88675579431111, 'avg_esd_acc': 90.33089097523003, 'loss': 0.3247482180595398}\n"
     ]
    },
    {
     "name": "stderr",
     "output_type": "stream",
     "text": [
      "                                                          \r"
     ]
    },
    {
     "name": "stdout",
     "output_type": "stream",
     "text": [
      "{'epoch': 27, 'iter': 50200, 'avg_loss': 0.3183565783576897, 'avg_epd_acc': 96.88672435247804, 'avg_esd_acc': 90.33093215274596, 'loss': 0.2556266188621521}\n"
     ]
    },
    {
     "name": "stderr",
     "output_type": "stream",
     "text": [
      "EP_train:27: 100%|| 50252/50252 [1:00:30<00:00, 13.84it/s]\n"
     ]
    },
    {
     "name": "stdout",
     "output_type": "stream",
     "text": [
      "EP27_train, avg_loss= 0.3183567262462448 total_epd_acc= 96.88666197235487 total_esd_acc= 90.33070363255663\n"
     ]
    },
    {
     "name": "stderr",
     "output_type": "stream",
     "text": [
      "                                           \r"
     ]
    },
    {
     "name": "stdout",
     "output_type": "stream",
     "text": [
      "{'epoch': 27, 'iter': 0, 'avg_loss': 0.3374161124229431, 'avg_epd_acc': 96.6796875, 'avg_esd_acc': 90.625, 'loss': 0.3374161124229431}\n"
     ]
    },
    {
     "name": "stderr",
     "output_type": "stream",
     "text": [
      "                                                    \r"
     ]
    },
    {
     "name": "stdout",
     "output_type": "stream",
     "text": [
      "{'epoch': 27, 'iter': 100, 'avg_loss': 0.32422061161239546, 'avg_epd_acc': 96.64645053372524, 'avg_esd_acc': 90.45482673267327, 'loss': 0.31984856724739075}\n"
     ]
    },
    {
     "name": "stderr",
     "output_type": "stream",
     "text": [
      "                                                     \r"
     ]
    },
    {
     "name": "stdout",
     "output_type": "stream",
     "text": [
      "{'epoch': 27, 'iter': 200, 'avg_loss': 0.32316957480871855, 'avg_epd_acc': 96.65724721120958, 'avg_esd_acc': 90.56281094527363, 'loss': 0.29802632331848145}\n"
     ]
    },
    {
     "name": "stderr",
     "output_type": "stream",
     "text": [
      "                                                     \r"
     ]
    },
    {
     "name": "stdout",
     "output_type": "stream",
     "text": [
      "{'epoch': 27, 'iter': 300, 'avg_loss': 0.3240593323279853, 'avg_epd_acc': 96.65357013081395, 'avg_esd_acc': 90.49781976744185, 'loss': 0.3149184286594391}\n"
     ]
    },
    {
     "name": "stderr",
     "output_type": "stream",
     "text": [
      "                                                     \r"
     ]
    },
    {
     "name": "stdout",
     "output_type": "stream",
     "text": [
      "{'epoch': 27, 'iter': 400, 'avg_loss': 0.3218587924566055, 'avg_epd_acc': 96.64973308915212, 'avg_esd_acc': 90.65032730673317, 'loss': 0.32012343406677246}\n"
     ]
    },
    {
     "name": "stderr",
     "output_type": "stream",
     "text": [
      "                                                     \r"
     ]
    },
    {
     "name": "stdout",
     "output_type": "stream",
     "text": [
      "{'epoch': 27, 'iter': 500, 'avg_loss': 0.32245582455170607, 'avg_epd_acc': 96.65437192022206, 'avg_esd_acc': 90.58289670658682, 'loss': 0.36831700801849365}\n"
     ]
    },
    {
     "name": "stderr",
     "output_type": "stream",
     "text": [
      "                                                     \r"
     ]
    },
    {
     "name": "stdout",
     "output_type": "stream",
     "text": [
      "{'epoch': 27, 'iter': 600, 'avg_loss': 0.32218722704047964, 'avg_epd_acc': 96.65381103109401, 'avg_esd_acc': 90.63149958402661, 'loss': 0.2972545623779297}\n"
     ]
    },
    {
     "name": "stderr",
     "output_type": "stream",
     "text": [
      "                                                     \r"
     ]
    },
    {
     "name": "stdout",
     "output_type": "stream",
     "text": [
      "{'epoch': 27, 'iter': 700, 'avg_loss': 0.32173580184217526, 'avg_epd_acc': 96.65576972907007, 'avg_esd_acc': 90.62277104136948, 'loss': 0.258853018283844}\n"
     ]
    },
    {
     "name": "stderr",
     "output_type": "stream",
     "text": [
      "                                                     \r"
     ]
    },
    {
     "name": "stdout",
     "output_type": "stream",
     "text": [
      "{'epoch': 27, 'iter': 800, 'avg_loss': 0.32184423100710213, 'avg_epd_acc': 96.6557915886392, 'avg_esd_acc': 90.5869616104869, 'loss': 0.2954747676849365}\n"
     ]
    },
    {
     "name": "stderr",
     "output_type": "stream",
     "text": [
      "                                                     \r"
     ]
    },
    {
     "name": "stdout",
     "output_type": "stream",
     "text": [
      "{'epoch': 27, 'iter': 900, 'avg_loss': 0.3214798409421489, 'avg_epd_acc': 96.65591020827553, 'avg_esd_acc': 90.6171961709212, 'loss': 0.2838483452796936}\n"
     ]
    },
    {
     "name": "stderr",
     "output_type": "stream",
     "text": [
      "                                                      \r"
     ]
    },
    {
     "name": "stdout",
     "output_type": "stream",
     "text": [
      "{'epoch': 27, 'iter': 1000, 'avg_loss': 0.3210981186483052, 'avg_epd_acc': 96.66465736412026, 'avg_esd_acc': 90.63358516483517, 'loss': 0.38120320439338684}\n"
     ]
    },
    {
     "name": "stderr",
     "output_type": "stream",
     "text": [
      "                                                      \r"
     ]
    },
    {
     "name": "stdout",
     "output_type": "stream",
     "text": [
      "{'epoch': 27, 'iter': 1100, 'avg_loss': 0.32091269162327024, 'avg_epd_acc': 96.66671545044278, 'avg_esd_acc': 90.64912579473207, 'loss': 0.34851282835006714}\n"
     ]
    },
    {
     "name": "stderr",
     "output_type": "stream",
     "text": [
      "                                                      \r"
     ]
    },
    {
     "name": "stdout",
     "output_type": "stream",
     "text": [
      "{'epoch': 27, 'iter': 1200, 'avg_loss': 0.3206437521433453, 'avg_epd_acc': 96.6685070384055, 'avg_esd_acc': 90.66272897585345, 'loss': 0.3597117066383362}\n"
     ]
    },
    {
     "name": "stderr",
     "output_type": "stream",
     "text": [
      "                                                      \r"
     ]
    },
    {
     "name": "stdout",
     "output_type": "stream",
     "text": [
      "{'epoch': 27, 'iter': 1300, 'avg_loss': 0.32037092824334096, 'avg_epd_acc': 96.66567896990296, 'avg_esd_acc': 90.67484146810146, 'loss': 0.3334154784679413}\n"
     ]
    },
    {
     "name": "stderr",
     "output_type": "stream",
     "text": [
      "                                                      \r"
     ]
    },
    {
     "name": "stdout",
     "output_type": "stream",
     "text": [
      "{'epoch': 27, 'iter': 1400, 'avg_loss': 0.32051683542219594, 'avg_epd_acc': 96.66661351685181, 'avg_esd_acc': 90.65511241970022, 'loss': 0.3051180839538574}\n"
     ]
    },
    {
     "name": "stderr",
     "output_type": "stream",
     "text": [
      "                                                      \r"
     ]
    },
    {
     "name": "stdout",
     "output_type": "stream",
     "text": [
      "{'epoch': 27, 'iter': 1500, 'avg_loss': 0.3206555613432623, 'avg_epd_acc': 96.6648536392405, 'avg_esd_acc': 90.64738091272486, 'loss': 0.3301360011100769}\n"
     ]
    },
    {
     "name": "stderr",
     "output_type": "stream",
     "text": [
      "                                                      \r"
     ]
    },
    {
     "name": "stdout",
     "output_type": "stream",
     "text": [
      "{'epoch': 27, 'iter': 1600, 'avg_loss': 0.3207164444378359, 'avg_epd_acc': 96.66219278844277, 'avg_esd_acc': 90.63671143035603, 'loss': 0.3059460520744324}\n"
     ]
    },
    {
     "name": "stderr",
     "output_type": "stream",
     "text": [
      "                                                      \r"
     ]
    },
    {
     "name": "stdout",
     "output_type": "stream",
     "text": [
      "{'epoch': 27, 'iter': 1700, 'avg_loss': 0.3208792425477456, 'avg_epd_acc': 96.66304546268739, 'avg_esd_acc': 90.63143004115226, 'loss': 0.3296564221382141}\n"
     ]
    },
    {
     "name": "stderr",
     "output_type": "stream",
     "text": [
      "                                                      \r"
     ]
    },
    {
     "name": "stdout",
     "output_type": "stream",
     "text": [
      "{'epoch': 27, 'iter': 1800, 'avg_loss': 0.3209819725524843, 'avg_epd_acc': 96.66340355076173, 'avg_esd_acc': 90.62760272071073, 'loss': 0.3407236933708191}\n"
     ]
    },
    {
     "name": "stderr",
     "output_type": "stream",
     "text": [
      "                                                      \r"
     ]
    },
    {
     "name": "stdout",
     "output_type": "stream",
     "text": [
      "{'epoch': 27, 'iter': 1900, 'avg_loss': 0.32108414463154084, 'avg_epd_acc': 96.66506924295601, 'avg_esd_acc': 90.6426716201999, 'loss': 0.31452250480651855}\n"
     ]
    },
    {
     "name": "stderr",
     "output_type": "stream",
     "text": [
      "                                                      \r"
     ]
    },
    {
     "name": "stdout",
     "output_type": "stream",
     "text": [
      "{'epoch': 27, 'iter': 2000, 'avg_loss': 0.3210525962932297, 'avg_epd_acc': 96.66479626397738, 'avg_esd_acc': 90.63710332333834, 'loss': 0.2642068862915039}\n"
     ]
    },
    {
     "name": "stderr",
     "output_type": "stream",
     "text": [
      "                                                      \r"
     ]
    },
    {
     "name": "stdout",
     "output_type": "stream",
     "text": [
      "{'epoch': 27, 'iter': 2100, 'avg_loss': 0.32106948147099224, 'avg_epd_acc': 96.66499083862595, 'avg_esd_acc': 90.63615540218943, 'loss': 0.3418616056442261}\n"
     ]
    },
    {
     "name": "stderr",
     "output_type": "stream",
     "text": [
      "                                                      \r"
     ]
    },
    {
     "name": "stdout",
     "output_type": "stream",
     "text": [
      "{'epoch': 27, 'iter': 2200, 'avg_loss': 0.3210675384526034, 'avg_epd_acc': 96.66697299789159, 'avg_esd_acc': 90.62358019082235, 'loss': 0.3087451159954071}\n"
     ]
    },
    {
     "name": "stderr",
     "output_type": "stream",
     "text": [
      "                                                      \r"
     ]
    },
    {
     "name": "stdout",
     "output_type": "stream",
     "text": [
      "{'epoch': 27, 'iter': 2300, 'avg_loss': 0.3207572834911889, 'avg_epd_acc': 96.66531864118181, 'avg_esd_acc': 90.64672968274662, 'loss': 0.32839104533195496}\n"
     ]
    },
    {
     "name": "stderr",
     "output_type": "stream",
     "text": [
      "                                                      \r"
     ]
    },
    {
     "name": "stdout",
     "output_type": "stream",
     "text": [
      "{'epoch': 27, 'iter': 2400, 'avg_loss': 0.32066193059775694, 'avg_epd_acc': 96.66569593398584, 'avg_esd_acc': 90.6594908371512, 'loss': 0.3501594066619873}\n"
     ]
    },
    {
     "name": "stderr",
     "output_type": "stream",
     "text": [
      "                                                      \r"
     ]
    },
    {
     "name": "stdout",
     "output_type": "stream",
     "text": [
      "{'epoch': 27, 'iter': 2500, 'avg_loss': 0.320375848941353, 'avg_epd_acc': 96.66527920081968, 'avg_esd_acc': 90.68153988404639, 'loss': 0.32770371437072754}\n"
     ]
    },
    {
     "name": "stderr",
     "output_type": "stream",
     "text": [
      "                                                      \r"
     ]
    },
    {
     "name": "stdout",
     "output_type": "stream",
     "text": [
      "{'epoch': 27, 'iter': 2600, 'avg_loss': 0.32011727677634566, 'avg_epd_acc': 96.6673490589557, 'avg_esd_acc': 90.68807670126874, 'loss': 0.2666736841201782}\n"
     ]
    },
    {
     "name": "stderr",
     "output_type": "stream",
     "text": [
      "                                                      \r"
     ]
    },
    {
     "name": "stdout",
     "output_type": "stream",
     "text": [
      "{'epoch': 27, 'iter': 2700, 'avg_loss': 0.3199552290089172, 'avg_epd_acc': 96.66690875847486, 'avg_esd_acc': 90.69586495742318, 'loss': 0.35897397994995117}\n"
     ]
    },
    {
     "name": "stderr",
     "output_type": "stream",
     "text": [
      "                                                      \r"
     ]
    },
    {
     "name": "stdout",
     "output_type": "stream",
     "text": [
      "{'epoch': 27, 'iter': 2800, 'avg_loss': 0.31979973100841325, 'avg_epd_acc': 96.66672869692185, 'avg_esd_acc': 90.70086576222778, 'loss': 0.3022491931915283}\n"
     ]
    },
    {
     "name": "stderr",
     "output_type": "stream",
     "text": [
      "                                                      \r"
     ]
    },
    {
     "name": "stdout",
     "output_type": "stream",
     "text": [
      "{'epoch': 27, 'iter': 2900, 'avg_loss': 0.3197757189477653, 'avg_epd_acc': 96.66567318852874, 'avg_esd_acc': 90.69367244053774, 'loss': 0.35889363288879395}\n"
     ]
    },
    {
     "name": "stderr",
     "output_type": "stream",
     "text": [
      "                                                      \r"
     ]
    },
    {
     "name": "stdout",
     "output_type": "stream",
     "text": [
      "{'epoch': 27, 'iter': 3000, 'avg_loss': 0.31979412677605046, 'avg_epd_acc': 96.66389889893473, 'avg_esd_acc': 90.69997500833055, 'loss': 0.2963656783103943}\n"
     ]
    },
    {
     "name": "stderr",
     "output_type": "stream",
     "text": [
      "                                                      \r"
     ]
    },
    {
     "name": "stdout",
     "output_type": "stream",
     "text": [
      "{'epoch': 27, 'iter': 3100, 'avg_loss': 0.3201536132477438, 'avg_epd_acc': 96.66325268688529, 'avg_esd_acc': 90.67563890680425, 'loss': 0.35114040970802307}\n"
     ]
    },
    {
     "name": "stderr",
     "output_type": "stream",
     "text": [
      "                                                      \r"
     ]
    },
    {
     "name": "stdout",
     "output_type": "stream",
     "text": [
      "{'epoch': 27, 'iter': 3200, 'avg_loss': 0.32013203048661365, 'avg_epd_acc': 96.66254388582182, 'avg_esd_acc': 90.68674828178695, 'loss': 0.30715498328208923}\n"
     ]
    },
    {
     "name": "stderr",
     "output_type": "stream",
     "text": [
      "                                                      \r"
     ]
    },
    {
     "name": "stdout",
     "output_type": "stream",
     "text": [
      "{'epoch': 27, 'iter': 3300, 'avg_loss': 0.31998990198963523, 'avg_epd_acc': 96.66052641777586, 'avg_esd_acc': 90.69552787034232, 'loss': 0.3544609546661377}\n"
     ]
    },
    {
     "name": "stderr",
     "output_type": "stream",
     "text": [
      "                                                      \r"
     ]
    },
    {
     "name": "stdout",
     "output_type": "stream",
     "text": [
      "{'epoch': 27, 'iter': 3400, 'avg_loss': 0.32021291171915567, 'avg_epd_acc': 96.66105751008435, 'avg_esd_acc': 90.68840047044986, 'loss': 0.4015319347381592}\n"
     ]
    },
    {
     "name": "stderr",
     "output_type": "stream",
     "text": [
      "                                                      \r"
     ]
    },
    {
     "name": "stdout",
     "output_type": "stream",
     "text": [
      "{'epoch': 27, 'iter': 3500, 'avg_loss': 0.32021113274200275, 'avg_epd_acc': 96.6601025544041, 'avg_esd_acc': 90.69439981433875, 'loss': 0.3145049810409546}\n"
     ]
    },
    {
     "name": "stderr",
     "output_type": "stream",
     "text": [
      "                                                      \r"
     ]
    },
    {
     "name": "stdout",
     "output_type": "stream",
     "text": [
      "{'epoch': 27, 'iter': 3600, 'avg_loss': 0.32010189029399766, 'avg_epd_acc': 96.66043286587059, 'avg_esd_acc': 90.6933403915579, 'loss': 0.336764395236969}\n"
     ]
    },
    {
     "name": "stderr",
     "output_type": "stream",
     "text": [
      "                                                      \r"
     ]
    },
    {
     "name": "stdout",
     "output_type": "stream",
     "text": [
      "{'epoch': 27, 'iter': 3700, 'avg_loss': 0.3199520439908041, 'avg_epd_acc': 96.66080799530532, 'avg_esd_acc': 90.70014860848418, 'loss': 0.31064096093177795}\n"
     ]
    },
    {
     "name": "stderr",
     "output_type": "stream",
     "text": [
      "                                                      \r"
     ]
    },
    {
     "name": "stdout",
     "output_type": "stream",
     "text": [
      "{'epoch': 27, 'iter': 3800, 'avg_loss': 0.319988284937271, 'avg_epd_acc': 96.66135928970172, 'avg_esd_acc': 90.6981715338069, 'loss': 0.29620951414108276}\n"
     ]
    },
    {
     "name": "stderr",
     "output_type": "stream",
     "text": [
      "                                                      \r"
     ]
    },
    {
     "name": "stdout",
     "output_type": "stream",
     "text": [
      "{'epoch': 27, 'iter': 3900, 'avg_loss': 0.31999501734551816, 'avg_epd_acc': 96.6610296112976, 'avg_esd_acc': 90.69509420661369, 'loss': 0.3067890703678131}\n"
     ]
    },
    {
     "name": "stderr",
     "output_type": "stream",
     "text": [
      "                                                      \r"
     ]
    },
    {
     "name": "stdout",
     "output_type": "stream",
     "text": [
      "{'epoch': 27, 'iter': 4000, 'avg_loss': 0.3200420892609563, 'avg_epd_acc': 96.66097574727411, 'avg_esd_acc': 90.6890464883779, 'loss': 0.34455350041389465}\n"
     ]
    },
    {
     "name": "stderr",
     "output_type": "stream",
     "text": [
      "                                                      \r"
     ]
    },
    {
     "name": "stdout",
     "output_type": "stream",
     "text": [
      "{'epoch': 27, 'iter': 4100, 'avg_loss': 0.3201514837967713, 'avg_epd_acc': 96.66090367393242, 'avg_esd_acc': 90.6811981833699, 'loss': 0.34395134449005127}\n"
     ]
    },
    {
     "name": "stderr",
     "output_type": "stream",
     "text": [
      "                                                      \r"
     ]
    },
    {
     "name": "stdout",
     "output_type": "stream",
     "text": [
      "{'epoch': 27, 'iter': 4200, 'avg_loss': 0.3200832634554168, 'avg_epd_acc': 96.66115030507989, 'avg_esd_acc': 90.68041835277315, 'loss': 0.3134579658508301}\n"
     ]
    },
    {
     "name": "stderr",
     "output_type": "stream",
     "text": [
      "                                                      \r"
     ]
    },
    {
     "name": "stdout",
     "output_type": "stream",
     "text": [
      "{'epoch': 27, 'iter': 4300, 'avg_loss': 0.32017857339029615, 'avg_epd_acc': 96.6619644573028, 'avg_esd_acc': 90.6814912229714, 'loss': 0.3901510238647461}\n"
     ]
    },
    {
     "name": "stderr",
     "output_type": "stream",
     "text": [
      "                                                      \r"
     ]
    },
    {
     "name": "stdout",
     "output_type": "stream",
     "text": [
      "{'epoch': 27, 'iter': 4400, 'avg_loss': 0.3202122811315223, 'avg_epd_acc': 96.66194278688437, 'avg_esd_acc': 90.68003010679391, 'loss': 0.3666124641895294}\n"
     ]
    },
    {
     "name": "stderr",
     "output_type": "stream",
     "text": [
      "                                                      \r"
     ]
    },
    {
     "name": "stdout",
     "output_type": "stream",
     "text": [
      "{'epoch': 27, 'iter': 4500, 'avg_loss': 0.32028118640985576, 'avg_epd_acc': 96.66282384296545, 'avg_esd_acc': 90.67047600533215, 'loss': 0.33076053857803345}\n"
     ]
    },
    {
     "name": "stderr",
     "output_type": "stream",
     "text": [
      "                                                      \r"
     ]
    },
    {
     "name": "stdout",
     "output_type": "stream",
     "text": [
      "{'epoch': 27, 'iter': 4600, 'avg_loss': 0.3203437232635664, 'avg_epd_acc': 96.66266637220508, 'avg_esd_acc': 90.66643121060639, 'loss': 0.30192339420318604}\n"
     ]
    },
    {
     "name": "stderr",
     "output_type": "stream",
     "text": [
      "                                                      \r"
     ]
    },
    {
     "name": "stdout",
     "output_type": "stream",
     "text": [
      "{'epoch': 27, 'iter': 4700, 'avg_loss': 0.3203840416065051, 'avg_epd_acc': 96.66150289250292, 'avg_esd_acc': 90.66338943841737, 'loss': 0.28628870844841003}\n"
     ]
    },
    {
     "name": "stderr",
     "output_type": "stream",
     "text": [
      "                                                      \r"
     ]
    },
    {
     "name": "stdout",
     "output_type": "stream",
     "text": [
      "{'epoch': 27, 'iter': 4800, 'avg_loss': 0.32036365890187585, 'avg_epd_acc': 96.66209778073579, 'avg_esd_acc': 90.66616980837325, 'loss': 0.2756357789039612}\n"
     ]
    },
    {
     "name": "stderr",
     "output_type": "stream",
     "text": [
      "                                                      \r"
     ]
    },
    {
     "name": "stdout",
     "output_type": "stream",
     "text": [
      "{'epoch': 27, 'iter': 4900, 'avg_loss': 0.32031514542281836, 'avg_epd_acc': 96.66126487060995, 'avg_esd_acc': 90.67059018567639, 'loss': 0.3533731997013092}\n"
     ]
    },
    {
     "name": "stderr",
     "output_type": "stream",
     "text": [
      "                                                      \r"
     ]
    },
    {
     "name": "stdout",
     "output_type": "stream",
     "text": [
      "{'epoch': 27, 'iter': 5000, 'avg_loss': 0.3204053121223566, 'avg_epd_acc': 96.6614282124044, 'avg_esd_acc': 90.66093031393721, 'loss': 0.2963540852069855}\n"
     ]
    },
    {
     "name": "stderr",
     "output_type": "stream",
     "text": [
      "                                                      \r"
     ]
    },
    {
     "name": "stdout",
     "output_type": "stream",
     "text": [
      "{'epoch': 27, 'iter': 5100, 'avg_loss': 0.3204528996258992, 'avg_epd_acc': 96.661376953125, 'avg_esd_acc': 90.65501862379925, 'loss': 0.28041714429855347}\n"
     ]
    },
    {
     "name": "stderr",
     "output_type": "stream",
     "text": [
      "                                                      \r"
     ]
    },
    {
     "name": "stdout",
     "output_type": "stream",
     "text": [
      "{'epoch': 27, 'iter': 5200, 'avg_loss': 0.32044406188804125, 'avg_epd_acc': 96.66184871111024, 'avg_esd_acc': 90.65489208806, 'loss': 0.31192389130592346}\n"
     ]
    },
    {
     "name": "stderr",
     "output_type": "stream",
     "text": [
      "                                                      \r"
     ]
    },
    {
     "name": "stdout",
     "output_type": "stream",
     "text": [
      "{'epoch': 27, 'iter': 5300, 'avg_loss': 0.3204194560964655, 'avg_epd_acc': 96.66231878971833, 'avg_esd_acc': 90.65270703640822, 'loss': 0.3244248628616333}\n"
     ]
    },
    {
     "name": "stderr",
     "output_type": "stream",
     "text": [
      "                                                      \r"
     ]
    },
    {
     "name": "stdout",
     "output_type": "stream",
     "text": [
      "{'epoch': 27, 'iter': 5400, 'avg_loss': 0.3204114157261616, 'avg_epd_acc': 96.66187192439767, 'avg_esd_acc': 90.65233868728014, 'loss': 0.30360203981399536}\n"
     ]
    },
    {
     "name": "stderr",
     "output_type": "stream",
     "text": [
      "                                                      \r"
     ]
    },
    {
     "name": "stdout",
     "output_type": "stream",
     "text": [
      "{'epoch': 27, 'iter': 5500, 'avg_loss': 0.3203833746874339, 'avg_epd_acc': 96.66145129152655, 'avg_esd_acc': 90.65468210325396, 'loss': 0.3774871230125427}\n"
     ]
    },
    {
     "name": "stderr",
     "output_type": "stream",
     "text": [
      "                                                      \r"
     ]
    },
    {
     "name": "stdout",
     "output_type": "stream",
     "text": [
      "{'epoch': 27, 'iter': 5600, 'avg_loss': 0.32042191657152075, 'avg_epd_acc': 96.66140637553562, 'avg_esd_acc': 90.65052557579004, 'loss': 0.3168492913246155}\n"
     ]
    },
    {
     "name": "stderr",
     "output_type": "stream",
     "text": [
      "                                                      \r"
     ]
    },
    {
     "name": "stdout",
     "output_type": "stream",
     "text": [
      "{'epoch': 27, 'iter': 5700, 'avg_loss': 0.3204756152800271, 'avg_epd_acc': 96.6607196020298, 'avg_esd_acc': 90.65062598666901, 'loss': 0.2772827744483948}\n"
     ]
    },
    {
     "name": "stderr",
     "output_type": "stream",
     "text": [
      "                                                      \r"
     ]
    },
    {
     "name": "stdout",
     "output_type": "stream",
     "text": [
      "{'epoch': 27, 'iter': 5800, 'avg_loss': 0.3204451023561341, 'avg_epd_acc': 96.66061098874385, 'avg_esd_acc': 90.65301241165317, 'loss': 0.2696214020252228}\n"
     ]
    },
    {
     "name": "stderr",
     "output_type": "stream",
     "text": [
      "                                                      \r"
     ]
    },
    {
     "name": "stdout",
     "output_type": "stream",
     "text": [
      "{'epoch': 27, 'iter': 5900, 'avg_loss': 0.32048885345489286, 'avg_epd_acc': 96.66011922138462, 'avg_esd_acc': 90.64737438569735, 'loss': 0.29245537519454956}\n"
     ]
    },
    {
     "name": "stderr",
     "output_type": "stream",
     "text": [
      "                                                      \r"
     ]
    },
    {
     "name": "stdout",
     "output_type": "stream",
     "text": [
      "{'epoch': 27, 'iter': 6000, 'avg_loss': 0.3204590171684803, 'avg_epd_acc': 96.66119591233492, 'avg_esd_acc': 90.6455694884186, 'loss': 0.2942034602165222}\n"
     ]
    },
    {
     "name": "stderr",
     "output_type": "stream",
     "text": [
      "                                                      \r"
     ]
    },
    {
     "name": "stdout",
     "output_type": "stream",
     "text": [
      "{'epoch': 27, 'iter': 6100, 'avg_loss': 0.3205286975430379, 'avg_epd_acc': 96.66087074448605, 'avg_esd_acc': 90.63716501393215, 'loss': 0.33363163471221924}\n"
     ]
    },
    {
     "name": "stderr",
     "output_type": "stream",
     "text": [
      "                                                      \r"
     ]
    },
    {
     "name": "stdout",
     "output_type": "stream",
     "text": [
      "{'epoch': 27, 'iter': 6200, 'avg_loss': 0.3205940580559323, 'avg_epd_acc': 96.66088776633809, 'avg_esd_acc': 90.63293722786648, 'loss': 0.3263503909111023}\n"
     ]
    },
    {
     "name": "stderr",
     "output_type": "stream",
     "text": [
      "EP_valid:27: 100%|| 6282/6282 [03:27<00:00, 30.29it/s]\n"
     ]
    },
    {
     "name": "stdout",
     "output_type": "stream",
     "text": [
      "EP27_valid, avg_loss= 0.3205240870316254 total_epd_acc= 96.66106136974206 total_esd_acc= 90.63791945473993\n"
     ]
    },
    {
     "ename": "AttributeError",
     "evalue": "'float' object has no attribute 'append'",
     "output_type": "error",
     "traceback": [
      "\u001b[1;31m---------------------------------------------------------------------------\u001b[0m",
      "\u001b[1;31mAttributeError\u001b[0m                            Traceback (most recent call last)",
      "\u001b[1;32m<ipython-input-17-03e5850e58d4>\u001b[0m in \u001b[0;36m<module>\u001b[1;34m\u001b[0m\n\u001b[0;32m      5\u001b[0m     \u001b[1;31m# Model Save\u001b[0m\u001b[1;33m\u001b[0m\u001b[1;33m\u001b[0m\u001b[1;33m\u001b[0m\u001b[0m\n\u001b[0;32m      6\u001b[0m     \u001b[0mtrainer\u001b[0m\u001b[1;33m.\u001b[0m\u001b[0mvalid\u001b[0m\u001b[1;33m(\u001b[0m\u001b[0mepoch\u001b[0m\u001b[1;33m)\u001b[0m\u001b[1;33m\u001b[0m\u001b[1;33m\u001b[0m\u001b[0m\n\u001b[1;32m----> 7\u001b[1;33m     \u001b[0mtrainer\u001b[0m\u001b[1;33m.\u001b[0m\u001b[0msave_pretrain\u001b[0m\u001b[1;33m(\u001b[0m\u001b[0mepoch\u001b[0m\u001b[1;33m,\u001b[0m \u001b[0moutput_model_path\u001b[0m\u001b[1;33m)\u001b[0m\u001b[1;33m\u001b[0m\u001b[1;33m\u001b[0m\u001b[0m\n\u001b[0m\u001b[0;32m      8\u001b[0m     \u001b[0mprint\u001b[0m\u001b[1;33m(\u001b[0m\u001b[0mtime\u001b[0m\u001b[1;33m.\u001b[0m\u001b[0mtime\u001b[0m\u001b[1;33m(\u001b[0m\u001b[1;33m)\u001b[0m \u001b[1;33m-\u001b[0m \u001b[0mepoch_start\u001b[0m\u001b[1;33m)\u001b[0m\u001b[1;33m\u001b[0m\u001b[1;33m\u001b[0m\u001b[0m\n",
      "\u001b[1;32m<ipython-input-12-be4060731071>\u001b[0m in \u001b[0;36msave_pretrain\u001b[1;34m(self, epoch, file_path)\u001b[0m\n\u001b[0;32m    102\u001b[0m \u001b[1;33m\u001b[0m\u001b[0m\n\u001b[0;32m    103\u001b[0m     \u001b[1;32mdef\u001b[0m \u001b[0msave_pretrain\u001b[0m\u001b[1;33m(\u001b[0m\u001b[0mself\u001b[0m\u001b[1;33m,\u001b[0m \u001b[0mepoch\u001b[0m\u001b[1;33m,\u001b[0m \u001b[0mfile_path\u001b[0m\u001b[1;33m=\u001b[0m\u001b[0moutput_dir\u001b[0m \u001b[1;33m+\u001b[0m \u001b[1;34m\"mlm_model\"\u001b[0m\u001b[1;33m)\u001b[0m\u001b[1;33m:\u001b[0m\u001b[1;33m\u001b[0m\u001b[1;33m\u001b[0m\u001b[0m\n\u001b[1;32m--> 104\u001b[1;33m         \u001b[0mself\u001b[0m\u001b[1;33m.\u001b[0m\u001b[0mtrain_epd_accs_epoch\u001b[0m\u001b[1;33m.\u001b[0m\u001b[0mappend\u001b[0m\u001b[1;33m(\u001b[0m\u001b[0mself\u001b[0m\u001b[1;33m.\u001b[0m\u001b[0mtrain_epd_accs\u001b[0m\u001b[1;33m[\u001b[0m\u001b[1;33m-\u001b[0m\u001b[1;36m1\u001b[0m\u001b[1;33m]\u001b[0m\u001b[1;33m)\u001b[0m\u001b[1;33m\u001b[0m\u001b[1;33m\u001b[0m\u001b[0m\n\u001b[0m\u001b[0;32m    105\u001b[0m         \u001b[0mself\u001b[0m\u001b[1;33m.\u001b[0m\u001b[0mtrain_esd_accs_epoch\u001b[0m\u001b[1;33m.\u001b[0m\u001b[0mappend\u001b[0m\u001b[1;33m(\u001b[0m\u001b[0mself\u001b[0m\u001b[1;33m.\u001b[0m\u001b[0mtrain_esd_accs\u001b[0m\u001b[1;33m[\u001b[0m\u001b[1;33m-\u001b[0m\u001b[1;36m1\u001b[0m\u001b[1;33m]\u001b[0m\u001b[1;33m)\u001b[0m\u001b[1;33m\u001b[0m\u001b[1;33m\u001b[0m\u001b[0m\n\u001b[0;32m    106\u001b[0m         \u001b[0mself\u001b[0m\u001b[1;33m.\u001b[0m\u001b[0mtrain_epd_accs_epoch\u001b[0m\u001b[1;33m.\u001b[0m\u001b[0mappend\u001b[0m\u001b[1;33m(\u001b[0m\u001b[0mself\u001b[0m\u001b[1;33m.\u001b[0m\u001b[0mvalid_epd_accs\u001b[0m\u001b[1;33m[\u001b[0m\u001b[1;33m-\u001b[0m\u001b[1;36m1\u001b[0m\u001b[1;33m]\u001b[0m\u001b[1;33m)\u001b[0m\u001b[1;33m\u001b[0m\u001b[1;33m\u001b[0m\u001b[0m\n",
      "\u001b[1;31mAttributeError\u001b[0m: 'float' object has no attribute 'append'"
     ]
    }
   ],
   "source": [
    "print(\"Training Start\")\n",
    "for epoch in range(trained_epoch, epochs):\n",
    "    epoch_start = time.time()\n",
    "    trainer.train(epoch)\n",
    "    # Model Save\n",
    "    trainer.valid(epoch)\n",
    "    trainer.save_pretrain(epoch, output_model_path)\n",
    "    print(time.time() - epoch_start)"
   ]
  },
  {
   "cell_type": "code",
   "execution_count": null,
   "metadata": {},
   "outputs": [],
   "source": [
    "import matplotlib.pyplot as plt\n",
    "\n",
    "import matplotlib.ticker as ticker\n",
    "import numpy as np\n",
    "plt.style.use('ggplot')\n",
    "\n",
    "def showPlot(points):\n",
    "\n",
    "    fig, ax = plt.subplots()\n",
    "    # this locator puts ticks at regular intervals\n",
    "    #loc = ticker.MultipleLocator(base=0.2)\n",
    "    #ax.yaxis.set_major_locator(loc)\n",
    "    plt.plot(points)\n",
    "    plt.show()\n",
    "    \n",
    "def savePlot(points, figure_path):\n",
    "    plt.switch_backend('Agg')\n",
    "    plt.figure()\n",
    "    fig, ax = plt.subplots()\n",
    "    # this locator puts ticks at regular intervals\n",
    "    loc = ticker.MultipleLocator(base=0.2)\n",
    "    ax.yaxis.set_major_locator(loc)\n",
    "    plt.plot(points)\n",
    "    plt.savefig(figure_path)"
   ]
  },
  {
   "cell_type": "code",
   "execution_count": null,
   "metadata": {},
   "outputs": [],
   "source": [
    "def save_results():\n",
    "    with open(output_model_path + \"results.txt\",\"w\",encoding='utf-8') as f:\n",
    "        f.write(\"----------Parameters list----------\\n\")\n",
    "        f.write(\"hidden=\" +str(hidden) + \"\\n\")\n",
    "        f.write(\"layers=\"+str(layers)+\"\\n\")\n",
    "        f.write(\"attn_heads=\"+str(attn_heads)+\"\\n\")\n",
    "        f.write(\"seq_len=\"+str(seq_len)+\"\\n\")\n",
    "        f.write(\"batch_size=\"+str(batch_size)+\"\\n\")\n",
    "        f.write(\"epochs=\"+str(epochs)+\"\\n\")\n",
    "        f.write(\"lr=\"+str(lr)+\"\\n\")\n",
    "        f.write(\"\\n\")\n",
    "        \n",
    "        f.write(\"-\"*10+\"Train Loss\"+\"-\"*10+\"\\n\")\n",
    "        f.write(str(trainer.train_losses[-1]))\n",
    "        f.write(\"\\n\")\n",
    "        \n",
    "        f.write(\"-\"*10+\"Valid Loss\"+\"-\"*10+\"\\n\")\n",
    "        f.write(str(trainer.valid_losses[-1]))\n",
    "        f.write(\"\\n\")\n",
    "        \n",
    "        f.write(\"-\"*10+\"Train EPD Acc\"+\"-\"*10+\"\\n\")\n",
    "        f.write(str(trainer.train_epd_accs[-1]))\n",
    "        f.write(\"\\n\")\n",
    "        \n",
    "        f.write(\"-\"*10+\"Train ESD Acc\"+\"-\"*10+\"\\n\")\n",
    "        f.write(str(trainer.train_esd_accs[-1]))\n",
    "        f.write(\"\\n\")\n",
    "        \n",
    "        f.write(\"-\"*10+\"Valid EPD Acc\"+\"-\"*10+\"\\n\")\n",
    "        f.write(str(trainer.valid_epd_accs[-1]))\n",
    "        f.write(\"-\"*10+\"Valid ESD Acc\"+\"-\"*10+\"\\n\")\n",
    "        f.write(str(trainer.valid_esd_accs[-1]))\n",
    "    savePlot(trainer.train_epd_accs, output_model_path + \"train_epd_accs\")\n",
    "    savePlot(trainer.train_esd_accs, output_model_path + \"train_esd_accs\")\n",
    "    savePlot(trainer.valid_epd_accs, output_model_path + \"valid_epd_accs\")\n",
    "    savePlot(trainer.valid_esd_accs, output_model_path + \"valid_esd_accs\")\n",
    "    savePlot(trainer.train_losses, output_model_path + \"train_losses\")\n",
    "    savePlot(trainer.valid_losses, output_model_path + \"valid_losses\")\n",
    "save_results()"
   ]
  },
  {
   "cell_type": "markdown",
   "metadata": {},
   "source": [
    "TestデータからDataLoaderを作成"
   ]
  },
  {
   "cell_type": "code",
   "execution_count": null,
   "metadata": {
    "scrolled": true
   },
   "outputs": [],
   "source": [
    "test_dataset = MixDataset(processed_test_txt, vocab, seq_len=seq_len, label_path=label_path, is_train=True)\n",
    "test_loader = DataLoader(test_dataset, batch_size=1, num_workers=num_workers, shuffle=False)"
   ]
  },
  {
   "cell_type": "code",
   "execution_count": null,
   "metadata": {},
   "outputs": [],
   "source": [
    "def test_esd():\n",
    "    trainer.model.eval()\n",
    "    with torch.no_grad():\n",
    "        for batch in test_loader:\n",
    "            #batch = next(iter(test_loader))\n",
    "            input_line = []\n",
    "            text = batch['bert_input'][0]\n",
    "            output = trainer.model(batch['bert_input'])\n",
    "            for j in range(len(text)):\n",
    "                input_line.append(vocab.itos[text[j].item()])\n",
    "            #print(\"\".join(input_line))\n",
    "            print(batch['label'].item(), output.argmax(dim=-1).item())\n",
    "test_esd()"
   ]
  },
  {
   "cell_type": "code",
   "execution_count": null,
   "metadata": {
    "scrolled": true
   },
   "outputs": [],
   "source": [
    "def test_epd():\n",
    "    trainer.model.eval()\n",
    "    with torch.no_grad():\n",
    "        for batch in test_loader:\n",
    "            #batch = next(iter(test_loader))\n",
    "            input_line = []\n",
    "            text = batch['bert_input'][0]\n",
    "            output = trainer.model(batch['bert_input'])\n",
    "            for j in range(len(text)):\n",
    "                input_line.append(vocab.itos[text[j].item()])\n",
    "            print(\"\".join(input_line))\n",
    "            #print(batch['token_label'][0], output.argmax(dim=-1))\n",
    "            for j in range(128):\n",
    "                predict = output[0,j].argmax(dim=-1).item()\n",
    "                print(input_line[j], ':',predict)\n",
    "            break\n",
    "\n",
    "test_epd()"
   ]
  },
  {
   "cell_type": "raw",
   "metadata": {},
   "source": [
    "trainer.model.eval()\n",
    "with torch.no_grad():\n",
    "    with open(\"./results/single_bert.txt\",'w',encoding='utf-8') as sf:\n",
    "        for batch in test_loader:\n",
    "            for i in range(len(batch['bert_input'])):\n",
    "                input_line = []\n",
    "                text = batch['bert_input'][i]\n",
    "                masked_label = [-1] * len(text)\n",
    "                for j in range(len(text)):\n",
    "                    prob = random.random()\n",
    "                    if prob < 0.1:\n",
    "                        masked_label[j] = text[j].item()\n",
    "                        text[j] = vocab.mask_index\n",
    "                    input_line.append(vocab.itos[text[j].item()])\n",
    "                output = trainer.model(text.unsqueeze(0))\n",
    "                for j in range(len(text)):\n",
    "                    topv, topi = output[0,j].topk(5)\n",
    "                    predict = [vocab.itos[index.item()] for index in topi]\n",
    "                    if masked_label[j] != -1:\n",
    "                        sf.write(str(input_line[j]) +':'+ vocab.itos[masked_label[j]] +':'+ str(predict)+'\\n')\n",
    "                    else:\n",
    "                        sf.write(str(input_line[j]) +':'+ str(predict)+'\\n')"
   ]
  },
  {
   "cell_type": "code",
   "execution_count": null,
   "metadata": {},
   "outputs": [],
   "source": [
    "import matplotlib.pyplot as plt\n",
    "plt.switch_backend('Agg')\n",
    "import matplotlib.ticker as ticker\n",
    "import numpy as np\n",
    "plt.style.use('ggplot')\n",
    "\n",
    "def showPlot(points, figure_path):\n",
    "    plt.figure()\n",
    "    fig, ax = plt.subplots()\n",
    "    # this locator puts ticks at regular intervals\n",
    "    loc = ticker.MultipleLocator(base=0.2)\n",
    "    ax.yaxis.set_major_locator(loc)\n",
    "    plt.plot(points)\n",
    "    plt.savefig(figure_path)"
   ]
  },
  {
   "cell_type": "code",
   "execution_count": null,
   "metadata": {},
   "outputs": [],
   "source": [
    "showPlot(trainer.train_losses, \"./results/\"+str(epochs)+\"_train.png\")\n",
    "showPlot(trainer.valid_losses, \"./results/\"+str(epochs)+\"_valid.png\")"
   ]
  },
  {
   "cell_type": "code",
   "execution_count": null,
   "metadata": {},
   "outputs": [],
   "source": []
  }
 ],
 "metadata": {
  "kernelspec": {
   "display_name": "Python 3",
   "language": "python",
   "name": "python3"
  },
  "language_info": {
   "codemirror_mode": {
    "name": "ipython",
    "version": 3
   },
   "file_extension": ".py",
   "mimetype": "text/x-python",
   "name": "python",
   "nbconvert_exporter": "python",
   "pygments_lexer": "ipython3",
   "version": "3.6.7"
  }
 },
 "nbformat": 4,
 "nbformat_minor": 2
}
