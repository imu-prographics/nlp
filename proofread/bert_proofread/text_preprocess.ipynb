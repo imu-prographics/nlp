{
 "cells": [
  {
   "cell_type": "markdown",
   "metadata": {},
   "source": [
    "単一のテキストデータをTrain, Valid, Test用のファイルに分割."
   ]
  },
  {
   "cell_type": "code",
   "execution_count": 1,
   "metadata": {},
   "outputs": [],
   "source": [
    "import linecache\n",
    "import random\n",
    "import re"
   ]
  },
  {
   "cell_type": "code",
   "execution_count": 2,
   "metadata": {},
   "outputs": [],
   "source": [
    "random.seed(42)\n",
    "input_filename = './merged_bert.txt'\n",
    "save_dir = './data/merged_bert/'\n"
   ]
  },
  {
   "cell_type": "code",
   "execution_count": 3,
   "metadata": {},
   "outputs": [
    {
     "name": "stdout",
     "output_type": "stream",
     "text": [
      "Base file lines :  154151\n",
      "Train file lines :  123320\n",
      "Valid file lines :  15415\n",
      "Test file lines :  15416\n"
     ]
    }
   ],
   "source": [
    "num_lines = sum(1 for line in open(input_filename, encoding='utf-8'))\n",
    "print('Base file lines : ', num_lines)\n",
    "# 全体の80%をTraining dataに当てます\n",
    "train_lines = int(num_lines * 0.8)\n",
    "valid_lines = int(num_lines * 0.1)\n",
    "test_lines = int(num_lines * 0.1) + 1\n",
    "print('Train file lines : ', train_lines)\n",
    "print('Valid file lines : ', valid_lines)\n",
    "print('Test file lines : ', test_lines)"
   ]
  },
  {
   "cell_type": "markdown",
   "metadata": {},
   "source": [
    "dataは前処理済みテキスト保存場所 <br>\n",
    "outputは訓練モデル保存場所として作成"
   ]
  },
  {
   "cell_type": "code",
   "execution_count": 4,
   "metadata": {},
   "outputs": [
    {
     "name": "stdout",
     "output_type": "stream",
     "text": [
      "Starting file: 1\n",
      "Starting file: 2\n",
      "Starting file: 3\n"
     ]
    }
   ],
   "source": [
    "out_file_name_temp = save_dir + 'splitted_%d.txt'\n",
    "\n",
    "valid_flag = False\n",
    "split_index = 1\n",
    "line_index = 1\n",
    "in_file = open(input_filename, encoding='utf-8')\n",
    "line = in_file.readline()\n",
    "out_file = open(out_file_name_temp % (split_index,), 'w', encoding='utf-8')\n",
    "print('Starting file: %d' % split_index)\n",
    "while line:\n",
    "    if line_index > train_lines:\n",
    "        out_file.close()\n",
    "        split_index += 1\n",
    "        print('Starting file: %d' % split_index)\n",
    "        # Valid\n",
    "        out_file = open(out_file_name_temp % (split_index,), 'w', encoding='utf-8')\n",
    "        line_index = 1\n",
    "        valid_flag = True\n",
    "        \n",
    "    if valid_flag:\n",
    "        if line_index > valid_lines:\n",
    "            split_index += 1\n",
    "            print('Starting file: %d' % split_index)\n",
    "            out_file.close()\n",
    "            line_index = 1\n",
    "            # Test\n",
    "            out_file = open(out_file_name_temp % (split_index,), 'w', encoding='utf-8')\n",
    "            valid_flag = False\n",
    "\n",
    "    out_file.write(line)\n",
    "    line_index += 1\n",
    "    line = in_file.readline()\n",
    "    \n",
    "out_file.close()\n",
    "in_file.close()"
   ]
  },
  {
   "cell_type": "code",
   "execution_count": 5,
   "metadata": {},
   "outputs": [
    {
     "name": "stdout",
     "output_type": "stream",
     "text": [
      "Train file lines :  123320\n",
      "Valid file lines :  15415\n",
      "Test file lines :  15416\n"
     ]
    }
   ],
   "source": [
    "print('Train file lines : ', sum(1 for line in open(save_dir + 'splitted_1.txt', encoding='utf-8')))\n",
    "print('Valid file lines : ', sum(1 for line in open(save_dir + 'splitted_2.txt', encoding='utf-8')))\n",
    "print('Test file lines : ', sum(1 for line in open(save_dir + 'splitted_3.txt', encoding='utf-8')))"
   ]
  },
  {
   "cell_type": "code",
   "execution_count": 6,
   "metadata": {},
   "outputs": [],
   "source": [
    "def load_data(file_path):\n",
    "    with open(file_path, 'r', encoding='utf-8') as f:\n",
    "        input_lines = f.readlines()\n",
    "    return input_lines\n",
    "\n",
    "def save_data(file_path, input_lines):\n",
    "    with open(file_path, 'w', encoding='utf-8') as f:\n",
    "        for line in input_lines:\n",
    "            line = ' '.join(list(line))\n",
    "            f.write(line)\n",
    "\n",
    "input_train_txt = save_dir + 'splitted_1.txt'\n",
    "input_valid_txt = save_dir + 'splitted_2.txt'\n",
    "input_test_txt = save_dir + 'splitted_3.txt'\n",
    "processed_train_txt = save_dir + 'train_X.txt'\n",
    "processed_valid_txt = save_dir + 'valid_X.txt'\n",
    "processed_test_txt = save_dir + 'test_X.txt'\n",
    "\n",
    "train = load_data(input_train_txt)\n",
    "valid = load_data(input_valid_txt)\n",
    "test = load_data(input_test_txt)\n",
    "\n",
    "random.shuffle(train)\n",
    "random.shuffle(valid)\n",
    "random.shuffle(test)\n",
    "\n",
    "save_data(processed_train_txt, train)\n",
    "save_data(processed_valid_txt, valid)\n",
    "save_data(processed_test_txt, test)\n"
   ]
  }
 ],
 "metadata": {
  "kernelspec": {
   "display_name": "Python 3",
   "language": "python",
   "name": "python3"
  },
  "language_info": {
   "codemirror_mode": {
    "name": "ipython",
    "version": 3
   },
   "file_extension": ".py",
   "mimetype": "text/x-python",
   "name": "python",
   "nbconvert_exporter": "python",
   "pygments_lexer": "ipython3",
   "version": "3.6.7"
  }
 },
 "nbformat": 4,
 "nbformat_minor": 2
}